{
 "cells": [
  {
   "cell_type": "code",
   "execution_count": null,
   "id": "4192d87a",
   "metadata": {},
   "outputs": [],
   "source": [
    "# utils.py의 함수/클래스를 사용\n",
    "#       -> 다른 모듈에 있는 함수/클래스를 사용하겠다.\n",
    "# 1. import\n",
    "#       - 내가 사용할 모듈/함수/클래스를 메모리에 올리는 작업\\\n",
    "#       - import 사용할것"
   ]
  },
  {
   "cell_type": "code",
   "execution_count": 6,
   "id": "27ca5893",
   "metadata": {},
   "outputs": [
    {
     "name": "stdout",
     "output_type": "stream",
     "text": [
      "덧셈결과: 50\n",
      "누적합계결과: 15\n",
      "이름: 홍길동\n"
     ]
    }
   ],
   "source": [
    "# utils 모듈을 import : 모듈의 이름은 파일명(name.py -> name)\n",
    "# import 후에 수정한 내용은 import가 안된다.(현재 실행을 종료하고 코드를 다시 실행)\n",
    "#  => 쥬피터 노트북: kernel > restart\n",
    "import utils"
   ]
  },
  {
   "cell_type": "code",
   "execution_count": 11,
   "id": "eb1092cd",
   "metadata": {},
   "outputs": [],
   "source": [
    "def test():\n",
    "    print('test')"
   ]
  },
  {
   "cell_type": "code",
   "execution_count": 9,
   "id": "eb77ceb2",
   "metadata": {},
   "outputs": [
    {
     "name": "stdout",
     "output_type": "stream",
     "text": [
      "30 60\n"
     ]
    }
   ],
   "source": [
    "# 모듈울 import 하고 모듈안에 함수나 클래스를 사용\n",
    "#   =>모듈.함수()    모듈.클래스()\n",
    "v = utils.plus(10,20)\n",
    "v2 = utils.sum_values(10,20,30)\n",
    "print(v, v2)"
   ]
  },
  {
   "cell_type": "code",
   "execution_count": 10,
   "id": "4c59e806",
   "metadata": {},
   "outputs": [
    {
     "name": "stdout",
     "output_type": "stream",
     "text": [
      "이름: 홍길동\n"
     ]
    }
   ],
   "source": [
    "p = utils.Person(\"홍길동\")\n",
    "print(p)"
   ]
  },
  {
   "cell_type": "code",
   "execution_count": 12,
   "id": "3b9038c4",
   "metadata": {},
   "outputs": [
    {
     "name": "stdout",
     "output_type": "stream",
     "text": [
      "test\n"
     ]
    }
   ],
   "source": [
    "test()"
   ]
  },
  {
   "cell_type": "code",
   "execution_count": 1,
   "id": "876bb59b",
   "metadata": {},
   "outputs": [
    {
     "name": "stdout",
     "output_type": "stream",
     "text": [
      "덧셈결과: 50\n",
      "누적합계결과: 15\n",
      "이름: 홍길동\n",
      "300 이름: 유관순\n"
     ]
    }
   ],
   "source": [
    "# 모듈안의 함수/클래스를 import\n",
    "# from 모듈명 import 함수명   ==> 현재 namespace로 넣어준다\n",
    "# from 모듈명 import 대상1, 대상2, ....\n",
    "# from 모듈명 import *\n",
    "from utils import *\n",
    "v = plus(100, 200)\n",
    "p = Person('유관순')\n",
    "print(v,p)"
   ]
  },
  {
   "cell_type": "code",
   "execution_count": 2,
   "id": "15b8ad8f",
   "metadata": {},
   "outputs": [
    {
     "data": {
      "text/plain": [
       "10"
      ]
     },
     "execution_count": 2,
     "metadata": {},
     "output_type": "execute_result"
    }
   ],
   "source": [
    "sum_values(1,2,3,4)"
   ]
  },
  {
   "cell_type": "code",
   "execution_count": 1,
   "id": "15d38bb4",
   "metadata": {},
   "outputs": [
    {
     "name": "stdout",
     "output_type": "stream",
     "text": [
      "덧셈결과: 50\n",
      "누적합계결과: 15\n",
      "이름: 홍길동\n"
     ]
    }
   ],
   "source": [
    "# import 한 것에 별칭(alias)\n",
    "# [from 모듈] import 대상 as 별칭\n",
    "# from utils import plus as p1\n",
    "from utils import plus as p1, Person as P"
   ]
  },
  {
   "cell_type": "code",
   "execution_count": 3,
   "id": "e7eb3054",
   "metadata": {},
   "outputs": [
    {
     "data": {
      "text/plain": [
       "36"
      ]
     },
     "execution_count": 3,
     "metadata": {},
     "output_type": "execute_result"
    }
   ],
   "source": [
    "p1(12,24) # 사용은 별칭으로 해야한다"
   ]
  },
  {
   "cell_type": "code",
   "execution_count": 4,
   "id": "5670b318",
   "metadata": {},
   "outputs": [
    {
     "name": "stdout",
     "output_type": "stream",
     "text": [
      "이름: 홍길동\n"
     ]
    }
   ],
   "source": [
    "p = P('홍길동')\n",
    "print(p)"
   ]
  },
  {
   "cell_type": "code",
   "execution_count": 6,
   "id": "67850b2b",
   "metadata": {},
   "outputs": [
    {
     "data": {
      "text/plain": [
       "3"
      ]
     },
     "execution_count": 6,
     "metadata": {},
     "output_type": "execute_result"
    }
   ],
   "source": [
    "import utils as ut\n",
    "ut.plus(1,2)"
   ]
  },
  {
   "cell_type": "code",
   "execution_count": 10,
   "id": "4512f748",
   "metadata": {},
   "outputs": [
    {
     "name": "stdout",
     "output_type": "stream",
     "text": [
      "my_package.calc.plus\n",
      "my_package.calc.minus\n",
      "my_package.calc.multiply\n",
      "my_package.calc.divide\n",
      "30 10 10 2.0\n"
     ]
    }
   ],
   "source": [
    "# 패키지 안의 모듈dmf import\n",
    "# from 패키지 import 모듈\n",
    "from my_package import calc   #my_package 디렉토리 아래 calc.py 파일\n",
    "v1 = calc.plus(10,20)\n",
    "v2 = calc.minus(20, 10)\n",
    "v3 = calc.multiply(5,2)\n",
    "v4 = calc.divide(10,5)\n",
    "print(v1,v2,v3,v4)"
   ]
  },
  {
   "cell_type": "code",
   "execution_count": 11,
   "id": "70675746",
   "metadata": {},
   "outputs": [],
   "source": [
    "# 패키지 안의 모듈 안의 함수\n",
    "# from root패키지.sub패키지.모듈 import 함수명\n",
    "from my_package.calc import divide as di, multiply as mp\n",
    "\n",
    "# 현재 작업디렉토리(현재 모듈이 샐행되는 경로)/your_package\n",
    "# your_package 다른 경로에 저장\n",
    "# OS의 환경변수에 PYTHONPATH 변수명으로 파이선 Lib(패키지들) 가 저장된 디렉토리를 설정\n",
    "# PYTHON에 내장된 함수나 패키지들, pip/conda install 설치한 패키지들은 그냥 import해서 사용가능\n"
   ]
  },
  {
   "cell_type": "code",
   "execution_count": 12,
   "id": "c7af5e8d",
   "metadata": {},
   "outputs": [
    {
     "name": "stdout",
     "output_type": "stream",
     "text": [
      "my_package.calc.divide\n"
     ]
    },
    {
     "data": {
      "text/plain": [
       "20.0"
      ]
     },
     "execution_count": 12,
     "metadata": {},
     "output_type": "execute_result"
    }
   ],
   "source": [
    "di(100, 5)"
   ]
  },
  {
   "cell_type": "code",
   "execution_count": 13,
   "id": "090f77b6",
   "metadata": {},
   "outputs": [
    {
     "name": "stdout",
     "output_type": "stream",
     "text": [
      "my_package.calc.multiply\n"
     ]
    },
    {
     "data": {
      "text/plain": [
       "2000"
      ]
     },
     "execution_count": 13,
     "metadata": {},
     "output_type": "execute_result"
    }
   ],
   "source": [
    "mp(100,20)"
   ]
  },
  {
   "cell_type": "code",
   "execution_count": 3,
   "id": "b29e6f62",
   "metadata": {},
   "outputs": [],
   "source": [
    "import utils"
   ]
  },
  {
   "cell_type": "code",
   "execution_count": 2,
   "id": "2123569e",
   "metadata": {},
   "outputs": [
    {
     "name": "stdout",
     "output_type": "stream",
     "text": [
      "__main__\n"
     ]
    }
   ],
   "source": [
    "# print(__name__)  변수\n",
    "# 모듈이 import 되서 실행 될 경우: 모듈명이 들어간다,\n",
    "# 모듈이 메인으로 실행될 경우 (python 파일.py): \"__name__\"이 들어간다\n",
    "# "
   ]
  },
  {
   "cell_type": "code",
   "execution_count": null,
   "id": "698258d2",
   "metadata": {},
   "outputs": [],
   "source": []
  },
  {
   "cell_type": "code",
   "execution_count": null,
   "id": "09dc16f9",
   "metadata": {},
   "outputs": [],
   "source": []
  }
 ],
 "metadata": {
  "kernelspec": {
   "display_name": "Python 3 (ipykernel)",
   "language": "python",
   "name": "python3"
  },
  "language_info": {
   "codemirror_mode": {
    "name": "ipython",
    "version": 3
   },
   "file_extension": ".py",
   "mimetype": "text/x-python",
   "name": "python",
   "nbconvert_exporter": "python",
   "pygments_lexer": "ipython3",
   "version": "3.9.12"
  }
 },
 "nbformat": 4,
 "nbformat_minor": 5
}
