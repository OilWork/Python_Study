{
 "cells": [
  {
   "cell_type": "code",
   "execution_count": 2,
   "id": "c9620b9d",
   "metadata": {},
   "outputs": [
    {
     "name": "stdout",
     "output_type": "stream",
     "text": [
      "id를 입력하세요: dsgf\n"
     ]
    }
   ],
   "source": [
    "id = input('id를 입력하세요: ')"
   ]
  },
  {
   "cell_type": "code",
   "execution_count": 4,
   "id": "a3626473",
   "metadata": {},
   "outputs": [
    {
     "ename": "Exception",
     "evalue": "",
     "output_type": "error",
     "traceback": [
      "\u001b[0;31m---------------------------------------------------------------------------\u001b[0m",
      "\u001b[0;31mException\u001b[0m                                 Traceback (most recent call last)",
      "Input \u001b[0;32mIn [4]\u001b[0m, in \u001b[0;36m<cell line: 1>\u001b[0;34m()\u001b[0m\n\u001b[1;32m      1\u001b[0m \u001b[38;5;28;01mif\u001b[39;00m \u001b[38;5;28mlen\u001b[39m(\u001b[38;5;28mid\u001b[39m) \u001b[38;5;241m<\u001b[39m \u001b[38;5;241m5\u001b[39m:\n\u001b[0;32m----> 2\u001b[0m     \u001b[38;5;28;01mraise\u001b[39;00m \u001b[38;5;167;01mException\u001b[39;00m()\n\u001b[1;32m      3\u001b[0m \u001b[38;5;28mprint\u001b[39m(\u001b[38;5;28mid\u001b[39m)\n\u001b[1;32m      4\u001b[0m \u001b[38;5;28mprint\u001b[39m(\u001b[38;5;124mf\u001b[39m\u001b[38;5;124m\"\u001b[39m\u001b[38;5;132;01m{\u001b[39;00m\u001b[38;5;28mid\u001b[39m\u001b[38;5;132;01m}\u001b[39;00m\u001b[38;5;124m를 DB에 저장한다.\u001b[39m\u001b[38;5;124m\"\u001b[39m)\n",
      "\u001b[0;31mException\u001b[0m: "
     ]
    }
   ],
   "source": [
    "if len(id) < 5: # 내가 정한 규칙(Application Exception)를 어긴 상황\n",
    "    raise Exception() # 예외도 내가 발생시킨다.\n",
    "print(id)\n",
    "print(f\"{id}를 DB에 저장한다.\")"
   ]
  },
  {
   "cell_type": "code",
   "execution_count": null,
   "id": "683b342c",
   "metadata": {},
   "outputs": [],
   "source": [
    "def f1():"
   ]
  },
  {
   "cell_type": "markdown",
   "id": "42983b19",
   "metadata": {},
   "source": [
    "# 예외 처리 (Exception Handling)\n",
    "- 발생한 예외(Exception)을 처리해서 프로그램을 정상화시킨다\n",
    "- try, except, else, finally\n",
    "```python\n",
    "try:\n",
    "    예외가 발생할 가능성이 있는 코드\n",
    "    발생가능성 있는 코드와 연결된 코드\n",
    "    # try block\n",
    "except:\n",
    "    try block에서 예외가 발생했을 때 그것을 처리하는 코드들\n",
    "```"
   ]
  },
  {
   "cell_type": "code",
   "execution_count": 8,
   "id": "51e03fa9",
   "metadata": {},
   "outputs": [
    {
     "name": "stdout",
     "output_type": "stream",
     "text": [
      "정수:ㄹㄴㅇㄹ\n",
      "ㄹㄴㅇㄹ은 정수로 바꿀 수 없습니다. 다시 실행해서 정수를 입력하세요\n",
      "종료\n"
     ]
    }
   ],
   "source": [
    "num_str = input('정수:')\n",
    "try:\n",
    "    num = int(num_str) # 예외발생가능성 있는 코드\n",
    "    result = num **3   # 예외가 발생하면 실핼할 수 없는 코드\n",
    "    print(\"결과:\", result)# 예외가 발생하면 실핼할 수 없는 코드\n",
    "except:\n",
    "    print(f\"{num_str}은 정수로 바꿀 수 없습니다. 다시 실행해서 정수를 입력하세요\")\n",
    "print('종료')"
   ]
  },
  {
   "cell_type": "code",
   "execution_count": 16,
   "id": "2a6a811b",
   "metadata": {},
   "outputs": [
    {
     "name": "stdout",
     "output_type": "stream",
     "text": [
      "정수1:2dfs\n",
      "정수2:asd\n",
      "정수를 입력하세요 invalid literal for int() with base 10: '2dfs'\n",
      "프로그램을 종료합니다.\n"
     ]
    }
   ],
   "source": [
    "num1_str = input('정수1:')\n",
    "num2_str = input('정수2:')\n",
    "\n",
    "######################## 연결된(연관선있는) 코드. #################\n",
    "try:\n",
    "    num1 = int(num1_str) # 예외발생가능성있는 코드1 -  ValueError\n",
    "    num2 = int(num2_str) # 예외발생가능성있는 코드2 -  ValueError\n",
    "    result = num1 / num2 # 예외발생가능성있는 코드3 -  ZeroDivisionError\n",
    "    print('나눈결과:', result) # 예외와 연결된 코드\n",
    "# 발생할 수 있는 Exception이 여러 종류이고 Exception 별로 다르게 처리할 경우.\n",
    "except ValueError as ve: #ValueError 만 처리    # as변수 Exception 메세지를 사용할 수 있음\n",
    "    print(\"정수를 입력하세요\", ve)\n",
    "except ZeroDivisionError as ze: # ZeroDivisionError 만 처리\n",
    "    print(\"두번째 숫자는 0 이외에 정수를 입력하세요\", ze)\n",
    "except:\n",
    "    print('ValueError, ZeroDivisionError 이외의 예외가 발생할 경우 처리.')\n",
    "#############################################################\n",
    "print('프로그램을 종료합니다.')"
   ]
  },
  {
   "cell_type": "code",
   "execution_count": 11,
   "id": "1386d2d8",
   "metadata": {},
   "outputs": [
    {
     "ename": "ValueError",
     "evalue": "invalid literal for int() with base 10: 'abc'",
     "output_type": "error",
     "traceback": [
      "\u001b[0;31m---------------------------------------------------------------------------\u001b[0m",
      "\u001b[0;31mValueError\u001b[0m                                Traceback (most recent call last)",
      "Input \u001b[0;32mIn [11]\u001b[0m, in \u001b[0;36m<cell line: 1>\u001b[0;34m()\u001b[0m\n\u001b[0;32m----> 1\u001b[0m \u001b[38;5;28;43mint\u001b[39;49m\u001b[43m(\u001b[49m\u001b[38;5;124;43m'\u001b[39;49m\u001b[38;5;124;43mabc\u001b[39;49m\u001b[38;5;124;43m'\u001b[39;49m\u001b[43m)\u001b[49m\n",
      "\u001b[0;31mValueError\u001b[0m: invalid literal for int() with base 10: 'abc'"
     ]
    }
   ],
   "source": [
    "int('abc') # ValueError"
   ]
  },
  {
   "cell_type": "code",
   "execution_count": 12,
   "id": "dd933c18",
   "metadata": {},
   "outputs": [
    {
     "ename": "ZeroDivisionError",
     "evalue": "division by zero",
     "output_type": "error",
     "traceback": [
      "\u001b[0;31m---------------------------------------------------------------------------\u001b[0m",
      "\u001b[0;31mZeroDivisionError\u001b[0m                         Traceback (most recent call last)",
      "Input \u001b[0;32mIn [12]\u001b[0m, in \u001b[0;36m<cell line: 1>\u001b[0;34m()\u001b[0m\n\u001b[0;32m----> 1\u001b[0m \u001b[38;5;241;43m10\u001b[39;49m\u001b[38;5;241;43m/\u001b[39;49m\u001b[38;5;241;43m0\u001b[39;49m\n",
      "\u001b[0;31mZeroDivisionError\u001b[0m: division by zero"
     ]
    }
   ],
   "source": [
    "10/0  # ZeroDivisionError"
   ]
  },
  {
   "cell_type": "code",
   "execution_count": 29,
   "id": "adbf2abe",
   "metadata": {},
   "outputs": [],
   "source": [
    "# black 지정하고 tab: 한번에 들여쓰기. shift + tab 은 반대\n",
    "def divide():\n",
    "    \"\"\"\n",
    "    설명\n",
    "    [parameter]\n",
    "    [return value]\n",
    "    [exception]\n",
    "        ValueError: 발생 이유\n",
    "        ZeroDivisionErrir: 발생 이유\n",
    "    \"\"\"\n",
    "    num1_str = input('정수1:')\n",
    "    num2_str = input('정수2:')\n",
    "\n",
    "    num1 = int(num1_str) # 예외발생가능성있는 코드1 -  ValueError\n",
    "    num2 = int(num2_str) # 예외발생가능성있는 코드2 -  ValueError\n",
    "    result = num1 / num2 # 예외발생가능성있는 코드3 -  ZeroDivisionError\n",
    "    print('나눈결과:', result) # 예외와 연결된 코드\n",
    "    # 발생할 수 있는 Exception이 여러 종류이고 Exception 별로 다르게 처리할 경우.\n",
    "#    return"
   ]
  },
  {
   "cell_type": "code",
   "execution_count": 28,
   "id": "c316f6b7",
   "metadata": {},
   "outputs": [
    {
     "name": "stdout",
     "output_type": "stream",
     "text": [
      "정수1:42\n",
      "정수2:ㅁㄴㅇ\n",
      "나누는 작업을 정상적으로 처리하지 못했습니다\n",
      "프로그램을 종료합니다.\n"
     ]
    }
   ],
   "source": [
    "try:\n",
    "    divide() # Exception 발생할 가능성이 있는 코드(ValuError, ZeroDivisionError)\n",
    "except:\n",
    "    print('나누는 작업을 정상적으로 처리하지 못했습니다')\n",
    "print('프로그램을 종료합니다.')"
   ]
  },
  {
   "cell_type": "code",
   "execution_count": 24,
   "id": "76f969b8",
   "metadata": {},
   "outputs": [],
   "source": [
    "#num1:int   :int ->데이터타입 힌트  () ->int: 리턴타입에 대한 힌트\n",
    "def divide2(num1:int, num2:int)->int:\n",
    "    \"\"\"\n",
    "    두개의 숫자를 나누는 함수\n",
    "    [parameter]\n",
    "        num1: int - 피연산자\n",
    "        num2: int - 피연산자\n",
    "    [return]\n",
    "        int - 나눈 결과\n",
    "    [exception]\n",
    "        ZeroDivisionError: num2가 0일경우 발생\n",
    "    \"\"\"\n",
    "    return num1/num2"
   ]
  },
  {
   "cell_type": "code",
   "execution_count": 25,
   "id": "98393d4c",
   "metadata": {},
   "outputs": [
    {
     "data": {
      "text/plain": [
       "True"
      ]
     },
     "execution_count": 25,
     "metadata": {},
     "output_type": "execute_result"
    }
   ],
   "source": [
    "try:\n",
    "    r = divide2(10,10) #Exception 발생 가능성 있는 코드\n",
    "#     print('나눈결과:',r) #Exception이 발생하지 않을 경우 실행할 코드\n",
    "except:\n",
    "    print('예외발생') #Exception이 발생하면 실행할 코드\n",
    "else:\n",
    "    print('나눈결과:',r) #Exception이 발생하지 않을 경우 실행할 코드\n",
    "print('종료')"
   ]
  },
  {
   "cell_type": "markdown",
   "id": "9a7cc9e4",
   "metadata": {},
   "source": [
    "### finally\n",
    "- try - except - finally\n",
    "- finallt block\n",
    "    - try에서 예외 발생 및 처리 여부와 상관없이 100% 실행을 보장하는 코드블럭.\n",
    "    - 외부자원과 연결해서 데이터를 주고받을때 마지막 연결 끊는(닫는) 코드를 주로 넣는다."
   ]
  },
  {
   "cell_type": "code",
   "execution_count": 34,
   "id": "8cc9b096",
   "metadata": {},
   "outputs": [
    {
     "name": "stdout",
     "output_type": "stream",
     "text": [
      "무조건 실행될 코드 - finally\n"
     ]
    },
    {
     "ename": "NameError",
     "evalue": "name 'ValurError' is not defined",
     "output_type": "error",
     "traceback": [
      "\u001b[0;31m---------------------------------------------------------------------------\u001b[0m",
      "\u001b[0;31mZeroDivisionError\u001b[0m                         Traceback (most recent call last)",
      "Input \u001b[0;32mIn [34]\u001b[0m, in \u001b[0;36m<cell line: 1>\u001b[0;34m()\u001b[0m\n\u001b[1;32m      1\u001b[0m \u001b[38;5;28;01mtry\u001b[39;00m:\n\u001b[1;32m      2\u001b[0m \u001b[38;5;66;03m#\u001b[39;00m\n\u001b[0;32m----> 3\u001b[0m     \u001b[38;5;28mprint\u001b[39m(\u001b[38;5;241;43m1\u001b[39;49m\u001b[38;5;241;43m/\u001b[39;49m\u001b[38;5;241;43m0\u001b[39;49m)    \n\u001b[1;32m      4\u001b[0m     \u001b[38;5;28mprint\u001b[39m\n",
      "\u001b[0;31mZeroDivisionError\u001b[0m: division by zero",
      "\nDuring handling of the above exception, another exception occurred:\n",
      "\u001b[0;31mNameError\u001b[0m                                 Traceback (most recent call last)",
      "Input \u001b[0;32mIn [34]\u001b[0m, in \u001b[0;36m<cell line: 1>\u001b[0;34m()\u001b[0m\n\u001b[1;32m      4\u001b[0m     \u001b[38;5;28mprint\u001b[39m\n\u001b[1;32m      5\u001b[0m     \u001b[38;5;28mprint\u001b[39m(\u001b[38;5;124m\"\u001b[39m\u001b[38;5;124m무조건실행될 코드\u001b[39m\u001b[38;5;124m\"\u001b[39m)\n\u001b[0;32m----> 6\u001b[0m \u001b[38;5;28;01mexcept\u001b[39;00m \u001b[43mValurError\u001b[49m:\n\u001b[1;32m      7\u001b[0m     \u001b[38;5;28mprint\u001b[39m(\u001b[38;5;124m\"\u001b[39m\u001b[38;5;124m무조건실행될 코드\u001b[39m\u001b[38;5;124m\"\u001b[39m)\n\u001b[1;32m      8\u001b[0m \u001b[38;5;28;01mfinally\u001b[39;00m:\n",
      "\u001b[0;31mNameError\u001b[0m: name 'ValurError' is not defined"
     ]
    }
   ],
   "source": [
    "try:\n",
    "#    외부 자원과 연결\n",
    "#    외부자원과 데이터를 주고받는 코드\n",
    "    print(1/0)    \n",
    "    print\n",
    "    print(\"무조건실행될 코드\")\n",
    "except ValurError:\n",
    "#    데이터를 주고받다가 발생하는 예외를 처리하는 코드\n",
    "    print(\"무조건실행될 코드\")\n",
    "finally:\n",
    "#     연결 닫는(끊는) 코드\n",
    "    print(\"무조건 실행될 코드 - finally\")\n",
    "print(\"무조건실행될 코드\")\n"
   ]
  },
  {
   "cell_type": "markdown",
   "id": "39a0efdd",
   "metadata": {},
   "source": [
    "## 같은 일을 하는 메소드(함수)가 예외발생 또는 None반환을 하는 경우"
   ]
  },
  {
   "cell_type": "code",
   "execution_count": 36,
   "id": "ecd90f7a",
   "metadata": {},
   "outputs": [
    {
     "name": "stdout",
     "output_type": "stream",
     "text": [
      "10 10\n"
     ]
    }
   ],
   "source": [
    "# 딕셔너리\n",
    "d = {'a':10, 'b':100}\n",
    "print(d['a'], d.get('a'))"
   ]
  },
  {
   "cell_type": "code",
   "execution_count": 43,
   "id": "dd2e55c4",
   "metadata": {},
   "outputs": [
    {
     "name": "stdout",
     "output_type": "stream",
     "text": [
      "없습니다.\n"
     ]
    }
   ],
   "source": [
    "# 없는 키로 조회\n",
    "try:\n",
    "    d['key'] #KeyError를 발생\n",
    "except:\n",
    "    print('없습니다.')"
   ]
  },
  {
   "cell_type": "code",
   "execution_count": 42,
   "id": "8a8a14fa",
   "metadata": {},
   "outputs": [
    {
     "name": "stdout",
     "output_type": "stream",
     "text": [
      "없습니다.\n",
      "None\n"
     ]
    }
   ],
   "source": [
    "v = d.get('key') # None 반환\n",
    "if v != None:\n",
    "    print(v)\n",
    "else:\n",
    "    print('없습니다.')\n",
    "# v = d.get('key', '없음') # None 반환\n",
    "print(v)"
   ]
  },
  {
   "cell_type": "code",
   "execution_count": 44,
   "id": "3b210ec2",
   "metadata": {},
   "outputs": [
    {
     "ename": "AttributeError",
     "evalue": "'list' object has no attribute 'find'",
     "output_type": "error",
     "traceback": [
      "\u001b[0;31m---------------------------------------------------------------------------\u001b[0m",
      "\u001b[0;31mAttributeError\u001b[0m                            Traceback (most recent call last)",
      "Input \u001b[0;32mIn [44]\u001b[0m, in \u001b[0;36m<cell line: 3>\u001b[0;34m()\u001b[0m\n\u001b[1;32m      1\u001b[0m \u001b[38;5;66;03m# 리스트 \u001b[39;00m\n\u001b[1;32m      2\u001b[0m l \u001b[38;5;241m=\u001b[39m [\u001b[38;5;124m'\u001b[39m\u001b[38;5;124m가\u001b[39m\u001b[38;5;124m'\u001b[39m,\u001b[38;5;124m'\u001b[39m\u001b[38;5;124m나\u001b[39m\u001b[38;5;124m'\u001b[39m,\u001b[38;5;124m'\u001b[39m\u001b[38;5;124m다\u001b[39m\u001b[38;5;124m'\u001b[39m]\n\u001b[0;32m----> 3\u001b[0m \u001b[43ml\u001b[49m\u001b[38;5;241;43m.\u001b[39;49m\u001b[43mfind\u001b[49m(\u001b[38;5;124m'\u001b[39m\u001b[38;5;124m나\u001b[39m\u001b[38;5;124m'\u001b[39m)\n",
      "\u001b[0;31mAttributeError\u001b[0m: 'list' object has no attribute 'find'"
     ]
    }
   ],
   "source": [
    "# 리스트 \n",
    "l = ['가','나','다']\n",
    "l.find('나')"
   ]
  },
  {
   "cell_type": "code",
   "execution_count": 45,
   "id": "dad38097",
   "metadata": {},
   "outputs": [
    {
     "data": {
      "text/plain": [
       "(1, 1)"
      ]
     },
     "execution_count": 45,
     "metadata": {},
     "output_type": "execute_result"
    }
   ],
   "source": [
    "s = '가나다라'\n",
    "s.index('나'), s.find('나')"
   ]
  },
  {
   "cell_type": "code",
   "execution_count": 46,
   "id": "f0d9b7ec",
   "metadata": {},
   "outputs": [
    {
     "ename": "ValueError",
     "evalue": "substring not found",
     "output_type": "error",
     "traceback": [
      "\u001b[0;31m---------------------------------------------------------------------------\u001b[0m",
      "\u001b[0;31mValueError\u001b[0m                                Traceback (most recent call last)",
      "Input \u001b[0;32mIn [46]\u001b[0m, in \u001b[0;36m<cell line: 1>\u001b[0;34m()\u001b[0m\n\u001b[0;32m----> 1\u001b[0m \u001b[43ms\u001b[49m\u001b[38;5;241;43m.\u001b[39;49m\u001b[43mindex\u001b[49m\u001b[43m(\u001b[49m\u001b[38;5;124;43m'\u001b[39;49m\u001b[38;5;124;43m바\u001b[39;49m\u001b[38;5;124;43m'\u001b[39;49m\u001b[43m)\u001b[49m\n",
      "\u001b[0;31mValueError\u001b[0m: substring not found"
     ]
    }
   ],
   "source": [
    "try:\n",
    "    s.index('바')\n",
    "except:\n",
    "    print('없음')"
   ]
  },
  {
   "cell_type": "code",
   "execution_count": 47,
   "id": "f3d4a29e",
   "metadata": {},
   "outputs": [
    {
     "name": "stdout",
     "output_type": "stream",
     "text": [
      "-1\n"
     ]
    }
   ],
   "source": [
    "v = s.find('바')\n",
    "if v = =-1:\n",
    "    print('없음')\n",
    "print(v)"
   ]
  },
  {
   "cell_type": "code",
   "execution_count": null,
   "id": "890f99ff",
   "metadata": {},
   "outputs": [],
   "source": [
    "# 냉장고 08분"
   ]
  },
  {
   "cell_type": "code",
   "execution_count": null,
   "id": "7745080a",
   "metadata": {},
   "outputs": [],
   "source": []
  },
  {
   "cell_type": "code",
   "execution_count": 110,
   "id": "a57005d5",
   "metadata": {},
   "outputs": [],
   "source": [
    "class Person:\n",
    "    def __init__(self, name, age):\n",
    "        self.name = name\n",
    "        self.age = age\n",
    "        \n",
    "    # > 연산자 재정의\n",
    "    def __gt__(self, obj):\n",
    "        result = False\n",
    "        try:\n",
    "            if isinstance(obj, Person):    # obj가 Person 타입\n",
    "                result = self.age > obj.age\n",
    "            else:\n",
    "                result = self.age > obj\n",
    "        except:\n",
    "            pass\n",
    "        return result\n"
   ]
  },
  {
   "cell_type": "code",
   "execution_count": 111,
   "id": "566c5203",
   "metadata": {},
   "outputs": [
    {
     "data": {
      "text/plain": [
       "True"
      ]
     },
     "execution_count": 111,
     "metadata": {},
     "output_type": "execute_result"
    }
   ],
   "source": [
    "p1 = Person('홍길동', 20)\n",
    "p2 = Person('이순신', 15)\n",
    "\n",
    "p1 > p2"
   ]
  },
  {
   "cell_type": "code",
   "execution_count": 112,
   "id": "c497945e",
   "metadata": {},
   "outputs": [
    {
     "data": {
      "text/plain": [
       "False"
      ]
     },
     "execution_count": 112,
     "metadata": {},
     "output_type": "execute_result"
    }
   ],
   "source": [
    "p1 > 's'"
   ]
  },
  {
   "cell_type": "code",
   "execution_count": 109,
   "id": "a6367104",
   "metadata": {},
   "outputs": [
    {
     "data": {
      "text/plain": [
       "True"
      ]
     },
     "execution_count": 109,
     "metadata": {},
     "output_type": "execute_result"
    }
   ],
   "source": [
    "p1 > 12.09"
   ]
  },
  {
   "cell_type": "code",
   "execution_count": 97,
   "id": "2c89a2e0",
   "metadata": {},
   "outputs": [
    {
     "data": {
      "text/plain": [
       "float"
      ]
     },
     "execution_count": 97,
     "metadata": {},
     "output_type": "execute_result"
    }
   ],
   "source": [
    "type(19.3)"
   ]
  },
  {
   "cell_type": "markdown",
   "id": "12c83f61",
   "metadata": {},
   "source": [
    "### 사용자 정의 예외 구현과 예외 발생시키기"
   ]
  },
  {
   "cell_type": "code",
   "execution_count": 125,
   "id": "821cd16a",
   "metadata": {},
   "outputs": [],
   "source": [
    "class InvalidMonthException(Exception):\n",
    "    \n",
    "    def __init__(self, invalid_month):\n",
    "        self.invalid_month = invalid_month\n",
    "        \n",
    "    def __str__(self):\n",
    "        return f'월은 1 ~ 12 사이의 정수만 가능합니다 사용된 월은 {self.invalid_month}입니다'"
   ]
  },
  {
   "cell_type": "code",
   "execution_count": 126,
   "id": "0474eb50",
   "metadata": {},
   "outputs": [],
   "source": [
    "def set_month(month):\n",
    "    if month >= 1 and month <=12:\n",
    "        print(f'{month}월을 설정했습니다.')\n",
    "    else:\n",
    "        raise InvalidMonthException(month) #예외발생"
   ]
  },
  {
   "cell_type": "code",
   "execution_count": 127,
   "id": "b468f90c",
   "metadata": {},
   "outputs": [
    {
     "name": "stdout",
     "output_type": "stream",
     "text": [
      "10월을 설정했습니다.\n",
      "1월을 설정했습니다.\n",
      "처리 월은 1 ~ 12 사이의 정수만 가능합니다 사용된 월은 -10입니다\n"
     ]
    }
   ],
   "source": [
    "set_month(10)\n",
    "set_month(1)\n",
    "try:\n",
    "    set_month(-10)\n",
    "except InvalidMonthException as e:   # 변수 e : raise한 Exception 객체가 할당된다\n",
    "    print('처리', e)"
   ]
  },
  {
   "cell_type": "code",
   "execution_count": null,
   "id": "27af809f",
   "metadata": {},
   "outputs": [],
   "source": []
  },
  {
   "cell_type": "code",
   "execution_count": 132,
   "id": "ceb54022",
   "metadata": {},
   "outputs": [],
   "source": [
    "class NotEnoughStockException(Exception):\n",
    "    \n",
    "    def __init__(self, notenoughstock):\n",
    "        self.stock = notenoughstock\n",
    "        \n",
    "    # 문자열로 변환시 왜 발생했는지를 반환\n",
    "    def __str__(self):\n",
    "        return f'재고가 부족합니다 현재 남은 재고는 {self.stock}입니다.'\n",
    "    "
   ]
  },
  {
   "cell_type": "code",
   "execution_count": 133,
   "id": "2fe8b518",
   "metadata": {},
   "outputs": [],
   "source": [
    "def order(order_amount:int):\n",
    "    \"\"\"\n",
    "    주문 처리하는 함수\n",
    "    [parameter]\n",
    "        order_amount: int -> 주문량\n",
    "    [return]\n",
    "    [Exception]\n",
    "        NotEnoughStockException\n",
    "    \"\"\"\n",
    "    stock_amount = 10 #재고량\n",
    "    \n",
    "    if stock_amount < order_amount:\n",
    "        raise NotEnoughStockException(stock_amount)\n",
    "    else:\n",
    "        print(\"주문처리 시작\")\n",
    "        stock_amount -= order_amount #재고량 변경\n",
    "        print('주문정보 저장')\n",
    "        print('주문 완료. 남은 재고량:', stock_amount)"
   ]
  },
  {
   "cell_type": "code",
   "execution_count": 137,
   "id": "3c70bcd7",
   "metadata": {},
   "outputs": [
    {
     "name": "stdout",
     "output_type": "stream",
     "text": [
      "실패 재고가 부족합니다 현재 남은 재고는 10입니다.\n"
     ]
    }
   ],
   "source": [
    "try:\n",
    "    order(20)\n",
    "except NotEnoughStockException as se:\n",
    "    print('실패', se)"
   ]
  },
  {
   "cell_type": "code",
   "execution_count": 139,
   "id": "6bb69ccc",
   "metadata": {},
   "outputs": [
    {
     "name": "stdout",
     "output_type": "stream",
     "text": [
      "주문처리 시작\n",
      "주문정보 저장\n",
      "주문 완료. 남은 재고량: 0\n",
      "주문처리 시작\n",
      "주문정보 저장\n",
      "주문 완료. 남은 재고량: 9\n"
     ]
    }
   ],
   "source": [
    "order(10)\n",
    "order(1)"
   ]
  },
  {
   "cell_type": "code",
   "execution_count": null,
   "id": "4985f7b8",
   "metadata": {},
   "outputs": [],
   "source": []
  },
  {
   "cell_type": "code",
   "execution_count": null,
   "id": "d361820c",
   "metadata": {},
   "outputs": [],
   "source": []
  },
  {
   "cell_type": "code",
   "execution_count": null,
   "id": "0c5a4a76",
   "metadata": {},
   "outputs": [],
   "source": []
  },
  {
   "cell_type": "code",
   "execution_count": null,
   "id": "7c24d0c8",
   "metadata": {},
   "outputs": [],
   "source": []
  },
  {
   "cell_type": "code",
   "execution_count": null,
   "id": "0cc11f55",
   "metadata": {},
   "outputs": [],
   "source": []
  },
  {
   "cell_type": "code",
   "execution_count": null,
   "id": "ffacbc83",
   "metadata": {},
   "outputs": [],
   "source": []
  },
  {
   "cell_type": "code",
   "execution_count": null,
   "id": "d272d7dd",
   "metadata": {},
   "outputs": [],
   "source": []
  },
  {
   "cell_type": "code",
   "execution_count": null,
   "id": "4a5169b5",
   "metadata": {},
   "outputs": [],
   "source": []
  },
  {
   "cell_type": "code",
   "execution_count": null,
   "id": "9d2d2757",
   "metadata": {},
   "outputs": [],
   "source": []
  }
 ],
 "metadata": {
  "kernelspec": {
   "display_name": "Python 3 (ipykernel)",
   "language": "python",
   "name": "python3"
  },
  "language_info": {
   "codemirror_mode": {
    "name": "ipython",
    "version": 3
   },
   "file_extension": ".py",
   "mimetype": "text/x-python",
   "name": "python",
   "nbconvert_exporter": "python",
   "pygments_lexer": "ipython3",
   "version": "3.9.12"
  }
 },
 "nbformat": 4,
 "nbformat_minor": 5
}
