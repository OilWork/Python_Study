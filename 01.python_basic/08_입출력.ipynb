{
 "cells": [
  {
   "cell_type": "code",
   "execution_count": 1,
   "id": "5085025f",
   "metadata": {},
   "outputs": [
    {
     "name": "stdout",
     "output_type": "stream",
     "text": [
      "/Users/don/01.python_basic\n"
     ]
    }
   ],
   "source": [
    "# 현재 경로 - workdrirectory 경로조회\n",
    "import os # os 모듈을 import\n",
    "cwd = os.getcwd() #current work directory\n",
    "print(cwd) # 상대경로의 현재위치\n",
    "# p = \"./a/b/abc.text\""
   ]
  },
  {
   "cell_type": "markdown",
   "id": "e17c30bf",
   "metadata": {},
   "source": [
    "# 입출력\n",
    "## text 입출력\n",
    "- 문자열을 입/출력 하는 것."
   ]
  },
  {
   "cell_type": "markdown",
   "id": "ef32aa23",
   "metadata": {},
   "source": [
    "### 출력"
   ]
  },
  {
   "cell_type": "code",
   "execution_count": 26,
   "id": "c6930f5f",
   "metadata": {},
   "outputs": [
    {
     "name": "stdout",
     "output_type": "stream",
     "text": [
      "안녕하세요\n",
      "반갑습니다\n",
      "오늘도 즐거운 하루되세요\n"
     ]
    }
   ],
   "source": [
    "# 출력 데이터\n",
    "txt = \"\"\"안녕하세요\n",
    "반갑습니다\n",
    "오늘도 즐거운 하루되세요\"\"\"\n",
    "print(txt)"
   ]
  },
  {
   "cell_type": "code",
   "execution_count": 27,
   "id": "73725c03",
   "metadata": {},
   "outputs": [],
   "source": [
    "# txt의 문자열데이터를 \"현재작업경로/a.txt\" 파일에 출력(저장)\n",
    "# 1. a.txt와 연결: 목적 출력,\n",
    "file_path = r\"/Users/don/01.python_basic/a.txt\"    #절대경로  \n",
    "# file_path = \"a.txt\" #상대경로 - ./를 새ㅇ략\n",
    "mode = \"wt\" # 목적|데이터종료 wt: 쓰기모드 텍스트모드\n",
    "fw = open(file_path, mode) #파일과 지정한모드에 맞춰서 연결하고 입출력할 수 있는 기능(메소드)를 제공\n",
    "# - 출력 연결의 경우에 연결할 파일이 없으면 생성. 있으면 있는 파일과 연결 (단 데이터는 지운다)\n",
    "# - 입력 연결의 경우에 연결할 파일이 없으면 오류발생"
   ]
  },
  {
   "cell_type": "code",
   "execution_count": 28,
   "id": "b4665907",
   "metadata": {},
   "outputs": [
    {
     "data": {
      "text/plain": [
       "25"
      ]
     },
     "execution_count": 28,
     "metadata": {},
     "output_type": "execute_result"
    }
   ],
   "source": [
    "# 2. 출력\n",
    "fw.write(txt)"
   ]
  },
  {
   "cell_type": "code",
   "execution_count": 29,
   "id": "03854db1",
   "metadata": {},
   "outputs": [],
   "source": [
    "# 3. 닫기\n",
    "fw.close()"
   ]
  },
  {
   "cell_type": "markdown",
   "id": "4615f387",
   "metadata": {},
   "source": [
    "### 입력 "
   ]
  },
  {
   "cell_type": "code",
   "execution_count": 30,
   "id": "fbefc257",
   "metadata": {},
   "outputs": [
    {
     "name": "stdout",
     "output_type": "stream",
     "text": [
      "안녕하세요\n",
      "반갑습니다\n",
      "오늘도 즐거운 하루되세요\n"
     ]
    }
   ],
   "source": [
    "i_file_path = 'a.txt' # 상대경로\n",
    "# 목적 : 읽기-r(기본값, 데이터: string(text) - t(기본값)\n",
    "i_mode = 'rt'\n",
    "# 1. 연결\n",
    "fi = open(i_file_path, i_mode)\n",
    "# 2. 입력 - read()\n",
    "r_text = fi.read()\n",
    "print(r_text)\n",
    "# 3. 연결닫기\n",
    "fi.close()\n",
    "\n",
    "# UnicodeDecodeError : 잘못된(저장된 인코딩방식과 다른) encoding 방식으로 읽을 경우 발생"
   ]
  },
  {
   "cell_type": "code",
   "execution_count": 31,
   "id": "10a8bf3d",
   "metadata": {},
   "outputs": [
    {
     "name": "stdout",
     "output_type": "stream",
     "text": [
      "안녕하세요\n",
      "반갑습니다\n",
      "오늘도 즐거운 하루되세요\n"
     ]
    }
   ],
   "source": [
    "try:\n",
    "    fi = open('a.txt','rt')\n",
    "    t = fi.read()\n",
    "    print(t)\n",
    "except:\n",
    "    print(오류)\n",
    "finally:\n",
    "    print('연결닫기')\n",
    "    fi.close()"
   ]
  },
  {
   "cell_type": "markdown",
   "id": "0d7c6d88",
   "metadata": {},
   "source": [
    "### with문(절)\n",
    "```python\n",
    "with 연결함수 as 변수:\n",
    "    작업코드\n",
    "```"
   ]
  },
  {
   "cell_type": "code",
   "execution_count": 33,
   "id": "6a7505f1",
   "metadata": {},
   "outputs": [
    {
     "name": "stdout",
     "output_type": "stream",
     "text": [
      "False\n",
      "안녕하세요\n",
      "반갑습니다\n",
      "오늘도 즐거운 하루되세요\n",
      "With block 밖 True\n"
     ]
    }
   ],
   "source": [
    "# fi = open(...)\n",
    "with open('a.txt', 'rt') as fi:\n",
    "    # 입출력 코드\n",
    "    try:\n",
    "        r = fi.read()\n",
    "        print(fi.closed) # 연결여부를 반환: True-끊긴것, False-연결상태\n",
    "        print(r)\n",
    "    except:\n",
    "        print(처리)\n",
    "print('With block 밖', fi.closed)\n",
    "# with block 빠져나오면 close를 자동으로 처리해 준다."
   ]
  },
  {
   "cell_type": "code",
   "execution_count": 35,
   "id": "52dacd7b",
   "metadata": {},
   "outputs": [],
   "source": [
    "with open(\"b.txt\",'wt') as fw:\n",
    "    # 출력은 여러번에 걸쳐 할 수 있다.\n",
    "    fw.write(\"안녕하세여\\n\")\n",
    "    fw.write(\"반갑습니다\\n\")\n",
    "    fw.write(\"조금만 있으면 점심시간이네요.\\n\")\n",
    "    fw.write(str(30)) #출력가능한 타입은 string"
   ]
  },
  {
   "cell_type": "code",
   "execution_count": 38,
   "id": "b592a598",
   "metadata": {},
   "outputs": [],
   "source": [
    "txt_list = ['안녕하세요\\n','지금은 12시 16분입니다\\n', str(120)]\n",
    "with open('c.txt','wt') as fw:\n",
    "    fw.writelines(txt_list) #list의 원소들을 한번에 출력"
   ]
  },
  {
   "cell_type": "markdown",
   "id": "9da70c46",
   "metadata": {},
   "source": [
    "### 입력 메소드 "
   ]
  },
  {
   "cell_type": "code",
   "execution_count": 41,
   "id": "ea0a1c7f",
   "metadata": {
    "collapsed": true
   },
   "outputs": [
    {
     "name": "stdout",
     "output_type": "stream",
     "text": [
      "True\n",
      "배우 김새론이 음주운전 혐의로 입건된 후 입장을 밝혔다.\n",
      "\n",
      "김새론 소속사 골드메달리스트는 19일 오전 공식입장을 통해 앞서 \"소속 배우 김새론씨의 음주운전으로 발생한 사고로 인해 심려를 끼쳐드린 점 진심으로 사과드립니다\"라고 했다.\n",
      "\n",
      "골드메달리스트는 \"김새론씨는 자신의 잘못을 깊게 반성하고 있습니다\"라며 \"또한 김새론씨는 이로 인해 피해와 불편함을 겪은 많은 분들과 파손된 공공시설의 복구를 위해 애쓰시는 모든 분들께 진심으로 사죄의 마음을 전하고, 피해 복구를 위해 최선을 다할 것임을 약속했습니다\"고 밝혔다.\n",
      "\n",
      "이와 함께 \"김새론씨는 어제(18일) 채혈 검사 후 귀가 조치 되었으며, 이후 경찰 조사에도 성실하게 임할 예정입니다\"고 덧붙였다.\n",
      "\n",
      "골드메달리스트는 \"당사 역시 이와 같은 사건이 발생한 점에 대해 책임을 깊이 통감하고 있습니다. 이 일로 불편을 겪으신 모든 분들께 다시 한 번 사과드립니다. 앞으로 소통하며 적극적으로 해결해 나가도록 최선을 다하겠습니다\"라며 \"당사는 이러한 일이 일어나지 않도록 더욱 아티스트 관리에 신중을 기하도록 노력하겠습니다. 다시 한 번 심려를 끼쳐드려 죄송합니다\"고 했다.\n",
      "\n",
      "한편, 김새론은 지난 18일 음주운전 혐의로 논란을 빚었다.\n",
      "\n",
      "지난 18일 서울 강남경찰서는 김새론을 도로교통법 위반(음주운전) 혐의로 입건했다. 경찰에 따르면 김새론은 이날 오전 8시께 서울 강남구 청담동에서 운전하다 구조물을 들이받았다.\n",
      "\n",
      "신고를 받고 출동한 경찰은 음주 감지기로 음주 여부를 확인했으나 김새론이 정확한 측정 결과를 원해 인근 병원에서 채혈 검사를 진행했다. 경찰 관계자는 스타뉴스에 \"(김새론은) 채혈 검사를 마치고 귀가한 상황\"이라며 \"검사 결과는 일주일 뒤에 나온다. 결과가 나오는 대로 추후 조사를 진행할 계획\"라고 밝혔다.\n",
      "\n",
      "◆ 다음은 김새론의 음주운전 혐의와 관련한 소속사 골드메달리스트 공식입장 전문\n",
      "안녕하세요. 골드메달리스트입니다.\n",
      "\n",
      "먼저 정확한 사실관계 파악에 시간이 걸려 공식 입장이 늦어진 점에 대해 사과드립니다.\n",
      "\n",
      "소속 배우 김새론씨의 음주운전으로 발생한 사고로 인해 심려를 끼쳐드린 점 진심으로 사과드립니다.\n",
      "\n",
      "김새론씨는 자신의 잘못을 깊게 반성하고 있습니다. 또한 김새론씨는 이로 인해 피해와 불편함을 겪은 많은 분들과 파손된 공공시설의 복구를 위해 애쓰시는 모든 분들께 진심으로 사죄의 마음을 전하고, 피해 복구를 위해 최선을 다할 것임을 약속했습니다.\n",
      "\n",
      "김새론씨는 어제(18일) 채혈 검사 후 귀가 조치 되었으며, 이후 경찰 조사에도 성실하게 임할 예정입니다.\n",
      "\n",
      "당사 역시 이와 같은 사건이 발생한 점에 대해 책임을 깊이 통감하고 있습니다. 이 일로 불편을 겪으신 모든 분들께 다시 한 번 사과드립니다. 앞으로 소통하며 적극적으로 해결해 나가도록 최선을 다하겠습니다.\n",
      "\n",
      "당사는 이러한 일이 일어나지 않도록 더욱 아티스트 관리에 신중을 기하도록 노력하겠습니다. 다시 한 번 심려를 끼쳐드려 죄송합니다.\n",
      "\n",
      "이경호 기자 sky@mtstarnews.com\n",
      "이경호 기자 (sky@mtstarnews.com)\n"
     ]
    }
   ],
   "source": [
    "news_file_path = 'text_data/news.txt'\n",
    "with open(news_file_path, 'rt') as fi:\n",
    "    news = fi.read() # 파일의 전체내용을 한번에 읽는다\n",
    "    \n",
    "print(fi.closed)\n",
    "print(news)"
   ]
  },
  {
   "cell_type": "code",
   "execution_count": 43,
   "id": "4b0be907",
   "metadata": {
    "collapsed": true
   },
   "outputs": [
    {
     "name": "stdout",
     "output_type": "stream",
     "text": [
      "['배우 김새론이 음주운전 혐의로 입건된 후 입장을 밝혔다.\\n', '\\n', '김새론 소속사 골드메달리스트는 19일 오전 공식입장을 통해 앞서 \"소속 배우 김새론씨의 음주운전으로 발생한 사고로 인해 심려를 끼쳐드린 점 진심으로 사과드립니다\"라고 했다.\\n', '\\n', '골드메달리스트는 \"김새론씨는 자신의 잘못을 깊게 반성하고 있습니다\"라며 \"또한 김새론씨는 이로 인해 피해와 불편함을 겪은 많은 분들과 파손된 공공시설의 복구를 위해 애쓰시는 모든 분들께 진심으로 사죄의 마음을 전하고, 피해 복구를 위해 최선을 다할 것임을 약속했습니다\"고 밝혔다.\\n', '\\n', '이와 함께 \"김새론씨는 어제(18일) 채혈 검사 후 귀가 조치 되었으며, 이후 경찰 조사에도 성실하게 임할 예정입니다\"고 덧붙였다.\\n', '\\n', '골드메달리스트는 \"당사 역시 이와 같은 사건이 발생한 점에 대해 책임을 깊이 통감하고 있습니다. 이 일로 불편을 겪으신 모든 분들께 다시 한 번 사과드립니다. 앞으로 소통하며 적극적으로 해결해 나가도록 최선을 다하겠습니다\"라며 \"당사는 이러한 일이 일어나지 않도록 더욱 아티스트 관리에 신중을 기하도록 노력하겠습니다. 다시 한 번 심려를 끼쳐드려 죄송합니다\"고 했다.\\n', '\\n', '한편, 김새론은 지난 18일 음주운전 혐의로 논란을 빚었다.\\n', '\\n', '지난 18일 서울 강남경찰서는 김새론을 도로교통법 위반(음주운전) 혐의로 입건했다. 경찰에 따르면 김새론은 이날 오전 8시께 서울 강남구 청담동에서 운전하다 구조물을 들이받았다.\\n', '\\n', '신고를 받고 출동한 경찰은 음주 감지기로 음주 여부를 확인했으나 김새론이 정확한 측정 결과를 원해 인근 병원에서 채혈 검사를 진행했다. 경찰 관계자는 스타뉴스에 \"(김새론은) 채혈 검사를 마치고 귀가한 상황\"이라며 \"검사 결과는 일주일 뒤에 나온다. 결과가 나오는 대로 추후 조사를 진행할 계획\"라고 밝혔다.\\n', '\\n', '◆ 다음은 김새론의 음주운전 혐의와 관련한 소속사 골드메달리스트 공식입장 전문\\n', '안녕하세요. 골드메달리스트입니다.\\n', '\\n', '먼저 정확한 사실관계 파악에 시간이 걸려 공식 입장이 늦어진 점에 대해 사과드립니다.\\n', '\\n', '소속 배우 김새론씨의 음주운전으로 발생한 사고로 인해 심려를 끼쳐드린 점 진심으로 사과드립니다.\\n', '\\n', '김새론씨는 자신의 잘못을 깊게 반성하고 있습니다. 또한 김새론씨는 이로 인해 피해와 불편함을 겪은 많은 분들과 파손된 공공시설의 복구를 위해 애쓰시는 모든 분들께 진심으로 사죄의 마음을 전하고, 피해 복구를 위해 최선을 다할 것임을 약속했습니다.\\n', '\\n', '김새론씨는 어제(18일) 채혈 검사 후 귀가 조치 되었으며, 이후 경찰 조사에도 성실하게 임할 예정입니다.\\n', '\\n', '당사 역시 이와 같은 사건이 발생한 점에 대해 책임을 깊이 통감하고 있습니다. 이 일로 불편을 겪으신 모든 분들께 다시 한 번 사과드립니다. 앞으로 소통하며 적극적으로 해결해 나가도록 최선을 다하겠습니다.\\n', '\\n', '당사는 이러한 일이 일어나지 않도록 더욱 아티스트 관리에 신중을 기하도록 노력하겠습니다. 다시 한 번 심려를 끼쳐드려 죄송합니다.\\n', '\\n', '이경호 기자 sky@mtstarnews.com\\n', '이경호 기자 (sky@mtstarnews.com)']\n",
      "배우 김새론이 음주운전 혐의로 입건된 후 입장을 밝혔다.\n",
      "\n",
      "\n",
      "\n",
      "김새론 소속사 골드메달리스트는 19일 오전 공식입장을 통해 앞서 \"소속 배우 김새론씨의 음주운전으로 발생한 사고로 인해 심려를 끼쳐드린 점 진심으로 사과드립니다\"라고 했다.\n",
      "\n"
     ]
    }
   ],
   "source": [
    "with open(news_file_path, 'rt') as fi:\n",
    "    text_list = fi.readlines() # 한줄, 한줄을 원소로 하는 리스트로 반환\n",
    "    \n",
    "print(text_list)\n",
    "print(text_list[0])\n",
    "print(text_list[1])\n",
    "print(text_list[2])"
   ]
  },
  {
   "cell_type": "code",
   "execution_count": 48,
   "id": "fe912b30",
   "metadata": {
    "collapsed": true
   },
   "outputs": [
    {
     "name": "stdout",
     "output_type": "stream",
     "text": [
      "1. 배우 김새론이 음주운전 혐의로 입건된 후 입장을 밝혔다.\n",
      "\n",
      "2. \n",
      "\n",
      "3. 김새론 소속사 골드메달리스트는 19일 오전 공식입장을 통해 앞서 \"소속 배우 김새론씨의 음주운전으로 발생한 사고로 인해 심려를 끼쳐드린 점 진심으로 사과드립니다\"라고 했다.\n",
      "\n",
      "4. \n",
      "\n",
      "5. 골드메달리스트는 \"김새론씨는 자신의 잘못을 깊게 반성하고 있습니다\"라며 \"또한 김새론씨는 이로 인해 피해와 불편함을 겪은 많은 분들과 파손된 공공시설의 복구를 위해 애쓰시는 모든 분들께 진심으로 사죄의 마음을 전하고, 피해 복구를 위해 최선을 다할 것임을 약속했습니다\"고 밝혔다.\n",
      "\n",
      "6. \n",
      "\n",
      "7. 이와 함께 \"김새론씨는 어제(18일) 채혈 검사 후 귀가 조치 되었으며, 이후 경찰 조사에도 성실하게 임할 예정입니다\"고 덧붙였다.\n",
      "\n",
      "8. \n",
      "\n",
      "9. 골드메달리스트는 \"당사 역시 이와 같은 사건이 발생한 점에 대해 책임을 깊이 통감하고 있습니다. 이 일로 불편을 겪으신 모든 분들께 다시 한 번 사과드립니다. 앞으로 소통하며 적극적으로 해결해 나가도록 최선을 다하겠습니다\"라며 \"당사는 이러한 일이 일어나지 않도록 더욱 아티스트 관리에 신중을 기하도록 노력하겠습니다. 다시 한 번 심려를 끼쳐드려 죄송합니다\"고 했다.\n",
      "\n",
      "10. \n",
      "\n",
      "11. 한편, 김새론은 지난 18일 음주운전 혐의로 논란을 빚었다.\n",
      "\n",
      "12. \n",
      "\n",
      "13. 지난 18일 서울 강남경찰서는 김새론을 도로교통법 위반(음주운전) 혐의로 입건했다. 경찰에 따르면 김새론은 이날 오전 8시께 서울 강남구 청담동에서 운전하다 구조물을 들이받았다.\n",
      "\n",
      "14. \n",
      "\n",
      "15. 신고를 받고 출동한 경찰은 음주 감지기로 음주 여부를 확인했으나 김새론이 정확한 측정 결과를 원해 인근 병원에서 채혈 검사를 진행했다. 경찰 관계자는 스타뉴스에 \"(김새론은) 채혈 검사를 마치고 귀가한 상황\"이라며 \"검사 결과는 일주일 뒤에 나온다. 결과가 나오는 대로 추후 조사를 진행할 계획\"라고 밝혔다.\n",
      "\n",
      "16. \n",
      "\n",
      "17. ◆ 다음은 김새론의 음주운전 혐의와 관련한 소속사 골드메달리스트 공식입장 전문\n",
      "\n",
      "18. 안녕하세요. 골드메달리스트입니다.\n",
      "\n",
      "19. \n",
      "\n",
      "20. 먼저 정확한 사실관계 파악에 시간이 걸려 공식 입장이 늦어진 점에 대해 사과드립니다.\n",
      "\n",
      "21. \n",
      "\n",
      "22. 소속 배우 김새론씨의 음주운전으로 발생한 사고로 인해 심려를 끼쳐드린 점 진심으로 사과드립니다.\n",
      "\n",
      "23. \n",
      "\n",
      "24. 김새론씨는 자신의 잘못을 깊게 반성하고 있습니다. 또한 김새론씨는 이로 인해 피해와 불편함을 겪은 많은 분들과 파손된 공공시설의 복구를 위해 애쓰시는 모든 분들께 진심으로 사죄의 마음을 전하고, 피해 복구를 위해 최선을 다할 것임을 약속했습니다.\n",
      "\n",
      "25. \n",
      "\n",
      "26. 김새론씨는 어제(18일) 채혈 검사 후 귀가 조치 되었으며, 이후 경찰 조사에도 성실하게 임할 예정입니다.\n",
      "\n",
      "27. \n",
      "\n",
      "28. 당사 역시 이와 같은 사건이 발생한 점에 대해 책임을 깊이 통감하고 있습니다. 이 일로 불편을 겪으신 모든 분들께 다시 한 번 사과드립니다. 앞으로 소통하며 적극적으로 해결해 나가도록 최선을 다하겠습니다.\n",
      "\n",
      "29. \n",
      "\n",
      "30. 당사는 이러한 일이 일어나지 않도록 더욱 아티스트 관리에 신중을 기하도록 노력하겠습니다. 다시 한 번 심려를 끼쳐드려 죄송합니다.\n",
      "\n",
      "31. \n",
      "\n",
      "32. 이경호 기자 sky@mtstarnews.com\n",
      "\n",
      "33. 이경호 기자 (sky@mtstarnews.com)\n"
     ]
    }
   ],
   "source": [
    "# 줄단위 처리\n",
    "# 줄번호 붙여서 출력\n",
    "for linenum, t in enumerate(text_list, start=1):\n",
    "    print(f'{linenum}. {t}')"
   ]
  },
  {
   "cell_type": "code",
   "execution_count": 52,
   "id": "39c23b03",
   "metadata": {
    "collapsed": true
   },
   "outputs": [
    {
     "name": "stdout",
     "output_type": "stream",
     "text": [
      "1.배우 김새론이 음주운전 혐의로 입건된 후 입장을 밝혔다.\n",
      "\n",
      "2.\n",
      "\n",
      "3.김새론 소속사 골드메달리스트는 19일 오전 공식입장을 통해 앞서 \"소속 배우 김새론씨의 음주운전으로 발생한 사고로 인해 심려를 끼쳐드린 점 진심으로 사과드립니다\"라고 했다.\n",
      "\n",
      "4.\n",
      "\n",
      "5.골드메달리스트는 \"김새론씨는 자신의 잘못을 깊게 반성하고 있습니다\"라며 \"또한 김새론씨는 이로 인해 피해와 불편함을 겪은 많은 분들과 파손된 공공시설의 복구를 위해 애쓰시는 모든 분들께 진심으로 사죄의 마음을 전하고, 피해 복구를 위해 최선을 다할 것임을 약속했습니다\"고 밝혔다.\n",
      "\n",
      "6.\n",
      "\n",
      "7.이와 함께 \"김새론씨는 어제(18일) 채혈 검사 후 귀가 조치 되었으며, 이후 경찰 조사에도 성실하게 임할 예정입니다\"고 덧붙였다.\n",
      "\n",
      "8.\n",
      "\n",
      "9.골드메달리스트는 \"당사 역시 이와 같은 사건이 발생한 점에 대해 책임을 깊이 통감하고 있습니다. 이 일로 불편을 겪으신 모든 분들께 다시 한 번 사과드립니다. 앞으로 소통하며 적극적으로 해결해 나가도록 최선을 다하겠습니다\"라며 \"당사는 이러한 일이 일어나지 않도록 더욱 아티스트 관리에 신중을 기하도록 노력하겠습니다. 다시 한 번 심려를 끼쳐드려 죄송합니다\"고 했다.\n",
      "\n",
      "10.\n",
      "\n",
      "11.한편, 김새론은 지난 18일 음주운전 혐의로 논란을 빚었다.\n",
      "\n",
      "12.\n",
      "\n",
      "13.지난 18일 서울 강남경찰서는 김새론을 도로교통법 위반(음주운전) 혐의로 입건했다. 경찰에 따르면 김새론은 이날 오전 8시께 서울 강남구 청담동에서 운전하다 구조물을 들이받았다.\n",
      "\n",
      "14.\n",
      "\n",
      "15.신고를 받고 출동한 경찰은 음주 감지기로 음주 여부를 확인했으나 김새론이 정확한 측정 결과를 원해 인근 병원에서 채혈 검사를 진행했다. 경찰 관계자는 스타뉴스에 \"(김새론은) 채혈 검사를 마치고 귀가한 상황\"이라며 \"검사 결과는 일주일 뒤에 나온다. 결과가 나오는 대로 추후 조사를 진행할 계획\"라고 밝혔다.\n",
      "\n",
      "16.\n",
      "\n",
      "17.◆ 다음은 김새론의 음주운전 혐의와 관련한 소속사 골드메달리스트 공식입장 전문\n",
      "\n",
      "18.안녕하세요. 골드메달리스트입니다.\n",
      "\n",
      "19.\n",
      "\n",
      "20.먼저 정확한 사실관계 파악에 시간이 걸려 공식 입장이 늦어진 점에 대해 사과드립니다.\n",
      "\n",
      "21.\n",
      "\n",
      "22.소속 배우 김새론씨의 음주운전으로 발생한 사고로 인해 심려를 끼쳐드린 점 진심으로 사과드립니다.\n",
      "\n",
      "23.\n",
      "\n",
      "24.김새론씨는 자신의 잘못을 깊게 반성하고 있습니다. 또한 김새론씨는 이로 인해 피해와 불편함을 겪은 많은 분들과 파손된 공공시설의 복구를 위해 애쓰시는 모든 분들께 진심으로 사죄의 마음을 전하고, 피해 복구를 위해 최선을 다할 것임을 약속했습니다.\n",
      "\n",
      "25.\n",
      "\n",
      "26.김새론씨는 어제(18일) 채혈 검사 후 귀가 조치 되었으며, 이후 경찰 조사에도 성실하게 임할 예정입니다.\n",
      "\n",
      "27.\n",
      "\n",
      "28.당사 역시 이와 같은 사건이 발생한 점에 대해 책임을 깊이 통감하고 있습니다. 이 일로 불편을 겪으신 모든 분들께 다시 한 번 사과드립니다. 앞으로 소통하며 적극적으로 해결해 나가도록 최선을 다하겠습니다.\n",
      "\n",
      "29.\n",
      "\n",
      "30.당사는 이러한 일이 일어나지 않도록 더욱 아티스트 관리에 신중을 기하도록 노력하겠습니다. 다시 한 번 심려를 끼쳐드려 죄송합니다.\n",
      "\n",
      "31.\n",
      "\n",
      "32.이경호 기자 sky@mtstarnews.com\n",
      "\n",
      "33.이경호 기자 (sky@mtstarnews.com)\n"
     ]
    }
   ],
   "source": [
    "# 반목문을 이용해 한줄 씩 읽을 경우 - rt 모드로 연결한 객체(TextIOWrapper) 가 iterable => 직접 for in 문의 in 자리에 넣을 수 있다\n",
    "with open('text_data/news.txt','rt') as fi:\n",
    "    for In, text in enumerate(fi,start=1):\n",
    "        print(f'{In}.{text}')\n",
    "        \n",
    "        "
   ]
  },
  {
   "cell_type": "code",
   "execution_count": 50,
   "id": "f465dc96",
   "metadata": {},
   "outputs": [
    {
     "name": "stdout",
     "output_type": "stream",
     "text": [
      "배우 김새론이 음주운전 혐의로 입건된 후 입장을 밝혔다.\n",
      "\n"
     ]
    }
   ],
   "source": [
    "with open('text_data/news.txt','rt') as fi:\n",
    "    print(fi.readline()) # 한줄만 읽는다."
   ]
  },
  {
   "cell_type": "code",
   "execution_count": null,
   "id": "0410e163",
   "metadata": {},
   "outputs": [],
   "source": [
    "# read() fi를 반복문"
   ]
  },
  {
   "cell_type": "markdown",
   "id": "2617e6cd",
   "metadata": {},
   "source": [
    "### binary file 입출력 \n",
    "- text파일을 제외한 나머지.\n",
    "- 모드: 목적+데이터형식(b) -rb, wb\n",
    "- 메소드: write(), read()"
   ]
  },
  {
   "cell_type": "code",
   "execution_count": 53,
   "id": "5c18ac4f",
   "metadata": {},
   "outputs": [
    {
     "name": "stdout",
     "output_type": "stream",
     "text": [
      "<class 'bytes'>\n"
     ]
    }
   ],
   "source": [
    "# img.jpg을 복사 (읽은 뒤에 다시쓰기- 다른 파일명)\n",
    "try:\n",
    "    fi = open('img.jpg','rb')\n",
    "    img = fi.read()\n",
    "    print(type(img))\n",
    "finally:\n",
    "    fi.close()"
   ]
  },
  {
   "cell_type": "code",
   "execution_count": 54,
   "id": "9a7aaa06",
   "metadata": {},
   "outputs": [],
   "source": [
    "try:\n",
    "    fo = open('img2.jpg', 'wb')\n",
    "    fo.write(img)\n",
    "    \n",
    "finally:\n",
    "    fo.close()"
   ]
  },
  {
   "cell_type": "code",
   "execution_count": null,
   "id": "9199f85f",
   "metadata": {},
   "outputs": [],
   "source": [
    "# fi = open('img.jpg','rb')\n",
    "# fo = open('img2.jpg', 'wb')\n",
    "# img = fi.read()\n",
    "# fo.write(img)"
   ]
  },
  {
   "cell_type": "code",
   "execution_count": 56,
   "id": "f32fdae0",
   "metadata": {},
   "outputs": [],
   "source": [
    "with open('img.jpg','rb') as fi:\n",
    "    with open('img3.jpg', 'wb') as fo:\n",
    "        img = fi.read()\n",
    "        fo.write(img)"
   ]
  },
  {
   "cell_type": "markdown",
   "id": "247cc65b",
   "metadata": {},
   "source": [
    "# pickle\n",
    "- 파이썬 객체(모든 종류의 값)을 binay로 입출력할 때 사용하는 모듈"
   ]
  },
  {
   "cell_type": "code",
   "execution_count": 74,
   "id": "aecab561",
   "metadata": {},
   "outputs": [],
   "source": [
    "class Item:\n",
    "    def __init__(self, name, price):\n",
    "        self.name, self.price = name, price\n",
    "        \n",
    "    def __str__(self):\n",
    "        return f'Type:{type(self)}, name: {self.name}, price: {self.price}'"
   ]
  },
  {
   "cell_type": "code",
   "execution_count": 75,
   "id": "35c28732",
   "metadata": {},
   "outputs": [],
   "source": [
    "import pickle      # 피클 모듈을 import\n",
    "\n",
    "# data = ['abc','가나다', True, 1000, -43, 30.54]\n",
    "# data = 309\n",
    "# data = {'가','나','다'}\n",
    "data = Item('Tv',35555)\n",
    "# 리스트 객체를 파일에 저장\n",
    "with open('list.pkl', 'wb') as fo:\n",
    "    pickle.dump(data, fo)"
   ]
  },
  {
   "cell_type": "code",
   "execution_count": 76,
   "id": "4ae5945b",
   "metadata": {},
   "outputs": [],
   "source": [
    "# 피클로 저장한 데이터(리스트)를 읽기\n",
    "with open('list.pkl', 'rb') as fi:\n",
    "    read_list = pickle.load(fi)"
   ]
  },
  {
   "cell_type": "code",
   "execution_count": 77,
   "id": "bca8c51d",
   "metadata": {},
   "outputs": [
    {
     "name": "stdout",
     "output_type": "stream",
     "text": [
      "Type:<class '__main__.Item'>, name: Tv, price: 35555\n"
     ]
    },
    {
     "data": {
      "text/plain": [
       "__main__.Item"
      ]
     },
     "execution_count": 77,
     "metadata": {},
     "output_type": "execute_result"
    }
   ],
   "source": [
    "print(read_list)\n",
    "type(read_list)"
   ]
  },
  {
   "cell_type": "code",
   "execution_count": null,
   "id": "aada13c7",
   "metadata": {},
   "outputs": [],
   "source": [
    "TODO - 간단한 메모장\n",
    "사용자로부터 파일명을 입력받는다.\n",
    "사용자로 부터 파일에 저장할 문장을 입력받아서 파일에 저장한다.\n",
    "사용자가 !q 를 입력하면 종료한다.\n",
    "사용자가 저장한 파일을 읽어서 출력한다."
   ]
  },
  {
   "cell_type": "code",
   "execution_count": 39,
   "id": "51186801",
   "metadata": {},
   "outputs": [
    {
     "name": "stdout",
     "output_type": "stream",
     "text": [
      "파일명:asfas\n",
      "저장할문장:asfa\n",
      "저장할문장:asf\n",
      "저장할문장:asdaf\n",
      "저장할문장:asfa\n",
      "저장할문장:!q\n",
      "asfa\n",
      "asf\n",
      "asdaf\n",
      "asfa\n",
      "\n"
     ]
    }
   ],
   "source": [
    "title = str(input(\"파일명:\"))+'.txt'\n",
    "with open(title,'at') as fw:\n",
    "    while 1:\n",
    "        a = input('저장할문장:')\n",
    "        if a == '!q':\n",
    "            break\n",
    "        else:\n",
    "            fw.write(a+'\\n')\n",
    "with open(title,'rt') as fr:\n",
    "    b = fr.read()\n",
    "    print(b)"
   ]
  },
  {
   "cell_type": "markdown",
   "id": "936e3cf7",
   "metadata": {},
   "source": [
    "## CSV(Comma Separated Value) 파일 형식\n",
    "- 데이터를 **표형태**로 **텍스트파일**에 저장하기 위한 문서형식\n",
    "- 하나의 데이터는 한줄에 작성 (엔터:데이터값 구분자)\n",
    "- 하나의 데이터를 구성하는 속성값들은 `,`로 구분\n",
    "    - tab으로 구분(TSV)"
   ]
  },
  {
   "cell_type": "code",
   "execution_count": null,
   "id": "81d962b9",
   "metadata": {},
   "outputs": [],
   "source": [
    "TODO - csv 파일을 읽어서 각 열의 값을 배열에 담는다.\n",
    "이름,나이,주소  형태의 csv를 읽어\n",
    "names = []\n",
    "ages =[]\n",
    "address =[]\n",
    "리스트에 넣는다. 라인이 index가 된다. "
   ]
  },
  {
   "cell_type": "code",
   "execution_count": 11,
   "id": "1d49d4eb",
   "metadata": {},
   "outputs": [
    {
     "name": "stdout",
     "output_type": "stream",
     "text": [
      "name,age,address\n",
      "김영수,20,서울\n",
      "박영희,21,서울\n",
      "오민수,30,부산\n",
      "최정길,15,인천\n",
      "이명수,22,광주\n",
      "이철수,17,대전\n",
      "\n"
     ]
    }
   ],
   "source": [
    "with open('member.csv', 'rt') as fi:\n",
    "    csv_list = fi.read()\n",
    "    print(csv_list)\n",
    "#     a = csv_list.replace('\\n',',')\n",
    "#     b = a.split(',')\n",
    "#     del b[-1]\n",
    "#     names = b[3::3]\n",
    "#     ages = b[4::3]\n",
    "#     address = b[5::3]\n",
    "#     print(names)\n",
    "#     print(ages)\n",
    "#     print(address)"
   ]
  },
  {
   "cell_type": "code",
   "execution_count": 4,
   "id": "0b86ad83",
   "metadata": {},
   "outputs": [
    {
     "name": "stdout",
     "output_type": "stream",
     "text": [
      "['김영수', '박영희', '오민수', '최정길', '이명수', '이철수']\n",
      "['20', '21', '30', '15', '22', '17']\n",
      "['서울', '서울', '부산', '인천', '광주', '대전']\n"
     ]
    }
   ],
   "source": [
    "names = []\n",
    "ages = []\n",
    "addresses = []\n",
    "with open('member.csv','rt') as fi:\n",
    "    for idx, line in enumerate(fi):\n",
    "        if idx ==0:\n",
    "            continue\n",
    "        tmp = line.split(',')\n",
    "#         print(tmp)\n",
    "        names.append(tmp[0])\n",
    "        ages.append(tmp[1])\n",
    "        addresses.append(tmp[2].rstrip())\n",
    "    print(names)\n",
    "    print(ages)\n",
    "    print(addresses)"
   ]
  },
  {
   "cell_type": "code",
   "execution_count": 5,
   "id": "6b9acf81",
   "metadata": {},
   "outputs": [],
   "source": [
    "# names, ages, aaresses => member_2.csv 파일에 csv형식으로 저장(zip())"
   ]
  },
  {
   "cell_type": "code",
   "execution_count": 37,
   "id": "98788fbe",
   "metadata": {},
   "outputs": [],
   "source": [
    "a = zip(names,ages,addresses)"
   ]
  },
  {
   "cell_type": "code",
   "execution_count": 38,
   "id": "bcacf2df",
   "metadata": {},
   "outputs": [
    {
     "name": "stdout",
     "output_type": "stream",
     "text": [
      "[('김영수', '20', '서울'), ('박영희', '21', '서울'), ('오민수', '30', '부산'), ('최정길', '15', '인천'), ('이명수', '22', '광주'), ('이철수', '17', '대전')]\n"
     ]
    }
   ],
   "source": [
    "print(list(a))"
   ]
  },
  {
   "cell_type": "code",
   "execution_count": 36,
   "id": "e85d490c",
   "metadata": {},
   "outputs": [
    {
     "name": "stdout",
     "output_type": "stream",
     "text": [
      "김영수,20,서울\n",
      "\n",
      "박영희,21,서울\n",
      "\n",
      "오민수,30,부산\n",
      "\n",
      "최정길,15,인천\n",
      "\n",
      "이명수,22,광주\n",
      "\n",
      "이철수,17,대전\n",
      "\n"
     ]
    }
   ],
   "source": [
    "with open(\"member_2.csv\",'wt') as fw:\n",
    "    c = 'names,ages,addresses\\n'\n",
    "    a = zip(names,ages,addresses)\n",
    "    for i in a:\n",
    "        b = f'{i[0]},{i[1]},{i[2]}\\n'\n",
    "        print(b)\n",
    "#         title = 'names,ages,addresses\\n'\n",
    "#         c=title\n",
    "        c=c+b\n",
    "    fw.write(c)\n",
    "# print(list(a))"
   ]
  },
  {
   "cell_type": "code",
   "execution_count": 12,
   "id": "9ec8ade7",
   "metadata": {},
   "outputs": [
    {
     "ename": "ValueError",
     "evalue": "too many values to unpack (expected 3)",
     "output_type": "error",
     "traceback": [
      "\u001b[0;31m---------------------------------------------------------------------------\u001b[0m",
      "\u001b[0;31mValueError\u001b[0m                                Traceback (most recent call last)",
      "Input \u001b[0;32mIn [12]\u001b[0m, in \u001b[0;36m<cell line: 1>\u001b[0;34m()\u001b[0m\n\u001b[0;32m----> 1\u001b[0m \u001b[38;5;28;01mfor\u001b[39;00m i, i2, i3 \u001b[38;5;129;01min\u001b[39;00m names,ages,addresses:\n\u001b[1;32m      2\u001b[0m     a\u001b[38;5;241m=\u001b[39m \u001b[38;5;124mf\u001b[39m\u001b[38;5;124m'\u001b[39m\u001b[38;5;132;01m{\u001b[39;00mi\u001b[38;5;132;01m}\u001b[39;00m\u001b[38;5;124m, \u001b[39m\u001b[38;5;132;01m{\u001b[39;00mi2\u001b[38;5;132;01m}\u001b[39;00m\u001b[38;5;124m, \u001b[39m\u001b[38;5;132;01m{\u001b[39;00mi3\u001b[38;5;132;01m}\u001b[39;00m\u001b[38;5;130;01m\\n\u001b[39;00m\u001b[38;5;124m'\u001b[39m\n\u001b[1;32m      3\u001b[0m     \u001b[38;5;28mprint\u001b[39m(a)\n",
      "\u001b[0;31mValueError\u001b[0m: too many values to unpack (expected 3)"
     ]
    }
   ],
   "source": [
    "for i, i2, i3 in names,ages,addresses:\n",
    "    a= f'{i}, {i2}, {i3}\\n'\n",
    "    print(a)"
   ]
  },
  {
   "cell_type": "code",
   "execution_count": 39,
   "id": "59d1f4cd",
   "metadata": {},
   "outputs": [
    {
     "data": {
      "text/html": [
       "<div>\n",
       "<style scoped>\n",
       "    .dataframe tbody tr th:only-of-type {\n",
       "        vertical-align: middle;\n",
       "    }\n",
       "\n",
       "    .dataframe tbody tr th {\n",
       "        vertical-align: top;\n",
       "    }\n",
       "\n",
       "    .dataframe thead th {\n",
       "        text-align: right;\n",
       "    }\n",
       "</style>\n",
       "<table border=\"1\" class=\"dataframe\">\n",
       "  <thead>\n",
       "    <tr style=\"text-align: right;\">\n",
       "      <th></th>\n",
       "      <th>names</th>\n",
       "      <th>ages</th>\n",
       "      <th>addresses</th>\n",
       "    </tr>\n",
       "  </thead>\n",
       "  <tbody>\n",
       "    <tr>\n",
       "      <th>0</th>\n",
       "      <td>김영수</td>\n",
       "      <td>20</td>\n",
       "      <td>서울</td>\n",
       "    </tr>\n",
       "    <tr>\n",
       "      <th>1</th>\n",
       "      <td>박영희</td>\n",
       "      <td>21</td>\n",
       "      <td>서울</td>\n",
       "    </tr>\n",
       "    <tr>\n",
       "      <th>2</th>\n",
       "      <td>오민수</td>\n",
       "      <td>30</td>\n",
       "      <td>부산</td>\n",
       "    </tr>\n",
       "    <tr>\n",
       "      <th>3</th>\n",
       "      <td>최정길</td>\n",
       "      <td>15</td>\n",
       "      <td>인천</td>\n",
       "    </tr>\n",
       "    <tr>\n",
       "      <th>4</th>\n",
       "      <td>이명수</td>\n",
       "      <td>22</td>\n",
       "      <td>광주</td>\n",
       "    </tr>\n",
       "    <tr>\n",
       "      <th>5</th>\n",
       "      <td>이철수</td>\n",
       "      <td>17</td>\n",
       "      <td>대전</td>\n",
       "    </tr>\n",
       "  </tbody>\n",
       "</table>\n",
       "</div>"
      ],
      "text/plain": [
       "  names  ages addresses\n",
       "0   김영수    20        서울\n",
       "1   박영희    21        서울\n",
       "2   오민수    30        부산\n",
       "3   최정길    15        인천\n",
       "4   이명수    22        광주\n",
       "5   이철수    17        대전"
      ]
     },
     "execution_count": 39,
     "metadata": {},
     "output_type": "execute_result"
    }
   ],
   "source": [
    "import pandas as pd\n",
    "\n",
    "df = pd.read_csv('member_2.csv')\n",
    "df"
   ]
  },
  {
   "cell_type": "code",
   "execution_count": 40,
   "id": "f13931d3",
   "metadata": {},
   "outputs": [
    {
     "data": {
      "text/plain": [
       "0    김영수\n",
       "1    박영희\n",
       "2    오민수\n",
       "3    최정길\n",
       "4    이명수\n",
       "5    이철수\n",
       "Name: names, dtype: object"
      ]
     },
     "execution_count": 40,
     "metadata": {},
     "output_type": "execute_result"
    }
   ],
   "source": [
    "df['names']"
   ]
  },
  {
   "cell_type": "code",
   "execution_count": 41,
   "id": "229f0672",
   "metadata": {},
   "outputs": [
    {
     "data": {
      "text/plain": [
       "0    20\n",
       "1    21\n",
       "2    30\n",
       "3    15\n",
       "4    22\n",
       "5    17\n",
       "Name: ages, dtype: int64"
      ]
     },
     "execution_count": 41,
     "metadata": {},
     "output_type": "execute_result"
    }
   ],
   "source": [
    "df['ages']"
   ]
  },
  {
   "cell_type": "code",
   "execution_count": 42,
   "id": "6b55d528",
   "metadata": {},
   "outputs": [],
   "source": [
    "df.to_csv('member_3.csv', index=False)"
   ]
  },
  {
   "cell_type": "code",
   "execution_count": null,
   "id": "8d28f518",
   "metadata": {},
   "outputs": [],
   "source": []
  }
 ],
 "metadata": {
  "kernelspec": {
   "display_name": "Python 3 (ipykernel)",
   "language": "python",
   "name": "python3"
  },
  "language_info": {
   "codemirror_mode": {
    "name": "ipython",
    "version": 3
   },
   "file_extension": ".py",
   "mimetype": "text/x-python",
   "name": "python",
   "nbconvert_exporter": "python",
   "pygments_lexer": "ipython3",
   "version": "3.9.12"
  }
 },
 "nbformat": 4,
 "nbformat_minor": 5
}
