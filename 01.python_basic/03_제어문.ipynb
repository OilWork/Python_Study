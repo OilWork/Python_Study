{
 "cells": [
  {
   "cell_type": "markdown",
   "id": "f7b3144a",
   "metadata": {},
   "source": [
    "# 제어문\n",
    "    - code의 흐름을 제어하는 구문\n",
    "   "
   ]
  },
  {
   "cell_type": "markdown",
   "id": "8755c0b6",
   "metadata": {},
   "source": [
    "# 조건문 (분기문)"
   ]
  },
  {
   "cell_type": "code",
   "execution_count": 49,
   "id": "db610657",
   "metadata": {},
   "outputs": [
    {
     "name": "stdout",
     "output_type": "stream",
     "text": [
      "정수:d\n"
     ]
    },
    {
     "ename": "ValueError",
     "evalue": "invalid literal for int() with base 10: 'd'",
     "output_type": "error",
     "traceback": [
      "\u001b[0;31m---------------------------------------------------------------------------\u001b[0m",
      "\u001b[0;31mValueError\u001b[0m                                Traceback (most recent call last)",
      "\u001b[0;32m/var/folders/vb/37p998ys4bv1nrwzplsk62nw0000gn/T/ipykernel_11395/852896310.py\u001b[0m in \u001b[0;36m<module>\u001b[0;34m\u001b[0m\n\u001b[0;32m----> 1\u001b[0;31m \u001b[0mnum\u001b[0m \u001b[0;34m=\u001b[0m \u001b[0mint\u001b[0m\u001b[0;34m(\u001b[0m\u001b[0minput\u001b[0m\u001b[0;34m(\u001b[0m\u001b[0;34m\"정수:\"\u001b[0m\u001b[0;34m)\u001b[0m\u001b[0;34m)\u001b[0m\u001b[0;34m\u001b[0m\u001b[0;34m\u001b[0m\u001b[0m\n\u001b[0m\u001b[1;32m      2\u001b[0m \u001b[0;32mif\u001b[0m \u001b[0mnum\u001b[0m\u001b[0;34m==\u001b[0m\u001b[0;36m0\u001b[0m\u001b[0;34m:\u001b[0m\u001b[0;34m\u001b[0m\u001b[0;34m\u001b[0m\u001b[0m\n\u001b[1;32m      3\u001b[0m     \u001b[0mprint\u001b[0m\u001b[0;34m(\u001b[0m\u001b[0;34m\"0입니다\"\u001b[0m\u001b[0;34m)\u001b[0m\u001b[0;34m\u001b[0m\u001b[0;34m\u001b[0m\u001b[0m\n\u001b[1;32m      4\u001b[0m \u001b[0;32melif\u001b[0m \u001b[0mnum\u001b[0m \u001b[0;34m>\u001b[0m \u001b[0;36m0\u001b[0m\u001b[0;34m:\u001b[0m\u001b[0;34m\u001b[0m\u001b[0;34m\u001b[0m\u001b[0m\n\u001b[1;32m      5\u001b[0m     \u001b[0mprint\u001b[0m\u001b[0;34m(\u001b[0m\u001b[0;34m'양수입니다'\u001b[0m\u001b[0;34m)\u001b[0m\u001b[0;34m\u001b[0m\u001b[0;34m\u001b[0m\u001b[0m\n",
      "\u001b[0;31mValueError\u001b[0m: invalid literal for int() with base 10: 'd'"
     ]
    }
   ],
   "source": [
    "num = int(input(\"정수:\"))\n",
    "if num==0:\n",
    "    print(\"0입니다\")\n",
    "elif num > 0:\n",
    "    print('양수입니다')\n",
    "    print(f'입력한 숫자는 {num}입니다.')\n",
    "elif num < 0:\n",
    "    print('음수입니다')\n",
    "    print(f'입력한 숫자는 {num}입니다.')\n",
    "print('종료합니다')"
   ]
  },
  {
   "cell_type": "code",
   "execution_count": null,
   "id": "84c26431",
   "metadata": {},
   "outputs": [],
   "source": [
    "# num이 0이상이면 \"양수입니다.\"를 출력하고 100 초과이면 \"100보다 큽니다.\"출력\n",
    "if num >= 0:\n",
    "    print('양수입니다.')\n",
    "    if num > 100:\n",
    "        print('100보다 큽니다')"
   ]
  },
  {
   "cell_type": "markdown",
   "id": "8d559e43",
   "metadata": {},
   "source": [
    "## 반복문\n",
    "### while문\n",
    "- 조건이 True일때 계속 반복"
   ]
  },
  {
   "cell_type": "code",
   "execution_count": null,
   "id": "bb5c4b01",
   "metadata": {},
   "outputs": [],
   "source": [
    "limit = int(input('반복횟수:'))\n",
    "count = 0\n",
    "while count < limit:\n",
    "    count = count + 1\n",
    "    print(count)\n",
    "print('완료')"
   ]
  },
  {
   "cell_type": "markdown",
   "id": "1c258e11",
   "metadata": {},
   "source": [
    "### for문\n",
    "- iterable(자료구조, 문자열 등)이 가지고 있는 값을 순환조회할때 사용"
   ]
  },
  {
   "cell_type": "code",
   "execution_count": null,
   "id": "7877b8f5",
   "metadata": {},
   "outputs": [],
   "source": [
    "# for 변수 in iterable:\n",
    "# for in 구문은 iterable의 원소를 하나씩 처리하는 코드\n"
   ]
  },
  {
   "cell_type": "code",
   "execution_count": null,
   "id": "84b25b00",
   "metadata": {},
   "outputs": [],
   "source": [
    "for v in (10, 20, 30, 40):\n",
    " #   print(v)\n",
    "    print(v, end=',')\n",
    "print('종료')"
   ]
  },
  {
   "cell_type": "code",
   "execution_count": null,
   "id": "9386ebc6",
   "metadata": {},
   "outputs": [],
   "source": [
    "for v in {1,2,3,4,4,4,2,2,3,2,1,}:\n",
    "    print(v)\n",
    "print('종료')"
   ]
  },
  {
   "cell_type": "code",
   "execution_count": null,
   "id": "550c5862",
   "metadata": {},
   "outputs": [],
   "source": [
    "for v in dict(name='홍길동', age=20, address='서울'):\n",
    "    print(v)"
   ]
  },
  {
   "cell_type": "markdown",
   "id": "96043859",
   "metadata": {},
   "source": [
    "## continue, break\n",
    "- continue : 다음 반복을 실행해라\n",
    "- break : 반복을 멈춰라"
   ]
  },
  {
   "cell_type": "code",
   "execution_count": null,
   "id": "248757aa",
   "metadata": {},
   "outputs": [],
   "source": [
    "while True:\n",
    "    a=input()\n",
    "    print('입력한 문자열 :', a)\n",
    "    if a == 'q!':\n",
    "        break\n"
   ]
  },
  {
   "cell_type": "markdown",
   "id": "431f8882",
   "metadata": {},
   "source": [
    "## for in 문 관련 함수\n",
    "- range()\n",
    "    - 특정값만큼 증감하는 연속된 숫자를 제공하는 iterable타입을 생성"
   ]
  },
  {
   "cell_type": "code",
   "execution_count": null,
   "id": "1d4236a6",
   "metadata": {},
   "outputs": [],
   "source": [
    "#range(시작숫자, 끝숫자, 증감체)\n",
    "#생성된 값이 필요할 때 제공\n",
    "a=range(10, 100, 10)\n",
    "for i in a:\n",
    "    print(i)"
   ]
  },
  {
   "cell_type": "code",
   "execution_count": 54,
   "id": "09dba155",
   "metadata": {},
   "outputs": [
    {
     "data": {
      "text/plain": [
       "[0, 1, 2, 3, 4, 5, 6]"
      ]
     },
     "execution_count": 54,
     "metadata": {},
     "output_type": "execute_result"
    }
   ],
   "source": [
    "list(range(7))"
   ]
  },
  {
   "cell_type": "code",
   "execution_count": 57,
   "id": "672cddc9",
   "metadata": {},
   "outputs": [
    {
     "name": "stdout",
     "output_type": "stream",
     "text": [
      "absf\n",
      "absf\n",
      "absf\n",
      "absf\n",
      "absf\n",
      "absf\n",
      "absf\n",
      "absf\n",
      "absf\n",
      "absf\n"
     ]
    }
   ],
   "source": [
    "for _ in range(10):\n",
    "    print('absf')"
   ]
  },
  {
   "cell_type": "markdown",
   "id": "9c90a778",
   "metadata": {},
   "source": [
    "- enumerate()\n",
    "    - 튜플로 (몇번째반복, 값) 묶어서 반환"
   ]
  },
  {
   "cell_type": "code",
   "execution_count": 60,
   "id": "05e03123",
   "metadata": {},
   "outputs": [
    {
     "name": "stdout",
     "output_type": "stream",
     "text": [
      "(0, 5)\n",
      "(1, 7)\n",
      "(2, 4)\n",
      "(3, 6)\n",
      "(4, 10)\n",
      "(5, 141)\n"
     ]
    }
   ],
   "source": [
    "lst=[5,7,4,6,10,141]\n",
    "for i in enumerate(lst):\n",
    "    print(i)"
   ]
  },
  {
   "cell_type": "code",
   "execution_count": 68,
   "id": "be2d3dc3",
   "metadata": {},
   "outputs": [
    {
     "name": "stdout",
     "output_type": "stream",
     "text": [
      "(1, 5) 순번:1,값:5\n",
      "(2, 7) 순번:2,값:7\n",
      "(3, 4) 순번:3,값:4\n",
      "(4, 6) 순번:4,값:6\n",
      "(5, 10) 순번:5,값:10\n",
      "(6, 141) 순번:6,값:141\n"
     ]
    }
   ],
   "source": [
    "for i in enumerate(lst, start=1):\n",
    "    print(i,f'순번:{i[0]},값:{i[1]}')"
   ]
  },
  {
   "cell_type": "code",
   "execution_count": 65,
   "id": "29359d93",
   "metadata": {},
   "outputs": [
    {
     "name": "stdout",
     "output_type": "stream",
     "text": [
      "1.5\n",
      "2.7\n",
      "3.4\n",
      "4.6\n",
      "5.10\n",
      "6.141\n"
     ]
    }
   ],
   "source": [
    "for idx, value in enumerate(lst, start=1):\n",
    "    print(f\"{idx}.{value}\")"
   ]
  },
  {
   "cell_type": "markdown",
   "id": "e907190e",
   "metadata": {},
   "source": [
    "- zip (자료구조1, 자료구조2,...) : 같은 index의 값들을 묶어서 반환"
   ]
  },
  {
   "cell_type": "code",
   "execution_count": 116,
   "id": "a932beeb",
   "metadata": {},
   "outputs": [],
   "source": [
    "names = ['홍길동', '이순신', '강감찬']\n",
    "ages = [10,20,30]\n",
    "address = ['서울', '인천', '수원']"
   ]
  },
  {
   "cell_type": "code",
   "execution_count": 117,
   "id": "888944f0",
   "metadata": {},
   "outputs": [
    {
     "name": "stdout",
     "output_type": "stream",
     "text": [
      "('홍길동', 10, '서울')\n",
      "('이순신', 20, '인천')\n",
      "('강감찬', 30, '수원')\n"
     ]
    }
   ],
   "source": [
    "for i in zip(names, ages, address):\n",
    "    print(i)"
   ]
  },
  {
   "cell_type": "code",
   "execution_count": 118,
   "id": "a7decb7e",
   "metadata": {},
   "outputs": [
    {
     "name": "stdout",
     "output_type": "stream",
     "text": [
      "홍길동 10 서울\n",
      "이순신 20 인천\n",
      "강감찬 30 수원\n"
     ]
    }
   ],
   "source": [
    "for names, ages, address in zip(names, ages, address):\n",
    "    print(names, ages, address)"
   ]
  },
  {
   "cell_type": "markdown",
   "id": "c386fab4",
   "metadata": {},
   "source": [
    "## 컴프리헨션"
   ]
  },
  {
   "cell_type": "code",
   "execution_count": 90,
   "id": "13dd0479",
   "metadata": {},
   "outputs": [
    {
     "name": "stdout",
     "output_type": "stream",
     "text": [
      "(1, 2, 3)\n"
     ]
    }
   ],
   "source": [
    "a=(1,2,3)\n",
    "print(a)"
   ]
  },
  {
   "cell_type": "code",
   "execution_count": 92,
   "id": "f7f45c33",
   "metadata": {},
   "outputs": [
    {
     "name": "stdout",
     "output_type": "stream",
     "text": [
      "[5, 10, 15, 20, 25]\n"
     ]
    }
   ],
   "source": [
    "l1=[1,2,3,4,5]\n",
    "#l1의 원소들을 5배한 값들로 구성된 리스트를 생성\n",
    "new_list=[]\n",
    "for i in l1:\n",
    "    new_list.append(i*5)\n",
    "    \n",
    "print(new_list)"
   ]
  },
  {
   "cell_type": "code",
   "execution_count": 96,
   "id": "8b84f54d",
   "metadata": {},
   "outputs": [],
   "source": [
    "new_list2 = [i*5 for i in l1] # 리스트 컴프리헨션"
   ]
  },
  {
   "cell_type": "code",
   "execution_count": 97,
   "id": "962a13d5",
   "metadata": {},
   "outputs": [
    {
     "name": "stdout",
     "output_type": "stream",
     "text": [
      "[5, 10, 15, 20, 25]\n"
     ]
    }
   ],
   "source": [
    "print(new_list2)"
   ]
  },
  {
   "cell_type": "code",
   "execution_count": 99,
   "id": "a71ad823",
   "metadata": {},
   "outputs": [
    {
     "name": "stdout",
     "output_type": "stream",
     "text": [
      "{5, 10, 15, 20, 25}\n"
     ]
    }
   ],
   "source": [
    "new_set={i*5 for i in l1} #셋 컴프리헨션\n",
    "print(new_set)"
   ]
  },
  {
   "cell_type": "code",
   "execution_count": 107,
   "id": "40f89e45",
   "metadata": {},
   "outputs": [
    {
     "name": "stdout",
     "output_type": "stream",
     "text": [
      "{100: 1, 101: 2, 102: 3, 103: 4, 104: 5}\n"
     ]
    }
   ],
   "source": [
    "new_dict = {key:value for key, value in enumerate(l1, start=100)}\n",
    "print(new_dict) #딕셔너리 컴프리헨션"
   ]
  },
  {
   "cell_type": "code",
   "execution_count": 109,
   "id": "4623b499",
   "metadata": {},
   "outputs": [
    {
     "name": "stdout",
     "output_type": "stream",
     "text": [
      "100 1\n",
      "101 2\n",
      "102 3\n",
      "103 4\n",
      "104 5\n"
     ]
    }
   ],
   "source": [
    "for i,v in enumerate(l1, start=100):\n",
    "    print(i,v)"
   ]
  },
  {
   "cell_type": "code",
   "execution_count": 119,
   "id": "82ce7dce",
   "metadata": {},
   "outputs": [
    {
     "name": "stdout",
     "output_type": "stream",
     "text": [
      "홍길동 20 서울\n"
     ]
    }
   ],
   "source": [
    "print('홍길동', 20, '서울')"
   ]
  },
  {
   "cell_type": "code",
   "execution_count": 124,
   "id": "55aa9828",
   "metadata": {},
   "outputs": [
    {
     "name": "stdout",
     "output_type": "stream",
     "text": [
      "['A', 'B', 'C', 'ABC']\n"
     ]
    }
   ],
   "source": [
    "s = ['a','b','c','abc']\n",
    "s2=[i.upper() for i in s]\n",
    "print(s2)"
   ]
  },
  {
   "cell_type": "code",
   "execution_count": 125,
   "id": "ac255a77",
   "metadata": {},
   "outputs": [
    {
     "data": {
      "text/plain": [
       "{1: 'a', 2: 'b', 3: 'c', 4: 'abc'}"
      ]
     },
     "execution_count": 125,
     "metadata": {},
     "output_type": "execute_result"
    }
   ],
   "source": [
    "s3={key:value for key,value in enumerate(s, start=1)}\n",
    "s3"
   ]
  },
  {
   "cell_type": "code",
   "execution_count": 132,
   "id": "bfb92b26",
   "metadata": {},
   "outputs": [
    {
     "name": "stdout",
     "output_type": "stream",
     "text": [
      "['A', 'B', 'C', 'G']\n"
     ]
    }
   ],
   "source": [
    "s = ['a','b','c','abc','def','g','ak','tdg']\n",
    "# s의 원소중 글자수가 1글자인 원소만 소문자를 대문자로 바꾼 값을 가진 배열\n",
    "s2=[]\n",
    "for v in s:\n",
    "    if len(v)==1:\n",
    "        s2.append(v.upper())\n",
    "print(s2)"
   ]
  },
  {
   "cell_type": "code",
   "execution_count": 133,
   "id": "489d1d3e",
   "metadata": {},
   "outputs": [
    {
     "data": {
      "text/plain": [
       "['A', 'B', 'C', 'G']"
      ]
     },
     "execution_count": 133,
     "metadata": {},
     "output_type": "execute_result"
    }
   ],
   "source": [
    "[v.upper() for v in s if len(v)==1]"
   ]
  },
  {
   "cell_type": "code",
   "execution_count": null,
   "id": "119c89db",
   "metadata": {},
   "outputs": [],
   "source": [
    "# 자료구조 내부 원소를 수정해서 새로 만드는것은 mapping, 자료구조 내부 원소중 조건을 충족하는것만 뽑아 만드는것은 filtering"
   ]
  },
  {
   "cell_type": "code",
   "execution_count": null,
   "id": "9e8eeb9a",
   "metadata": {},
   "outputs": [],
   "source": [
    "#(1) 다음 점수 구간에 맞게 학점을 출력하세요.\n",
    "# 91 ~ 100 : A학점\n",
    "# 81 ~ 90 :  B학점\n",
    "# 71 ~ 80 :  C학점\n",
    "# 61 ~ 70 :  D학점\n",
    "# 60이하   :  F학점"
   ]
  },
  {
   "cell_type": "code",
   "execution_count": 200,
   "id": "feb64ee3",
   "metadata": {},
   "outputs": [
    {
     "name": "stdout",
     "output_type": "stream",
     "text": [
      "id입력:도291ㄹ1ㅜ1\n",
      "사용 할 수 있습니다\n"
     ]
    }
   ],
   "source": [
    "#(2) 사용자로 부터 ID를 입력 받은 뒤 입력받은 ID가 5글자 이상이면 \"사용할 수 있습니다.\"를 5글자 미만이면 \"사용할 수 없는 ID입니다.\"를 출력하세요.\n",
    "a2=input('id입력:')\n",
    "if len(a2)<5:\n",
    "    print('사용할 수 없는 id입니다.')\n",
    "else:\n",
    "    print('사용 할 수 있습니다')"
   ]
  },
  {
   "cell_type": "code",
   "execution_count": 139,
   "id": "b40305ea",
   "metadata": {},
   "outputs": [
    {
     "name": "stdout",
     "output_type": "stream",
     "text": [
      "도시명:인천\n",
      "광역시\n"
     ]
    }
   ],
   "source": [
    "#(3) 사용자로부터 우리나라 도시명을 입력 받은 뒤 입력받은 도시명이 서울이면 \"특별시\"를 인천,부산,광주,대구,대전,울산 이면 \"광역시\"를 나머지는 \"특별시나 광역시가 아닙니다.\"를 출력하세요.\n",
    "a3 = input('도시명:')\n",
    "if a3=='서울':\n",
    "    print('특별시')\n",
    "elif a3=='인천':\n",
    "    print('광역시')\n",
    "elif a3=='부산':\n",
    "    print('광역시')\n",
    "elif a3=='광주':\n",
    "    print('광역시')\n",
    "elif a3=='대구':\n",
    "    print('광역시')\n",
    "elif a3=='대전':\n",
    "    print('광역시')\n",
    "elif a3=='울산':\n",
    "    print('광역시')\n",
    "else:\n",
    "    print('특별시나 광역시가 아닙니다')"
   ]
  },
  {
   "cell_type": "code",
   "execution_count": 152,
   "id": "51348314",
   "metadata": {},
   "outputs": [
    {
     "name": "stdout",
     "output_type": "stream",
     "text": [
      "89.0\n"
     ]
    }
   ],
   "source": [
    "#(4) 아래 리스트의 평균을 구하시오. \n",
    "jumsu = [100, 90, 100, 80, 70, 100, 80, 90, 95, 85]\n",
    "z=0\n",
    "for i in jumsu:\n",
    "    z+=i\n",
    "print(z/len(jumsu))\n",
    "a4=z/len(jumsu)"
   ]
  },
  {
   "cell_type": "code",
   "execution_count": 207,
   "id": "c02d3392",
   "metadata": {},
   "outputs": [
    {
     "name": "stdout",
     "output_type": "stream",
     "text": [
      "0-pass\n",
      "1-pass\n",
      "2-pass\n",
      "3-fail\n",
      "4-fail\n",
      "5-pass\n",
      "6-fail\n",
      "7-pass\n",
      "8-pass\n",
      "9-fail\n"
     ]
    }
   ],
   "source": [
    "#(5) 위 jumsu리스트에서 평균점수이상은 pass, 미만은 fail을 index번호와 함께 출력하시오. (ex: 0-pass, 1-pass, 2-fail)\n",
    "#s3={key:value for key,value in enumerate(s, start=1)}\n",
    "#a5={str(key)+'-pass':value for key,value in enumerate(jumsu) if value>=a4}\n",
    "#a5_2={str(key)+'-fail':value for key,value in enumerate(jumsu) if value<a4}\n",
    "for idx,i in enumerate(jumsu):\n",
    "    if i>=a4:\n",
    "        print(f'{idx}-pass')\n",
    "    else:\n",
    "        print(f'{idx}-fail')"
   ]
  },
  {
   "cell_type": "code",
   "execution_count": 209,
   "id": "e85daa41",
   "metadata": {},
   "outputs": [
    {
     "name": "stdout",
     "output_type": "stream",
     "text": [
      "95\n",
      "95\n"
     ]
    }
   ],
   "source": [
    "#(6) 아래 리스트 값들 중 최대값을 조회해 출력\n",
    "jumsu = [60, 90, 80, 80, 70, 55, 80, 90, 95, 85]\n",
    "a6=0\n",
    "for i in jumsu:\n",
    "    if i>a6:\n",
    "        a6=i\n",
    "    else:\n",
    "        continue\n",
    "print(a6)\n",
    "a7=max(jumsu)\n",
    "print(a7)"
   ]
  },
  {
   "cell_type": "code",
   "execution_count": 213,
   "id": "ae602086",
   "metadata": {},
   "outputs": [
    {
     "name": "stdout",
     "output_type": "stream",
     "text": [
      "소\n",
      "호랑이\n",
      "용\n",
      "뱀\n"
     ]
    }
   ],
   "source": [
    "#(8) 다음 리스트 중에서 \"쥐\"와 \"토끼\" 제외한 나머지를 출력하세요.\n",
    "str_list = [\"쥐\", \"소\", \"호랑이\", \"토끼\", \"용\", \"뱀\"]\n",
    "for i in str_list:\n",
    "    if i in ['쥐','토끼']:\n",
    "        continue\n",
    "    else:\n",
    "        print(i)"
   ]
  },
  {
   "cell_type": "code",
   "execution_count": 172,
   "id": "c5a7477e",
   "metadata": {},
   "outputs": [
    {
     "name": "stdout",
     "output_type": "stream",
     "text": [
      "[20, 60, 140, 10, 240, 1400, 2, 70]\n"
     ]
    }
   ],
   "source": [
    " #(10) 다음 리스트가 가진 값에 두배(* 2)를 가지는 새로운 리스트를 만드시오. (리스트 컴프리헨션 이용)\n",
    "lst = [10, 30, 70, 5, 120, 700, 1, 35]\n",
    "a10=[i*2 for i in lst]\n",
    "print(a10)"
   ]
  },
  {
   "cell_type": "code",
   "execution_count": 173,
   "id": "ae9b10bf",
   "metadata": {},
   "outputs": [
    {
     "name": "stdout",
     "output_type": "stream",
     "text": [
      "[(10, 100), (30, 300), (70, 700), (5, 50), (5, 50), (120, 1200), (700, 7000), (1, 10), (35, 350), (35, 350)]\n"
     ]
    }
   ],
   "source": [
    "#컴프리헨션\n",
    "#(11) 다음 리스트가 가진 값에 10배의 값을 가지는 값을 (원래값, 10배값) 의 튜플 묶음으로 가지는 리스트를 만드시오 (리스트 컴프리헨션 이용)\n",
    "# Ex) [(10,100), (30,300), .., (35, 350)]\n",
    "lst = [10, 30, 70, 5, 5, 120, 700, 1, 35, 35]\n",
    "a11 = [(i,i*10) for i in lst]\n",
    "print(a11)"
   ]
  },
  {
   "cell_type": "code",
   "execution_count": 186,
   "id": "2c444a2d",
   "metadata": {},
   "outputs": [
    {
     "name": "stdout",
     "output_type": "stream",
     "text": [
      "[3, 33, 21, 33, 60, 120]\n"
     ]
    }
   ],
   "source": [
    "#(12) 다음 리스트가 가진 값들 중 3의 배수만 가지는 리스트를 만드시오. (리스트 컴프리헨션 이용)\n",
    "lst2 = [3, 20, 33, 21, 33, 8, 11, 10, 7, 17, 60, 120, 2]\n",
    "a12 = [i for i in lst2 if i%3 == 0]\n",
    "print(a12)"
   ]
  },
  {
   "cell_type": "code",
   "execution_count": null,
   "id": "da214641",
   "metadata": {},
   "outputs": [],
   "source": []
  },
  {
   "cell_type": "code",
   "execution_count": 181,
   "id": "8a64334b",
   "metadata": {},
   "outputs": [
    {
     "name": "stdout",
     "output_type": "stream",
     "text": [
      "['a.exe', 'function.exe', 'b.exe', 'run.exe']\n"
     ]
    }
   ],
   "source": [
    "#(13) 다음 파일이름들을 담은 리스트에서 확장자가 exe인 파일만 골라서 새로운 리스트에 담으시오.(string의 endswith()함수 이용)\n",
    "file_name=[\"test.txt\", \"a.exe\", \"jupyter.bat\", \"function.exe\", \"b.exe\", \"cat.jpg\", \"dog.png\", \"run.exe\", \"i.dll\"]\n",
    "a13 = [i for i in file_name if i.endswith('exe')==True]\n",
    "print(a13)"
   ]
  },
  {
   "cell_type": "code",
   "execution_count": 183,
   "id": "0b6559ba",
   "metadata": {},
   "outputs": [
    {
     "name": "stdout",
     "output_type": "stream",
     "text": [
      "['mystroy.txt', 'jupyter.bat', 'function.exe']\n"
     ]
    }
   ],
   "source": [
    "#(14) 다음 중 10글자 이상인 파일명(확장자포함)만 가지는 리스트를 만드시오.\n",
    "file_name=[\"mystroy.txt\", \"a.exe\", \"jupyter.bat\", \"function.exe\", \"b.exe\", \"cat.jpg\", \"dog.png\", \"run.exe\", \"i.dll\"]\n",
    "a14 = [i for i in file_name if len(i)>=10]\n",
    "print(a14)"
   ]
  },
  {
   "cell_type": "code",
   "execution_count": 185,
   "id": "80f20d26",
   "metadata": {},
   "outputs": [
    {
     "name": "stdout",
     "output_type": "stream",
     "text": [
      "['c', 'g', 'h', 'k']\n"
     ]
    }
   ],
   "source": [
    "#(15) 다음 리스트에서 소문자만 가지는 새로운 리스트를 만드시오.\n",
    "str_list = [\"A\", \"B\", \"c\", \"D\", \"E\", \"F\", \"g\", \"h\", \"I\", \"J\", \"k\"]\n",
    "a15 = [i for i in str_list if i.islower()==True]\n",
    "print(a15)"
   ]
  },
  {
   "cell_type": "code",
   "execution_count": 195,
   "id": "aea251e5",
   "metadata": {},
   "outputs": [
    {
     "name": "stdout",
     "output_type": "stream",
     "text": [
      "도시명:대전\n",
      "광역시\n"
     ]
    }
   ],
   "source": [
    "#(3) 사용자로부터 우리나라 도시명을 입력 받은 뒤 입력받은 도시명이 서울이면 \"특별시\"를 인천,부산,광주,대구,대전,울산 이면 \"광역시\"를 나머지는 \"특별시나 광역시가 아닙니다.\"를 출력하세요.\n",
    "a3 = input('도시명:')\n",
    "if a3=='서울':\n",
    "    print('특별시')\n",
    "elif a3=='인천'or'부산'or'광주'or'대전'or'대구'or'울산':\n",
    "    print('광역시')\n",
    "else:\n",
    "    print('특별시나 광역시가 아닙니다')"
   ]
  },
  {
   "cell_type": "code",
   "execution_count": null,
   "id": "9b11bc8e",
   "metadata": {},
   "outputs": [],
   "source": []
  }
 ],
 "metadata": {
  "kernelspec": {
   "display_name": "Python 3 (ipykernel)",
   "language": "python",
   "name": "python3"
  },
  "language_info": {
   "codemirror_mode": {
    "name": "ipython",
    "version": 3
   },
   "file_extension": ".py",
   "mimetype": "text/x-python",
   "name": "python",
   "nbconvert_exporter": "python",
   "pygments_lexer": "ipython3",
   "version": "3.9.7"
  }
 },
 "nbformat": 4,
 "nbformat_minor": 5
}
