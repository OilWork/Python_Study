{
 "cells": [
  {
   "cell_type": "code",
   "execution_count": 1,
   "id": "ef5b4b58",
   "metadata": {},
   "outputs": [
    {
     "name": "stdout",
     "output_type": "stream",
     "text": [
      "2344\n",
      "2344\n"
     ]
    }
   ],
   "source": [
    "s = input() #input 함수를 사용=호출(call)\n",
    "print(s) #print 함수를 호출"
   ]
  },
  {
   "cell_type": "code",
   "execution_count": 3,
   "id": "663c4180",
   "metadata": {},
   "outputs": [
    {
     "name": "stdout",
     "output_type": "stream",
     "text": [
      "test\n"
     ]
    }
   ],
   "source": [
    "i = int('100') # '100':argument(인수) => 피연산자\n",
    "# print(i) # #i의 100 -> int()함수의 반환값\n",
    "j = print('test')"
   ]
  },
  {
   "cell_type": "code",
   "execution_count": 5,
   "id": "66a42d2a",
   "metadata": {},
   "outputs": [
    {
     "name": "stdout",
     "output_type": "stream",
     "text": [
      "None\n"
     ]
    }
   ],
   "source": [
    "print(j)"
   ]
  },
  {
   "cell_type": "markdown",
   "id": "6c0cd406",
   "metadata": {},
   "source": [
    "# 함수(Function)\n",
    "- 사용자정의 연산자\n",
    "- 함수 이름\n",
    "    - 규칙: 변수와 동일\n",
    "    - 관례: 변수와 동일 - snake 표기법\n",
    "\n",
    "## def 함수이름([변수,변수,...]):\n",
    "- (공백4개)실행구문\n",
    "- (공백4개)실행구문\n",
    "- (공백4개)실행구문\n",
    "- (공백4개)[결과값]"
   ]
  },
  {
   "cell_type": "code",
   "execution_count": 6,
   "id": "851d941e",
   "metadata": {},
   "outputs": [],
   "source": [
    "# 함수 정의\n",
    "#    정의된 함수는 사용하기 위해서는 메모리에 로딩되어야 한다. -> 실행, import\n",
    "def say_hello():\n",
    "    print('안녕하세요')\n",
    "    print('hello')"
   ]
  },
  {
   "cell_type": "code",
   "execution_count": 7,
   "id": "8520e1ba",
   "metadata": {},
   "outputs": [
    {
     "name": "stdout",
     "output_type": "stream",
     "text": [
      "안녕하세요\n",
      "hello\n"
     ]
    }
   ],
   "source": [
    "# 호출: 함수명([argument])\n",
    "#     리턴값이 있는 함수 호출: 변수=함수명([argument])\n",
    "say_hello()"
   ]
  },
  {
   "cell_type": "code",
   "execution_count": 8,
   "id": "98dc148c",
   "metadata": {},
   "outputs": [],
   "source": [
    "# 매개변수가 있는 함수\n",
    "def say_hello2(name): #name : 매개변수(parameter) -> 호출한 곳으로 부터 전달된 값(argument)를 받을 변수\n",
    "    greeting = f'{name}님 반갑습니다'\n",
    "    print(greeting)"
   ]
  },
  {
   "cell_type": "code",
   "execution_count": 9,
   "id": "cde550bb",
   "metadata": {},
   "outputs": [
    {
     "name": "stdout",
     "output_type": "stream",
     "text": [
      "홍길동님 반갑습니다\n"
     ]
    }
   ],
   "source": [
    "say_hello2('홍길동') #매개변수가 있는 함수 호출시 반드시 값을 전달해야 한다"
   ]
  },
  {
   "cell_type": "code",
   "execution_count": 10,
   "id": "a0c67b08",
   "metadata": {},
   "outputs": [
    {
     "name": "stdout",
     "output_type": "stream",
     "text": [
      "이순신님 반갑습니다\n"
     ]
    }
   ],
   "source": [
    "say_hello2('이순신')"
   ]
  },
  {
   "cell_type": "code",
   "execution_count": 11,
   "id": "822b3600",
   "metadata": {},
   "outputs": [],
   "source": [
    "# 반환값(리턴값)이 있는 함수\n",
    "def say_hello3(name, age):\n",
    "    greating = f'{age}세 {name}님 환영합니다.'\n",
    "    return greating # greating 변수의 값(처리결과)를 호출한 곳으로 전달 => 리턴값\n",
    "                    # return : 호출한 곳으로 돌아가라는 명령어."
   ]
  },
  {
   "cell_type": "code",
   "execution_count": 12,
   "id": "370d2b61",
   "metadata": {},
   "outputs": [
    {
     "name": "stdout",
     "output_type": "stream",
     "text": [
      "20세 홍길동님 환영합니다.\n"
     ]
    }
   ],
   "source": [
    "print(say_hello3('홍길동', 20))"
   ]
  },
  {
   "cell_type": "code",
   "execution_count": 13,
   "id": "ccc13f24",
   "metadata": {},
   "outputs": [],
   "source": [
    "# 매개변수는 여러개 선언 가능. \n",
    "# 리턴값은 1개만 가능 (처리결과가 여러개인 경우 자료구조로 묶어서 전달)\n",
    "# 두개의 값을 받아서 4칙연산한 결과를 반환하는 함수\n",
    "def calc(num1, num2):\n",
    "    a = num1 + num2\n",
    "    b = num1 - num2\n",
    "    c = num1 * num2\n",
    "    d = num1 / num2\n",
    "#     return [a,b,c,d] # 리스트\n",
    "#     return (a,b,c,d) # 튜플\n",
    "    return {'plus':a, 'minus':b, 'muliply':c, 'divide':d} #딕셔너리\n",
    "# 중요) 함수 안에 선언된 변수 : local variable(지역변수) => 사용범위는 함수가 실행하는 동안. 함수안에서만 사용가능"
   ]
  },
  {
   "cell_type": "code",
   "execution_count": 15,
   "id": "b02c0eca",
   "metadata": {},
   "outputs": [
    {
     "name": "stdout",
     "output_type": "stream",
     "text": [
      "[15, 5, 50, 2.0]\n",
      "30 10 200 2.0\n"
     ]
    }
   ],
   "source": [
    "result = calc(10,5)\n",
    "print(result)\n",
    "r1, r2, r3, r4 = calc(20, 10)\n",
    "print(r1,r2,r3,r4)"
   ]
  },
  {
   "cell_type": "markdown",
   "id": "40262fc6",
   "metadata": {},
   "source": [
    "## 매개변수와 관련된 문법\n",
    "\n",
    "### Positional Parameter(Argument)\n",
    "- 일반적인 매개변수(parameter)\n",
    "- 매개변수가 선언된 순서대로 값을 전달한다."
   ]
  },
  {
   "cell_type": "code",
   "execution_count": 16,
   "id": "112c0bf4",
   "metadata": {},
   "outputs": [],
   "source": [
    "def print_info(name, age, address):\n",
    "    print(f\"이름: {name}, 나이:{age}, 주소:{address}\")"
   ]
  },
  {
   "cell_type": "code",
   "execution_count": 17,
   "id": "5dc3e6b7",
   "metadata": {},
   "outputs": [
    {
     "name": "stdout",
     "output_type": "stream",
     "text": [
      "이름: 홍길동, 나이:20, 주소:서울\n"
     ]
    }
   ],
   "source": [
    "print_info(\"홍길동\", 20, '서울') #순서에 맞춰서 값들을 전달"
   ]
  },
  {
   "cell_type": "markdown",
   "id": "fbc3f9ff",
   "metadata": {},
   "source": [
    "### 기본값이 있는 매개변수\n",
    "- 매개변수에 값을 대입. 기본값 설정\n",
    "    - 호출할 때 값이 안 전달되면 기본값을 사용."
   ]
  },
  {
   "cell_type": "code",
   "execution_count": 18,
   "id": "a2d9bbc6",
   "metadata": {},
   "outputs": [],
   "source": [
    "def print_info2(name=None, age=-1, address=None):\n",
    "    print(f\"이름:{name}, 나이:{age}, 주소 : {address}\")"
   ]
  },
  {
   "cell_type": "code",
   "execution_count": 19,
   "id": "03db03e1",
   "metadata": {},
   "outputs": [
    {
     "name": "stdout",
     "output_type": "stream",
     "text": [
      "이름:이순순, 나이:30, 주소 : 서울\n"
     ]
    }
   ],
   "source": [
    "print_info2(\"이순순\", 30, \"서울\")"
   ]
  },
  {
   "cell_type": "code",
   "execution_count": 20,
   "id": "94e06797",
   "metadata": {},
   "outputs": [
    {
     "name": "stdout",
     "output_type": "stream",
     "text": [
      "이름:홍길동, 나이:26, 주소 : None\n"
     ]
    }
   ],
   "source": [
    "print_info2('홍길동', 26) # argument를 생략하면 기본값을 함수내에서 사용"
   ]
  },
  {
   "cell_type": "code",
   "execution_count": 21,
   "id": "139b7024",
   "metadata": {},
   "outputs": [
    {
     "name": "stdout",
     "output_type": "stream",
     "text": [
      "이름:강감찬, 나이:-1, 주소 : None\n"
     ]
    }
   ],
   "source": [
    "print_info2('강감찬') #첫번째만 전달. age, address는 기본값"
   ]
  },
  {
   "cell_type": "code",
   "execution_count": 22,
   "id": "0d0b9250",
   "metadata": {},
   "outputs": [
    {
     "name": "stdout",
     "output_type": "stream",
     "text": [
      "이름:None, 나이:-1, 주소 : 부산\n"
     ]
    }
   ],
   "source": [
    "# address(세번째)만 전달, name, age(첫,두번째)는 기본값 - positional argument로는 안된다. => 뒤쪽 매개변수에만 값을 전달 할 수 없다.\n",
    "# keyword argument를 사용\n",
    "print_info2(address='부산') # 매개변수를 지정해서 값을 전달 => keyword argument"
   ]
  },
  {
   "cell_type": "code",
   "execution_count": 29,
   "id": "fd9347ed",
   "metadata": {},
   "outputs": [],
   "source": [
    "# 기본값이 없는 매개변수들을 먼저 선언하고 이어서 기본값이 있는 매개변수들을 선언.\n",
    "def print_info3(name, age, address=None, email=None):\n",
    "    print(f\"이름: {name}, 나이: {age}, 주소:{address}, 이메일:{email}\")"
   ]
  },
  {
   "cell_type": "code",
   "execution_count": 30,
   "id": "028eea23",
   "metadata": {},
   "outputs": [
    {
     "name": "stdout",
     "output_type": "stream",
     "text": [
      "이름: 홍길동, 나이: 20, 주소:None, 이메일:None\n"
     ]
    }
   ],
   "source": [
    "# 기본값 없는 것과 있는 매개변수들이 섞여 있는 경우 기본값 없는 매개변수에는 값을 반드시 전달해야 한다.\n",
    "# 기본값 없는 매개변수 : 필수입력사항\n",
    "# 기본값 있는 매개변수 : 옵션입력사항\n",
    "print_info3(\"홍길동\", 20)"
   ]
  },
  {
   "cell_type": "markdown",
   "id": "016e6d5f",
   "metadata": {},
   "source": [
    "## 가변인자"
   ]
  },
  {
   "cell_type": "code",
   "execution_count": 32,
   "id": "c02918df",
   "metadata": {},
   "outputs": [],
   "source": [
    "def sum_function(num_list):\n",
    "    #정수 여러개(정해지지 않은 개수)를 받아서 합계를 리턴하는 함수\n",
    "    #argument: 자료구조\n",
    "    sum_value=0\n",
    "    for v in num_list:\n",
    "        sum_value+= v\n",
    "    return sum_value"
   ]
  },
  {
   "cell_type": "code",
   "execution_count": 34,
   "id": "e0b7cd85",
   "metadata": {},
   "outputs": [
    {
     "name": "stdout",
     "output_type": "stream",
     "text": [
      "85\n"
     ]
    }
   ],
   "source": [
    "result = sum_function([3,4,5,66,7])\n",
    "print(result)"
   ]
  },
  {
   "cell_type": "code",
   "execution_count": 38,
   "id": "ba52d968",
   "metadata": {},
   "outputs": [],
   "source": [
    "# 가변인자: 정해지지 않은 개수의 값들을 받아서 처리할 경우 사용\n",
    "# *변수명 - 튜플로 처리. 호출할때는 전달할 값들(argument)을 나열해서 전달\n",
    "def sum_function2(*num_list): \n",
    "    print(type(num_list), num_list)\n",
    "    sum_value=0\n",
    "    for v in num_list:\n",
    "        sum_value+=v\n",
    "    return sum_value"
   ]
  },
  {
   "cell_type": "code",
   "execution_count": 39,
   "id": "826b8450",
   "metadata": {},
   "outputs": [
    {
     "name": "stdout",
     "output_type": "stream",
     "text": [
      "<class 'tuple'> (1, 2, 3, 4, 5)\n",
      "None\n"
     ]
    }
   ],
   "source": [
    "print(sum_function2(1,2,3,4,5))"
   ]
  },
  {
   "cell_type": "code",
   "execution_count": 40,
   "id": "508e7ada",
   "metadata": {},
   "outputs": [
    {
     "name": "stdout",
     "output_type": "stream",
     "text": [
      "<class 'tuple'> (1, 2, 3, 4, 5, 324, 563)\n",
      "None\n"
     ]
    }
   ],
   "source": [
    "print(sum_function2(1,2,3,4,5,324,563))"
   ]
  },
  {
   "cell_type": "code",
   "execution_count": 70,
   "id": "2743b204",
   "metadata": {},
   "outputs": [],
   "source": [
    "# 가변인자: **변수명. 딕셔너리로 처리 호출할 때는 keyword argument 형식으로 전달\n",
    "def print_info(**info):\n",
    "#     print(type(info), info)\n",
    "    return_value=''\n",
    "    for key,value in info.items():\n",
    "        return_value=f\"{key}:{value}, {return_value}\"\n",
    "    return return_value"
   ]
  },
  {
   "cell_type": "code",
   "execution_count": 42,
   "id": "1f5003e7",
   "metadata": {},
   "outputs": [
    {
     "name": "stdout",
     "output_type": "stream",
     "text": [
      "<class 'dict'> {}\n"
     ]
    }
   ],
   "source": [
    "print_info()"
   ]
  },
  {
   "cell_type": "code",
   "execution_count": 52,
   "id": "cccd75e9",
   "metadata": {
    "scrolled": true
   },
   "outputs": [
    {
     "name": "stdout",
     "output_type": "stream",
     "text": [
      "<class 'dict'> {'이름': '홍길동'}\n",
      "<class 'dict'> {'나이': 20, '주소': '서울'}\n",
      ", 이름:홍길동\n",
      ", 나이:20, 주소:서울\n"
     ]
    }
   ],
   "source": [
    "v1=print_info(이름='홍길동')\n",
    "v2=print_info(나이=20, 주소='서울')\n",
    "print(v1)\n",
    "print(v2)"
   ]
  },
  {
   "cell_type": "code",
   "execution_count": 71,
   "id": "cbdfb3fd",
   "metadata": {},
   "outputs": [
    {
     "name": "stdout",
     "output_type": "stream",
     "text": [
      "취미:독서, 이메일:a@vd.con, 주소:서울, 이름:홍길동, \n"
     ]
    }
   ],
   "source": [
    "print(print_info(이름='홍길동', 주소='서울', 이메일='a@vd.con', 취미='독서'))"
   ]
  },
  {
   "cell_type": "code",
   "execution_count": 59,
   "id": "78978cd8",
   "metadata": {},
   "outputs": [
    {
     "ename": "SyntaxError",
     "evalue": "invalid syntax (104596413.py, line 1)",
     "output_type": "error",
     "traceback": [
      "\u001b[0;36m  File \u001b[0;32m\"/var/folders/vb/37p998ys4bv1nrwzplsk62nw0000gn/T/ipykernel_1233/104596413.py\"\u001b[0;36m, line \u001b[0;32m1\u001b[0m\n\u001b[0;31m    def test_fn(*a, *b, *c): #가변인자는 한 함수에 종류별(*, **)로 하나씩만 선언가능\u001b[0m\n\u001b[0m                    ^\u001b[0m\n\u001b[0;31mSyntaxError\u001b[0m\u001b[0;31m:\u001b[0m invalid syntax\n"
     ]
    }
   ],
   "source": [
    "def test_fn(*a, *b, *c): #가변인자는 한 함수에 종류별(*, **)로 하나씩만 선언가능\n",
    "    pass #코드블럭을 나중에 작성할때 쓰는 명령어"
   ]
  },
  {
   "cell_type": "code",
   "execution_count": 58,
   "id": "7ff0febd",
   "metadata": {},
   "outputs": [],
   "source": [
    "def test_fn2(*args, **kwargs):\n",
    "    pass"
   ]
  },
  {
   "cell_type": "code",
   "execution_count": 60,
   "id": "51c89fad",
   "metadata": {},
   "outputs": [],
   "source": [
    "def test_fn3(var3, var2, *args, **kwargs): #일반 변수와 같이 선언할 경우 가변인자는 마지막에 와야한다.\n",
    "    pass"
   ]
  },
  {
   "cell_type": "code",
   "execution_count": null,
   "id": "335b0bd2",
   "metadata": {},
   "outputs": [],
   "source": []
  },
  {
   "cell_type": "markdown",
   "id": "c4d24f8a",
   "metadata": {},
   "source": [
    "# 함수는 일급시민객체\n",
    "- 함수를 변수에 할당, 함수를 다른함수호출할 때 argument로 전달, 함수가 리턴값으로 함수를 반활할 수 있다\n",
    "- 함수도 값으로 처리할 수 있다."
   ]
  },
  {
   "cell_type": "code",
   "execution_count": 88,
   "id": "a2fb1dc1",
   "metadata": {},
   "outputs": [],
   "source": [
    "def my_fn(name=None):\n",
    "    print(str(name)+\"님 안녕하세요\")\n",
    "    return \"리턴값\""
   ]
  },
  {
   "cell_type": "code",
   "execution_count": 89,
   "id": "708db472",
   "metadata": {},
   "outputs": [
    {
     "name": "stdout",
     "output_type": "stream",
     "text": [
      "홍길동님 안녕하세요\n",
      "None님 안녕하세요\n",
      "==============\n",
      "리턴값 리턴값\n"
     ]
    }
   ],
   "source": [
    "# 함수 호출\n",
    "# r1, r2에는 my_fn()함수의 실행 결과(리턴값)이 저장\n",
    "r1 = my_fn('홍길동')\n",
    "r2 = my_fn()\n",
    "print('==============')\n",
    "print(r1,r2)"
   ]
  },
  {
   "cell_type": "code",
   "execution_count": 80,
   "id": "b2df53ae",
   "metadata": {},
   "outputs": [],
   "source": [
    "your_fn = my_fn"
   ]
  },
  {
   "cell_type": "code",
   "execution_count": 82,
   "id": "e746fd48",
   "metadata": {},
   "outputs": [
    {
     "name": "stdout",
     "output_type": "stream",
     "text": [
      "이순신님 안녕하세요\n"
     ]
    }
   ],
   "source": [
    "your_fn('이순신')"
   ]
  },
  {
   "cell_type": "code",
   "execution_count": 92,
   "id": "8f5c9e1e",
   "metadata": {},
   "outputs": [
    {
     "name": "stdout",
     "output_type": "stream",
     "text": [
      "None님 안녕하세요\n"
     ]
    }
   ],
   "source": [
    "test_fn = your_fn\n",
    "test_fn()"
   ]
  },
  {
   "cell_type": "code",
   "execution_count": 98,
   "id": "c65c8d89",
   "metadata": {},
   "outputs": [],
   "source": [
    "# 함수를 매개변수에 argument 전달\n",
    "def calculator(func):\n",
    "    # 처리할 값이 있다. (num1, num2)\n",
    "    # 어떻게 처리할지 방법이 없다. 처리방법(함수)을 매개변수로 받는다\n",
    "    num1, num2 = 10, 20\n",
    "    result = func(num1, num2)\n",
    "    print('calculator()결과', result)"
   ]
  },
  {
   "cell_type": "code",
   "execution_count": 97,
   "id": "42ae4745",
   "metadata": {},
   "outputs": [],
   "source": [
    "def plus(n1, n2):\n",
    "    return n1 + n2\n",
    "def minus(n1, n2):\n",
    "    return n1 - n2\n",
    "def multiply(n1, n2):\n",
    "    return n1 * n2"
   ]
  },
  {
   "cell_type": "code",
   "execution_count": 101,
   "id": "3b55e47b",
   "metadata": {},
   "outputs": [
    {
     "name": "stdout",
     "output_type": "stream",
     "text": [
      "calculator()결과 -10\n"
     ]
    }
   ],
   "source": [
    "calculator(minus)"
   ]
  },
  {
   "cell_type": "code",
   "execution_count": 102,
   "id": "a4736d9f",
   "metadata": {},
   "outputs": [
    {
     "name": "stdout",
     "output_type": "stream",
     "text": [
      "calculator()결과 200\n"
     ]
    }
   ],
   "source": [
    "calculator(multiply)"
   ]
  },
  {
   "cell_type": "markdown",
   "id": "84ace455",
   "metadata": {},
   "source": [
    "## lambda 표현식\n",
    "- 함수를 단일구문(식)으로 작성하는 방법\n",
    "- 다시 사용할 필요 없이 함수 호출할 때 넘겨줄 함수를 만들 때 주로 사용"
   ]
  },
  {
   "cell_type": "code",
   "execution_count": null,
   "id": "75438788",
   "metadata": {},
   "outputs": [],
   "source": [
    "def plus(n1, n2):\n",
    "    return n1 + n2"
   ]
  },
  {
   "cell_type": "code",
   "execution_count": null,
   "id": "11761077",
   "metadata": {},
   "outputs": [],
   "source": [
    "# lambda [매개변수] : 리턴값처리"
   ]
  },
  {
   "cell_type": "code",
   "execution_count": 103,
   "id": "65d72b8b",
   "metadata": {},
   "outputs": [
    {
     "data": {
      "text/plain": [
       "3"
      ]
     },
     "execution_count": 103,
     "metadata": {},
     "output_type": "execute_result"
    }
   ],
   "source": [
    "x = lambda n1, n2: n1+n2\n",
    "x(1,2)"
   ]
  },
  {
   "cell_type": "code",
   "execution_count": 104,
   "id": "2ced7c54",
   "metadata": {},
   "outputs": [],
   "source": [
    "# 하나의 값을 받아서 제곱한 값을 반환하는 함수\n",
    "y = lambda v:v**2"
   ]
  },
  {
   "cell_type": "code",
   "execution_count": 106,
   "id": "0dcb9587",
   "metadata": {},
   "outputs": [
    {
     "data": {
      "text/plain": [
       "100"
      ]
     },
     "execution_count": 106,
     "metadata": {},
     "output_type": "execute_result"
    }
   ],
   "source": [
    "y(10)"
   ]
  },
  {
   "cell_type": "code",
   "execution_count": 107,
   "id": "85f404af",
   "metadata": {},
   "outputs": [
    {
     "name": "stdout",
     "output_type": "stream",
     "text": [
      "calculator()결과 30\n"
     ]
    }
   ],
   "source": [
    "calculator(lambda n1,n2:n1+n2)"
   ]
  },
  {
   "cell_type": "code",
   "execution_count": 108,
   "id": "a851b8fc",
   "metadata": {},
   "outputs": [
    {
     "name": "stdout",
     "output_type": "stream",
     "text": [
      "calculator()결과 -10\n"
     ]
    }
   ],
   "source": [
    "calculator(lambda n1,n2:n1-n2)"
   ]
  },
  {
   "cell_type": "code",
   "execution_count": 109,
   "id": "79b9f01b",
   "metadata": {},
   "outputs": [
    {
     "name": "stdout",
     "output_type": "stream",
     "text": [
      "calculator()결과 0.5\n"
     ]
    }
   ],
   "source": [
    "calculator(lambda n1,n2:n1/n2)"
   ]
  },
  {
   "cell_type": "code",
   "execution_count": 111,
   "id": "6c053297",
   "metadata": {},
   "outputs": [],
   "source": [
    "l=[10, 20, 30]\n",
    "# mapping 각 원소에 *10\n",
    "# map(각 원소들을 어떻게 처리할지 정의한 함수, iterabla)"
   ]
  },
  {
   "cell_type": "code",
   "execution_count": 112,
   "id": "f1ca57ad",
   "metadata": {},
   "outputs": [],
   "source": [
    "def m10(x):\n",
    "    return x*10"
   ]
  },
  {
   "cell_type": "code",
   "execution_count": 113,
   "id": "cce2a786",
   "metadata": {},
   "outputs": [
    {
     "data": {
      "text/plain": [
       "[100, 200, 300]"
      ]
     },
     "execution_count": 113,
     "metadata": {},
     "output_type": "execute_result"
    }
   ],
   "source": [
    "list(map( m10 ,l))"
   ]
  },
  {
   "cell_type": "code",
   "execution_count": 115,
   "id": "dc60c15f",
   "metadata": {},
   "outputs": [
    {
     "data": {
      "text/plain": [
       "[100, 200, 300]"
      ]
     },
     "execution_count": 115,
     "metadata": {},
     "output_type": "execute_result"
    }
   ],
   "source": [
    "list(map(lambda x:x*10,l))"
   ]
  },
  {
   "cell_type": "markdown",
   "id": "ca576c4c",
   "metadata": {},
   "source": [
    "## docstring\n",
    "- 함수(class, 메소드) 구현시 함수에 대한 설명을 문자열로 정의하는 것.\n",
    "- 선언부와 구현부 사이에 여러줄 문자열('''  ''')을 이용해서 작성\n",
    "- 보통 작성하는 내용\n",
    "    - 함수 설명\n",
    "    - 매개변수에 대한 설명\n",
    "    - 리턴 값에 대한 설명\n",
    "    - 발생 Exception(Error)에 대한 설명"
   ]
  },
  {
   "cell_type": "code",
   "execution_count": 116,
   "id": "36779456",
   "metadata": {},
   "outputs": [],
   "source": [
    "def print_info(name, age):\n",
    "    \"\"\"\n",
    "    설명\n",
    "    [parameter]\n",
    "        name: string - 회원이름\n",
    "        age : int - 회원의 나이\n",
    "    [return value]\n",
    "        int - 나이의 10배의 값\n",
    "    [Exception]\n",
    "        발생할 가능성이 있는 에러에 대한 설명\n",
    "    \"\"\"\n",
    "    print(f'이름:{name}, 나이:{age}')\n",
    "    return age*10"
   ]
  },
  {
   "cell_type": "code",
   "execution_count": 117,
   "id": "6cba5bac",
   "metadata": {},
   "outputs": [],
   "source": [
    "# 주피터 노트북의 docsring을 조회하는 명령어/단축키\n",
    "# 함수명?\n",
    "# tap: 자동완성\n",
    "# shift + tap : docstring 팝업으로 불러오기\n",
    "print_info?"
   ]
  },
  {
   "cell_type": "code",
   "execution_count": 118,
   "id": "c5868527",
   "metadata": {},
   "outputs": [],
   "source": [
    "print?"
   ]
  },
  {
   "cell_type": "code",
   "execution_count": null,
   "id": "831c731c",
   "metadata": {},
   "outputs": [],
   "source": [
    "print_info"
   ]
  },
  {
   "cell_type": "code",
   "execution_count": null,
   "id": "97de4fe8",
   "metadata": {},
   "outputs": [],
   "source": []
  },
  {
   "cell_type": "code",
   "execution_count": null,
   "id": "caa5edd5",
   "metadata": {},
   "outputs": [],
   "source": []
  },
  {
   "cell_type": "code",
   "execution_count": null,
   "id": "fa997906",
   "metadata": {},
   "outputs": [],
   "source": []
  }
 ],
 "metadata": {
  "kernelspec": {
   "display_name": "Python 3 (ipykernel)",
   "language": "python",
   "name": "python3"
  },
  "language_info": {
   "codemirror_mode": {
    "name": "ipython",
    "version": 3
   },
   "file_extension": ".py",
   "mimetype": "text/x-python",
   "name": "python",
   "nbconvert_exporter": "python",
   "pygments_lexer": "ipython3",
   "version": "3.9.7"
  }
 },
 "nbformat": 4,
 "nbformat_minor": 5
}
