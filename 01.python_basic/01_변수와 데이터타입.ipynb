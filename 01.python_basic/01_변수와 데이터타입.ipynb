{
 "cells": [
  {
   "cell_type": "code",
   "execution_count": 2,
   "id": "f130709b",
   "metadata": {},
   "outputs": [
    {
     "data": {
      "text/plain": [
       "2"
      ]
     },
     "execution_count": 2,
     "metadata": {},
     "output_type": "execute_result"
    }
   ],
   "source": [
    "# 단축키\n",
    "# shift + enter = 실행 후 다음cell\n",
    "# control + enter = 실행 후 기존cell\n",
    "1+1"
   ]
  },
  {
   "cell_type": "code",
   "execution_count": 4,
   "id": "c3bfcba1",
   "metadata": {},
   "outputs": [
    {
     "data": {
      "text/plain": [
       "7"
      ]
     },
     "execution_count": 4,
     "metadata": {},
     "output_type": "execute_result"
    }
   ],
   "source": [
    "3+4"
   ]
  },
  {
   "cell_type": "code",
   "execution_count": 5,
   "id": "521bdbb5",
   "metadata": {},
   "outputs": [],
   "source": [
    "# 변수는 무조건 앞이 변수 뒤가 값\n",
    "name = \"홍길동\" # name이 변수 홍길동이 값\n",
    "              # name란 메모리가 없으면 생성, 있으면 값 대체"
   ]
  },
  {
   "cell_type": "code",
   "execution_count": 7,
   "id": "b5250091",
   "metadata": {},
   "outputs": [
    {
     "name": "stdout",
     "output_type": "stream",
     "text": [
      "홍길동\n"
     ]
    }
   ],
   "source": [
    "print(name) # ()안의 값을 출력"
   ]
  },
  {
   "cell_type": "code",
   "execution_count": 8,
   "id": "f89f7a49",
   "metadata": {},
   "outputs": [],
   "source": [
    "age = 25"
   ]
  },
  {
   "cell_type": "code",
   "execution_count": 10,
   "id": "12562312",
   "metadata": {},
   "outputs": [
    {
     "name": "stdout",
     "output_type": "stream",
     "text": [
      "25\n"
     ]
    }
   ],
   "source": [
    "print(age)"
   ]
  },
  {
   "cell_type": "code",
   "execution_count": 11,
   "id": "c59b273b",
   "metadata": {},
   "outputs": [],
   "source": [
    "age = 50 # age의 값을 50으로 대체"
   ]
  },
  {
   "cell_type": "code",
   "execution_count": 13,
   "id": "9359ffe3",
   "metadata": {},
   "outputs": [
    {
     "name": "stdout",
     "output_type": "stream",
     "text": [
      "50\n"
     ]
    }
   ],
   "source": [
    "print(age)"
   ]
  },
  {
   "cell_type": "code",
   "execution_count": 14,
   "id": "008d95d3",
   "metadata": {},
   "outputs": [],
   "source": [
    "age = age + 20 # 1. 기존 변수가 가진 값 더하기 20\n",
    "               # 2. 1에서 처리한 값을 age 변수의 값으로 할당"
   ]
  },
  {
   "cell_type": "code",
   "execution_count": 16,
   "id": "320f0af3",
   "metadata": {},
   "outputs": [
    {
     "name": "stdout",
     "output_type": "stream",
     "text": [
      "70\n"
     ]
    }
   ],
   "source": [
    "print(age)"
   ]
  },
  {
   "cell_type": "code",
   "execution_count": 2,
   "id": "b9475d85",
   "metadata": {},
   "outputs": [],
   "source": [
    "num=.345"
   ]
  },
  {
   "cell_type": "code",
   "execution_count": 12,
   "id": "482fcd52",
   "metadata": {
    "scrolled": true
   },
   "outputs": [
    {
     "name": "stdout",
     "output_type": "stream",
     "text": [
      "0.345\n"
     ]
    }
   ],
   "source": [
    "print(num)"
   ]
  },
  {
   "cell_type": "code",
   "execution_count": null,
   "id": "6543c1e0",
   "metadata": {},
   "outputs": [],
   "source": [
    "# 비교연산자\n",
    "# + = 더하기\n",
    "# - = 빼기\n",
    "# * = 곱하기\n",
    "# ** = 제곱\n",
    "# / = 나누기\n",
    "# //= 몫\n",
    "# % = 나머지"
   ]
  },
  {
   "cell_type": "code",
   "execution_count": 8,
   "id": "4ae6a3fe",
   "metadata": {},
   "outputs": [],
   "source": [
    "# e10 = 10의 10제곱\n",
    "# e-10= 10의 -10제곱"
   ]
  },
  {
   "cell_type": "code",
   "execution_count": null,
   "id": "d5975408",
   "metadata": {},
   "outputs": [],
   "source": [
    "# ==같다\n",
    "# !=같지않다\n",
    "# >크다\n",
    "# >=크거나같다\n",
    "# <작다\n",
    "# <=작거나같다\n",
    "\n",
    "# 문자는 알파벳순서로 생각 (사전적 배열)\n",
    "# 모르면 ord()함수 사용 (문자를 숫자로 변환)\n",
    "# 특수문자 < 숫자 < 영문자 < 한글"
   ]
  },
  {
   "cell_type": "code",
   "execution_count": 13,
   "id": "27376be3",
   "metadata": {},
   "outputs": [],
   "source": [
    "# control + / = 주석처리\n",
    "# bool함수는 다른타입의 값을 논리형으로 변환"
   ]
  },
  {
   "cell_type": "code",
   "execution_count": 14,
   "id": "84802678",
   "metadata": {},
   "outputs": [],
   "source": [
    "# 괄호처리는 블록처리하고 여는괄호만 치면됨"
   ]
  },
  {
   "cell_type": "code",
   "execution_count": 17,
   "id": "00a0cfcb",
   "metadata": {},
   "outputs": [
    {
     "name": "stdout",
     "output_type": "stream",
     "text": [
      "True\n"
     ]
    }
   ],
   "source": [
    "print('abc'<'bcd')"
   ]
  },
  {
   "cell_type": "code",
   "execution_count": 18,
   "id": "d2a0bf83",
   "metadata": {},
   "outputs": [],
   "source": [
    "# 논리연산자\n",
    "# and(&) 연산자는 두값이 모두 True이면 True 나머지 False\n",
    "# or(|) 연산자는 한값만이라도 True이면 True 나머지 False\n",
    "# ^ 연산자는 두값이 다르면 True 나머지 False\n",
    "# not 연산자는 True를 False, False를 True"
   ]
  },
  {
   "cell_type": "code",
   "execution_count": 20,
   "id": "1c730a94",
   "metadata": {},
   "outputs": [
    {
     "name": "stdout",
     "output_type": "stream",
     "text": [
      "양수\n"
     ]
    }
   ],
   "source": [
    "# 조건연산자(삼항연산자)\n",
    "# 조건식이 True면 value 1, False면 value 2\n",
    "num = 10\n",
    "var = '양수' if num>=0 else '음수'\n",
    "print(var)"
   ]
  },
  {
   "cell_type": "code",
   "execution_count": 26,
   "id": "89198ac5",
   "metadata": {},
   "outputs": [
    {
     "data": {
      "text/plain": [
       "int"
      ]
     },
     "execution_count": 26,
     "metadata": {},
     "output_type": "execute_result"
    }
   ],
   "source": [
    "a = len('홍길동')\n",
    "type(a)"
   ]
  },
  {
   "cell_type": "code",
   "execution_count": 29,
   "id": "8484cb4c",
   "metadata": {},
   "outputs": [
    {
     "name": "stdout",
     "output_type": "stream",
     "text": [
      "없음\n"
     ]
    }
   ],
   "source": [
    "addr= \"서울시 서초구 구로동\"\n",
    "var = '있음' if '구로구' in addr else '없음'\n",
    "print(var)"
   ]
  },
  {
   "cell_type": "code",
   "execution_count": 32,
   "id": "7629c6b8",
   "metadata": {},
   "outputs": [
    {
     "name": "stdout",
     "output_type": "stream",
     "text": [
      "abcdef\n"
     ]
    }
   ],
   "source": [
    "# print('abc', end='') #end는 출력할 값 뒤의 값을 변경한다 (기본:엔터)\n",
    "print('abc', end='')\n",
    "print('def')"
   ]
  },
  {
   "cell_type": "code",
   "execution_count": 39,
   "id": "58169131",
   "metadata": {},
   "outputs": [
    {
     "name": "stdout",
     "output_type": "stream",
     "text": [
      "안녕하세요. 반갑습니다\n",
      "안\n",
      "니\n"
     ]
    },
    {
     "data": {
      "text/plain": [
       "True"
      ]
     },
     "execution_count": 39,
     "metadata": {},
     "output_type": "execute_result"
    }
   ],
   "source": [
    "# 인덱싱\n",
    "# 인덱싱으로는 문자변경 불가\n",
    "# s.index()는 문자 기준으로 인덱스 검색\n",
    "s = '안녕하세요. 반갑습니다'\n",
    "print(s)\n",
    "print(s[0])\n",
    "print(s[-2])\n",
    "s[0]=='안'"
   ]
  },
  {
   "cell_type": "code",
   "execution_count": 40,
   "id": "4bee1d45",
   "metadata": {},
   "outputs": [],
   "source": [
    "# 슬라이싱\n",
    "# 문자열 [시작index : 종료index : 간격]\n",
    "# 0번 인덱스부터 조회시 시작index 생략가능 [:5]\n",
    "# 마지막 인덱스까지 조회시 종료index 생략가능 [2:0]\n",
    "# 종료index는 포함하지 않는다\n",
    "# 간격은 생략시 1이 기본\n",
    "# 간격을 음수로 주면 역으로 반환"
   ]
  },
  {
   "cell_type": "code",
   "execution_count": 42,
   "id": "55a4e451",
   "metadata": {},
   "outputs": [
    {
     "data": {
      "text/plain": [
       "'l ol'"
      ]
     },
     "execution_count": 42,
     "metadata": {},
     "output_type": "execute_result"
    }
   ],
   "source": [
    "s='Hello World'\n",
    "s[3:-1:2]"
   ]
  },
  {
   "cell_type": "code",
   "execution_count": 44,
   "id": "ed55eb4f",
   "metadata": {},
   "outputs": [],
   "source": [
    "# 포메팅\n",
    "# 같은 문자열에 값만 바뀌어 반복되는 경우 미리 레이아웃을 만들어 값을 나중에 대입하는 함수\n",
    "# format()\n",
    "# {} = 나중에 들어갈 값\n",
    "# {0} = 첫번째 들어갈 값 (동일한 값을 여러번 넣어야 할 경우)"
   ]
  },
  {
   "cell_type": "code",
   "execution_count": 2,
   "id": "6fd9b1e2",
   "metadata": {},
   "outputs": [
    {
     "name": "stdout",
     "output_type": "stream",
     "text": [
      "이름 : 강희돈 \n",
      "나이 : 27세 \n",
      "주소 : 서울시구로구\n"
     ]
    }
   ],
   "source": [
    "info_format = '이름 : {} \\n나이 : {}세 \\n주소 : {}'\n",
    "name1, age1, addr1 = \"홍길동\", 10, \"서울시\"\n",
    "\n",
    "info1 = info_format.format('강희돈',27,'서울시구로구')\n",
    "print(info1)"
   ]
  },
  {
   "cell_type": "code",
   "execution_count": 4,
   "id": "69d7e1f4",
   "metadata": {},
   "outputs": [
    {
     "name": "stdout",
     "output_type": "stream",
     "text": [
      "이름 : 홍길동 \n",
      "나이 : 10세 \n",
      "주소 : 서울시\n"
     ]
    }
   ],
   "source": [
    "# {name} : 괄호의 이름지정 값전달시 괄호이름=값\n",
    "print(\"이름 : {name} \\n나이 : {age}세 \\n주소 : {addr}\".format(name=name1,age=age1,addr=addr1))"
   ]
  },
  {
   "cell_type": "code",
   "execution_count": 10,
   "id": "864904e1",
   "metadata": {},
   "outputs": [
    {
     "name": "stdout",
     "output_type": "stream",
     "text": [
      "이름: 홍길동, 나이: 23, 몸무게: 72.70\n"
     ]
    }
   ],
   "source": [
    "# 형식문자를 사용한 formatting\n",
    "# %s = 문자열, %d = 정수, %f = 실수\n",
    "\n",
    "name, age, weight=\"홍길동\", 23, 72.7\n",
    "info=\"이름: %s, 나이: %d, 몸무게: %.2f\" %(name, age, weight)\n",
    "print(info)"
   ]
  },
  {
   "cell_type": "code",
   "execution_count": 14,
   "id": "80d5057c",
   "metadata": {},
   "outputs": [
    {
     "name": "stdout",
     "output_type": "stream",
     "text": [
      "이름:홍길동, 나이:23, 몸무게:72.7\n"
     ]
    }
   ],
   "source": [
    "# f-string\n",
    "# {변수명:정렬 정밀도 타입} .format()함수도 동일하게 사용가능\n",
    "# <:왼쪽 정렬, >:오른쪽 정렬, ^:가운데정렬\n",
    "# 실수형일 경우 최소 자리수를 지정한다. 값이 최소자리수보다 작으면 공백으로 채움\n",
    "# d:정수, f:실수, s:문자열\n",
    "name, age, weight=\"홍길동\", 23, 72.7\n",
    "print(f\"이름:{name}, 나이:{age}, 몸무게:{weight}\")"
   ]
  },
  {
   "cell_type": "code",
   "execution_count": 21,
   "id": "782dc72d",
   "metadata": {},
   "outputs": [
    {
     "name": "stdout",
     "output_type": "stream",
     "text": [
      "이름:홍길동, 나이:23, 몸무게:72.70\n"
     ]
    }
   ],
   "source": [
    "print(f\"이름:{name:<2}, 나이:{age}, 몸무게:{weight:.2f}\")"
   ]
  },
  {
   "cell_type": "code",
   "execution_count": 25,
   "id": "2c45997d",
   "metadata": {},
   "outputs": [
    {
     "data": {
      "text/plain": [
       "'딸기'"
      ]
     },
     "execution_count": 25,
     "metadata": {},
     "output_type": "execute_result"
    }
   ],
   "source": [
    "# .split(나눌 기준)\n",
    "s=\"사과|배|귤|딸기|거봉\"\n",
    "s.split('|')[3]"
   ]
  },
  {
   "cell_type": "code",
   "execution_count": 27,
   "id": "b87077fa",
   "metadata": {},
   "outputs": [
    {
     "data": {
      "text/plain": [
       "'거봉'"
      ]
     },
     "execution_count": 27,
     "metadata": {},
     "output_type": "execute_result"
    }
   ],
   "source": [
    "# .strip(), .lstrip(), .rstrip()\n",
    "s2=\"   거봉    \"\n",
    "s2.strip()"
   ]
  },
  {
   "cell_type": "code",
   "execution_count": 30,
   "id": "178f18f8",
   "metadata": {},
   "outputs": [
    {
     "data": {
      "text/plain": [
       "'가c가c가c'"
      ]
     },
     "execution_count": 30,
     "metadata": {},
     "output_type": "execute_result"
    }
   ],
   "source": [
    "# .replace(바꿀것, 새것)\n",
    "s3 = \"abcabcabc\"\n",
    "s3.replace('ab','가')"
   ]
  },
  {
   "cell_type": "code",
   "execution_count": 33,
   "id": "32cb91e3",
   "metadata": {},
   "outputs": [
    {
     "data": {
      "text/plain": [
       "3"
      ]
     },
     "execution_count": 33,
     "metadata": {},
     "output_type": "execute_result"
    }
   ],
   "source": [
    "# .count(찾을것)\n",
    "s3.count('a')"
   ]
  },
  {
   "cell_type": "code",
   "execution_count": null,
   "id": "4687e73d",
   "metadata": {},
   "outputs": [],
   "source": [
    "# .index(몇번째 인덱스인지 궁금한 것), .find()\n",
    "# 첫번째 찾은것만 반환\n",
    "# index는 없으면 에러, find는 없으면 -1"
   ]
  },
  {
   "cell_type": "code",
   "execution_count": null,
   "id": "bb0d4b16",
   "metadata": {},
   "outputs": [],
   "source": [
    "# .upper() 대문자로 변환할것, .lower() 소문자로 변환할것"
   ]
  },
  {
   "cell_type": "code",
   "execution_count": null,
   "id": "a0fa1506",
   "metadata": {},
   "outputs": [],
   "source": [
    "# .startwith(\"문자열\") 문자열로 시작되는지 True 또는 False\n",
    "# .endwith(\"문자열\") 문자열로 끝나는지 True 또는 False\n",
    "# 중간에 있는거 찾는거는 in,not in으로"
   ]
  },
  {
   "cell_type": "code",
   "execution_count": 8,
   "id": "b17d250b",
   "metadata": {},
   "outputs": [],
   "source": [
    "# 타입변환\n",
    "# 사용자로부터 값을 입력받을 수 있다 입력받은 값을 str으로 반환\n",
    "# int(값) 실수의 경우 소수정 이하를 버린다\n",
    "# float(값) 정수.0으로 변환"
   ]
  },
  {
   "cell_type": "code",
   "execution_count": 11,
   "id": "a7502b4e",
   "metadata": {},
   "outputs": [
    {
     "name": "stdout",
     "output_type": "stream",
     "text": [
      "num1: 30\n"
     ]
    }
   ],
   "source": [
    "num1=input(\"num1: \")"
   ]
  },
  {
   "cell_type": "code",
   "execution_count": 12,
   "id": "3ba463c9",
   "metadata": {},
   "outputs": [
    {
     "name": "stdout",
     "output_type": "stream",
     "text": [
      "num2: 40\n"
     ]
    }
   ],
   "source": [
    "num2=input(\"num2: \")"
   ]
  },
  {
   "cell_type": "code",
   "execution_count": 13,
   "id": "1f8ab08d",
   "metadata": {},
   "outputs": [
    {
     "data": {
      "text/plain": [
       "70"
      ]
     },
     "execution_count": 13,
     "metadata": {},
     "output_type": "execute_result"
    }
   ],
   "source": [
    "int(num1)+int(num2)"
   ]
  },
  {
   "cell_type": "code",
   "execution_count": 1,
   "id": "cad399f2",
   "metadata": {},
   "outputs": [
    {
     "name": "stdout",
     "output_type": "stream",
     "text": [
      "901211\n"
     ]
    }
   ],
   "source": [
    "#1. 주민번호 \"901211-1027213\"의 앞 6자리만 조회해서 출력하시오.\n",
    "a1=\"901211-1027213\"\n",
    "print(a1[:6])"
   ]
  },
  {
   "cell_type": "code",
   "execution_count": 2,
   "id": "04279c7a",
   "metadata": {},
   "outputs": [
    {
     "name": "stdout",
     "output_type": "stream",
     "text": [
      "안녕하세요안녕하세요안녕하세요안녕하세요안녕하세요안녕하세요안녕하세요안녕하세요안녕하세요안녕하세요\n"
     ]
    }
   ],
   "source": [
    "#2. \"안녕하세요\" 를 10번 출력하시오.\n",
    "a2=\"안녕하세요\"\n",
    "print(a2*10)"
   ]
  },
  {
   "cell_type": "code",
   "execution_count": 3,
   "id": "fb88245d",
   "metadata": {},
   "outputs": [
    {
     "name": "stdout",
     "output_type": "stream",
     "text": [
      "24\n"
     ]
    }
   ],
   "source": [
    "#3. 다음 문자열의 글자수를 출력하시오.\n",
    "a3=\"akdlclkdkdlelql39du7마구0ㅌ\" \n",
    "print(len(a3))"
   ]
  },
  {
   "cell_type": "code",
   "execution_count": 15,
   "id": "daee58f5",
   "metadata": {},
   "outputs": [
    {
     "name": "stdout",
     "output_type": "stream",
     "text": [
      "제품명 : TV, 가격 : 300000, 제조사 : LG\n"
     ]
    }
   ],
   "source": [
    "#4.\n",
    "name=\"TV\"\n",
    "price=300000\n",
    "maker = \"LG\"\n",
    "# 위 변수의 값을 다음과 같은 형태로 출력하시오.\n",
    "#\"제품명 : TV, 가격 : 300000, 제조사 : LG\"\n",
    "print(f\"제품명 : {name}, 가격 : {price}, 제조사 : {maker}\")"
   ]
  },
  {
   "cell_type": "code",
   "execution_count": 17,
   "id": "7c2ac9e4",
   "metadata": {},
   "outputs": [
    {
     "name": "stdout",
     "output_type": "stream",
     "text": [
      "없음\n"
     ]
    }
   ],
   "source": [
    "#5\n",
    "fruits = \"사과 복숭아 귤 배\"\n",
    "print(\"있음\" if '수박' in fruits else \"없음\")\n",
    "# 위 fruits에 \"수박\"이 있는지 확인하는 코드를 작성하시오."
   ]
  },
  {
   "cell_type": "code",
   "execution_count": 10,
   "id": "42ce973e",
   "metadata": {},
   "outputs": [
    {
     "name": "stdout",
     "output_type": "stream",
     "text": [
      "9\n"
     ]
    }
   ],
   "source": [
    "#6 \n",
    "str_value=\"aldkjaldjfalfjlksajfladlkaalalkdjfa\"\n",
    "print(str_value.count('a'))\n",
    "# str_value 문자열안에 a가 몇개 있는지 출력하시오."
   ]
  }
 ],
 "metadata": {
  "kernelspec": {
   "display_name": "Python 3 (ipykernel)",
   "language": "python",
   "name": "python3"
  },
  "language_info": {
   "codemirror_mode": {
    "name": "ipython",
    "version": 3
   },
   "file_extension": ".py",
   "mimetype": "text/x-python",
   "name": "python",
   "nbconvert_exporter": "python",
   "pygments_lexer": "ipython3",
   "version": "3.9.7"
  }
 },
 "nbformat": 4,
 "nbformat_minor": 5
}
