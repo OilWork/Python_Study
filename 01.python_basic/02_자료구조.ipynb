{
 "cells": [
  {
   "cell_type": "markdown",
   "id": "e818731a",
   "metadata": {},
   "source": [
    "# 마크다운\n",
    "- ***셀 변환***\n",
    "    1. m: code cell에서 markdown cell로 변환\n",
    "    2. y: markdown cell에서 code cell로 변환"
   ]
  },
  {
   "cell_type": "markdown",
   "id": "de6a7c3c",
   "metadata": {},
   "source": [
    "# 자료구조\n",
    "- 리스트\n",
    "    - 순서가 있다\n",
    "    - 변동이 가능하다 (대입연산)\n",
    "    - slicing을 이용하여 지정한 범위의 원소를 한번에 변경 및 삭제 가능\n",
    "    - 한개의 원소 삭제는 del함수 사용\n",
    "    - a_list=[값,값,값,...]\n",
    "    - 없는 index 조회시 에러발생\n",
    "    - 리스트를 포함한 자료구조도 값이다 (리스트 안에 리스트 넣는것도 가능)\n",
    "    - 리스트 + 리스트 = 두 리스트를 합친 새로운 리스트 반환\n",
    "    - 리스트 * 정수 = 리스트를 정수만큼 반복한 리스트 반환\n",
    "    - 값 in 리스트, 값 not in 리스트 = 리스트안에 값이 있는지 True 또는 False로 반환\n",
    "    - 리스트 대입 : 여러개의 변수에 리스트의 값을 한번에 대입 (a,b,c = [1, 2, 3])\n",
    "- 튜플\n",
    "    - 순서가 있다\n",
    "    - 변동이 불가능하다\n",
    "    - a_turple=(1,2,3)\n",
    "    - () 생략가능\n",
    "    - 원소 뒤에는 반드시 ,가 들어가야된다\n",
    "    - 튜플 대입법\n",
    "- 딕셔너리\n",
    "    - 키와 값을 쌍으로 가지고 있는 구조\n",
    "    - index의 역할을 하는 키를 지정하고 생성\n",
    "    - a_dict={키:값 키:값 키:값}\n",
    "- 세트\n",
    "    - 중복 불가능\n",
    "    - a_set{값, 값, 값}\n",
    "    - 인덱싱 슬라이싱 사용 불가\n",
    "    - set()함수를 사용해서 다른 자료구조를 세트로 변경가능(딕셔너리는 키값만 모임)\n",
    "    - 합집합, 교집합, 차집합 연산 가능\n",
    "    - True는 1, False는 0으로 취급한다\n",
    "    - set은 원소 하나만 조회는 불가능"
   ]
  },
  {
   "cell_type": "code",
   "execution_count": 5,
   "id": "a089e5d9",
   "metadata": {},
   "outputs": [
    {
     "data": {
      "text/plain": [
       "[1, 2, 3, 10, 20, 30]"
      ]
     },
     "execution_count": 5,
     "metadata": {},
     "output_type": "execute_result"
    }
   ],
   "source": [
    "l1=[1,2,3]\n",
    "l2=[10, 20, 30]\n",
    "l1+l2"
   ]
  },
  {
   "cell_type": "code",
   "execution_count": 9,
   "id": "2edf2961",
   "metadata": {},
   "outputs": [
    {
     "data": {
      "text/plain": [
       "[10, 20, 30, 10, 20, 30, 10, 20, 30]"
      ]
     },
     "execution_count": 9,
     "metadata": {},
     "output_type": "execute_result"
    }
   ],
   "source": [
    "l3 = l2*3\n",
    "l3"
   ]
  },
  {
   "cell_type": "code",
   "execution_count": 11,
   "id": "65b032cc",
   "metadata": {},
   "outputs": [],
   "source": [
    "l1 = [1,2,3,4,5,6]"
   ]
  },
  {
   "cell_type": "code",
   "execution_count": 12,
   "id": "fd6e5ff7",
   "metadata": {},
   "outputs": [],
   "source": [
    "t1=100,"
   ]
  },
  {
   "cell_type": "code",
   "execution_count": 14,
   "id": "e20741d5",
   "metadata": {},
   "outputs": [
    {
     "data": {
      "text/plain": [
       "tuple"
      ]
     },
     "execution_count": 14,
     "metadata": {},
     "output_type": "execute_result"
    }
   ],
   "source": [
    "type(t1)"
   ]
  },
  {
   "cell_type": "code",
   "execution_count": 18,
   "id": "b44fd83f",
   "metadata": {},
   "outputs": [],
   "source": [
    "person1 = {\"name\":\"홍길동\", \"age\":20, \"adress\":\"서울\"}"
   ]
  },
  {
   "cell_type": "code",
   "execution_count": 27,
   "id": "fedf05e2",
   "metadata": {},
   "outputs": [],
   "source": [
    "person2 =  {\"age\":30, \"name\":\"이순신\", \"adress\":\"서울\"}"
   ]
  },
  {
   "cell_type": "code",
   "execution_count": 28,
   "id": "07407e9c",
   "metadata": {},
   "outputs": [
    {
     "data": {
      "text/plain": [
       "{'age': 30, 'name': '이순신', 'adress': '서울'}"
      ]
     },
     "execution_count": 28,
     "metadata": {},
     "output_type": "execute_result"
    }
   ],
   "source": [
    "person2"
   ]
  },
  {
   "cell_type": "code",
   "execution_count": 29,
   "id": "fb68af6e",
   "metadata": {},
   "outputs": [
    {
     "data": {
      "text/plain": [
       "('홍길동', '이순신')"
      ]
     },
     "execution_count": 29,
     "metadata": {},
     "output_type": "execute_result"
    }
   ],
   "source": [
    "person1['name'], person2['name']"
   ]
  },
  {
   "cell_type": "code",
   "execution_count": 31,
   "id": "65a6a465",
   "metadata": {},
   "outputs": [
    {
     "data": {
      "text/plain": [
       "('서울', '서울')"
      ]
     },
     "execution_count": 31,
     "metadata": {},
     "output_type": "execute_result"
    }
   ],
   "source": [
    "person2['adress'], person1['adress']"
   ]
  },
  {
   "cell_type": "code",
   "execution_count": 33,
   "id": "e34f762a",
   "metadata": {},
   "outputs": [],
   "source": [
    "person1['name'] = '박철웅'"
   ]
  },
  {
   "cell_type": "code",
   "execution_count": 35,
   "id": "ab71c11c",
   "metadata": {},
   "outputs": [],
   "source": [
    "person1['tel'] = '010-2222-3333'"
   ]
  },
  {
   "cell_type": "code",
   "execution_count": 44,
   "id": "8d2338a4",
   "metadata": {},
   "outputs": [
    {
     "name": "stdout",
     "output_type": "stream",
     "text": [
      "이메일 없음\n"
     ]
    }
   ],
   "source": [
    "print(person2.get('email','이메일 없음'))"
   ]
  },
  {
   "cell_type": "code",
   "execution_count": 46,
   "id": "aa66019d",
   "metadata": {},
   "outputs": [
    {
     "data": {
      "text/plain": [
       "4"
      ]
     },
     "execution_count": 46,
     "metadata": {},
     "output_type": "execute_result"
    }
   ],
   "source": [
    "len(person1)"
   ]
  },
  {
   "cell_type": "code",
   "execution_count": 49,
   "id": "deaf3e7d",
   "metadata": {},
   "outputs": [
    {
     "data": {
      "text/plain": [
       "True"
      ]
     },
     "execution_count": 49,
     "metadata": {},
     "output_type": "execute_result"
    }
   ],
   "source": [
    "'name' in person1"
   ]
  },
  {
   "cell_type": "code",
   "execution_count": 53,
   "id": "abb24ec5",
   "metadata": {},
   "outputs": [
    {
     "name": "stdout",
     "output_type": "stream",
     "text": [
      "dict_items([('name', '박철웅'), ('age', 20), ('adress', '서울')])\n"
     ]
    }
   ],
   "source": [
    "print(person1.items())"
   ]
  },
  {
   "cell_type": "code",
   "execution_count": 57,
   "id": "283cb055",
   "metadata": {},
   "outputs": [
    {
     "name": "stdout",
     "output_type": "stream",
     "text": [
      "dict_keys(['name', 'age', 'adress'])\n"
     ]
    }
   ],
   "source": [
    "print(person1.keys())"
   ]
  },
  {
   "cell_type": "code",
   "execution_count": 65,
   "id": "1e1b6a2f",
   "metadata": {},
   "outputs": [
    {
     "name": "stdout",
     "output_type": "stream",
     "text": [
      "{1, 2, 3, 4, 5}\n",
      "{1, 2, 3, 4, 5}\n"
     ]
    }
   ],
   "source": [
    "s1 = {1, 2, 3, 4}\n",
    "s2 = {3, 4, 5}\n",
    "s3 = s1|s2\n",
    "s4 = s1.union(s2)\n",
    "print(s3)\n",
    "print(s4)"
   ]
  },
  {
   "cell_type": "code",
   "execution_count": 66,
   "id": "9aad4010",
   "metadata": {},
   "outputs": [
    {
     "name": "stdout",
     "output_type": "stream",
     "text": [
      "{3, 4}\n",
      "{3, 4}\n"
     ]
    }
   ],
   "source": [
    "s5 = s1 & s2\n",
    "s6 = s1.intersection(s2)\n",
    "print(s5)\n",
    "print(s6)"
   ]
  },
  {
   "cell_type": "code",
   "execution_count": 68,
   "id": "b16ef56a",
   "metadata": {},
   "outputs": [
    {
     "name": "stdout",
     "output_type": "stream",
     "text": [
      "{1, 2}\n",
      "{1, 2}\n"
     ]
    }
   ],
   "source": [
    "s7 = s1 - s2\n",
    "s8 = s1.difference(s2)\n",
    "print(s7)\n",
    "print(s8)"
   ]
  },
  {
   "cell_type": "code",
   "execution_count": 71,
   "id": "6a9ff81e",
   "metadata": {},
   "outputs": [
    {
     "name": "stdout",
     "output_type": "stream",
     "text": [
      "{1, 2, 3, 4, 5, 10}\n"
     ]
    }
   ],
   "source": [
    "s3.add(10)\n",
    "print(s3)"
   ]
  },
  {
   "cell_type": "code",
   "execution_count": 73,
   "id": "0ad01f7a",
   "metadata": {},
   "outputs": [
    {
     "name": "stdout",
     "output_type": "stream",
     "text": [
      "{1, 2, 3, 4, 5, 200, 10, 100, 300}\n"
     ]
    }
   ],
   "source": [
    "s3.update([1,2,3,100,200,300])\n",
    "print(s3)"
   ]
  },
  {
   "cell_type": "code",
   "execution_count": 75,
   "id": "77bf865a",
   "metadata": {},
   "outputs": [
    {
     "name": "stdout",
     "output_type": "stream",
     "text": [
      "2\n"
     ]
    },
    {
     "data": {
      "text/plain": [
       "{3, 4, 5, 10, 100, 200, 300}"
      ]
     },
     "execution_count": 75,
     "metadata": {},
     "output_type": "execute_result"
    }
   ],
   "source": [
    "v=s3.pop()\n",
    "print(v)\n",
    "s3"
   ]
  },
  {
   "cell_type": "code",
   "execution_count": 77,
   "id": "4eee682c",
   "metadata": {},
   "outputs": [
    {
     "ename": "KeyError",
     "evalue": "5",
     "output_type": "error",
     "traceback": [
      "\u001b[0;31m---------------------------------------------------------------------------\u001b[0m",
      "\u001b[0;31mKeyError\u001b[0m                                  Traceback (most recent call last)",
      "\u001b[0;32m/var/folders/vb/37p998ys4bv1nrwzplsk62nw0000gn/T/ipykernel_9605/1479602097.py\u001b[0m in \u001b[0;36m<module>\u001b[0;34m\u001b[0m\n\u001b[0;32m----> 1\u001b[0;31m \u001b[0ms3\u001b[0m\u001b[0;34m.\u001b[0m\u001b[0mremove\u001b[0m\u001b[0;34m(\u001b[0m\u001b[0;36m5\u001b[0m\u001b[0;34m)\u001b[0m\u001b[0;34m\u001b[0m\u001b[0;34m\u001b[0m\u001b[0m\n\u001b[0m\u001b[1;32m      2\u001b[0m \u001b[0mprint\u001b[0m\u001b[0;34m(\u001b[0m\u001b[0ms3\u001b[0m\u001b[0;34m)\u001b[0m\u001b[0;34m\u001b[0m\u001b[0;34m\u001b[0m\u001b[0m\n",
      "\u001b[0;31mKeyError\u001b[0m: 5"
     ]
    }
   ],
   "source": [
    "s3.remove(5)\n",
    "print(s3)"
   ]
  },
  {
   "cell_type": "markdown",
   "id": "b0606519",
   "metadata": {},
   "source": [
    "### 자료구조변환 함수\n",
    "    - list() : list로 변환\n",
    "    - tuple() : tuple로 변환\n",
    "    - set() : set으로 변환\n",
    "    - 딕셔너리로 변환하는 함수는 없음\n",
    "    - 변경할 대상 자료구조가 딕셔너리일 경우 key값만 모아서 반환"
   ]
  },
  {
   "cell_type": "code",
   "execution_count": 81,
   "id": "a069ed94",
   "metadata": {},
   "outputs": [
    {
     "data": {
      "text/plain": [
       "(1, 3, 10, 20, 11)"
      ]
     },
     "execution_count": 81,
     "metadata": {},
     "output_type": "execute_result"
    }
   ],
   "source": [
    "t1 = tuple([1, 3, 10, 20, 11])\n",
    "t1"
   ]
  },
  {
   "cell_type": "code",
   "execution_count": 82,
   "id": "d035d180",
   "metadata": {},
   "outputs": [],
   "source": [
    "d1 = {'a':10, 'b':20, 'c':30}"
   ]
  },
  {
   "cell_type": "code",
   "execution_count": 83,
   "id": "45e005da",
   "metadata": {},
   "outputs": [
    {
     "data": {
      "text/plain": [
       "{'a', 'b', 'c'}"
      ]
     },
     "execution_count": 83,
     "metadata": {},
     "output_type": "execute_result"
    }
   ],
   "source": [
    "set(d1)"
   ]
  },
  {
   "cell_type": "code",
   "execution_count": 86,
   "id": "91c599d0",
   "metadata": {},
   "outputs": [
    {
     "data": {
      "text/plain": [
       "{'name': '홍길동', 'age': 20, 'address': '부산'}"
      ]
     },
     "execution_count": 86,
     "metadata": {},
     "output_type": "execute_result"
    }
   ],
   "source": [
    "# dict(key = value, ket = value) #딕셔너리를 만들기 쉽게하는 함수\n",
    "di= dict(name='홍길동', age=20, address='부산')\n",
    "di"
   ]
  },
  {
   "cell_type": "code",
   "execution_count": 123,
   "id": "c17ee789",
   "metadata": {},
   "outputs": [
    {
     "name": "stdout",
     "output_type": "stream",
     "text": [
      "80\n"
     ]
    }
   ],
   "source": [
    "jumsu = [100, 90, 100, 80, 70, 100, 80, 90, 95, 85] \n",
    "\n",
    "# 위는 학생번호 1번 ~ 10번까지 10명의 시험 점수이다. (문제 1 ~ 7)\n",
    "#(1)  7번의 점수를 출력하세요 \n",
    "print(jumsu[6])"
   ]
  },
  {
   "cell_type": "code",
   "execution_count": 124,
   "id": "8f1a7058",
   "metadata": {},
   "outputs": [
    {
     "name": "stdout",
     "output_type": "stream",
     "text": [
      "[100, 90, 100, 80, 70]\n"
     ]
    }
   ],
   "source": [
    "#(2)  1번부터 5번까지의 점수를 출력하세요.\n",
    "print(jumsu[0:5])"
   ]
  },
  {
   "cell_type": "code",
   "execution_count": 125,
   "id": "4618f29d",
   "metadata": {},
   "outputs": [
    {
     "name": "stdout",
     "output_type": "stream",
     "text": [
      "[80, 70, 100, 80]\n"
     ]
    }
   ],
   "source": [
    "#(3)  4, 5, 6, 7번의 점수를 출력하세요.\n",
    "print(jumsu[3:7])"
   ]
  },
  {
   "cell_type": "code",
   "execution_count": 126,
   "id": "6b5ad171",
   "metadata": {},
   "outputs": [
    {
     "name": "stdout",
     "output_type": "stream",
     "text": [
      "[90, 80, 100, 90, 85]\n"
     ]
    }
   ],
   "source": [
    "#(4) 짝수번째 점수를 출력하세요.\n",
    "print(jumsu[1::2])"
   ]
  },
  {
   "cell_type": "code",
   "execution_count": 127,
   "id": "4dffbed6",
   "metadata": {},
   "outputs": [
    {
     "name": "stdout",
     "output_type": "stream",
     "text": [
      "[100, 100, 70, 80, 95]\n"
     ]
    }
   ],
   "source": [
    "#(5) 홀수번째 점수를 출력하세요.\n",
    "print(jumsu[::2])"
   ]
  },
  {
   "cell_type": "code",
   "execution_count": 128,
   "id": "d420da52",
   "metadata": {},
   "outputs": [
    {
     "name": "stdout",
     "output_type": "stream",
     "text": [
      "[100, 90, 100, 80, 70, 100, 80, 90, 20, 85]\n"
     ]
    }
   ],
   "source": [
    "#(6) 9번의 점수를 20으로 변경하고 전체 출력하세요.\n",
    "jumsu[8] = 20\n",
    "print(jumsu)"
   ]
  },
  {
   "cell_type": "code",
   "execution_count": 103,
   "id": "12fd68d2",
   "metadata": {},
   "outputs": [
    {
     "name": "stdout",
     "output_type": "stream",
     "text": [
      "{100, 70, 80, 20, 85, 90}\n"
     ]
    }
   ],
   "source": [
    "#(7) 중복된 점수는 제거하고 하나씩만 나오도록 출력하세요.\n",
    "print(set(jumsu))"
   ]
  },
  {
   "cell_type": "code",
   "execution_count": 106,
   "id": "048d7590",
   "metadata": {},
   "outputs": [],
   "source": [
    "# 문제 8 ~ 9\n",
    "fruits = [\"복숭아\", \"수박\", \"딸기\"]"
   ]
  },
  {
   "cell_type": "code",
   "execution_count": 109,
   "id": "212c9949",
   "metadata": {},
   "outputs": [
    {
     "name": "stdout",
     "output_type": "stream",
     "text": [
      "['복숭아', '수박', '딸기', '사과', '귤']\n"
     ]
    }
   ],
   "source": [
    "#(8) fruits 리스트에 마지막 원소로 \"사과\", \"귤\"을 추가하세요.\n",
    "fruits.append(\"사과\")\n",
    "fruits.append(\"귤\")\n",
    "print(fruits)"
   ]
  },
  {
   "cell_type": "code",
   "execution_count": 111,
   "id": "a2fecf8c",
   "metadata": {},
   "outputs": [
    {
     "name": "stdout",
     "output_type": "stream",
     "text": [
      "['수박', '딸기', '사과', '귤']\n"
     ]
    }
   ],
   "source": [
    "#(9) fruits 리스트에서 \"복숭아\"를 제거하세요.\n",
    "fruits.remove(\"복숭아\")\n",
    "print(fruits)\n",
    "\n",
    "#문제 10 ~ 15"
   ]
  },
  {
   "cell_type": "code",
   "execution_count": 114,
   "id": "4a132d58",
   "metadata": {},
   "outputs": [],
   "source": [
    "#(10)본인의 이름, 나이, email주소, 취미, 결혼유무를 사전(딕셔너리)으로 생성. \n",
    "# 취미는 2개 이상의 값을 넣는다..\n",
    "d1=dict(name=\"강희돈\", age=27, email='gmlehs0101@gmail.com', hobby=['travel', 'game'], marrige='no')"
   ]
  },
  {
   "cell_type": "code",
   "execution_count": 117,
   "id": "3413c512",
   "metadata": {},
   "outputs": [
    {
     "name": "stdout",
     "output_type": "stream",
     "text": [
      "gmlehs0101@gmail.com\n"
     ]
    }
   ],
   "source": [
    "#(11) 위 딕셔너리에서 이름과 email주소를 조회해서 출력하세요.\n",
    "print(d1['email'])"
   ]
  },
  {
   "cell_type": "code",
   "execution_count": 118,
   "id": "9f5f8a55",
   "metadata": {},
   "outputs": [
    {
     "name": "stdout",
     "output_type": "stream",
     "text": [
      "game\n"
     ]
    }
   ],
   "source": [
    "#(12) 위 딕셔너리에서 취미중 두번째 취미를 조회해서 출력하세요.\n",
    "print(d1['hobby'][1])"
   ]
  },
  {
   "cell_type": "code",
   "execution_count": 119,
   "id": "9fce9bf5",
   "metadata": {},
   "outputs": [],
   "source": [
    "#(13) 위 딕셔너리에 몸무게와 키 항목을 추가하세요.\n",
    "d1['weight']='75kg'\n",
    "d1['tall']='176cm'"
   ]
  },
  {
   "cell_type": "code",
   "execution_count": 120,
   "id": "6238dd34",
   "metadata": {},
   "outputs": [],
   "source": [
    "#(14) 위 딕셔너리에서 나이를 제거하세요.\n",
    "del d1['age']"
   ]
  },
  {
   "cell_type": "code",
   "execution_count": 122,
   "id": "853deee2",
   "metadata": {},
   "outputs": [
    {
     "name": "stdout",
     "output_type": "stream",
     "text": [
      "{'name': '강희돈', 'email': 'gmlehs0101@naver.com', 'hobby': ['travel', 'game'], 'marrige': 'no', 'weight': '75kg', 'tall': '176cm'}\n"
     ]
    }
   ],
   "source": [
    "#(15) 위 딕셔너리에서 email 주소를 다른 값으로 변경하세요.\n",
    "d1['email']='gmlehs0101@naver.com'\n",
    "print(d1)"
   ]
  }
 ],
 "metadata": {
  "kernelspec": {
   "display_name": "Python 3 (ipykernel)",
   "language": "python",
   "name": "python3"
  },
  "language_info": {
   "codemirror_mode": {
    "name": "ipython",
    "version": 3
   },
   "file_extension": ".py",
   "mimetype": "text/x-python",
   "name": "python",
   "nbconvert_exporter": "python",
   "pygments_lexer": "ipython3",
   "version": "3.9.7"
  }
 },
 "nbformat": 4,
 "nbformat_minor": 5
}
