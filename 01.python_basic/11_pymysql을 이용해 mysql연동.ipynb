{
 "cells": [
  {
   "cell_type": "markdown",
   "id": "a2f58681",
   "metadata": {},
   "source": [
    "# pymysql\n",
    "- 파이썬에서 MySQL, MariaDB DBMS와 연동하는 다양한 함수를 제공하는 모듈\n",
    "- Python [DB API 2.0](http://www.python.org/dev/peps/pep-0249) 표준을 따른다.\n",
    "- https://github.com/PyMySQL/PyMySQL/\n",
    "- https://pymysql.readthedocs.io/en/latest/"
   ]
  },
  {
   "cell_type": "markdown",
   "id": "43cccb80",
   "metadata": {},
   "source": [
    "# 설치\n",
    "- 조건\n",
    "    - python version 3.6 이상\n",
    "    - mysql version 5.6 이상\n",
    "- 설치\n",
    "    - `pip install PyMySQL`\n",
    "    - `conda install -c conda-forge pymysql`"
   ]
  },
  {
   "cell_type": "code",
   "execution_count": 5,
   "id": "a2329be0",
   "metadata": {},
   "outputs": [
    {
     "name": "stdout",
     "output_type": "stream",
     "text": [
      "Requirement already satisfied: pip in /Users/don/opt/anaconda3/lib/python3.9/site-packages (22.1)\n",
      "Collecting pip\n",
      "  Downloading pip-22.1.2-py3-none-any.whl (2.1 MB)\n",
      "\u001b[2K     \u001b[90m━━━━━━━━━━━━━━━━━━━━━━━━━━━━━━━━━━━━━━━━\u001b[0m \u001b[32m2.1/2.1 MB\u001b[0m \u001b[31m26.2 MB/s\u001b[0m eta \u001b[36m0:00:00\u001b[0m00:01\u001b[0m00:01\u001b[0m\n",
      "\u001b[?25hInstalling collected packages: pip\n",
      "  Attempting uninstall: pip\n",
      "    Found existing installation: pip 22.1\n",
      "    Uninstalling pip-22.1:\n",
      "      Successfully uninstalled pip-22.1\n",
      "Successfully installed pip-22.1.2\n"
     ]
    }
   ],
   "source": [
    "!python -m pip install --upgrade pip"
   ]
  },
  {
   "cell_type": "code",
   "execution_count": 6,
   "id": "16ddb3ec",
   "metadata": {},
   "outputs": [
    {
     "name": "stdout",
     "output_type": "stream",
     "text": [
      "Requirement already satisfied: PyMySQL in /Users/don/opt/anaconda3/lib/python3.9/site-packages (1.0.2)\r\n"
     ]
    }
   ],
   "source": [
    "!pip install PyMySQL"
   ]
  },
  {
   "cell_type": "markdown",
   "id": "7572463d",
   "metadata": {},
   "source": [
    "# 기본 작성 절차\n",
    "\n",
    "1. Database 연결\n",
    "    ```python\n",
    "       connection =  pymysql.connect(host=\"DBMS 서버 ip\", \n",
    "                                     port=\"port번호\", \n",
    "                                     user=\"계정명\", \n",
    "                                     password=\"비밀번호\", \n",
    "                                     db=\"연결할데이터베이스이름\", \n",
    "                                     charset='utf8')\n",
    "    ```\n",
    "    - port 번호 기본값: 3306\n",
    "2. Connection을 이용해 Cursor 생성\n",
    "    - Cursor: 연결된 Database에 sql문을 전송하고 select결과 조회 기능을 제공하는 객체\n",
    "    ```python\n",
    "        cursor = connection.cursor()\n",
    "    ```\n",
    "3. Cusror를 이용해 SQL문 전송\n",
    "    ```python\n",
    "        cursor.execute(\"sql문\")\n",
    "    ```\n",
    "4. 연결 닫기\n",
    "    - cursor, connection 연결을 닫는다.\n",
    "    - with문을 이용할 수 있다. \n",
    "    ```python\n",
    "    cursor.close()\n",
    "    connection.close()\n",
    "    ```"
   ]
  },
  {
   "cell_type": "markdown",
   "id": "3262b127",
   "metadata": {},
   "source": [
    "# 예제\n",
    "\n",
    "## 테이블 생성\n",
    "- 참고) pymysql을 이용해서는 DML(insert, update, delete, update)문을 실행한다. (DDL은 거의 실행하지 않는다.)"
   ]
  },
  {
   "cell_type": "code",
   "execution_count": 7,
   "id": "a8a1f263",
   "metadata": {},
   "outputs": [
    {
     "name": "stdout",
     "output_type": "stream",
     "text": [
      "<class 'pymysql.connections.Connection'>\n"
     ]
    }
   ],
   "source": [
    "# import\n",
    "import pymysql\n",
    "\n",
    "# DB 연결 - connect()\n",
    "connection = pymysql.connect(host = '127.0.0.1',\n",
    "                             port = 3306,\n",
    "                             user = 'scott',\n",
    "                             password = 'tiger',\n",
    "                             db = 'testdb')\n",
    "print(type(connection))"
   ]
  },
  {
   "cell_type": "code",
   "execution_count": 8,
   "id": "1d5705f5",
   "metadata": {},
   "outputs": [
    {
     "name": "stdout",
     "output_type": "stream",
     "text": [
      "<class 'pymysql.cursors.Cursor'>\n"
     ]
    }
   ],
   "source": [
    "# Cursor를 Connection으로 부터 얻어온다 - Cursor: sql문 실행을 관리하는 객체.\n",
    "cursor = connection.cursor()\n",
    "print(type(cursor))"
   ]
  },
  {
   "cell_type": "code",
   "execution_count": 12,
   "id": "6114d517",
   "metadata": {},
   "outputs": [
    {
     "data": {
      "text/plain": [
       "0"
      ]
     },
     "execution_count": 12,
     "metadata": {},
     "output_type": "execute_result"
    }
   ],
   "source": [
    "# sql 문 실행\n",
    "# sql ansdms string을 정의. execute() 메소드를 이용해서 DB에 전송\n",
    "sql = \"\"\"\n",
    "create table test_user(\n",
    " id int auto_increment primary key,\n",
    " name varchar(30) not null,\n",
    " email varchar(100) not null unique,\n",
    " tall decimal(5,2),\n",
    " birthday date\n",
    ")\n",
    "\"\"\"\n",
    "cursor.execute(sql)  # 실행"
   ]
  },
  {
   "cell_type": "code",
   "execution_count": 13,
   "id": "5416ea73",
   "metadata": {},
   "outputs": [],
   "source": [
    "# 연결 닫기 - cursor, connection close\n",
    "cursor.close()\n",
    "connection.close()"
   ]
  },
  {
   "cell_type": "markdown",
   "id": "59b4e786",
   "metadata": {},
   "source": [
    "## DML\n",
    "### insert"
   ]
  },
  {
   "cell_type": "code",
   "execution_count": 34,
   "id": "61deab37",
   "metadata": {},
   "outputs": [
    {
     "name": "stdout",
     "output_type": "stream",
     "text": [
      "1행이 insert되었습니다.\n"
     ]
    }
   ],
   "source": [
    "import pymysql # auto commit = False\n",
    "sql = \"insert into test_user(name, email, tall, birthday) values ('홍길동', 'hong@a.com', 182.23, '2000-02-03')\"\n",
    "try:\n",
    "    connection = pymysql.connect(host='127.0.0.1', port=3306, user='scott', password='tiger', db='testdb',charset='utf8')\n",
    "    # cursor 생성\n",
    "    cursor = connection.cursor()\n",
    "    # insert문 실행\n",
    "    cnt = cursor.execute(sql)\n",
    "    print(f\"{cnt}행이 insert되었습니다.\")\n",
    "    connection.commit() # insert/delete/update 문 실행 후 commit 처리를 해야한다\n",
    "except Exception as e:\n",
    "    if connection:\n",
    "        connection.rollback()\n",
    "    print(e)\n",
    "finally:\n",
    "    if cursor:\n",
    "        cursor.close()\n",
    "    if connection:\n",
    "        connection.close()"
   ]
  },
  {
   "cell_type": "code",
   "execution_count": 22,
   "id": "c78ebebd",
   "metadata": {},
   "outputs": [
    {
     "name": "stdout",
     "output_type": "stream",
     "text": [
      "1행이 insert됨\n"
     ]
    }
   ],
   "source": [
    "# with 문\n",
    "sql = \"insert into test_user(name, email, tall, birthday) values ('홍길동2', 'hong2@a.com', 182.23, '2000-02-03')\"\n",
    "with pymysql.connect(host='127.0.0.1', port=3306, user='scott', password='tiger', db='testdb', charset='utf8') as connection:\n",
    "    with connection.cursor() as cursor:\n",
    "        cnt = cursor.execute(sql)\n",
    "        print(f'{cnt}행이 insert됨')\n",
    "        connection.commit()"
   ]
  },
  {
   "cell_type": "code",
   "execution_count": 23,
   "id": "5b63bc0a",
   "metadata": {},
   "outputs": [],
   "source": [
    "def insert_user(name, email, tall, birthday):\n",
    "    sql = f\"insert into test_user(name, email, tall, birthday) values ('{name}', '{email}', {tall}, '{birthday}')\"\n",
    "    with pymysql.connect(host='127.0.0.1', port=3306, user='scott', password='tiger', db='testdb', charset='utf8') as connection:\n",
    "        with connection.cursor() as cursor:\n",
    "            cnt = cursor.execute(sql)\n",
    "            print(f'{cnt}행이 insert됨')\n",
    "            connection.commit()\n",
    "    "
   ]
  },
  {
   "cell_type": "code",
   "execution_count": 24,
   "id": "d2b98a29",
   "metadata": {},
   "outputs": [
    {
     "name": "stdout",
     "output_type": "stream",
     "text": [
      "1행이 insert됨\n"
     ]
    }
   ],
   "source": [
    "insert_user('이순신', 'lee@a.com', 190.20, '1995-10-22')"
   ]
  },
  {
   "cell_type": "code",
   "execution_count": null,
   "id": "3e36ccb7",
   "metadata": {},
   "outputs": [],
   "source": []
  },
  {
   "cell_type": "markdown",
   "id": "c1d9de83",
   "metadata": {
    "ExecuteTime": {
     "end_time": "2022-04-19T06:23:30.323879Z",
     "start_time": "2022-04-19T06:23:30.304888Z"
    }
   },
   "source": [
    "### Parameterized Query\n",
    "- Parameterized Query\n",
    "    - SQL 문에서 컬럼 값이 들어가는 자리에 값대신 `%s` placeholder를 사용한뒤 execute()에서 placeholder에 넣을 값을 tuple로 제공한다.\n",
    "    - query문을 쉽게 작성할 수 있는 장점이 있다.        "
   ]
  },
  {
   "cell_type": "code",
   "execution_count": 27,
   "id": "6a50b5ae",
   "metadata": {},
   "outputs": [
    {
     "data": {
      "text/plain": [
       "datetime.date(1999, 3, 2)"
      ]
     },
     "execution_count": 27,
     "metadata": {},
     "output_type": "execute_result"
    }
   ],
   "source": [
    "date(1999,3,2) # sql date"
   ]
  },
  {
   "cell_type": "code",
   "execution_count": 31,
   "id": "5c060325",
   "metadata": {},
   "outputs": [
    {
     "name": "stdout",
     "output_type": "stream",
     "text": [
      "1행이 insert됨\n",
      "1행이 insert됨\n"
     ]
    }
   ],
   "source": [
    "# datatime 모듈: 날짜-date, 시간-time, 날짜시간-datetime 등 날짜와 시간을 다루는 모듈. => DB의 날짜/시간 타입과 연동.\n",
    "from datetime import date\n",
    "sql = \"insert into test_user(name, email, tall, birthday) values (%s, %s, %s, %s)\"\n",
    "with pymysql.connect(host='127.0.0.1', port=3306, user='scott', password='tiger', db='testdb', charset='utf8') as connection:\n",
    "    with connection.cursor() as cursor:\n",
    "        cnt = cursor.execute(sql, ('유관순', 'yoo2@a.com', 175.3, '2000-01-05'))\n",
    "        cnt2 = cursor.execute(sql, ('강감찬', 'kang@a.com', 170.3, date(1995,2,3)))\n",
    "        print(f'{cnt}행이 insert됨')\n",
    "        print(f'{cnt2}행이 insert됨')\n",
    "        connection.commit()"
   ]
  },
  {
   "cell_type": "markdown",
   "id": "37335b7b",
   "metadata": {},
   "source": [
    "### Parameterized Query를 이용해 여러개 행 insert\n",
    "\n",
    "#### for문 사용"
   ]
  },
  {
   "cell_type": "code",
   "execution_count": 37,
   "id": "0fc2331b",
   "metadata": {},
   "outputs": [],
   "source": [
    "names = ['이름1', '이름2', '이름3']\n",
    "emails = ['e1@a.com','e2@a.com','e3@a.com']\n",
    "talls = [182.3, 157.3, 175.2]\n",
    "birthdays = ['2012.2.3',date.today(), '1952-5-3']"
   ]
  },
  {
   "cell_type": "code",
   "execution_count": 53,
   "id": "cd598d70",
   "metadata": {
    "collapsed": true
   },
   "outputs": [
    {
     "ename": "IntegrityError",
     "evalue": "(1062, \"Duplicate entry 'e1@a.com' for key 'test_user.email'\")",
     "output_type": "error",
     "traceback": [
      "\u001b[0;31m---------------------------------------------------------------------------\u001b[0m",
      "\u001b[0;31mIntegrityError\u001b[0m                            Traceback (most recent call last)",
      "Input \u001b[0;32mIn [53]\u001b[0m, in \u001b[0;36m<cell line: 2>\u001b[0;34m()\u001b[0m\n\u001b[1;32m      3\u001b[0m \u001b[38;5;28;01mwith\u001b[39;00m connection\u001b[38;5;241m.\u001b[39mcursor() \u001b[38;5;28;01mas\u001b[39;00m cursor:\n\u001b[1;32m      4\u001b[0m     \u001b[38;5;28;01mfor\u001b[39;00m data \u001b[38;5;129;01min\u001b[39;00m \u001b[38;5;28mzip\u001b[39m(names, emails, talls,birthdays):\n\u001b[0;32m----> 5\u001b[0m         \u001b[43mcursor\u001b[49m\u001b[38;5;241;43m.\u001b[39;49m\u001b[43mexecute\u001b[49m\u001b[43m(\u001b[49m\u001b[43msql\u001b[49m\u001b[43m,\u001b[49m\u001b[43mdata\u001b[49m\u001b[43m)\u001b[49m\n\u001b[1;32m      6\u001b[0m     connection\u001b[38;5;241m.\u001b[39mcommit()\n",
      "File \u001b[0;32m~/opt/anaconda3/lib/python3.9/site-packages/pymysql/cursors.py:148\u001b[0m, in \u001b[0;36mCursor.execute\u001b[0;34m(self, query, args)\u001b[0m\n\u001b[1;32m    144\u001b[0m     \u001b[38;5;28;01mpass\u001b[39;00m\n\u001b[1;32m    146\u001b[0m query \u001b[38;5;241m=\u001b[39m \u001b[38;5;28mself\u001b[39m\u001b[38;5;241m.\u001b[39mmogrify(query, args)\n\u001b[0;32m--> 148\u001b[0m result \u001b[38;5;241m=\u001b[39m \u001b[38;5;28;43mself\u001b[39;49m\u001b[38;5;241;43m.\u001b[39;49m\u001b[43m_query\u001b[49m\u001b[43m(\u001b[49m\u001b[43mquery\u001b[49m\u001b[43m)\u001b[49m\n\u001b[1;32m    149\u001b[0m \u001b[38;5;28mself\u001b[39m\u001b[38;5;241m.\u001b[39m_executed \u001b[38;5;241m=\u001b[39m query\n\u001b[1;32m    150\u001b[0m \u001b[38;5;28;01mreturn\u001b[39;00m result\n",
      "File \u001b[0;32m~/opt/anaconda3/lib/python3.9/site-packages/pymysql/cursors.py:310\u001b[0m, in \u001b[0;36mCursor._query\u001b[0;34m(self, q)\u001b[0m\n\u001b[1;32m    308\u001b[0m \u001b[38;5;28mself\u001b[39m\u001b[38;5;241m.\u001b[39m_last_executed \u001b[38;5;241m=\u001b[39m q\n\u001b[1;32m    309\u001b[0m \u001b[38;5;28mself\u001b[39m\u001b[38;5;241m.\u001b[39m_clear_result()\n\u001b[0;32m--> 310\u001b[0m \u001b[43mconn\u001b[49m\u001b[38;5;241;43m.\u001b[39;49m\u001b[43mquery\u001b[49m\u001b[43m(\u001b[49m\u001b[43mq\u001b[49m\u001b[43m)\u001b[49m\n\u001b[1;32m    311\u001b[0m \u001b[38;5;28mself\u001b[39m\u001b[38;5;241m.\u001b[39m_do_get_result()\n\u001b[1;32m    312\u001b[0m \u001b[38;5;28;01mreturn\u001b[39;00m \u001b[38;5;28mself\u001b[39m\u001b[38;5;241m.\u001b[39mrowcount\n",
      "File \u001b[0;32m~/opt/anaconda3/lib/python3.9/site-packages/pymysql/connections.py:548\u001b[0m, in \u001b[0;36mConnection.query\u001b[0;34m(self, sql, unbuffered)\u001b[0m\n\u001b[1;32m    546\u001b[0m     sql \u001b[38;5;241m=\u001b[39m sql\u001b[38;5;241m.\u001b[39mencode(\u001b[38;5;28mself\u001b[39m\u001b[38;5;241m.\u001b[39mencoding, \u001b[38;5;124m\"\u001b[39m\u001b[38;5;124msurrogateescape\u001b[39m\u001b[38;5;124m\"\u001b[39m)\n\u001b[1;32m    547\u001b[0m \u001b[38;5;28mself\u001b[39m\u001b[38;5;241m.\u001b[39m_execute_command(COMMAND\u001b[38;5;241m.\u001b[39mCOM_QUERY, sql)\n\u001b[0;32m--> 548\u001b[0m \u001b[38;5;28mself\u001b[39m\u001b[38;5;241m.\u001b[39m_affected_rows \u001b[38;5;241m=\u001b[39m \u001b[38;5;28;43mself\u001b[39;49m\u001b[38;5;241;43m.\u001b[39;49m\u001b[43m_read_query_result\u001b[49m\u001b[43m(\u001b[49m\u001b[43munbuffered\u001b[49m\u001b[38;5;241;43m=\u001b[39;49m\u001b[43munbuffered\u001b[49m\u001b[43m)\u001b[49m\n\u001b[1;32m    549\u001b[0m \u001b[38;5;28;01mreturn\u001b[39;00m \u001b[38;5;28mself\u001b[39m\u001b[38;5;241m.\u001b[39m_affected_rows\n",
      "File \u001b[0;32m~/opt/anaconda3/lib/python3.9/site-packages/pymysql/connections.py:775\u001b[0m, in \u001b[0;36mConnection._read_query_result\u001b[0;34m(self, unbuffered)\u001b[0m\n\u001b[1;32m    773\u001b[0m \u001b[38;5;28;01melse\u001b[39;00m:\n\u001b[1;32m    774\u001b[0m     result \u001b[38;5;241m=\u001b[39m MySQLResult(\u001b[38;5;28mself\u001b[39m)\n\u001b[0;32m--> 775\u001b[0m     \u001b[43mresult\u001b[49m\u001b[38;5;241;43m.\u001b[39;49m\u001b[43mread\u001b[49m\u001b[43m(\u001b[49m\u001b[43m)\u001b[49m\n\u001b[1;32m    776\u001b[0m \u001b[38;5;28mself\u001b[39m\u001b[38;5;241m.\u001b[39m_result \u001b[38;5;241m=\u001b[39m result\n\u001b[1;32m    777\u001b[0m \u001b[38;5;28;01mif\u001b[39;00m result\u001b[38;5;241m.\u001b[39mserver_status \u001b[38;5;129;01mis\u001b[39;00m \u001b[38;5;129;01mnot\u001b[39;00m \u001b[38;5;28;01mNone\u001b[39;00m:\n",
      "File \u001b[0;32m~/opt/anaconda3/lib/python3.9/site-packages/pymysql/connections.py:1156\u001b[0m, in \u001b[0;36mMySQLResult.read\u001b[0;34m(self)\u001b[0m\n\u001b[1;32m   1154\u001b[0m \u001b[38;5;28;01mdef\u001b[39;00m \u001b[38;5;21mread\u001b[39m(\u001b[38;5;28mself\u001b[39m):\n\u001b[1;32m   1155\u001b[0m     \u001b[38;5;28;01mtry\u001b[39;00m:\n\u001b[0;32m-> 1156\u001b[0m         first_packet \u001b[38;5;241m=\u001b[39m \u001b[38;5;28;43mself\u001b[39;49m\u001b[38;5;241;43m.\u001b[39;49m\u001b[43mconnection\u001b[49m\u001b[38;5;241;43m.\u001b[39;49m\u001b[43m_read_packet\u001b[49m\u001b[43m(\u001b[49m\u001b[43m)\u001b[49m\n\u001b[1;32m   1158\u001b[0m         \u001b[38;5;28;01mif\u001b[39;00m first_packet\u001b[38;5;241m.\u001b[39mis_ok_packet():\n\u001b[1;32m   1159\u001b[0m             \u001b[38;5;28mself\u001b[39m\u001b[38;5;241m.\u001b[39m_read_ok_packet(first_packet)\n",
      "File \u001b[0;32m~/opt/anaconda3/lib/python3.9/site-packages/pymysql/connections.py:725\u001b[0m, in \u001b[0;36mConnection._read_packet\u001b[0;34m(self, packet_type)\u001b[0m\n\u001b[1;32m    723\u001b[0m     \u001b[38;5;28;01mif\u001b[39;00m \u001b[38;5;28mself\u001b[39m\u001b[38;5;241m.\u001b[39m_result \u001b[38;5;129;01mis\u001b[39;00m \u001b[38;5;129;01mnot\u001b[39;00m \u001b[38;5;28;01mNone\u001b[39;00m \u001b[38;5;129;01mand\u001b[39;00m \u001b[38;5;28mself\u001b[39m\u001b[38;5;241m.\u001b[39m_result\u001b[38;5;241m.\u001b[39munbuffered_active \u001b[38;5;129;01mis\u001b[39;00m \u001b[38;5;28;01mTrue\u001b[39;00m:\n\u001b[1;32m    724\u001b[0m         \u001b[38;5;28mself\u001b[39m\u001b[38;5;241m.\u001b[39m_result\u001b[38;5;241m.\u001b[39munbuffered_active \u001b[38;5;241m=\u001b[39m \u001b[38;5;28;01mFalse\u001b[39;00m\n\u001b[0;32m--> 725\u001b[0m     \u001b[43mpacket\u001b[49m\u001b[38;5;241;43m.\u001b[39;49m\u001b[43mraise_for_error\u001b[49m\u001b[43m(\u001b[49m\u001b[43m)\u001b[49m\n\u001b[1;32m    726\u001b[0m \u001b[38;5;28;01mreturn\u001b[39;00m packet\n",
      "File \u001b[0;32m~/opt/anaconda3/lib/python3.9/site-packages/pymysql/protocol.py:221\u001b[0m, in \u001b[0;36mMysqlPacket.raise_for_error\u001b[0;34m(self)\u001b[0m\n\u001b[1;32m    219\u001b[0m \u001b[38;5;28;01mif\u001b[39;00m DEBUG:\n\u001b[1;32m    220\u001b[0m     \u001b[38;5;28mprint\u001b[39m(\u001b[38;5;124m\"\u001b[39m\u001b[38;5;124merrno =\u001b[39m\u001b[38;5;124m\"\u001b[39m, errno)\n\u001b[0;32m--> 221\u001b[0m \u001b[43merr\u001b[49m\u001b[38;5;241;43m.\u001b[39;49m\u001b[43mraise_mysql_exception\u001b[49m\u001b[43m(\u001b[49m\u001b[38;5;28;43mself\u001b[39;49m\u001b[38;5;241;43m.\u001b[39;49m\u001b[43m_data\u001b[49m\u001b[43m)\u001b[49m\n",
      "File \u001b[0;32m~/opt/anaconda3/lib/python3.9/site-packages/pymysql/err.py:143\u001b[0m, in \u001b[0;36mraise_mysql_exception\u001b[0;34m(data)\u001b[0m\n\u001b[1;32m    141\u001b[0m \u001b[38;5;28;01mif\u001b[39;00m errorclass \u001b[38;5;129;01mis\u001b[39;00m \u001b[38;5;28;01mNone\u001b[39;00m:\n\u001b[1;32m    142\u001b[0m     errorclass \u001b[38;5;241m=\u001b[39m InternalError \u001b[38;5;28;01mif\u001b[39;00m errno \u001b[38;5;241m<\u001b[39m \u001b[38;5;241m1000\u001b[39m \u001b[38;5;28;01melse\u001b[39;00m OperationalError\n\u001b[0;32m--> 143\u001b[0m \u001b[38;5;28;01mraise\u001b[39;00m errorclass(errno, errval)\n",
      "\u001b[0;31mIntegrityError\u001b[0m: (1062, \"Duplicate entry 'e1@a.com' for key 'test_user.email'\")"
     ]
    }
   ],
   "source": [
    "sql = \"insert into test_user(name, email, tall, birthday) values (%s, %s, %s, %s)\"\n",
    "with pymysql.connect(host='127.0.0.1', port=3306, user='scott', password='tiger', db='testdb', charset='utf8') as connection:\n",
    "    with connection.cursor() as cursor:\n",
    "        for data in zip(names, emails, talls,birthdays):\n",
    "            cursor.execute(sql,data)\n",
    "        connection.commit()\n",
    "        \n",
    "        "
   ]
  },
  {
   "cell_type": "markdown",
   "id": "7322f3bb",
   "metadata": {},
   "source": [
    "#### executemany() 사용\n",
    "- insert할 값들을 가진 리스트를 넣어 한번에 여러 행을 insert한다."
   ]
  },
  {
   "cell_type": "code",
   "execution_count": 85,
   "id": "772d6ceb",
   "metadata": {
    "collapsed": true
   },
   "outputs": [
    {
     "ename": "IntegrityError",
     "evalue": "(1062, \"Duplicate entry 'a1@a.com' for key 'test_user.email'\")",
     "output_type": "error",
     "traceback": [
      "\u001b[0;31m---------------------------------------------------------------------------\u001b[0m",
      "\u001b[0;31mIntegrityError\u001b[0m                            Traceback (most recent call last)",
      "Input \u001b[0;32mIn [85]\u001b[0m, in \u001b[0;36m<cell line: 12>\u001b[0;34m()\u001b[0m\n\u001b[1;32m     12\u001b[0m \u001b[38;5;28;01mwith\u001b[39;00m pymysql\u001b[38;5;241m.\u001b[39mconnect(host\u001b[38;5;241m=\u001b[39m\u001b[38;5;124m'\u001b[39m\u001b[38;5;124m127.0.0.1\u001b[39m\u001b[38;5;124m'\u001b[39m, port\u001b[38;5;241m=\u001b[39m\u001b[38;5;241m3306\u001b[39m, user\u001b[38;5;241m=\u001b[39m\u001b[38;5;124m'\u001b[39m\u001b[38;5;124mscott\u001b[39m\u001b[38;5;124m'\u001b[39m, password\u001b[38;5;241m=\u001b[39m\u001b[38;5;124m'\u001b[39m\u001b[38;5;124mtiger\u001b[39m\u001b[38;5;124m'\u001b[39m, db\u001b[38;5;241m=\u001b[39m\u001b[38;5;124m'\u001b[39m\u001b[38;5;124mtestdb\u001b[39m\u001b[38;5;124m'\u001b[39m, charset\u001b[38;5;241m=\u001b[39m\u001b[38;5;124m'\u001b[39m\u001b[38;5;124mutf8\u001b[39m\u001b[38;5;124m'\u001b[39m) \u001b[38;5;28;01mas\u001b[39;00m connection:\n\u001b[1;32m     13\u001b[0m     \u001b[38;5;28;01mwith\u001b[39;00m connection\u001b[38;5;241m.\u001b[39mcursor() \u001b[38;5;28;01mas\u001b[39;00m cursor:\n\u001b[0;32m---> 14\u001b[0m         \u001b[43mcursor\u001b[49m\u001b[38;5;241;43m.\u001b[39;49m\u001b[43mexecutemany\u001b[49m\u001b[43m(\u001b[49m\u001b[43msql\u001b[49m\u001b[43m,\u001b[49m\u001b[43m \u001b[49m\u001b[43mdatas\u001b[49m\u001b[43m)\u001b[49m\n\u001b[1;32m     15\u001b[0m         connection\u001b[38;5;241m.\u001b[39mcommit()\n",
      "File \u001b[0;32m~/opt/anaconda3/lib/python3.9/site-packages/pymysql/cursors.py:173\u001b[0m, in \u001b[0;36mCursor.executemany\u001b[0;34m(self, query, args)\u001b[0m\n\u001b[1;32m    171\u001b[0m     q_postfix \u001b[38;5;241m=\u001b[39m m\u001b[38;5;241m.\u001b[39mgroup(\u001b[38;5;241m3\u001b[39m) \u001b[38;5;129;01mor\u001b[39;00m \u001b[38;5;124m\"\u001b[39m\u001b[38;5;124m\"\u001b[39m\n\u001b[1;32m    172\u001b[0m     \u001b[38;5;28;01massert\u001b[39;00m q_values[\u001b[38;5;241m0\u001b[39m] \u001b[38;5;241m==\u001b[39m \u001b[38;5;124m\"\u001b[39m\u001b[38;5;124m(\u001b[39m\u001b[38;5;124m\"\u001b[39m \u001b[38;5;129;01mand\u001b[39;00m q_values[\u001b[38;5;241m-\u001b[39m\u001b[38;5;241m1\u001b[39m] \u001b[38;5;241m==\u001b[39m \u001b[38;5;124m\"\u001b[39m\u001b[38;5;124m)\u001b[39m\u001b[38;5;124m\"\u001b[39m\n\u001b[0;32m--> 173\u001b[0m     \u001b[38;5;28;01mreturn\u001b[39;00m \u001b[38;5;28;43mself\u001b[39;49m\u001b[38;5;241;43m.\u001b[39;49m\u001b[43m_do_execute_many\u001b[49m\u001b[43m(\u001b[49m\n\u001b[1;32m    174\u001b[0m \u001b[43m        \u001b[49m\u001b[43mq_prefix\u001b[49m\u001b[43m,\u001b[49m\n\u001b[1;32m    175\u001b[0m \u001b[43m        \u001b[49m\u001b[43mq_values\u001b[49m\u001b[43m,\u001b[49m\n\u001b[1;32m    176\u001b[0m \u001b[43m        \u001b[49m\u001b[43mq_postfix\u001b[49m\u001b[43m,\u001b[49m\n\u001b[1;32m    177\u001b[0m \u001b[43m        \u001b[49m\u001b[43margs\u001b[49m\u001b[43m,\u001b[49m\n\u001b[1;32m    178\u001b[0m \u001b[43m        \u001b[49m\u001b[38;5;28;43mself\u001b[39;49m\u001b[38;5;241;43m.\u001b[39;49m\u001b[43mmax_stmt_length\u001b[49m\u001b[43m,\u001b[49m\n\u001b[1;32m    179\u001b[0m \u001b[43m        \u001b[49m\u001b[38;5;28;43mself\u001b[39;49m\u001b[38;5;241;43m.\u001b[39;49m\u001b[43m_get_db\u001b[49m\u001b[43m(\u001b[49m\u001b[43m)\u001b[49m\u001b[38;5;241;43m.\u001b[39;49m\u001b[43mencoding\u001b[49m\u001b[43m,\u001b[49m\n\u001b[1;32m    180\u001b[0m \u001b[43m    \u001b[49m\u001b[43m)\u001b[49m\n\u001b[1;32m    182\u001b[0m \u001b[38;5;28mself\u001b[39m\u001b[38;5;241m.\u001b[39mrowcount \u001b[38;5;241m=\u001b[39m \u001b[38;5;28msum\u001b[39m(\u001b[38;5;28mself\u001b[39m\u001b[38;5;241m.\u001b[39mexecute(query, arg) \u001b[38;5;28;01mfor\u001b[39;00m arg \u001b[38;5;129;01min\u001b[39;00m args)\n\u001b[1;32m    183\u001b[0m \u001b[38;5;28;01mreturn\u001b[39;00m \u001b[38;5;28mself\u001b[39m\u001b[38;5;241m.\u001b[39mrowcount\n",
      "File \u001b[0;32m~/opt/anaconda3/lib/python3.9/site-packages/pymysql/cursors.py:211\u001b[0m, in \u001b[0;36mCursor._do_execute_many\u001b[0;34m(self, prefix, values, postfix, args, max_stmt_length, encoding)\u001b[0m\n\u001b[1;32m    209\u001b[0m         sql \u001b[38;5;241m+\u001b[39m\u001b[38;5;241m=\u001b[39m \u001b[38;5;124mb\u001b[39m\u001b[38;5;124m\"\u001b[39m\u001b[38;5;124m,\u001b[39m\u001b[38;5;124m\"\u001b[39m\n\u001b[1;32m    210\u001b[0m     sql \u001b[38;5;241m+\u001b[39m\u001b[38;5;241m=\u001b[39m v\n\u001b[0;32m--> 211\u001b[0m rows \u001b[38;5;241m+\u001b[39m\u001b[38;5;241m=\u001b[39m \u001b[38;5;28;43mself\u001b[39;49m\u001b[38;5;241;43m.\u001b[39;49m\u001b[43mexecute\u001b[49m\u001b[43m(\u001b[49m\u001b[43msql\u001b[49m\u001b[43m \u001b[49m\u001b[38;5;241;43m+\u001b[39;49m\u001b[43m \u001b[49m\u001b[43mpostfix\u001b[49m\u001b[43m)\u001b[49m\n\u001b[1;32m    212\u001b[0m \u001b[38;5;28mself\u001b[39m\u001b[38;5;241m.\u001b[39mrowcount \u001b[38;5;241m=\u001b[39m rows\n\u001b[1;32m    213\u001b[0m \u001b[38;5;28;01mreturn\u001b[39;00m rows\n",
      "File \u001b[0;32m~/opt/anaconda3/lib/python3.9/site-packages/pymysql/cursors.py:148\u001b[0m, in \u001b[0;36mCursor.execute\u001b[0;34m(self, query, args)\u001b[0m\n\u001b[1;32m    144\u001b[0m     \u001b[38;5;28;01mpass\u001b[39;00m\n\u001b[1;32m    146\u001b[0m query \u001b[38;5;241m=\u001b[39m \u001b[38;5;28mself\u001b[39m\u001b[38;5;241m.\u001b[39mmogrify(query, args)\n\u001b[0;32m--> 148\u001b[0m result \u001b[38;5;241m=\u001b[39m \u001b[38;5;28;43mself\u001b[39;49m\u001b[38;5;241;43m.\u001b[39;49m\u001b[43m_query\u001b[49m\u001b[43m(\u001b[49m\u001b[43mquery\u001b[49m\u001b[43m)\u001b[49m\n\u001b[1;32m    149\u001b[0m \u001b[38;5;28mself\u001b[39m\u001b[38;5;241m.\u001b[39m_executed \u001b[38;5;241m=\u001b[39m query\n\u001b[1;32m    150\u001b[0m \u001b[38;5;28;01mreturn\u001b[39;00m result\n",
      "File \u001b[0;32m~/opt/anaconda3/lib/python3.9/site-packages/pymysql/cursors.py:310\u001b[0m, in \u001b[0;36mCursor._query\u001b[0;34m(self, q)\u001b[0m\n\u001b[1;32m    308\u001b[0m \u001b[38;5;28mself\u001b[39m\u001b[38;5;241m.\u001b[39m_last_executed \u001b[38;5;241m=\u001b[39m q\n\u001b[1;32m    309\u001b[0m \u001b[38;5;28mself\u001b[39m\u001b[38;5;241m.\u001b[39m_clear_result()\n\u001b[0;32m--> 310\u001b[0m \u001b[43mconn\u001b[49m\u001b[38;5;241;43m.\u001b[39;49m\u001b[43mquery\u001b[49m\u001b[43m(\u001b[49m\u001b[43mq\u001b[49m\u001b[43m)\u001b[49m\n\u001b[1;32m    311\u001b[0m \u001b[38;5;28mself\u001b[39m\u001b[38;5;241m.\u001b[39m_do_get_result()\n\u001b[1;32m    312\u001b[0m \u001b[38;5;28;01mreturn\u001b[39;00m \u001b[38;5;28mself\u001b[39m\u001b[38;5;241m.\u001b[39mrowcount\n",
      "File \u001b[0;32m~/opt/anaconda3/lib/python3.9/site-packages/pymysql/connections.py:548\u001b[0m, in \u001b[0;36mConnection.query\u001b[0;34m(self, sql, unbuffered)\u001b[0m\n\u001b[1;32m    546\u001b[0m     sql \u001b[38;5;241m=\u001b[39m sql\u001b[38;5;241m.\u001b[39mencode(\u001b[38;5;28mself\u001b[39m\u001b[38;5;241m.\u001b[39mencoding, \u001b[38;5;124m\"\u001b[39m\u001b[38;5;124msurrogateescape\u001b[39m\u001b[38;5;124m\"\u001b[39m)\n\u001b[1;32m    547\u001b[0m \u001b[38;5;28mself\u001b[39m\u001b[38;5;241m.\u001b[39m_execute_command(COMMAND\u001b[38;5;241m.\u001b[39mCOM_QUERY, sql)\n\u001b[0;32m--> 548\u001b[0m \u001b[38;5;28mself\u001b[39m\u001b[38;5;241m.\u001b[39m_affected_rows \u001b[38;5;241m=\u001b[39m \u001b[38;5;28;43mself\u001b[39;49m\u001b[38;5;241;43m.\u001b[39;49m\u001b[43m_read_query_result\u001b[49m\u001b[43m(\u001b[49m\u001b[43munbuffered\u001b[49m\u001b[38;5;241;43m=\u001b[39;49m\u001b[43munbuffered\u001b[49m\u001b[43m)\u001b[49m\n\u001b[1;32m    549\u001b[0m \u001b[38;5;28;01mreturn\u001b[39;00m \u001b[38;5;28mself\u001b[39m\u001b[38;5;241m.\u001b[39m_affected_rows\n",
      "File \u001b[0;32m~/opt/anaconda3/lib/python3.9/site-packages/pymysql/connections.py:775\u001b[0m, in \u001b[0;36mConnection._read_query_result\u001b[0;34m(self, unbuffered)\u001b[0m\n\u001b[1;32m    773\u001b[0m \u001b[38;5;28;01melse\u001b[39;00m:\n\u001b[1;32m    774\u001b[0m     result \u001b[38;5;241m=\u001b[39m MySQLResult(\u001b[38;5;28mself\u001b[39m)\n\u001b[0;32m--> 775\u001b[0m     \u001b[43mresult\u001b[49m\u001b[38;5;241;43m.\u001b[39;49m\u001b[43mread\u001b[49m\u001b[43m(\u001b[49m\u001b[43m)\u001b[49m\n\u001b[1;32m    776\u001b[0m \u001b[38;5;28mself\u001b[39m\u001b[38;5;241m.\u001b[39m_result \u001b[38;5;241m=\u001b[39m result\n\u001b[1;32m    777\u001b[0m \u001b[38;5;28;01mif\u001b[39;00m result\u001b[38;5;241m.\u001b[39mserver_status \u001b[38;5;129;01mis\u001b[39;00m \u001b[38;5;129;01mnot\u001b[39;00m \u001b[38;5;28;01mNone\u001b[39;00m:\n",
      "File \u001b[0;32m~/opt/anaconda3/lib/python3.9/site-packages/pymysql/connections.py:1156\u001b[0m, in \u001b[0;36mMySQLResult.read\u001b[0;34m(self)\u001b[0m\n\u001b[1;32m   1154\u001b[0m \u001b[38;5;28;01mdef\u001b[39;00m \u001b[38;5;21mread\u001b[39m(\u001b[38;5;28mself\u001b[39m):\n\u001b[1;32m   1155\u001b[0m     \u001b[38;5;28;01mtry\u001b[39;00m:\n\u001b[0;32m-> 1156\u001b[0m         first_packet \u001b[38;5;241m=\u001b[39m \u001b[38;5;28;43mself\u001b[39;49m\u001b[38;5;241;43m.\u001b[39;49m\u001b[43mconnection\u001b[49m\u001b[38;5;241;43m.\u001b[39;49m\u001b[43m_read_packet\u001b[49m\u001b[43m(\u001b[49m\u001b[43m)\u001b[49m\n\u001b[1;32m   1158\u001b[0m         \u001b[38;5;28;01mif\u001b[39;00m first_packet\u001b[38;5;241m.\u001b[39mis_ok_packet():\n\u001b[1;32m   1159\u001b[0m             \u001b[38;5;28mself\u001b[39m\u001b[38;5;241m.\u001b[39m_read_ok_packet(first_packet)\n",
      "File \u001b[0;32m~/opt/anaconda3/lib/python3.9/site-packages/pymysql/connections.py:725\u001b[0m, in \u001b[0;36mConnection._read_packet\u001b[0;34m(self, packet_type)\u001b[0m\n\u001b[1;32m    723\u001b[0m     \u001b[38;5;28;01mif\u001b[39;00m \u001b[38;5;28mself\u001b[39m\u001b[38;5;241m.\u001b[39m_result \u001b[38;5;129;01mis\u001b[39;00m \u001b[38;5;129;01mnot\u001b[39;00m \u001b[38;5;28;01mNone\u001b[39;00m \u001b[38;5;129;01mand\u001b[39;00m \u001b[38;5;28mself\u001b[39m\u001b[38;5;241m.\u001b[39m_result\u001b[38;5;241m.\u001b[39munbuffered_active \u001b[38;5;129;01mis\u001b[39;00m \u001b[38;5;28;01mTrue\u001b[39;00m:\n\u001b[1;32m    724\u001b[0m         \u001b[38;5;28mself\u001b[39m\u001b[38;5;241m.\u001b[39m_result\u001b[38;5;241m.\u001b[39munbuffered_active \u001b[38;5;241m=\u001b[39m \u001b[38;5;28;01mFalse\u001b[39;00m\n\u001b[0;32m--> 725\u001b[0m     \u001b[43mpacket\u001b[49m\u001b[38;5;241;43m.\u001b[39;49m\u001b[43mraise_for_error\u001b[49m\u001b[43m(\u001b[49m\u001b[43m)\u001b[49m\n\u001b[1;32m    726\u001b[0m \u001b[38;5;28;01mreturn\u001b[39;00m packet\n",
      "File \u001b[0;32m~/opt/anaconda3/lib/python3.9/site-packages/pymysql/protocol.py:221\u001b[0m, in \u001b[0;36mMysqlPacket.raise_for_error\u001b[0;34m(self)\u001b[0m\n\u001b[1;32m    219\u001b[0m \u001b[38;5;28;01mif\u001b[39;00m DEBUG:\n\u001b[1;32m    220\u001b[0m     \u001b[38;5;28mprint\u001b[39m(\u001b[38;5;124m\"\u001b[39m\u001b[38;5;124merrno =\u001b[39m\u001b[38;5;124m\"\u001b[39m, errno)\n\u001b[0;32m--> 221\u001b[0m \u001b[43merr\u001b[49m\u001b[38;5;241;43m.\u001b[39;49m\u001b[43mraise_mysql_exception\u001b[49m\u001b[43m(\u001b[49m\u001b[38;5;28;43mself\u001b[39;49m\u001b[38;5;241;43m.\u001b[39;49m\u001b[43m_data\u001b[49m\u001b[43m)\u001b[49m\n",
      "File \u001b[0;32m~/opt/anaconda3/lib/python3.9/site-packages/pymysql/err.py:143\u001b[0m, in \u001b[0;36mraise_mysql_exception\u001b[0;34m(data)\u001b[0m\n\u001b[1;32m    141\u001b[0m \u001b[38;5;28;01mif\u001b[39;00m errorclass \u001b[38;5;129;01mis\u001b[39;00m \u001b[38;5;28;01mNone\u001b[39;00m:\n\u001b[1;32m    142\u001b[0m     errorclass \u001b[38;5;241m=\u001b[39m InternalError \u001b[38;5;28;01mif\u001b[39;00m errno \u001b[38;5;241m<\u001b[39m \u001b[38;5;241m1000\u001b[39m \u001b[38;5;28;01melse\u001b[39;00m OperationalError\n\u001b[0;32m--> 143\u001b[0m \u001b[38;5;28;01mraise\u001b[39;00m errorclass(errno, errval)\n",
      "\u001b[0;31mIntegrityError\u001b[0m: (1062, \"Duplicate entry 'a1@a.com' for key 'test_user.email'\")"
     ]
    }
   ],
   "source": [
    "datas = [\n",
    "    ['name1', 'a1@a.com', 172.3, '2002-02-22'],\n",
    "    ['name2', 'a2@a.com', 145.23, '2001-03-20'],\n",
    "    ['name3', 'a3@a.com', 178.2, '2015-04-23']\n",
    "]\n",
    "# datas = [\n",
    "#     ['name1', 'a1@a.com', 172.3, '2000-02-22'],\n",
    "#     ['name2', 'a2@a.com', 182.44, '2001-03-20'],\n",
    "#     ['name3', 'a3@a.com', 162.44, '2005-03-10'],\n",
    "# ]\n",
    "sql = 'insert into test_user(name, email, tall, birthday) values (%s, %s, %s, %s)'\n",
    "with pymysql.connect(host='127.0.0.1', port=3306, user='scott', password='tiger', db='testdb', charset='utf8') as connection:\n",
    "    with connection.cursor() as cursor:\n",
    "        cursor.executemany(sql, datas)\n",
    "        connection.commit()\n",
    "        "
   ]
  },
  {
   "cell_type": "code",
   "execution_count": 75,
   "id": "3f5ddd90",
   "metadata": {
    "collapsed": true
   },
   "outputs": [
    {
     "ename": "IntegrityError",
     "evalue": "(1062, \"Duplicate entry 'a1@a.com' for key 'test_user.email'\")",
     "output_type": "error",
     "traceback": [
      "\u001b[0;31m---------------------------------------------------------------------------\u001b[0m",
      "\u001b[0;31mIntegrityError\u001b[0m                            Traceback (most recent call last)",
      "Input \u001b[0;32mIn [75]\u001b[0m, in \u001b[0;36m<cell line: 7>\u001b[0;34m()\u001b[0m\n\u001b[1;32m      7\u001b[0m \u001b[38;5;28;01mwith\u001b[39;00m pymysql\u001b[38;5;241m.\u001b[39mconnect(host\u001b[38;5;241m=\u001b[39m\u001b[38;5;124m'\u001b[39m\u001b[38;5;124m127.0.0.1\u001b[39m\u001b[38;5;124m'\u001b[39m, port\u001b[38;5;241m=\u001b[39m\u001b[38;5;241m3306\u001b[39m, user\u001b[38;5;241m=\u001b[39m\u001b[38;5;124m'\u001b[39m\u001b[38;5;124mscott\u001b[39m\u001b[38;5;124m'\u001b[39m, password\u001b[38;5;241m=\u001b[39m\u001b[38;5;124m'\u001b[39m\u001b[38;5;124mtiger\u001b[39m\u001b[38;5;124m'\u001b[39m, db\u001b[38;5;241m=\u001b[39m\u001b[38;5;124m'\u001b[39m\u001b[38;5;124mtestdb\u001b[39m\u001b[38;5;124m'\u001b[39m, charset\u001b[38;5;241m=\u001b[39m\u001b[38;5;124m'\u001b[39m\u001b[38;5;124mutf8\u001b[39m\u001b[38;5;124m'\u001b[39m) \u001b[38;5;28;01mas\u001b[39;00m connection:\n\u001b[1;32m      8\u001b[0m     \u001b[38;5;28;01mwith\u001b[39;00m connection\u001b[38;5;241m.\u001b[39mcursor() \u001b[38;5;28;01mas\u001b[39;00m cursor:\n\u001b[0;32m----> 9\u001b[0m         \u001b[43mcursor\u001b[49m\u001b[38;5;241;43m.\u001b[39;49m\u001b[43mexecutemany\u001b[49m\u001b[43m(\u001b[49m\u001b[43msql\u001b[49m\u001b[43m,\u001b[49m\u001b[43m \u001b[49m\u001b[43mdatas\u001b[49m\u001b[43m)\u001b[49m\n\u001b[1;32m     10\u001b[0m         connection\u001b[38;5;241m.\u001b[39mcommit()\n",
      "File \u001b[0;32m~/opt/anaconda3/lib/python3.9/site-packages/pymysql/cursors.py:173\u001b[0m, in \u001b[0;36mCursor.executemany\u001b[0;34m(self, query, args)\u001b[0m\n\u001b[1;32m    171\u001b[0m     q_postfix \u001b[38;5;241m=\u001b[39m m\u001b[38;5;241m.\u001b[39mgroup(\u001b[38;5;241m3\u001b[39m) \u001b[38;5;129;01mor\u001b[39;00m \u001b[38;5;124m\"\u001b[39m\u001b[38;5;124m\"\u001b[39m\n\u001b[1;32m    172\u001b[0m     \u001b[38;5;28;01massert\u001b[39;00m q_values[\u001b[38;5;241m0\u001b[39m] \u001b[38;5;241m==\u001b[39m \u001b[38;5;124m\"\u001b[39m\u001b[38;5;124m(\u001b[39m\u001b[38;5;124m\"\u001b[39m \u001b[38;5;129;01mand\u001b[39;00m q_values[\u001b[38;5;241m-\u001b[39m\u001b[38;5;241m1\u001b[39m] \u001b[38;5;241m==\u001b[39m \u001b[38;5;124m\"\u001b[39m\u001b[38;5;124m)\u001b[39m\u001b[38;5;124m\"\u001b[39m\n\u001b[0;32m--> 173\u001b[0m     \u001b[38;5;28;01mreturn\u001b[39;00m \u001b[38;5;28;43mself\u001b[39;49m\u001b[38;5;241;43m.\u001b[39;49m\u001b[43m_do_execute_many\u001b[49m\u001b[43m(\u001b[49m\n\u001b[1;32m    174\u001b[0m \u001b[43m        \u001b[49m\u001b[43mq_prefix\u001b[49m\u001b[43m,\u001b[49m\n\u001b[1;32m    175\u001b[0m \u001b[43m        \u001b[49m\u001b[43mq_values\u001b[49m\u001b[43m,\u001b[49m\n\u001b[1;32m    176\u001b[0m \u001b[43m        \u001b[49m\u001b[43mq_postfix\u001b[49m\u001b[43m,\u001b[49m\n\u001b[1;32m    177\u001b[0m \u001b[43m        \u001b[49m\u001b[43margs\u001b[49m\u001b[43m,\u001b[49m\n\u001b[1;32m    178\u001b[0m \u001b[43m        \u001b[49m\u001b[38;5;28;43mself\u001b[39;49m\u001b[38;5;241;43m.\u001b[39;49m\u001b[43mmax_stmt_length\u001b[49m\u001b[43m,\u001b[49m\n\u001b[1;32m    179\u001b[0m \u001b[43m        \u001b[49m\u001b[38;5;28;43mself\u001b[39;49m\u001b[38;5;241;43m.\u001b[39;49m\u001b[43m_get_db\u001b[49m\u001b[43m(\u001b[49m\u001b[43m)\u001b[49m\u001b[38;5;241;43m.\u001b[39;49m\u001b[43mencoding\u001b[49m\u001b[43m,\u001b[49m\n\u001b[1;32m    180\u001b[0m \u001b[43m    \u001b[49m\u001b[43m)\u001b[49m\n\u001b[1;32m    182\u001b[0m \u001b[38;5;28mself\u001b[39m\u001b[38;5;241m.\u001b[39mrowcount \u001b[38;5;241m=\u001b[39m \u001b[38;5;28msum\u001b[39m(\u001b[38;5;28mself\u001b[39m\u001b[38;5;241m.\u001b[39mexecute(query, arg) \u001b[38;5;28;01mfor\u001b[39;00m arg \u001b[38;5;129;01min\u001b[39;00m args)\n\u001b[1;32m    183\u001b[0m \u001b[38;5;28;01mreturn\u001b[39;00m \u001b[38;5;28mself\u001b[39m\u001b[38;5;241m.\u001b[39mrowcount\n",
      "File \u001b[0;32m~/opt/anaconda3/lib/python3.9/site-packages/pymysql/cursors.py:211\u001b[0m, in \u001b[0;36mCursor._do_execute_many\u001b[0;34m(self, prefix, values, postfix, args, max_stmt_length, encoding)\u001b[0m\n\u001b[1;32m    209\u001b[0m         sql \u001b[38;5;241m+\u001b[39m\u001b[38;5;241m=\u001b[39m \u001b[38;5;124mb\u001b[39m\u001b[38;5;124m\"\u001b[39m\u001b[38;5;124m,\u001b[39m\u001b[38;5;124m\"\u001b[39m\n\u001b[1;32m    210\u001b[0m     sql \u001b[38;5;241m+\u001b[39m\u001b[38;5;241m=\u001b[39m v\n\u001b[0;32m--> 211\u001b[0m rows \u001b[38;5;241m+\u001b[39m\u001b[38;5;241m=\u001b[39m \u001b[38;5;28;43mself\u001b[39;49m\u001b[38;5;241;43m.\u001b[39;49m\u001b[43mexecute\u001b[49m\u001b[43m(\u001b[49m\u001b[43msql\u001b[49m\u001b[43m \u001b[49m\u001b[38;5;241;43m+\u001b[39;49m\u001b[43m \u001b[49m\u001b[43mpostfix\u001b[49m\u001b[43m)\u001b[49m\n\u001b[1;32m    212\u001b[0m \u001b[38;5;28mself\u001b[39m\u001b[38;5;241m.\u001b[39mrowcount \u001b[38;5;241m=\u001b[39m rows\n\u001b[1;32m    213\u001b[0m \u001b[38;5;28;01mreturn\u001b[39;00m rows\n",
      "File \u001b[0;32m~/opt/anaconda3/lib/python3.9/site-packages/pymysql/cursors.py:148\u001b[0m, in \u001b[0;36mCursor.execute\u001b[0;34m(self, query, args)\u001b[0m\n\u001b[1;32m    144\u001b[0m     \u001b[38;5;28;01mpass\u001b[39;00m\n\u001b[1;32m    146\u001b[0m query \u001b[38;5;241m=\u001b[39m \u001b[38;5;28mself\u001b[39m\u001b[38;5;241m.\u001b[39mmogrify(query, args)\n\u001b[0;32m--> 148\u001b[0m result \u001b[38;5;241m=\u001b[39m \u001b[38;5;28;43mself\u001b[39;49m\u001b[38;5;241;43m.\u001b[39;49m\u001b[43m_query\u001b[49m\u001b[43m(\u001b[49m\u001b[43mquery\u001b[49m\u001b[43m)\u001b[49m\n\u001b[1;32m    149\u001b[0m \u001b[38;5;28mself\u001b[39m\u001b[38;5;241m.\u001b[39m_executed \u001b[38;5;241m=\u001b[39m query\n\u001b[1;32m    150\u001b[0m \u001b[38;5;28;01mreturn\u001b[39;00m result\n",
      "File \u001b[0;32m~/opt/anaconda3/lib/python3.9/site-packages/pymysql/cursors.py:310\u001b[0m, in \u001b[0;36mCursor._query\u001b[0;34m(self, q)\u001b[0m\n\u001b[1;32m    308\u001b[0m \u001b[38;5;28mself\u001b[39m\u001b[38;5;241m.\u001b[39m_last_executed \u001b[38;5;241m=\u001b[39m q\n\u001b[1;32m    309\u001b[0m \u001b[38;5;28mself\u001b[39m\u001b[38;5;241m.\u001b[39m_clear_result()\n\u001b[0;32m--> 310\u001b[0m \u001b[43mconn\u001b[49m\u001b[38;5;241;43m.\u001b[39;49m\u001b[43mquery\u001b[49m\u001b[43m(\u001b[49m\u001b[43mq\u001b[49m\u001b[43m)\u001b[49m\n\u001b[1;32m    311\u001b[0m \u001b[38;5;28mself\u001b[39m\u001b[38;5;241m.\u001b[39m_do_get_result()\n\u001b[1;32m    312\u001b[0m \u001b[38;5;28;01mreturn\u001b[39;00m \u001b[38;5;28mself\u001b[39m\u001b[38;5;241m.\u001b[39mrowcount\n",
      "File \u001b[0;32m~/opt/anaconda3/lib/python3.9/site-packages/pymysql/connections.py:548\u001b[0m, in \u001b[0;36mConnection.query\u001b[0;34m(self, sql, unbuffered)\u001b[0m\n\u001b[1;32m    546\u001b[0m     sql \u001b[38;5;241m=\u001b[39m sql\u001b[38;5;241m.\u001b[39mencode(\u001b[38;5;28mself\u001b[39m\u001b[38;5;241m.\u001b[39mencoding, \u001b[38;5;124m\"\u001b[39m\u001b[38;5;124msurrogateescape\u001b[39m\u001b[38;5;124m\"\u001b[39m)\n\u001b[1;32m    547\u001b[0m \u001b[38;5;28mself\u001b[39m\u001b[38;5;241m.\u001b[39m_execute_command(COMMAND\u001b[38;5;241m.\u001b[39mCOM_QUERY, sql)\n\u001b[0;32m--> 548\u001b[0m \u001b[38;5;28mself\u001b[39m\u001b[38;5;241m.\u001b[39m_affected_rows \u001b[38;5;241m=\u001b[39m \u001b[38;5;28;43mself\u001b[39;49m\u001b[38;5;241;43m.\u001b[39;49m\u001b[43m_read_query_result\u001b[49m\u001b[43m(\u001b[49m\u001b[43munbuffered\u001b[49m\u001b[38;5;241;43m=\u001b[39;49m\u001b[43munbuffered\u001b[49m\u001b[43m)\u001b[49m\n\u001b[1;32m    549\u001b[0m \u001b[38;5;28;01mreturn\u001b[39;00m \u001b[38;5;28mself\u001b[39m\u001b[38;5;241m.\u001b[39m_affected_rows\n",
      "File \u001b[0;32m~/opt/anaconda3/lib/python3.9/site-packages/pymysql/connections.py:775\u001b[0m, in \u001b[0;36mConnection._read_query_result\u001b[0;34m(self, unbuffered)\u001b[0m\n\u001b[1;32m    773\u001b[0m \u001b[38;5;28;01melse\u001b[39;00m:\n\u001b[1;32m    774\u001b[0m     result \u001b[38;5;241m=\u001b[39m MySQLResult(\u001b[38;5;28mself\u001b[39m)\n\u001b[0;32m--> 775\u001b[0m     \u001b[43mresult\u001b[49m\u001b[38;5;241;43m.\u001b[39;49m\u001b[43mread\u001b[49m\u001b[43m(\u001b[49m\u001b[43m)\u001b[49m\n\u001b[1;32m    776\u001b[0m \u001b[38;5;28mself\u001b[39m\u001b[38;5;241m.\u001b[39m_result \u001b[38;5;241m=\u001b[39m result\n\u001b[1;32m    777\u001b[0m \u001b[38;5;28;01mif\u001b[39;00m result\u001b[38;5;241m.\u001b[39mserver_status \u001b[38;5;129;01mis\u001b[39;00m \u001b[38;5;129;01mnot\u001b[39;00m \u001b[38;5;28;01mNone\u001b[39;00m:\n",
      "File \u001b[0;32m~/opt/anaconda3/lib/python3.9/site-packages/pymysql/connections.py:1156\u001b[0m, in \u001b[0;36mMySQLResult.read\u001b[0;34m(self)\u001b[0m\n\u001b[1;32m   1154\u001b[0m \u001b[38;5;28;01mdef\u001b[39;00m \u001b[38;5;21mread\u001b[39m(\u001b[38;5;28mself\u001b[39m):\n\u001b[1;32m   1155\u001b[0m     \u001b[38;5;28;01mtry\u001b[39;00m:\n\u001b[0;32m-> 1156\u001b[0m         first_packet \u001b[38;5;241m=\u001b[39m \u001b[38;5;28;43mself\u001b[39;49m\u001b[38;5;241;43m.\u001b[39;49m\u001b[43mconnection\u001b[49m\u001b[38;5;241;43m.\u001b[39;49m\u001b[43m_read_packet\u001b[49m\u001b[43m(\u001b[49m\u001b[43m)\u001b[49m\n\u001b[1;32m   1158\u001b[0m         \u001b[38;5;28;01mif\u001b[39;00m first_packet\u001b[38;5;241m.\u001b[39mis_ok_packet():\n\u001b[1;32m   1159\u001b[0m             \u001b[38;5;28mself\u001b[39m\u001b[38;5;241m.\u001b[39m_read_ok_packet(first_packet)\n",
      "File \u001b[0;32m~/opt/anaconda3/lib/python3.9/site-packages/pymysql/connections.py:725\u001b[0m, in \u001b[0;36mConnection._read_packet\u001b[0;34m(self, packet_type)\u001b[0m\n\u001b[1;32m    723\u001b[0m     \u001b[38;5;28;01mif\u001b[39;00m \u001b[38;5;28mself\u001b[39m\u001b[38;5;241m.\u001b[39m_result \u001b[38;5;129;01mis\u001b[39;00m \u001b[38;5;129;01mnot\u001b[39;00m \u001b[38;5;28;01mNone\u001b[39;00m \u001b[38;5;129;01mand\u001b[39;00m \u001b[38;5;28mself\u001b[39m\u001b[38;5;241m.\u001b[39m_result\u001b[38;5;241m.\u001b[39munbuffered_active \u001b[38;5;129;01mis\u001b[39;00m \u001b[38;5;28;01mTrue\u001b[39;00m:\n\u001b[1;32m    724\u001b[0m         \u001b[38;5;28mself\u001b[39m\u001b[38;5;241m.\u001b[39m_result\u001b[38;5;241m.\u001b[39munbuffered_active \u001b[38;5;241m=\u001b[39m \u001b[38;5;28;01mFalse\u001b[39;00m\n\u001b[0;32m--> 725\u001b[0m     \u001b[43mpacket\u001b[49m\u001b[38;5;241;43m.\u001b[39;49m\u001b[43mraise_for_error\u001b[49m\u001b[43m(\u001b[49m\u001b[43m)\u001b[49m\n\u001b[1;32m    726\u001b[0m \u001b[38;5;28;01mreturn\u001b[39;00m packet\n",
      "File \u001b[0;32m~/opt/anaconda3/lib/python3.9/site-packages/pymysql/protocol.py:221\u001b[0m, in \u001b[0;36mMysqlPacket.raise_for_error\u001b[0;34m(self)\u001b[0m\n\u001b[1;32m    219\u001b[0m \u001b[38;5;28;01mif\u001b[39;00m DEBUG:\n\u001b[1;32m    220\u001b[0m     \u001b[38;5;28mprint\u001b[39m(\u001b[38;5;124m\"\u001b[39m\u001b[38;5;124merrno =\u001b[39m\u001b[38;5;124m\"\u001b[39m, errno)\n\u001b[0;32m--> 221\u001b[0m \u001b[43merr\u001b[49m\u001b[38;5;241;43m.\u001b[39;49m\u001b[43mraise_mysql_exception\u001b[49m\u001b[43m(\u001b[49m\u001b[38;5;28;43mself\u001b[39;49m\u001b[38;5;241;43m.\u001b[39;49m\u001b[43m_data\u001b[49m\u001b[43m)\u001b[49m\n",
      "File \u001b[0;32m~/opt/anaconda3/lib/python3.9/site-packages/pymysql/err.py:143\u001b[0m, in \u001b[0;36mraise_mysql_exception\u001b[0;34m(data)\u001b[0m\n\u001b[1;32m    141\u001b[0m \u001b[38;5;28;01mif\u001b[39;00m errorclass \u001b[38;5;129;01mis\u001b[39;00m \u001b[38;5;28;01mNone\u001b[39;00m:\n\u001b[1;32m    142\u001b[0m     errorclass \u001b[38;5;241m=\u001b[39m InternalError \u001b[38;5;28;01mif\u001b[39;00m errno \u001b[38;5;241m<\u001b[39m \u001b[38;5;241m1000\u001b[39m \u001b[38;5;28;01melse\u001b[39;00m OperationalError\n\u001b[0;32m--> 143\u001b[0m \u001b[38;5;28;01mraise\u001b[39;00m errorclass(errno, errval)\n",
      "\u001b[0;31mIntegrityError\u001b[0m: (1062, \"Duplicate entry 'a1@a.com' for key 'test_user.email'\")"
     ]
    }
   ],
   "source": [
    "datas = [\n",
    "    ['name1', 'a1@a.com', 172.3, '2000-02-22'],\n",
    "    ['name2', 'a2@a.com', 182.44, '2001-03-20'],\n",
    "    ['name3', 'a3@a.com', 162.44, '2005-03-10'],\n",
    "]\n",
    "sql = 'insert into test_user (name, email, tall, birthday) values (%s, %s, %s, %s)'\n",
    "with pymysql.connect(host='127.0.0.1', port=3306, user='scott', password='tiger', db='testdb', charset='utf8') as connection:\n",
    "    with connection.cursor() as cursor:\n",
    "        cursor.executemany(sql, datas)\n",
    "        connection.commit()\n",
    "        "
   ]
  },
  {
   "cell_type": "code",
   "execution_count": 57,
   "id": "f72beeb1",
   "metadata": {},
   "outputs": [
    {
     "name": "stdout",
     "output_type": "stream",
     "text": [
      "9행이 update됨\n"
     ]
    }
   ],
   "source": [
    "update_sql = \"update test_user set tall = tall+10, birthday = '2000-01-01'\"\n",
    "with pymysql.connect(host='127.0.0.1', port=3306, user='scott', password='tiger', db='testdb', charset='utf8') as connection:\n",
    "    with connection.cursor() as cursor:\n",
    "        cnt = cursor.execute(update_sql)\n",
    "        connection.commit()\n",
    "        print(f'{cnt}행이 update됨')\n",
    "        "
   ]
  },
  {
   "cell_type": "markdown",
   "id": "d78f4253",
   "metadata": {},
   "source": [
    "### update/delete\n",
    "- 코딩 절차는 insert 와 동일"
   ]
  },
  {
   "cell_type": "code",
   "execution_count": 82,
   "id": "5f056266",
   "metadata": {},
   "outputs": [],
   "source": [
    "def update_user_by_id(id, name, email, tall, birthday):\n",
    "    update_sql = \"update test_user set name=%s, email=%s, tall=%s, birthday=%s where id=%s\"\n",
    "    with pymysql.connect(host='127.0.0.1', port=3306, user='scott', password='tiger', db='testdb', charset='utf8') as connection:\n",
    "        with connection.cursor() as cursor:\n",
    "            cnt = cursor.execute(update_sql, (name, email, tall, birthday, id))\n",
    "            connection.commit()\n",
    "            return cnt\n",
    "        \n",
    "        \n",
    "        "
   ]
  },
  {
   "cell_type": "code",
   "execution_count": 83,
   "id": "55cc6af5",
   "metadata": {},
   "outputs": [
    {
     "data": {
      "text/plain": [
       "0"
      ]
     },
     "execution_count": 83,
     "metadata": {},
     "output_type": "execute_result"
    }
   ],
   "source": [
    "update_user_by_id(2, '홍길동', 'honggildong@abc.com', 192.23, '1990-10-10')"
   ]
  },
  {
   "cell_type": "code",
   "execution_count": null,
   "id": "615b2155",
   "metadata": {},
   "outputs": [],
   "source": [
    "def update_user_by_id(id, name, email, tall, birthday):\n",
    "    update_sql = 'update test_user set name=%s, email=%s, tall=%s, birthday=%s where id=%s'\n",
    "    with pymysql.connect(host='127.0.0.1', port=3306, user='scott', password='tiger', db='testdb', charset='utf8') as connection:\n",
    "        with connection.cursor() as cursor:\n",
    "            cnt = cursor.execute(update_sql, (name, email, tall, birthday, id))\n",
    "            connection.commit()\n",
    "            return cnt"
   ]
  },
  {
   "cell_type": "code",
   "execution_count": null,
   "id": "d00e57dc",
   "metadata": {},
   "outputs": [],
   "source": [
    "update_user_by_id(2, '홍길동', 'honggildong@abc.com', 192.23, '1990-10-10')"
   ]
  },
  {
   "cell_type": "code",
   "execution_count": 60,
   "id": "ea34cdb7",
   "metadata": {},
   "outputs": [
    {
     "name": "stdout",
     "output_type": "stream",
     "text": [
      "1\n"
     ]
    }
   ],
   "source": [
    "# delete\n",
    "delete_sql = \"delete from test_user where id =%s\"\n",
    "with pymysql.connect(host='127.0.0.1', port=3306, user='scott', password='tiger', db='testdb', charset='utf8') as connection:\n",
    "        with connection.cursor() as cursor:\n",
    "            cnt = cursor.execute(delete_sql,(3,))\n",
    "            print(cnt)\n",
    "            connection.commit()"
   ]
  },
  {
   "cell_type": "code",
   "execution_count": 61,
   "id": "75a685d6",
   "metadata": {},
   "outputs": [],
   "source": [
    "def delete_user_by_id(id):\n",
    "    delete_sql = \"delete from test_user where id =%s\"\n",
    "    with pymysql.connect(host='127.0.0.1', port=3306, user='scott', password='tiger', db='testdb', charset='utf8') as connection:\n",
    "            with connection.cursor() as cursor:\n",
    "                cnt = cursor.execute(delete_sql,(id,))\n",
    "                return cnt"
   ]
  },
  {
   "cell_type": "code",
   "execution_count": 63,
   "id": "1a2b8443",
   "metadata": {},
   "outputs": [
    {
     "name": "stdout",
     "output_type": "stream",
     "text": [
      "1\n"
     ]
    },
    {
     "data": {
      "text/plain": [
       "1"
      ]
     },
     "execution_count": 63,
     "metadata": {},
     "output_type": "execute_result"
    }
   ],
   "source": [
    "delete_user_by_id(4)"
   ]
  },
  {
   "cell_type": "markdown",
   "id": "096891b8",
   "metadata": {},
   "source": [
    "## select (DQL - Data Query Language)\n",
    "- 조회결과 조회\n",
    "    - cursor.execute(\"select문\") 실행 후 cursor의 결과 조회 메소드(fetch메소드)를 이용해 결과를 받는다.\n",
    "- fetch메소드\n",
    "    - **fetchall()**\n",
    "        - 조회한 모든 행을을 반환\n",
    "    - **fetchmany(size=개수)**\n",
    "        - 지정한 size개수 만큼 반환\n",
    "    - **fetchone()**\n",
    "        - 조회결과 중 첫번째 행만 반환\n",
    "        - 주로 pk 동등 조건으로 조회한 경우 사용"
   ]
  },
  {
   "cell_type": "markdown",
   "id": "524f4cb8",
   "metadata": {},
   "source": [
    "### fetchall()"
   ]
  },
  {
   "cell_type": "code",
   "execution_count": 12,
   "id": "93a06bf2",
   "metadata": {},
   "outputs": [
    {
     "name": "stdout",
     "output_type": "stream",
     "text": [
      "<class 'pymysql.cursors.Cursor'>\n"
     ]
    }
   ],
   "source": [
    "import pymysql\n",
    "sql = \"select * from test_user\"\n",
    "\n",
    "with pymysql.connect(host='127.0.0.1', port=3306, user='scott', password='tiger', db='testdb',charset='utf8') as connection:\n",
    "    with connection.cursor() as cursor:\n",
    "#        select문 실행\n",
    "        print(type(cursor))\n",
    "        cursor.execute(sql)\n",
    "#       select 결과 조회 (cursor.fetchxxx()메소드 이용)\n",
    "        result=cursor.fetchall()"
   ]
  },
  {
   "cell_type": "code",
   "execution_count": 9,
   "id": "dc2e4c26",
   "metadata": {},
   "outputs": [
    {
     "name": "stdout",
     "output_type": "stream",
     "text": [
      "<class 'tuple'> 11\n"
     ]
    },
    {
     "data": {
      "text/plain": [
       "((4, '이순신', 'lee@a.com', Decimal('200.20'), datetime.date(2000, 1, 1)),\n",
       " (5, '유관순', 'yoo@a.com', Decimal('185.30'), datetime.date(2000, 1, 1)),\n",
       " (10, '유관순', 'yoo2@a.com', Decimal('185.30'), datetime.date(2000, 1, 1)),\n",
       " (11, '강감찬', 'kang@a.com', Decimal('180.30'), datetime.date(2000, 1, 1)),\n",
       " (14, '홍길동', 'hong@a.com', Decimal('192.23'), datetime.date(2000, 1, 1)),\n",
       " (18, '이름1', 'e1@a.com', Decimal('192.30'), datetime.date(2000, 1, 1)),\n",
       " (19, '이름2', 'e2@a.com', Decimal('167.30'), datetime.date(2000, 1, 1)),\n",
       " (20, '이름3', 'e3@a.com', Decimal('185.20'), datetime.date(2000, 1, 1)),\n",
       " (22, 'name1', 'a1@a.com', Decimal('172.30'), datetime.date(2000, 2, 22)),\n",
       " (23, 'name2', 'a2@a.com', Decimal('182.44'), datetime.date(2001, 3, 20)),\n",
       " (24, 'name3', 'a3@a.com', Decimal('162.44'), datetime.date(2005, 3, 10)))"
      ]
     },
     "execution_count": 9,
     "metadata": {},
     "output_type": "execute_result"
    }
   ],
   "source": [
    "print(type(result),len(result))\n",
    "result"
   ]
  },
  {
   "cell_type": "code",
   "execution_count": 13,
   "id": "cebb65c0",
   "metadata": {},
   "outputs": [
    {
     "name": "stdout",
     "output_type": "stream",
     "text": [
      "<class 'pymysql.cursors.DictCursor'>\n"
     ]
    }
   ],
   "source": [
    "sql = \"select * from test_user\"\n",
    "\n",
    "with pymysql.connect(host='127.0.0.1', port=3306, user='scott', password='tiger',db='testdb',charset='utf8',\n",
    "                    cursorclass=pymysql.cursors.DictCursor) as connection: # 조회결과를 Dictionary로 반환하는 커서\n",
    "    with connection.cursor() as cursor:\n",
    "        print(type(cursor))\n",
    "        cursor.execute(sql)\n",
    "        result = cursor.fetchall()\n",
    "print(\"2번행의 이름\",result[1][1])"
   ]
  },
  {
   "cell_type": "code",
   "execution_count": 14,
   "id": "82a62b01",
   "metadata": {
    "collapsed": true
   },
   "outputs": [
    {
     "name": "stdout",
     "output_type": "stream",
     "text": [
      "<class 'list'>\n",
      "<class 'dict'>\n"
     ]
    },
    {
     "data": {
      "text/plain": [
       "[{'id': 4,\n",
       "  'name': '이순신',\n",
       "  'email': 'lee@a.com',\n",
       "  'tall': Decimal('200.20'),\n",
       "  'birthday': datetime.date(2000, 1, 1)},\n",
       " {'id': 5,\n",
       "  'name': '유관순',\n",
       "  'email': 'yoo@a.com',\n",
       "  'tall': Decimal('185.30'),\n",
       "  'birthday': datetime.date(2000, 1, 1)},\n",
       " {'id': 10,\n",
       "  'name': '유관순',\n",
       "  'email': 'yoo2@a.com',\n",
       "  'tall': Decimal('185.30'),\n",
       "  'birthday': datetime.date(2000, 1, 1)},\n",
       " {'id': 11,\n",
       "  'name': '강감찬',\n",
       "  'email': 'kang@a.com',\n",
       "  'tall': Decimal('180.30'),\n",
       "  'birthday': datetime.date(2000, 1, 1)},\n",
       " {'id': 14,\n",
       "  'name': '홍길동',\n",
       "  'email': 'hong@a.com',\n",
       "  'tall': Decimal('192.23'),\n",
       "  'birthday': datetime.date(2000, 1, 1)},\n",
       " {'id': 18,\n",
       "  'name': '이름1',\n",
       "  'email': 'e1@a.com',\n",
       "  'tall': Decimal('192.30'),\n",
       "  'birthday': datetime.date(2000, 1, 1)},\n",
       " {'id': 19,\n",
       "  'name': '이름2',\n",
       "  'email': 'e2@a.com',\n",
       "  'tall': Decimal('167.30'),\n",
       "  'birthday': datetime.date(2000, 1, 1)},\n",
       " {'id': 20,\n",
       "  'name': '이름3',\n",
       "  'email': 'e3@a.com',\n",
       "  'tall': Decimal('185.20'),\n",
       "  'birthday': datetime.date(2000, 1, 1)},\n",
       " {'id': 22,\n",
       "  'name': 'name1',\n",
       "  'email': 'a1@a.com',\n",
       "  'tall': Decimal('172.30'),\n",
       "  'birthday': datetime.date(2000, 2, 22)},\n",
       " {'id': 23,\n",
       "  'name': 'name2',\n",
       "  'email': 'a2@a.com',\n",
       "  'tall': Decimal('182.44'),\n",
       "  'birthday': datetime.date(2001, 3, 20)},\n",
       " {'id': 24,\n",
       "  'name': 'name3',\n",
       "  'email': 'a3@a.com',\n",
       "  'tall': Decimal('162.44'),\n",
       "  'birthday': datetime.date(2005, 3, 10)}]"
      ]
     },
     "execution_count": 14,
     "metadata": {},
     "output_type": "execute_result"
    }
   ],
   "source": [
    "print(type(result)),len(result)\n",
    "print(type(result[0])) # dict: key -컬럼명, value- 컬럼값\n",
    "result"
   ]
  },
  {
   "cell_type": "code",
   "execution_count": 19,
   "id": "69b0573f",
   "metadata": {
    "collapsed": true
   },
   "outputs": [
    {
     "name": "stdout",
     "output_type": "stream",
     "text": [
      "((4, '이순신', 'lee@a.com', Decimal('200.20'), datetime.date(2000, 1, 1)), (5, '유관순', 'yoo@a.com', Decimal('185.30'), datetime.date(2000, 1, 1)), (10, '유관순', 'yoo2@a.com', Decimal('185.30'), datetime.date(2000, 1, 1)), (11, '강감찬', 'kang@a.com', Decimal('180.30'), datetime.date(2000, 1, 1)), (14, '홍길동', 'hong@a.com', Decimal('192.23'), datetime.date(2000, 1, 1)), (18, '이름1', 'e1@a.com', Decimal('192.30'), datetime.date(2000, 1, 1)), (19, '이름2', 'e2@a.com', Decimal('167.30'), datetime.date(2000, 1, 1)), (20, '이름3', 'e3@a.com', Decimal('185.20'), datetime.date(2000, 1, 1)), (22, 'name1', 'a1@a.com', Decimal('172.30'), datetime.date(2000, 2, 22)), (23, 'name2', 'a2@a.com', Decimal('182.44'), datetime.date(2001, 3, 20)), (24, 'name3', 'a3@a.com', Decimal('162.44'), datetime.date(2005, 3, 10)))\n",
      "2번행의 이름 유관순\n"
     ]
    }
   ],
   "source": [
    "sql = \"select * from test_user\"\n",
    "\n",
    "with pymysql.connect(host='127.0.0.1', port=3306, user='scott', password='tiger',db='testdb',charset='utf8',\n",
    "                    ) as connection: # 조회결과를 Dictionary로 반환하는 커서\n",
    "    with connection.cursor() as cursor:\n",
    "        cursor.execute(sql)\n",
    "        result = cursor.fetchall()\n",
    "print(result)\n",
    "print(\"2번행의 이름\",result[1][1])"
   ]
  },
  {
   "cell_type": "code",
   "execution_count": 17,
   "id": "b1ee41b8",
   "metadata": {},
   "outputs": [
    {
     "data": {
      "text/plain": [
       "('이순신', 'lee@a.com')"
      ]
     },
     "execution_count": 17,
     "metadata": {},
     "output_type": "execute_result"
    }
   ],
   "source": [
    "result[0]['name'], result[0]['email']"
   ]
  },
  {
   "cell_type": "markdown",
   "id": "b3a9867d",
   "metadata": {},
   "source": [
    "### fetchone()"
   ]
  },
  {
   "cell_type": "code",
   "execution_count": 15,
   "id": "97500b7b",
   "metadata": {},
   "outputs": [
    {
     "name": "stdout",
     "output_type": "stream",
     "text": [
      "(4, '이순신', 'lee@a.com', Decimal('200.20'), datetime.date(2000, 1, 1))\n"
     ]
    }
   ],
   "source": [
    "sql = \"select * from test_user where id = %s\"\n",
    "# pk로 조회 - 조회결과 0 또는 1행\n",
    "with pymysql.connect(host='127.0.0.1', port=3306, user='scott', password='tiger', db='testdb',charset='utf8') as connection:\n",
    "    with connection.cursor() as cursor:\n",
    "        cursor.execute(sql,(4))  \n",
    "        result=cursor.fetchone() # 조회결과가 없으면 None 있으면 1개의 데이터 반환 => where에서 pk로 조회할 경우\n",
    "print(result)"
   ]
  },
  {
   "cell_type": "code",
   "execution_count": 8,
   "id": "b0eaf81d",
   "metadata": {},
   "outputs": [],
   "source": [
    "sql = \"select * from test_user\"\n",
    "# pk로 조회 - 조회결과 0 또는 1행\n",
    "with pymysql.connect(host='127.0.0.1', port=3306, user='scott', password='tiger', db='testdb',charset='utf8') as connection:\n",
    "    with connection.cursor() as cursor:\n",
    "        cursor.execute(sql) \n",
    "        result=cursor.fetchone() # 여러행이 조회될경우 한행만(첫행만) 반환"
   ]
  },
  {
   "cell_type": "markdown",
   "id": "cc8054bc",
   "metadata": {},
   "source": [
    "### fetchmany()"
   ]
  },
  {
   "cell_type": "code",
   "execution_count": 31,
   "id": "7d72f49c",
   "metadata": {},
   "outputs": [],
   "source": [
    "sql = \"select * from test_user\"\n",
    "with pymysql.connect(host='127.0.0.1', port=3306, user='scott', password='tiger', db='testdb',charset='utf8') as connection:\n",
    "    with connection.cursor() as cursor:\n",
    "        cursor.execute(sql)\n",
    "        result = cursor.fetchmany(size = 3)\n",
    "        \n",
    "        \n",
    "        "
   ]
  },
  {
   "cell_type": "code",
   "execution_count": 28,
   "id": "50fffed5",
   "metadata": {},
   "outputs": [
    {
     "name": "stdout",
     "output_type": "stream",
     "text": [
      "11\n",
      "((4, '이순신', 'lee@a.com', Decimal('200.20'), datetime.date(2000, 1, 1)), (5, '유관순', 'yoo@a.com', Decimal('185.30'), datetime.date(2000, 1, 1)), (10, '유관순', 'yoo2@a.com', Decimal('185.30'), datetime.date(2000, 1, 1)), (11, '강감찬', 'kang@a.com', Decimal('180.30'), datetime.date(2000, 1, 1)), (14, '홍길동', 'hong@a.com', Decimal('192.23'), datetime.date(2000, 1, 1)), (18, '이름1', 'e1@a.com', Decimal('192.30'), datetime.date(2000, 1, 1)), (19, '이름2', 'e2@a.com', Decimal('167.30'), datetime.date(2000, 1, 1)), (20, '이름3', 'e3@a.com', Decimal('185.20'), datetime.date(2000, 1, 1)), (22, 'name1', 'a1@a.com', Decimal('172.30'), datetime.date(2000, 2, 22)), (23, 'name2', 'a2@a.com', Decimal('182.44'), datetime.date(2001, 3, 20)), (24, 'name3', 'a3@a.com', Decimal('162.44'), datetime.date(2005, 3, 10)))\n"
     ]
    }
   ],
   "source": [
    "print(len(result))\n",
    "print(result)"
   ]
  },
  {
   "cell_type": "code",
   "execution_count": 32,
   "id": "bf32fb2d",
   "metadata": {},
   "outputs": [
    {
     "name": "stdout",
     "output_type": "stream",
     "text": [
      "3\n",
      "((4, '이순신', 'lee@a.com', Decimal('200.20'), datetime.date(2000, 1, 1)), (5, '유관순', 'yoo@a.com', Decimal('185.30'), datetime.date(2000, 1, 1)), (10, '유관순', 'yoo2@a.com', Decimal('185.30'), datetime.date(2000, 1, 1)))\n"
     ]
    }
   ],
   "source": [
    "print(len(result))\n",
    "print(result)"
   ]
  },
  {
   "cell_type": "markdown",
   "id": "fca900bd",
   "metadata": {},
   "source": [
    "### cursor 는 iterable 타입\n",
    "- for문에 select 실행한 cursor를 사용하면 조회결과를 한 행씩 조회할 수 있다."
   ]
  },
  {
   "cell_type": "code",
   "execution_count": 33,
   "id": "8332ff67",
   "metadata": {},
   "outputs": [
    {
     "name": "stdout",
     "output_type": "stream",
     "text": [
      "(4, '이순신', 'lee@a.com', Decimal('200.20'), datetime.date(2000, 1, 1))\n",
      "(5, '유관순', 'yoo@a.com', Decimal('185.30'), datetime.date(2000, 1, 1))\n",
      "(10, '유관순', 'yoo2@a.com', Decimal('185.30'), datetime.date(2000, 1, 1))\n",
      "(11, '강감찬', 'kang@a.com', Decimal('180.30'), datetime.date(2000, 1, 1))\n",
      "(14, '홍길동', 'hong@a.com', Decimal('192.23'), datetime.date(2000, 1, 1))\n",
      "(18, '이름1', 'e1@a.com', Decimal('192.30'), datetime.date(2000, 1, 1))\n",
      "(19, '이름2', 'e2@a.com', Decimal('167.30'), datetime.date(2000, 1, 1))\n",
      "(20, '이름3', 'e3@a.com', Decimal('185.20'), datetime.date(2000, 1, 1))\n",
      "(22, 'name1', 'a1@a.com', Decimal('172.30'), datetime.date(2000, 2, 22))\n",
      "(23, 'name2', 'a2@a.com', Decimal('182.44'), datetime.date(2001, 3, 20))\n",
      "(24, 'name3', 'a3@a.com', Decimal('162.44'), datetime.date(2005, 3, 10))\n"
     ]
    }
   ],
   "source": [
    "sql = \"select * from test_user\"\n",
    "with pymysql.connect(host='127.0.0.1', port=3306, user='scott', password='tiger', db='testdb',charset='utf8') as connection:\n",
    "    with connection.cursor() as cursor:\n",
    "        cursor.execute(sql)\n",
    "        for data in cursor: # 한번 반복시마다 조회결과를 한행씩 반환\n",
    "            print(data)\n",
    "            "
   ]
  },
  {
   "cell_type": "code",
   "execution_count": null,
   "id": "ec28d21d",
   "metadata": {},
   "outputs": [],
   "source": [
    "def insert_user(name, email, tall, birthday):\n",
    "    sql = f\"insert into test_user(name, email, tall, birthday) values ('{name}', '{email}', {tall}, '{birthday}')\"\n",
    "    with pymysql.connect(host='127.0.0.1', port=3306, user='scott', password='tiger', db='testdb', charset='utf8') as connection:\n",
    "        with connection.cursor() as cursor:\n",
    "            cnt = cursor.execute(sql)\n",
    "            print(f'{cnt}행이 insert됨')\n",
    "            connection.commit()"
   ]
  },
  {
   "cell_type": "markdown",
   "id": "516a7cb5",
   "metadata": {},
   "source": [
    "## TODO\n",
    "- DB:hr (emp 테이블)"
   ]
  },
  {
   "cell_type": "code",
   "execution_count": 96,
   "id": "07968fff",
   "metadata": {},
   "outputs": [],
   "source": [
    "# 1개의 행을 emp 테이블에 insert 하는 함수 - 호출해서 값 insert\n",
    "# Null을 허용하는 컬럼, default값이 있는 컬럼들은 기본값이 있는 매개변수로 선언한다. (null=>None)\n",
    "def insert_emp(emp_id, emp_name, job, hire_date, mgr_id=None, salary=None, comm_pct=None, dept_name=None):\n",
    "    sql = 'insert into emp values(%s, %s, %s, %s, %s, %s, %s, %s)'\n",
    "    with pymysql.connect(host='127.0.0.1', port=3306, user='scott', password='tiger', db='hr', charset='utf8') as connection:\n",
    "        with connection.cursor() as cursor:\n",
    "            cnt = cursor.execute(sql, (emp_id, emp_name, job, mgr_id, hire_date, salary, comm_pct, dept_name))\n",
    "            print(type(cnt))\n",
    "            connection.commit()\n",
    "            return cnt"
   ]
  },
  {
   "cell_type": "code",
   "execution_count": 97,
   "id": "f391f3e5",
   "metadata": {},
   "outputs": [
    {
     "name": "stdout",
     "output_type": "stream",
     "text": [
      "<class 'int'>\n"
     ]
    },
    {
     "data": {
      "text/plain": [
       "1"
      ]
     },
     "execution_count": 97,
     "metadata": {},
     "output_type": "execute_result"
    }
   ],
   "source": [
    "insert_emp(403, '홍길동', '기획', '2020-10-10', 100, 3000, 0.2, '기획부')"
   ]
  },
  {
   "cell_type": "code",
   "execution_count": null,
   "id": "875735c3",
   "metadata": {},
   "outputs": [],
   "source": [
    "# emp 테이블의 데이터를 수정하는 함수 - emp_id(where)로 나머지 정보를 수정"
   ]
  },
  {
   "cell_type": "code",
   "execution_count": 62,
   "id": "dbee2d8f",
   "metadata": {},
   "outputs": [],
   "source": [
    "def update_emp(emp_id, emp_name, job, salary, mgr_id, hire_date, comm_pct, dept_name):\n",
    "    sql = \"update emp set emp_name=%s, job=%s, salary=%s, mgr_id=%s, hire_date=%s, comm_pct=%s, dept_name=%s where emp_id = %s\"\n",
    "    with pymysql.connect(host='127.0.0.1', port=3306, user='scott', password='tiger', db='hr', charset='utf8') as connection:\n",
    "        with connection.cursor() as cursor:\n",
    "            cnt = cursor.execute(sql, (emp_name, job, salary, mgr_id, hire_date, comm_pct, dept_name, emp_id))\n",
    "            connection.commit()\n",
    "            return cnt\n",
    "            "
   ]
  },
  {
   "cell_type": "code",
   "execution_count": 63,
   "id": "c4b11880",
   "metadata": {},
   "outputs": [
    {
     "data": {
      "text/plain": [
       "1"
      ]
     },
     "execution_count": 63,
     "metadata": {},
     "output_type": "execute_result"
    }
   ],
   "source": [
    "# update_emp(206, '윌리암', '회계', '2002-06-07', 205,  18300, None, 'Accounting')\n",
    "update_emp(206, '월리암', '회계', 18300, 205, '2002-06-07', None, 'Accounting')"
   ]
  },
  {
   "cell_type": "code",
   "execution_count": null,
   "id": "441d5f96",
   "metadata": {},
   "outputs": [],
   "source": [
    "# emp_id를 매개변수로 받아서 그 emp_id의 직원 정보를 삭제하는 메소드"
   ]
  },
  {
   "cell_type": "code",
   "execution_count": 70,
   "id": "32b05cd2",
   "metadata": {},
   "outputs": [],
   "source": [
    "def delete_emp(emp_id):\n",
    "    sql = \"delete from emp where emp_id = %s\"\n",
    "    with pymysql.connect(host='127.0.0.1', port=3306, user='scott', password='tiger', db='hr', charset='utf8') as connection:\n",
    "        with connection.cursor() as cursor:\n",
    "            cnt = cursor.execute(sql,(emp_id))\n",
    "            connection.commit()\n",
    "            return cnt"
   ]
  },
  {
   "cell_type": "code",
   "execution_count": 71,
   "id": "65ce3e85",
   "metadata": {},
   "outputs": [
    {
     "data": {
      "text/plain": [
       "1"
      ]
     },
     "execution_count": 71,
     "metadata": {},
     "output_type": "execute_result"
    }
   ],
   "source": [
    "delete_emp(205)"
   ]
  },
  {
   "cell_type": "code",
   "execution_count": null,
   "id": "9d4cf964",
   "metadata": {},
   "outputs": [],
   "source": [
    "# job을 매개변수로 받아서 그 job의 직원들을 삭제하는 메소드"
   ]
  },
  {
   "cell_type": "code",
   "execution_count": 74,
   "id": "8815f29b",
   "metadata": {},
   "outputs": [],
   "source": [
    "def delete_job(job):\n",
    "    sql = \"delete from emp where job = %s\"\n",
    "    with pymysql.connect(host='127.0.0.1', port=3306, user='scott', password='tiger', db='hr', charset='utf8') as connection:\n",
    "        with connection.cursor() as cursor:\n",
    "            cnt = cursor.execute(sql,(job))\n",
    "            connection.commit()\n",
    "            return cnt"
   ]
  },
  {
   "cell_type": "code",
   "execution_count": 75,
   "id": "dacb4b5d",
   "metadata": {},
   "outputs": [
    {
     "data": {
      "text/plain": [
       "1"
      ]
     },
     "execution_count": 75,
     "metadata": {},
     "output_type": "execute_result"
    }
   ],
   "source": [
    "delete_job('PR_REP')"
   ]
  },
  {
   "cell_type": "code",
   "execution_count": null,
   "id": "8feefa7c",
   "metadata": {},
   "outputs": [],
   "source": [
    "# 전체 직원을 조회한 결과를 반환하는 메소드."
   ]
  },
  {
   "cell_type": "code",
   "execution_count": 87,
   "id": "21eee13a",
   "metadata": {},
   "outputs": [],
   "source": [
    "def select_all_emp():\n",
    "    sql = \"select * from emp\"\n",
    "    with pymysql.connect(host='127.0.0.1', port=3306, user='scott', password='tiger', db='hr', charset='utf8') as connection:\n",
    "        with connection.cursor() as cursor:\n",
    "            cursor.execute(sql)\n",
    "            result = cursor.fetchall()\n",
    "            return result"
   ]
  },
  {
   "cell_type": "code",
   "execution_count": 89,
   "id": "bf5f5eb1",
   "metadata": {
    "collapsed": true
   },
   "outputs": [
    {
     "name": "stdout",
     "output_type": "stream",
     "text": [
      "109\n",
      "((100, 'Steven', 'AD_PRES', None, datetime.date(2003, 6, 17), Decimal('24000.00'), None, 'Executive'), (101, 'Neena', 'AD_VP', 100, datetime.date(2005, 9, 21), Decimal('17000.00'), None, 'Executive'), (102, 'Lex', 'AD_VP', 100, datetime.date(2001, 1, 13), Decimal('17000.00'), None, 'Executive'), (103, 'Alexander', 'IT_PROG', 102, datetime.date(2006, 1, 3), Decimal('9000.00'), None, 'IT'), (104, 'Bruce', 'IT_PROG', 103, datetime.date(2007, 5, 21), Decimal('6000.00'), None, 'IT'), (105, 'David', 'IT_PROG', 103, datetime.date(2005, 6, 25), Decimal('4800.00'), None, 'IT'), (106, 'Valli', 'IT_PROG', 103, datetime.date(2006, 2, 5), Decimal('4800.00'), None, 'IT'), (107, 'Diana', 'IT_PROG', 103, datetime.date(2007, 2, 7), Decimal('4200.00'), None, 'IT'), (108, 'Nancy', 'FI_MGR', 101, datetime.date(2002, 8, 17), Decimal('12008.00'), None, 'Finance'), (109, 'Daniel', 'FI_ACCOUNT', 108, datetime.date(2002, 8, 16), Decimal('9000.00'), None, 'Finance'), (110, 'John', 'FI_ACCOUNT', 108, datetime.date(2005, 9, 28), Decimal('8200.00'), None, 'Finance'), (111, 'Ismael', 'FI_ACCOUNT', 108, datetime.date(2005, 9, 30), Decimal('7700.00'), None, 'Finance'), (112, 'Jose Manuel', 'FI_ACCOUNT', 108, datetime.date(2006, 3, 7), Decimal('7800.00'), None, 'Finance'), (113, 'Luis', 'FI_ACCOUNT', 108, datetime.date(2007, 12, 7), Decimal('6900.00'), None, 'Finance'), (114, 'Den', 'PU_MAN', 100, datetime.date(2002, 12, 7), Decimal('11000.00'), None, 'Purchasing'), (115, 'Alexander', 'PU_MAN', 100, datetime.date(2003, 5, 18), Decimal('7100.00'), None, 'Purchasing'), (116, 'Shelli', 'PU_CLERK', 114, datetime.date(2005, 12, 24), Decimal('2900.00'), None, 'Purchasing'), (117, 'Sigal', 'PU_CLERK', 115, datetime.date(2005, 7, 24), Decimal('2800.00'), None, 'Purchasing'), (118, 'Guy', 'PU_CLERK', 115, datetime.date(2006, 11, 15), Decimal('2600.00'), None, 'Purchasing'), (119, 'Karen', 'PU_CLERK', 114, datetime.date(2007, 8, 10), Decimal('2500.00'), None, 'Purchasing'), (120, 'Matthew', 'ST_MAN', 100, datetime.date(2004, 7, 18), Decimal('8000.00'), None, 'Shipping'), (121, 'Adam', 'ST_MAN', 100, datetime.date(2005, 4, 10), Decimal('8200.00'), None, 'Shipping'), (122, 'Payam', 'ST_MAN', 100, datetime.date(2003, 5, 1), Decimal('7900.00'), None, 'Shipping'), (123, 'Shanta', 'ST_MAN', 100, datetime.date(2005, 10, 10), Decimal('6500.00'), None, 'Shipping'), (124, 'Kevin', 'ST_MAN', 100, datetime.date(2007, 11, 16), Decimal('5800.00'), None, 'Shipping'), (125, 'Julia', 'ST_CLERK', 120, datetime.date(2005, 7, 16), Decimal('3200.00'), None, 'Shipping'), (126, 'Irene', 'ST_CLERK', 120, datetime.date(2006, 9, 28), Decimal('2700.00'), None, 'Shipping'), (127, 'James', 'ST_CLERK', 120, datetime.date(2007, 1, 14), Decimal('2400.00'), None, 'Shipping'), (128, 'Steven', 'ST_CLERK', 120, datetime.date(2008, 3, 8), Decimal('2200.00'), None, 'Shipping'), (129, 'Laura', 'ST_CLERK', 121, datetime.date(2005, 8, 20), Decimal('3300.00'), None, 'Shipping'), (130, 'Mozhe', 'ST_CLERK', 121, datetime.date(2005, 10, 30), Decimal('2800.00'), None, 'Shipping'), (131, 'James', 'ST_CLERK', 121, datetime.date(2005, 2, 16), Decimal('2500.00'), None, 'Shipping'), (132, 'TJ', 'ST_CLERK', 121, datetime.date(2007, 4, 10), Decimal('2100.00'), None, 'Shipping'), (133, 'Jason', 'ST_CLERK', 122, datetime.date(2004, 6, 14), Decimal('3300.00'), None, 'Shipping'), (134, 'Michael', 'ST_CLERK', 122, datetime.date(2006, 8, 26), Decimal('2900.00'), None, 'Shipping'), (135, 'Ki', 'ST_CLERK', 122, datetime.date(2007, 12, 12), Decimal('2400.00'), None, 'Shipping'), (136, 'Hazel', 'ST_CLERK', 122, datetime.date(2008, 2, 6), Decimal('2200.00'), None, 'Shipping'), (137, 'Renske', 'ST_CLERK', 123, datetime.date(2003, 7, 14), Decimal('3600.00'), None, 'Shipping'), (138, 'Stephen', 'ST_CLERK', 123, datetime.date(2005, 10, 26), Decimal('3200.00'), None, 'Shipping'), (139, 'John', 'ST_CLERK', 123, datetime.date(2006, 2, 12), Decimal('2700.00'), None, 'Shipping'), (140, 'Joshua', 'ST_CLERK', 123, datetime.date(2006, 4, 6), Decimal('2500.00'), None, 'Shipping'), (141, 'Trenna', 'ST_CLERK', 124, datetime.date(2003, 10, 17), Decimal('3500.00'), None, 'Shipping'), (142, 'Curtis', 'ST_CLERK', 124, datetime.date(2005, 1, 29), Decimal('3100.00'), None, 'Shipping'), (143, 'Randall', 'ST_CLERK', 124, datetime.date(2006, 3, 15), Decimal('2600.00'), None, 'Shipping'), (144, 'Peter', 'ST_CLERK', 124, datetime.date(2006, 7, 9), Decimal('2500.00'), None, 'Shipping'), (145, 'John', 'SA_MAN', 100, datetime.date(2004, 10, 1), Decimal('14000.00'), Decimal('0.40'), 'Sales'), (146, 'Karen', 'SA_MAN', 100, datetime.date(2005, 1, 5), Decimal('13500.00'), Decimal('0.30'), 'Sales'), (147, 'Alberto', 'SA_MAN', 100, datetime.date(2005, 3, 10), Decimal('12000.00'), Decimal('0.30'), None), (148, 'Gerald', 'SA_MAN', 100, datetime.date(2007, 10, 15), Decimal('11000.00'), Decimal('0.30'), 'Sales'), (149, 'Eleni', 'SA_MAN', 100, datetime.date(2008, 1, 29), Decimal('10500.00'), Decimal('0.20'), 'Sales'), (150, 'Peter', 'SA_REP', 145, datetime.date(2005, 1, 30), Decimal('10000.00'), Decimal('0.30'), 'Sales'), (151, 'David', 'SA_REP', 145, datetime.date(2005, 3, 24), Decimal('9500.00'), Decimal('0.25'), 'Sales'), (152, 'Peter', 'SA_REP', 145, datetime.date(2005, 8, 20), Decimal('9000.00'), Decimal('0.25'), 'Sales'), (153, 'Christopher', 'SA_REP', 145, datetime.date(2006, 3, 30), Decimal('8000.00'), Decimal('0.20'), 'Sales'), (154, 'Nanette', 'SA_REP', 145, datetime.date(2006, 12, 9), Decimal('7500.00'), Decimal('0.20'), 'Sales'), (155, 'Oliver', 'SA_REP', 145, datetime.date(2007, 11, 23), Decimal('7000.00'), Decimal('0.15'), 'Sales'), (156, 'Janette', 'SA_REP', 146, datetime.date(2004, 1, 30), Decimal('10000.00'), Decimal('0.35'), 'Sales'), (157, 'Patrick', 'SA_REP', 146, datetime.date(2004, 3, 4), Decimal('9500.00'), Decimal('0.35'), 'Sales'), (158, 'Allan', 'SA_REP', 146, datetime.date(2004, 8, 1), Decimal('9000.00'), Decimal('0.35'), 'Sales'), (159, 'Lindsey', 'SA_REP', 146, datetime.date(2005, 3, 10), Decimal('8000.00'), Decimal('0.30'), 'Sales'), (160, 'Louise', 'SA_REP', 146, datetime.date(2005, 12, 15), Decimal('7500.00'), Decimal('0.30'), 'Sales'), (161, 'Sarath', 'SA_REP', 146, datetime.date(2006, 11, 3), Decimal('7000.00'), Decimal('0.25'), 'Sales'), (162, 'Clara', 'SA_REP', 147, datetime.date(2005, 11, 11), Decimal('10500.00'), Decimal('0.25'), 'Sales'), (163, 'Danielle', 'SA_REP', 147, datetime.date(2007, 3, 19), Decimal('9500.00'), Decimal('0.15'), 'Sales'), (164, 'Mattea', 'SA_REP', 147, datetime.date(2008, 1, 24), Decimal('7200.00'), Decimal('0.10'), 'Sales'), (165, 'David', 'SA_REP', 147, datetime.date(2008, 2, 23), Decimal('6800.00'), Decimal('0.10'), 'Sales'), (166, 'Sundar', 'SA_REP', 147, datetime.date(2008, 3, 24), Decimal('6400.00'), Decimal('0.10'), 'Sales'), (167, 'Amit', 'SA_REP', 147, datetime.date(2008, 4, 21), Decimal('6200.00'), Decimal('0.10'), 'Sales'), (168, 'Lisa', 'SA_REP', 148, datetime.date(2005, 3, 11), Decimal('11500.00'), Decimal('0.25'), 'Sales'), (169, 'Harrison', 'SA_REP', 148, datetime.date(2006, 3, 23), Decimal('10000.00'), Decimal('0.20'), 'Sales'), (170, 'Tayler', 'SA_REP', 148, datetime.date(2006, 1, 24), Decimal('9600.00'), Decimal('0.20'), 'Sales'), (171, 'William', 'SA_REP', 148, datetime.date(2007, 2, 23), Decimal('7400.00'), Decimal('0.15'), 'Sales'), (172, 'Elizabeth', 'SA_REP', 148, datetime.date(2007, 3, 24), Decimal('7300.00'), Decimal('0.15'), 'Sales'), (173, 'Sundita', 'SA_REP', 148, datetime.date(2008, 4, 21), Decimal('6100.00'), Decimal('0.10'), 'Sales'), (174, 'Ellen', 'SA_REP', 149, datetime.date(2004, 5, 11), Decimal('11000.00'), Decimal('0.30'), 'Sales'), (175, 'Alyssa', 'SA_REP', 149, datetime.date(2005, 3, 19), Decimal('8800.00'), Decimal('0.25'), 'Sales'), (176, 'Jonathon', 'SA_REP', 149, datetime.date(2006, 3, 24), Decimal('8600.00'), Decimal('0.20'), 'Sales'), (177, 'Jack', 'SA_REP', 149, datetime.date(2006, 4, 23), Decimal('8400.00'), Decimal('0.20'), 'Sales'), (178, 'Kimberely', 'SA_REP', 149, datetime.date(2007, 5, 24), Decimal('7000.00'), Decimal('0.15'), None), (179, 'Charles', 'SA_REP', 149, datetime.date(2008, 1, 4), Decimal('6200.00'), Decimal('0.10'), 'Sales'), (180, 'Winston', 'SH_CLERK', 120, datetime.date(2006, 1, 24), Decimal('3200.00'), None, 'Shipping'), (181, 'Jean', 'SH_CLERK', 120, datetime.date(2006, 2, 23), Decimal('3100.00'), None, 'Shipping'), (182, 'Martha', 'SH_CLERK', 120, datetime.date(2007, 6, 21), Decimal('2500.00'), None, 'Shipping'), (183, 'Girard', 'SH_CLERK', 120, datetime.date(2008, 2, 3), Decimal('2800.00'), None, 'Shipping'), (184, 'Nandita', 'SH_CLERK', 121, datetime.date(2004, 1, 27), Decimal('4200.00'), None, 'Shipping'), (185, 'Alexis', 'SH_CLERK', 121, datetime.date(2005, 2, 20), Decimal('4100.00'), None, 'Shipping'), (186, 'Julia', 'SH_CLERK', 121, datetime.date(2006, 6, 24), Decimal('3400.00'), None, 'Shipping'), (187, 'Anthony', 'SH_CLERK', 121, datetime.date(2007, 2, 7), Decimal('3000.00'), None, 'Shipping'), (188, 'Kelly', 'SH_CLERK', 122, datetime.date(2005, 6, 14), Decimal('3800.00'), None, 'Shipping'), (189, 'Jennifer', 'SH_CLERK', 122, datetime.date(2005, 8, 13), Decimal('3600.00'), None, 'Shipping'), (190, 'Timothy', 'SH_CLERK', 122, datetime.date(2006, 7, 11), Decimal('2900.00'), None, 'Shipping'), (191, 'Randall', 'SH_CLERK', 122, datetime.date(2007, 12, 19), Decimal('2500.00'), None, 'Shipping'), (192, 'Sarah', 'SH_CLERK', 123, datetime.date(2004, 2, 4), Decimal('4000.00'), None, 'Shipping'), (193, 'Britney', 'SH_CLERK', 123, datetime.date(2005, 3, 3), Decimal('3900.00'), None, 'Shipping'), (194, 'Samuel', 'SH_CLERK', 123, datetime.date(2006, 7, 1), Decimal('3200.00'), None, 'Shipping'), (195, 'Vance', 'SH_CLERK', 123, datetime.date(2007, 3, 17), Decimal('2800.00'), None, 'Shipping'), (196, 'Alana', 'SH_CLERK', 124, datetime.date(2006, 4, 24), Decimal('3100.00'), None, None), (197, 'Kevin', 'SH_CLERK', 124, datetime.date(2006, 5, 23), Decimal('3000.00'), None, 'Shipping'), (198, 'Donald', 'SH_CLERK', 124, datetime.date(2007, 6, 21), Decimal('2600.00'), None, 'Shipping'), (199, 'Douglas', 'SH_CLERK', 124, datetime.date(2008, 1, 13), Decimal('2600.00'), None, 'Shipping'), (200, 'Jenni%fer', 'AD_ASST', 101, datetime.date(2003, 9, 17), Decimal('4400.00'), None, 'Administration'), (201, 'Michael', 'MK_MAN', 100, datetime.date(2004, 2, 17), Decimal('13000.00'), None, 'Marketing'), (202, 'Pat', 'MK_REP', 201, datetime.date(2005, 8, 17), Decimal('6000.00'), None, 'Marketing'), (203, 'Susan', 'HR_REP', 101, datetime.date(2002, 6, 7), Decimal('6500.00'), None, 'Human Resources'), (206, '월리암', '회계', 205, datetime.date(2002, 6, 7), Decimal('18300.00'), None, 'Accounting'), (300, '홍길동', 'AC_ACCOUNT', 205, datetime.date(2022, 5, 31), Decimal('4000.00'), None, 'Accounting'), (302, '강감찬', 'AC_ACCOUNT', 205, datetime.date(2020, 1, 3), Decimal('10000.00'), None, None), (303, '이순신', 'AC_ACCOUNT', 205, datetime.date(2020, 1, 3), Decimal('10000.00'), Decimal('0.10'), None), (305, '홍길동', '기획부', 100, datetime.date(2001, 1, 1), Decimal('10000.00'), None, '기획'))\n"
     ]
    }
   ],
   "source": [
    "r= select_all_emp()\n",
    "print(len(r))\n",
    "print(r)"
   ]
  },
  {
   "cell_type": "code",
   "execution_count": null,
   "id": "46334db0",
   "metadata": {},
   "outputs": [],
   "source": [
    "# emp_id 를 매개변수로 받아서 그 직원 정보를 조회한 결과를 반환하는 메소드"
   ]
  },
  {
   "cell_type": "code",
   "execution_count": 5,
   "id": "26cdce46",
   "metadata": {},
   "outputs": [],
   "source": [
    "import pymysql\n",
    "def select_emp_id_emp(emp_id):\n",
    "    sql = \"select * from emp where emp_id = %s\"\n",
    "    with pymysql.connect(host='127.0.0.1',port=3306,user='scott',password='tiger',db='hr',charset='utf8') as connection:\n",
    "        with connection.cursor() as cursor:\n",
    "            cursor.execute(sql,(emp_id))\n",
    "            result = cursor.fetchall()\n",
    "            return result\n",
    "\n",
    "        "
   ]
  },
  {
   "cell_type": "code",
   "execution_count": 6,
   "id": "290a1125",
   "metadata": {},
   "outputs": [
    {
     "data": {
      "text/plain": [
       "((401,\n",
       "  '홍길동',\n",
       "  '기획',\n",
       "  100,\n",
       "  datetime.date(2020, 10, 10),\n",
       "  Decimal('3000.00'),\n",
       "  Decimal('0.20'),\n",
       "  '기획부'),)"
      ]
     },
     "execution_count": 6,
     "metadata": {},
     "output_type": "execute_result"
    }
   ],
   "source": [
    "select_emp_id_emp(401)"
   ]
  },
  {
   "cell_type": "code",
   "execution_count": null,
   "id": "688cb01c",
   "metadata": {},
   "outputs": [],
   "source": [
    "# dept_name을 매개변수로 받아서 그 부서의 직원들을 조회한 결과를 반환하는 메소드"
   ]
  },
  {
   "cell_type": "code",
   "execution_count": 105,
   "id": "f8fbc610",
   "metadata": {},
   "outputs": [],
   "source": [
    "def select_dept_name(dept_name):\n",
    "    sql = \"select * from emp where dept_name = %s\"\n",
    "    with pymysql.connect(host='127.0.0.1',port=3306,user='scott',password='tiger',db='hr',charset='utf8') as connection:\n",
    "        with connection.cursor() as cursor:\n",
    "            cursor.execute(sql,(dept_name))\n",
    "            result = cursor.fetchall()\n",
    "            return result\n",
    "    "
   ]
  },
  {
   "cell_type": "code",
   "execution_count": 106,
   "id": "222638a4",
   "metadata": {
    "collapsed": true
   },
   "outputs": [
    {
     "data": {
      "text/plain": [
       "((120,\n",
       "  'Matthew',\n",
       "  'ST_MAN',\n",
       "  100,\n",
       "  datetime.date(2004, 7, 18),\n",
       "  Decimal('8000.00'),\n",
       "  None,\n",
       "  'Shipping'),\n",
       " (121,\n",
       "  'Adam',\n",
       "  'ST_MAN',\n",
       "  100,\n",
       "  datetime.date(2005, 4, 10),\n",
       "  Decimal('8200.00'),\n",
       "  None,\n",
       "  'Shipping'),\n",
       " (122,\n",
       "  'Payam',\n",
       "  'ST_MAN',\n",
       "  100,\n",
       "  datetime.date(2003, 5, 1),\n",
       "  Decimal('7900.00'),\n",
       "  None,\n",
       "  'Shipping'),\n",
       " (123,\n",
       "  'Shanta',\n",
       "  'ST_MAN',\n",
       "  100,\n",
       "  datetime.date(2005, 10, 10),\n",
       "  Decimal('6500.00'),\n",
       "  None,\n",
       "  'Shipping'),\n",
       " (124,\n",
       "  'Kevin',\n",
       "  'ST_MAN',\n",
       "  100,\n",
       "  datetime.date(2007, 11, 16),\n",
       "  Decimal('5800.00'),\n",
       "  None,\n",
       "  'Shipping'),\n",
       " (125,\n",
       "  'Julia',\n",
       "  'ST_CLERK',\n",
       "  120,\n",
       "  datetime.date(2005, 7, 16),\n",
       "  Decimal('3200.00'),\n",
       "  None,\n",
       "  'Shipping'),\n",
       " (126,\n",
       "  'Irene',\n",
       "  'ST_CLERK',\n",
       "  120,\n",
       "  datetime.date(2006, 9, 28),\n",
       "  Decimal('2700.00'),\n",
       "  None,\n",
       "  'Shipping'),\n",
       " (127,\n",
       "  'James',\n",
       "  'ST_CLERK',\n",
       "  120,\n",
       "  datetime.date(2007, 1, 14),\n",
       "  Decimal('2400.00'),\n",
       "  None,\n",
       "  'Shipping'),\n",
       " (128,\n",
       "  'Steven',\n",
       "  'ST_CLERK',\n",
       "  120,\n",
       "  datetime.date(2008, 3, 8),\n",
       "  Decimal('2200.00'),\n",
       "  None,\n",
       "  'Shipping'),\n",
       " (129,\n",
       "  'Laura',\n",
       "  'ST_CLERK',\n",
       "  121,\n",
       "  datetime.date(2005, 8, 20),\n",
       "  Decimal('3300.00'),\n",
       "  None,\n",
       "  'Shipping'),\n",
       " (130,\n",
       "  'Mozhe',\n",
       "  'ST_CLERK',\n",
       "  121,\n",
       "  datetime.date(2005, 10, 30),\n",
       "  Decimal('2800.00'),\n",
       "  None,\n",
       "  'Shipping'),\n",
       " (131,\n",
       "  'James',\n",
       "  'ST_CLERK',\n",
       "  121,\n",
       "  datetime.date(2005, 2, 16),\n",
       "  Decimal('2500.00'),\n",
       "  None,\n",
       "  'Shipping'),\n",
       " (132,\n",
       "  'TJ',\n",
       "  'ST_CLERK',\n",
       "  121,\n",
       "  datetime.date(2007, 4, 10),\n",
       "  Decimal('2100.00'),\n",
       "  None,\n",
       "  'Shipping'),\n",
       " (133,\n",
       "  'Jason',\n",
       "  'ST_CLERK',\n",
       "  122,\n",
       "  datetime.date(2004, 6, 14),\n",
       "  Decimal('3300.00'),\n",
       "  None,\n",
       "  'Shipping'),\n",
       " (134,\n",
       "  'Michael',\n",
       "  'ST_CLERK',\n",
       "  122,\n",
       "  datetime.date(2006, 8, 26),\n",
       "  Decimal('2900.00'),\n",
       "  None,\n",
       "  'Shipping'),\n",
       " (135,\n",
       "  'Ki',\n",
       "  'ST_CLERK',\n",
       "  122,\n",
       "  datetime.date(2007, 12, 12),\n",
       "  Decimal('2400.00'),\n",
       "  None,\n",
       "  'Shipping'),\n",
       " (136,\n",
       "  'Hazel',\n",
       "  'ST_CLERK',\n",
       "  122,\n",
       "  datetime.date(2008, 2, 6),\n",
       "  Decimal('2200.00'),\n",
       "  None,\n",
       "  'Shipping'),\n",
       " (137,\n",
       "  'Renske',\n",
       "  'ST_CLERK',\n",
       "  123,\n",
       "  datetime.date(2003, 7, 14),\n",
       "  Decimal('3600.00'),\n",
       "  None,\n",
       "  'Shipping'),\n",
       " (138,\n",
       "  'Stephen',\n",
       "  'ST_CLERK',\n",
       "  123,\n",
       "  datetime.date(2005, 10, 26),\n",
       "  Decimal('3200.00'),\n",
       "  None,\n",
       "  'Shipping'),\n",
       " (139,\n",
       "  'John',\n",
       "  'ST_CLERK',\n",
       "  123,\n",
       "  datetime.date(2006, 2, 12),\n",
       "  Decimal('2700.00'),\n",
       "  None,\n",
       "  'Shipping'),\n",
       " (140,\n",
       "  'Joshua',\n",
       "  'ST_CLERK',\n",
       "  123,\n",
       "  datetime.date(2006, 4, 6),\n",
       "  Decimal('2500.00'),\n",
       "  None,\n",
       "  'Shipping'),\n",
       " (141,\n",
       "  'Trenna',\n",
       "  'ST_CLERK',\n",
       "  124,\n",
       "  datetime.date(2003, 10, 17),\n",
       "  Decimal('3500.00'),\n",
       "  None,\n",
       "  'Shipping'),\n",
       " (142,\n",
       "  'Curtis',\n",
       "  'ST_CLERK',\n",
       "  124,\n",
       "  datetime.date(2005, 1, 29),\n",
       "  Decimal('3100.00'),\n",
       "  None,\n",
       "  'Shipping'),\n",
       " (143,\n",
       "  'Randall',\n",
       "  'ST_CLERK',\n",
       "  124,\n",
       "  datetime.date(2006, 3, 15),\n",
       "  Decimal('2600.00'),\n",
       "  None,\n",
       "  'Shipping'),\n",
       " (144,\n",
       "  'Peter',\n",
       "  'ST_CLERK',\n",
       "  124,\n",
       "  datetime.date(2006, 7, 9),\n",
       "  Decimal('2500.00'),\n",
       "  None,\n",
       "  'Shipping'),\n",
       " (180,\n",
       "  'Winston',\n",
       "  'SH_CLERK',\n",
       "  120,\n",
       "  datetime.date(2006, 1, 24),\n",
       "  Decimal('3200.00'),\n",
       "  None,\n",
       "  'Shipping'),\n",
       " (181,\n",
       "  'Jean',\n",
       "  'SH_CLERK',\n",
       "  120,\n",
       "  datetime.date(2006, 2, 23),\n",
       "  Decimal('3100.00'),\n",
       "  None,\n",
       "  'Shipping'),\n",
       " (182,\n",
       "  'Martha',\n",
       "  'SH_CLERK',\n",
       "  120,\n",
       "  datetime.date(2007, 6, 21),\n",
       "  Decimal('2500.00'),\n",
       "  None,\n",
       "  'Shipping'),\n",
       " (183,\n",
       "  'Girard',\n",
       "  'SH_CLERK',\n",
       "  120,\n",
       "  datetime.date(2008, 2, 3),\n",
       "  Decimal('2800.00'),\n",
       "  None,\n",
       "  'Shipping'),\n",
       " (184,\n",
       "  'Nandita',\n",
       "  'SH_CLERK',\n",
       "  121,\n",
       "  datetime.date(2004, 1, 27),\n",
       "  Decimal('4200.00'),\n",
       "  None,\n",
       "  'Shipping'),\n",
       " (185,\n",
       "  'Alexis',\n",
       "  'SH_CLERK',\n",
       "  121,\n",
       "  datetime.date(2005, 2, 20),\n",
       "  Decimal('4100.00'),\n",
       "  None,\n",
       "  'Shipping'),\n",
       " (186,\n",
       "  'Julia',\n",
       "  'SH_CLERK',\n",
       "  121,\n",
       "  datetime.date(2006, 6, 24),\n",
       "  Decimal('3400.00'),\n",
       "  None,\n",
       "  'Shipping'),\n",
       " (187,\n",
       "  'Anthony',\n",
       "  'SH_CLERK',\n",
       "  121,\n",
       "  datetime.date(2007, 2, 7),\n",
       "  Decimal('3000.00'),\n",
       "  None,\n",
       "  'Shipping'),\n",
       " (188,\n",
       "  'Kelly',\n",
       "  'SH_CLERK',\n",
       "  122,\n",
       "  datetime.date(2005, 6, 14),\n",
       "  Decimal('3800.00'),\n",
       "  None,\n",
       "  'Shipping'),\n",
       " (189,\n",
       "  'Jennifer',\n",
       "  'SH_CLERK',\n",
       "  122,\n",
       "  datetime.date(2005, 8, 13),\n",
       "  Decimal('3600.00'),\n",
       "  None,\n",
       "  'Shipping'),\n",
       " (190,\n",
       "  'Timothy',\n",
       "  'SH_CLERK',\n",
       "  122,\n",
       "  datetime.date(2006, 7, 11),\n",
       "  Decimal('2900.00'),\n",
       "  None,\n",
       "  'Shipping'),\n",
       " (191,\n",
       "  'Randall',\n",
       "  'SH_CLERK',\n",
       "  122,\n",
       "  datetime.date(2007, 12, 19),\n",
       "  Decimal('2500.00'),\n",
       "  None,\n",
       "  'Shipping'),\n",
       " (192,\n",
       "  'Sarah',\n",
       "  'SH_CLERK',\n",
       "  123,\n",
       "  datetime.date(2004, 2, 4),\n",
       "  Decimal('4000.00'),\n",
       "  None,\n",
       "  'Shipping'),\n",
       " (193,\n",
       "  'Britney',\n",
       "  'SH_CLERK',\n",
       "  123,\n",
       "  datetime.date(2005, 3, 3),\n",
       "  Decimal('3900.00'),\n",
       "  None,\n",
       "  'Shipping'),\n",
       " (194,\n",
       "  'Samuel',\n",
       "  'SH_CLERK',\n",
       "  123,\n",
       "  datetime.date(2006, 7, 1),\n",
       "  Decimal('3200.00'),\n",
       "  None,\n",
       "  'Shipping'),\n",
       " (195,\n",
       "  'Vance',\n",
       "  'SH_CLERK',\n",
       "  123,\n",
       "  datetime.date(2007, 3, 17),\n",
       "  Decimal('2800.00'),\n",
       "  None,\n",
       "  'Shipping'),\n",
       " (197,\n",
       "  'Kevin',\n",
       "  'SH_CLERK',\n",
       "  124,\n",
       "  datetime.date(2006, 5, 23),\n",
       "  Decimal('3000.00'),\n",
       "  None,\n",
       "  'Shipping'),\n",
       " (198,\n",
       "  'Donald',\n",
       "  'SH_CLERK',\n",
       "  124,\n",
       "  datetime.date(2007, 6, 21),\n",
       "  Decimal('2600.00'),\n",
       "  None,\n",
       "  'Shipping'),\n",
       " (199,\n",
       "  'Douglas',\n",
       "  'SH_CLERK',\n",
       "  124,\n",
       "  datetime.date(2008, 1, 13),\n",
       "  Decimal('2600.00'),\n",
       "  None,\n",
       "  'Shipping'))"
      ]
     },
     "execution_count": 106,
     "metadata": {},
     "output_type": "execute_result"
    }
   ],
   "source": [
    "select_dept_name('Shipping')"
   ]
  },
  {
   "cell_type": "code",
   "execution_count": null,
   "id": "343e3f31",
   "metadata": {},
   "outputs": [],
   "source": [
    "# salary 범위를 받아서 그 범위의 salary를 받는 직원들을 조회한 결과를 반환하는 함수"
   ]
  },
  {
   "cell_type": "code",
   "execution_count": 108,
   "id": "13c41f8e",
   "metadata": {},
   "outputs": [],
   "source": [
    "def select_salary(min_salary, max_salary):\n",
    "    sql = \"select * from emp where salary between %s and %s\"\n",
    "    with pymysql.connect(host='127.0.0.1',port=3306,user='scott',password='tiger',db='hr',charset='utf8') as connection:\n",
    "        with connection.cursor() as cursor:\n",
    "            cursor.execute(sql,(min_salary,max_salary))\n",
    "            result = cursor.fetchall()\n",
    "            return result\n",
    "            "
   ]
  },
  {
   "cell_type": "code",
   "execution_count": 109,
   "id": "9eb9a80c",
   "metadata": {
    "collapsed": true
   },
   "outputs": [
    {
     "data": {
      "text/plain": [
       "((125,\n",
       "  'Julia',\n",
       "  'ST_CLERK',\n",
       "  120,\n",
       "  datetime.date(2005, 7, 16),\n",
       "  Decimal('3200.00'),\n",
       "  None,\n",
       "  'Shipping'),\n",
       " (129,\n",
       "  'Laura',\n",
       "  'ST_CLERK',\n",
       "  121,\n",
       "  datetime.date(2005, 8, 20),\n",
       "  Decimal('3300.00'),\n",
       "  None,\n",
       "  'Shipping'),\n",
       " (133,\n",
       "  'Jason',\n",
       "  'ST_CLERK',\n",
       "  122,\n",
       "  datetime.date(2004, 6, 14),\n",
       "  Decimal('3300.00'),\n",
       "  None,\n",
       "  'Shipping'),\n",
       " (137,\n",
       "  'Renske',\n",
       "  'ST_CLERK',\n",
       "  123,\n",
       "  datetime.date(2003, 7, 14),\n",
       "  Decimal('3600.00'),\n",
       "  None,\n",
       "  'Shipping'),\n",
       " (138,\n",
       "  'Stephen',\n",
       "  'ST_CLERK',\n",
       "  123,\n",
       "  datetime.date(2005, 10, 26),\n",
       "  Decimal('3200.00'),\n",
       "  None,\n",
       "  'Shipping'),\n",
       " (141,\n",
       "  'Trenna',\n",
       "  'ST_CLERK',\n",
       "  124,\n",
       "  datetime.date(2003, 10, 17),\n",
       "  Decimal('3500.00'),\n",
       "  None,\n",
       "  'Shipping'),\n",
       " (142,\n",
       "  'Curtis',\n",
       "  'ST_CLERK',\n",
       "  124,\n",
       "  datetime.date(2005, 1, 29),\n",
       "  Decimal('3100.00'),\n",
       "  None,\n",
       "  'Shipping'),\n",
       " (180,\n",
       "  'Winston',\n",
       "  'SH_CLERK',\n",
       "  120,\n",
       "  datetime.date(2006, 1, 24),\n",
       "  Decimal('3200.00'),\n",
       "  None,\n",
       "  'Shipping'),\n",
       " (181,\n",
       "  'Jean',\n",
       "  'SH_CLERK',\n",
       "  120,\n",
       "  datetime.date(2006, 2, 23),\n",
       "  Decimal('3100.00'),\n",
       "  None,\n",
       "  'Shipping'),\n",
       " (186,\n",
       "  'Julia',\n",
       "  'SH_CLERK',\n",
       "  121,\n",
       "  datetime.date(2006, 6, 24),\n",
       "  Decimal('3400.00'),\n",
       "  None,\n",
       "  'Shipping'),\n",
       " (187,\n",
       "  'Anthony',\n",
       "  'SH_CLERK',\n",
       "  121,\n",
       "  datetime.date(2007, 2, 7),\n",
       "  Decimal('3000.00'),\n",
       "  None,\n",
       "  'Shipping'),\n",
       " (188,\n",
       "  'Kelly',\n",
       "  'SH_CLERK',\n",
       "  122,\n",
       "  datetime.date(2005, 6, 14),\n",
       "  Decimal('3800.00'),\n",
       "  None,\n",
       "  'Shipping'),\n",
       " (189,\n",
       "  'Jennifer',\n",
       "  'SH_CLERK',\n",
       "  122,\n",
       "  datetime.date(2005, 8, 13),\n",
       "  Decimal('3600.00'),\n",
       "  None,\n",
       "  'Shipping'),\n",
       " (192,\n",
       "  'Sarah',\n",
       "  'SH_CLERK',\n",
       "  123,\n",
       "  datetime.date(2004, 2, 4),\n",
       "  Decimal('4000.00'),\n",
       "  None,\n",
       "  'Shipping'),\n",
       " (193,\n",
       "  'Britney',\n",
       "  'SH_CLERK',\n",
       "  123,\n",
       "  datetime.date(2005, 3, 3),\n",
       "  Decimal('3900.00'),\n",
       "  None,\n",
       "  'Shipping'),\n",
       " (194,\n",
       "  'Samuel',\n",
       "  'SH_CLERK',\n",
       "  123,\n",
       "  datetime.date(2006, 7, 1),\n",
       "  Decimal('3200.00'),\n",
       "  None,\n",
       "  'Shipping'),\n",
       " (196,\n",
       "  'Alana',\n",
       "  'SH_CLERK',\n",
       "  124,\n",
       "  datetime.date(2006, 4, 24),\n",
       "  Decimal('3100.00'),\n",
       "  None,\n",
       "  None),\n",
       " (197,\n",
       "  'Kevin',\n",
       "  'SH_CLERK',\n",
       "  124,\n",
       "  datetime.date(2006, 5, 23),\n",
       "  Decimal('3000.00'),\n",
       "  None,\n",
       "  'Shipping'),\n",
       " (300,\n",
       "  '홍길동',\n",
       "  'AC_ACCOUNT',\n",
       "  205,\n",
       "  datetime.date(2022, 5, 31),\n",
       "  Decimal('4000.00'),\n",
       "  None,\n",
       "  'Accounting'),\n",
       " (401,\n",
       "  '홍길동',\n",
       "  '기획',\n",
       "  100,\n",
       "  datetime.date(2020, 10, 10),\n",
       "  Decimal('3000.00'),\n",
       "  Decimal('0.20'),\n",
       "  '기획부'),\n",
       " (402,\n",
       "  '홍길동',\n",
       "  '기획',\n",
       "  100,\n",
       "  datetime.date(2020, 10, 10),\n",
       "  Decimal('3000.00'),\n",
       "  Decimal('0.20'),\n",
       "  '기획부'),\n",
       " (403,\n",
       "  '홍길동',\n",
       "  '기획',\n",
       "  100,\n",
       "  datetime.date(2020, 10, 10),\n",
       "  Decimal('3000.00'),\n",
       "  Decimal('0.20'),\n",
       "  '기획부'))"
      ]
     },
     "execution_count": 109,
     "metadata": {},
     "output_type": "execute_result"
    }
   ],
   "source": [
    "select_salary(3000, 4000)"
   ]
  },
  {
   "cell_type": "code",
   "execution_count": null,
   "id": "b4c1e418",
   "metadata": {},
   "outputs": [],
   "source": [
    "# dept_name을 매개변수로 받아서 부서별 급여 통계정보(합계, 평균, 최대, 최소)를 반환하는 함수"
   ]
  },
  {
   "cell_type": "code",
   "execution_count": 118,
   "id": "3900c666",
   "metadata": {},
   "outputs": [],
   "source": [
    "def select_deft_name_salary(dept_name):\n",
    "    sql = \"select max(salary) 최대, min(salary) 최소, avg(salary) 평균, sum(salary) 합계 from emp where dept_name = %s\"\n",
    "    with pymysql.connect(host='127.0.0.1',port=3306,user='scott',password='tiger',db='hr',charset='utf8',\n",
    "                        cursorclass=pymysql.cursors.DictCursor) as connection:\n",
    "        with connection.cursor() as cursor:\n",
    "            cursor.execute(sql,(dept_name))\n",
    "            result = cursor.fetchall()\n",
    "            return result\n",
    "            "
   ]
  },
  {
   "cell_type": "code",
   "execution_count": 119,
   "id": "a75c5fea",
   "metadata": {},
   "outputs": [
    {
     "data": {
      "text/plain": [
       "[{'최대': Decimal('9000.00'),\n",
       "  '최소': Decimal('4200.00'),\n",
       "  '평균': Decimal('5760.000000'),\n",
       "  '합계': Decimal('28800.00')}]"
      ]
     },
     "execution_count": 119,
     "metadata": {},
     "output_type": "execute_result"
    }
   ],
   "source": [
    "select_deft_name_salary('IT')"
   ]
  },
  {
   "cell_type": "code",
   "execution_count": null,
   "id": "d522a375",
   "metadata": {},
   "outputs": [],
   "source": []
  }
 ],
 "metadata": {
  "kernelspec": {
   "display_name": "Python 3 (ipykernel)",
   "language": "python",
   "name": "python3"
  },
  "language_info": {
   "codemirror_mode": {
    "name": "ipython",
    "version": 3
   },
   "file_extension": ".py",
   "mimetype": "text/x-python",
   "name": "python",
   "nbconvert_exporter": "python",
   "pygments_lexer": "ipython3",
   "version": "3.9.12"
  },
  "toc": {
   "base_numbering": 1,
   "nav_menu": {},
   "number_sections": false,
   "sideBar": true,
   "skip_h1_title": false,
   "title_cell": "Table of Contents",
   "title_sidebar": "Contents",
   "toc_cell": false,
   "toc_position": {},
   "toc_section_display": true,
   "toc_window_display": false
  },
  "varInspector": {
   "cols": {
    "lenName": 16,
    "lenType": 16,
    "lenVar": 40
   },
   "kernels_config": {
    "python": {
     "delete_cmd_postfix": "",
     "delete_cmd_prefix": "del ",
     "library": "var_list.py",
     "varRefreshCmd": "print(var_dic_list())"
    },
    "r": {
     "delete_cmd_postfix": ") ",
     "delete_cmd_prefix": "rm(",
     "library": "var_list.r",
     "varRefreshCmd": "cat(var_dic_list()) "
    }
   },
   "types_to_exclude": [
    "module",
    "function",
    "builtin_function_or_method",
    "instance",
    "_Feature"
   ],
   "window_display": false
  }
 },
 "nbformat": 4,
 "nbformat_minor": 5
}
