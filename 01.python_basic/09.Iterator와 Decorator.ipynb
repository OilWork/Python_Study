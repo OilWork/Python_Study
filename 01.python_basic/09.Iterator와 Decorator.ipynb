{
 "cells": [
  {
   "cell_type": "markdown",
   "id": "21ffe8bd",
   "metadata": {},
   "source": [
    "# Iterator\n",
    "\n",
    "- Iterable\n",
    "    - 여러개의 데이터를 하나씩 또는 한 단위씩 제공하는 객체.\n",
    "    - 값 하나 하나를 직접 제공하지 않고 Iterator를 이용해 제곡한다.\n",
    "    - \\_\\_iter\\_\\_() 특수메소드를 반드시 정의해야 하며 Iterator 객체를 반환하도록 구현한다.\n",
    "- Iterator\n",
    "    - 자신을 생성한 Iterable의 값들을 하나씩 또는 한 단위씩 제공하는 객체\n",
    "    - \\_\\_next\\_\\_() 특수메소드를 반드시 정의해야 하며 자신을 생성한 Iterable의 원소를 제공하는 구현을 한다."
   ]
  },
  {
   "cell_type": "code",
   "execution_count": 8,
   "id": "168f2908",
   "metadata": {},
   "outputs": [],
   "source": [
    "class MyIterable:\n",
    "    \"\"\"\n",
    "    Instance 변수(Attribute)에 제공할 값을 저장\n",
    "    Iterator를 제공하는 메소드(__init__())를 제공\n",
    "    \"\"\"\n",
    "    def __init__(self, *args):\n",
    "        self.values = args\n",
    "    def __str__(self):\n",
    "        return str(self.values)\n",
    "    def __iter__(self):\n",
    "        \"\"\"\n",
    "        Iterator(MyIterator)객체를 반환\n",
    "        \"\"\"\n",
    "        return MyIterator(self)"
   ]
  },
  {
   "cell_type": "code",
   "execution_count": 13,
   "id": "6ec04160",
   "metadata": {},
   "outputs": [],
   "source": [
    "class MyIterator:\n",
    "    \"\"\"\n",
    "    MyIterable의 원소들을 제공하는 Iterator\n",
    "    \"\"\"\n",
    "    def __init__(self, iterable):\n",
    "        self.iterable = iterable\n",
    "        self.index = 0\n",
    "        \n",
    "    def __next__(self):\n",
    "        \"\"\"\n",
    "        Iterable의 원소를 제공하는 메소드.(한번 호출되면 한개(단위)의 값을 제공)\n",
    "        \"\"\"\n",
    "        # self.iterable : MyIterable객체, .values: MyIterable의 attribute =>제공할 값들을 가진 튜플\n",
    "        if len(self.iterable.values) <= self.index:\n",
    "#             self.index = 0\n",
    "            raise StopIteration() # 더 제공할 원소가 없다\n",
    "            \n",
    "        ret_value = self.iterable.values[self.index]\n",
    "        self.index += 1\n",
    "        return ret_value\n",
    "        "
   ]
  },
  {
   "cell_type": "code",
   "execution_count": null,
   "id": "1fea8c58",
   "metadata": {},
   "outputs": [],
   "source": [
    "# Iterable과 Iterator를 하나의 클래스로 구현\n",
    "class MyIterable2:\n",
    "    \"\"\"\n",
    "    한 클래스에  __iter__(), __next__()를 구현\n",
    "    \"\"\"\n",
    "    def __init__(self, *args):\n",
    "        self.values = args\n",
    "        self.index = 0\n",
    "    def __str__(self):\n",
    "        return str(self.values)\n",
    "    def __iter__(self):\n",
    "        \"\"\"\n",
    "        MyIterable2는 Iterable + Iterator\n",
    "        \"\"\"\n",
    "        return self\n",
    "    \n",
    "    def __init__(self, iterable):\n",
    "        self.iterable = iterable\n",
    "        self.index = 0\n",
    "        \n",
    "    def __next__(self):\n",
    "        \"\"\"\n",
    "        Iterable의 원소를 제공하는 메소드.(한번 호출되면 한개(단위)의 값을 제공)\n",
    "        \"\"\"\n",
    "        # self.iterable : MyIterable객체, .values: MyIterable의 attribute =>제공할 값들을 가진 튜플\n",
    "        if len(self.values) <= self.index:\n",
    "#             self.index = 0\n",
    "            raise StopIteration() # 더 제공할 원소가 없다\n",
    "            \n",
    "        ret_value = self.values[self.index]\n",
    "        self.index += 1\n",
    "        return ret_value"
   ]
  },
  {
   "cell_type": "code",
   "execution_count": 14,
   "id": "f41fbe52",
   "metadata": {},
   "outputs": [
    {
     "name": "stdout",
     "output_type": "stream",
     "text": [
      "<class '__main__.MyIterator'>\n"
     ]
    }
   ],
   "source": [
    "# 1. MyIterable로 부터 Iterator를 조회한다 -> iter(iterable)=>__iter__() 호출\n",
    "m_iter = MyIterable(1,2,3,4,5,6,7)\n",
    "m_iterator = iter(m_iter)\n",
    "print(type(m_iterator))"
   ]
  },
  {
   "cell_type": "code",
   "execution_count": 30,
   "id": "18d43f4d",
   "metadata": {},
   "outputs": [
    {
     "ename": "StopIteration",
     "evalue": "",
     "output_type": "error",
     "traceback": [
      "\u001b[0;31m---------------------------------------------------------------------------\u001b[0m",
      "\u001b[0;31mStopIteration\u001b[0m                             Traceback (most recent call last)",
      "Input \u001b[0;32mIn [30]\u001b[0m, in \u001b[0;36m<cell line: 2>\u001b[0;34m()\u001b[0m\n\u001b[1;32m      1\u001b[0m \u001b[38;5;66;03m# 2. 원소를 조회 next(iterator) => iterator.__next__()\u001b[39;00m\n\u001b[0;32m----> 2\u001b[0m \u001b[38;5;28mprint\u001b[39m(\u001b[38;5;28;43mnext\u001b[39;49m\u001b[43m(\u001b[49m\u001b[43mm_iterator\u001b[49m\u001b[43m)\u001b[49m)\n",
      "Input \u001b[0;32mIn [13]\u001b[0m, in \u001b[0;36mMyIterator.__next__\u001b[0;34m(self)\u001b[0m\n\u001b[1;32m     14\u001b[0m \u001b[38;5;28;01mif\u001b[39;00m \u001b[38;5;28mlen\u001b[39m(\u001b[38;5;28mself\u001b[39m\u001b[38;5;241m.\u001b[39miterable\u001b[38;5;241m.\u001b[39mvalues) \u001b[38;5;241m<\u001b[39m\u001b[38;5;241m=\u001b[39m \u001b[38;5;28mself\u001b[39m\u001b[38;5;241m.\u001b[39mindex:\n\u001b[1;32m     15\u001b[0m     \u001b[38;5;28mself\u001b[39m\u001b[38;5;241m.\u001b[39mindex \u001b[38;5;241m=\u001b[39m \u001b[38;5;241m0\u001b[39m\n\u001b[0;32m---> 16\u001b[0m     \u001b[38;5;28;01mraise\u001b[39;00m \u001b[38;5;167;01mStopIteration\u001b[39;00m()\n\u001b[1;32m     18\u001b[0m ret_value \u001b[38;5;241m=\u001b[39m \u001b[38;5;28mself\u001b[39m\u001b[38;5;241m.\u001b[39miterable\u001b[38;5;241m.\u001b[39mvalues[\u001b[38;5;28mself\u001b[39m\u001b[38;5;241m.\u001b[39mindex]\n\u001b[1;32m     19\u001b[0m \u001b[38;5;28mself\u001b[39m\u001b[38;5;241m.\u001b[39mindex \u001b[38;5;241m+\u001b[39m\u001b[38;5;241m=\u001b[39m \u001b[38;5;241m1\u001b[39m\n",
      "\u001b[0;31mStopIteration\u001b[0m: "
     ]
    }
   ],
   "source": [
    "# 2. 원소를 조회 next(iterator) => iterator.__next__()\n",
    "print(next(m_iterator))"
   ]
  },
  {
   "cell_type": "code",
   "execution_count": 32,
   "id": "b328f9b7",
   "metadata": {},
   "outputs": [
    {
     "name": "stdout",
     "output_type": "stream",
     "text": [
      "1\n",
      "2\n",
      "3\n",
      "4\n",
      "5\n"
     ]
    }
   ],
   "source": [
    "for v in MyIterable(1,2,3,4,5):\n",
    "    print(v)"
   ]
  },
  {
   "cell_type": "code",
   "execution_count": 34,
   "id": "1c652c83",
   "metadata": {},
   "outputs": [
    {
     "name": "stdout",
     "output_type": "stream",
     "text": [
      "<class 'list_iterator'>\n"
     ]
    }
   ],
   "source": [
    "l = [1,2,3,4,5,6,7]\n",
    "l_iter = iter(l)\n",
    "print(type(l_iter))"
   ]
  },
  {
   "cell_type": "code",
   "execution_count": 35,
   "id": "7ee38ee2",
   "metadata": {},
   "outputs": [
    {
     "name": "stdout",
     "output_type": "stream",
     "text": [
      "<class 'str_iterator'>\n"
     ]
    }
   ],
   "source": [
    "a = 'abc'\n",
    "a_iter = iter(a)\n",
    "print(type(a_iter))"
   ]
  },
  {
   "cell_type": "markdown",
   "id": "a576e4bb",
   "metadata": {},
   "source": [
    "# generator"
   ]
  },
  {
   "cell_type": "code",
   "execution_count": 38,
   "id": "e26be37d",
   "metadata": {},
   "outputs": [],
   "source": [
    "# yield - 일시정지 - generator 하나의 값을 반환하는 구문에서 사용\n",
    "def test_f():\n",
    "    v = 10\n",
    "    return v\n",
    "    v += 10\n",
    "    return v"
   ]
  },
  {
   "cell_type": "code",
   "execution_count": 39,
   "id": "7c61436c",
   "metadata": {},
   "outputs": [
    {
     "data": {
      "text/plain": [
       "10"
      ]
     },
     "execution_count": 39,
     "metadata": {},
     "output_type": "execute_result"
    }
   ],
   "source": [
    "# 함수호출\n",
    "test_f()"
   ]
  },
  {
   "cell_type": "code",
   "execution_count": 40,
   "id": "7a830dc3",
   "metadata": {},
   "outputs": [
    {
     "data": {
      "text/plain": [
       "10"
      ]
     },
     "execution_count": 40,
     "metadata": {},
     "output_type": "execute_result"
    }
   ],
   "source": [
    "test_f()"
   ]
  },
  {
   "cell_type": "code",
   "execution_count": 41,
   "id": "d2bbd695",
   "metadata": {},
   "outputs": [],
   "source": [
    "def test_g():\n",
    "    v = 10\n",
    "    yield v\n",
    "    v += 10\n",
    "    yield v\n",
    "    v += 20\n",
    "    yield v\n",
    "    v += 30\n",
    "    yield v"
   ]
  },
  {
   "cell_type": "code",
   "execution_count": 43,
   "id": "d1eabce5",
   "metadata": {},
   "outputs": [
    {
     "data": {
      "text/plain": [
       "<generator object test_g at 0x7f88a1eb2890>"
      ]
     },
     "execution_count": 43,
     "metadata": {},
     "output_type": "execute_result"
    }
   ],
   "source": [
    "# 함수구현에 yield구뭄ㄴ이 들어가면 함수가 아니라 Generator가 된다\n",
    "# Generator 사용\n",
    "# 1. 생성\n",
    "g = test_g()\n",
    "g"
   ]
  },
  {
   "cell_type": "code",
   "execution_count": 44,
   "id": "a1c53bfb",
   "metadata": {},
   "outputs": [
    {
     "name": "stdout",
     "output_type": "stream",
     "text": [
      "10\n"
     ]
    }
   ],
   "source": [
    "# 2. 값 조회 - next()\n",
    "v1 = next(g) # yield를 만날때 까지 실행후 일시정지 상태. yield의 반환값을 가지고 돌아온다.\n",
    "print(v1)"
   ]
  },
  {
   "cell_type": "code",
   "execution_count": 45,
   "id": "dfbd30dc",
   "metadata": {},
   "outputs": [],
   "source": [
    "# Generator가 return하면 (종료) StopIteration 예외를 발생."
   ]
  },
  {
   "cell_type": "code",
   "execution_count": 49,
   "id": "3f53548d",
   "metadata": {},
   "outputs": [],
   "source": [
    "# range()를 generator로 구현\n",
    "def my_range(start, end=None, step=1):\n",
    "    if end == None:\n",
    "        end = start\n",
    "        start = 0\n",
    "    while True:\n",
    "        if start >= end:\n",
    "            break\n",
    "            \n",
    "        yield start\n",
    "        start += step\n",
    "        \n",
    "    "
   ]
  },
  {
   "cell_type": "code",
   "execution_count": 50,
   "id": "ef2d6bf8",
   "metadata": {},
   "outputs": [
    {
     "data": {
      "text/plain": [
       "([1, 2, 3, 4, 5, 6, 7, 8, 9], [0, 1, 2, 3, 4, 5, 6, 7, 8, 9])"
      ]
     },
     "execution_count": 50,
     "metadata": {},
     "output_type": "execute_result"
    }
   ],
   "source": [
    "list(range(1,10)), list(range(10))"
   ]
  },
  {
   "cell_type": "code",
   "execution_count": 51,
   "id": "f752e03e",
   "metadata": {},
   "outputs": [
    {
     "data": {
      "text/plain": [
       "[1, 2, 3, 4, 5, 6, 7, 8, 9]"
      ]
     },
     "execution_count": 51,
     "metadata": {},
     "output_type": "execute_result"
    }
   ],
   "source": [
    "r = my_range(1,10)\n",
    "list(r)"
   ]
  },
  {
   "cell_type": "code",
   "execution_count": 52,
   "id": "8d8319cc",
   "metadata": {},
   "outputs": [],
   "source": [
    "def list_simul(gen):\n",
    "    l = []\n",
    "    for v in gen:\n",
    "        l.append(v)\n",
    "        \n",
    "    return l"
   ]
  },
  {
   "cell_type": "code",
   "execution_count": 58,
   "id": "a549d969",
   "metadata": {},
   "outputs": [],
   "source": [
    "def list_simul2(gen):\n",
    "    l = []\n",
    "    while True:\n",
    "        try:\n",
    "            v = next(gen)\n",
    "            l.append(v)\n",
    "        except StopIteration:\n",
    "            break\n",
    "    return l"
   ]
  },
  {
   "cell_type": "code",
   "execution_count": 59,
   "id": "b540efcd",
   "metadata": {},
   "outputs": [
    {
     "data": {
      "text/plain": [
       "[1, 2, 3, 4, 5, 6, 7, 8, 9]"
      ]
     },
     "execution_count": 59,
     "metadata": {},
     "output_type": "execute_result"
    }
   ],
   "source": [
    "list_simul2(my_range(1,10))"
   ]
  },
  {
   "cell_type": "markdown",
   "id": "52e7338c",
   "metadata": {},
   "source": [
    "### Generator 표현식\n",
    "- 컴프리헨션을 () 묶는 형태로 만든다"
   ]
  },
  {
   "cell_type": "code",
   "execution_count": 60,
   "id": "80ee9527",
   "metadata": {},
   "outputs": [
    {
     "data": {
      "text/plain": [
       "[100, 200, 300, 400, 500, 600, 700, 800, 900]"
      ]
     },
     "execution_count": 60,
     "metadata": {},
     "output_type": "execute_result"
    }
   ],
   "source": [
    "[i*100 for i in range(1,10)]"
   ]
  },
  {
   "cell_type": "code",
   "execution_count": 65,
   "id": "a1c0e772",
   "metadata": {},
   "outputs": [
    {
     "data": {
      "text/plain": [
       "[100, 200, 300, 400, 500, 600, 700, 800, 900]"
      ]
     },
     "execution_count": 65,
     "metadata": {},
     "output_type": "execute_result"
    }
   ],
   "source": [
    "g = (i*100 for i in range(1,10))\n",
    "list(g)"
   ]
  },
  {
   "cell_type": "code",
   "execution_count": null,
   "id": "fa9fa1c3",
   "metadata": {},
   "outputs": [],
   "source": [
    "def my_g():\n",
    "    for i in range(1,10):\n",
    "        yield i*100"
   ]
  },
  {
   "cell_type": "code",
   "execution_count": 64,
   "id": "8e64d5d6",
   "metadata": {},
   "outputs": [
    {
     "data": {
      "text/plain": [
       "[0, 200, 400, 600, 800]"
      ]
     },
     "execution_count": 64,
     "metadata": {},
     "output_type": "execute_result"
    }
   ],
   "source": [
    "g2 = (i*100 for i in range(10) if i % 2 == 0)\n",
    "list(g2)"
   ]
  },
  {
   "cell_type": "markdown",
   "id": "05c627db",
   "metadata": {},
   "source": [
    "# 지역함수( Local Function)"
   ]
  },
  {
   "cell_type": "code",
   "execution_count": 67,
   "id": "4066a399",
   "metadata": {},
   "outputs": [],
   "source": [
    "def test():\n",
    "    print('hello')"
   ]
  },
  {
   "cell_type": "code",
   "execution_count": 68,
   "id": "6adb47e9",
   "metadata": {},
   "outputs": [
    {
     "name": "stdout",
     "output_type": "stream",
     "text": [
      "hello\n"
     ]
    }
   ],
   "source": [
    "# 호출\n",
    "test()"
   ]
  },
  {
   "cell_type": "code",
   "execution_count": 69,
   "id": "11f22e10",
   "metadata": {},
   "outputs": [],
   "source": [
    "# 함수자체 = 객체\n",
    "a = test"
   ]
  },
  {
   "cell_type": "code",
   "execution_count": 70,
   "id": "20e88d0d",
   "metadata": {},
   "outputs": [],
   "source": [
    "def f(fun): #매개변수로 함수를 받겠다\n",
    "    fun()"
   ]
  },
  {
   "cell_type": "code",
   "execution_count": 71,
   "id": "d3ba91e0",
   "metadata": {},
   "outputs": [
    {
     "name": "stdout",
     "output_type": "stream",
     "text": [
      "hello\n"
     ]
    }
   ],
   "source": [
    "f(test)"
   ]
  },
  {
   "cell_type": "code",
   "execution_count": 76,
   "id": "4ef68d90",
   "metadata": {},
   "outputs": [],
   "source": [
    "def f2():\n",
    "    return test # test 함수 반환"
   ]
  },
  {
   "cell_type": "code",
   "execution_count": 79,
   "id": "fe0360b3",
   "metadata": {},
   "outputs": [],
   "source": [
    "b = f2()"
   ]
  },
  {
   "cell_type": "code",
   "execution_count": 80,
   "id": "bab44680",
   "metadata": {},
   "outputs": [
    {
     "name": "stdout",
     "output_type": "stream",
     "text": [
      "hello\n"
     ]
    }
   ],
   "source": [
    "b()"
   ]
  },
  {
   "cell_type": "code",
   "execution_count": 82,
   "id": "70eb744f",
   "metadata": {},
   "outputs": [],
   "source": [
    "# 지역변수 (Local variable)-함수내에서 선언한 함수-사용범위 : 함수 내에서만 사용가능 (메모리에 Loading - 함수시작, 함수가 종료되면 메모리에서 제거)\n",
    "def test():\n",
    "    # a,b: 지역변수\n",
    "    var1 = 10\n",
    "    var2 = 20\n",
    "    print(var1+var2)"
   ]
  },
  {
   "cell_type": "code",
   "execution_count": 83,
   "id": "d4e9eb8f",
   "metadata": {},
   "outputs": [
    {
     "name": "stdout",
     "output_type": "stream",
     "text": [
      "30\n"
     ]
    }
   ],
   "source": [
    "test()"
   ]
  },
  {
   "cell_type": "code",
   "execution_count": 84,
   "id": "e25a34e9",
   "metadata": {},
   "outputs": [],
   "source": [
    "g_var = 10 # 전역변수 - Global Variable\n",
    "\n",
    "def test2():\n",
    "    var1 = 10 # 지역변수\n",
    "    g_var = 200 # 지역변수 g_var를 정의\n",
    "    global g_var # g_var는 전역변수\n",
    "    g_var = 30000 # global 변수명 -> 전역변수를 힘수안에서 사용한다면 사용하기전에 먼저 선언해야한다\n",
    "    print(var1 + g_var)\n",
    "\n",
    "def test3():\n",
    "    var2 = 20\n",
    "    print(var2 * g_var)"
   ]
  },
  {
   "cell_type": "code",
   "execution_count": 85,
   "id": "2589fdad",
   "metadata": {},
   "outputs": [
    {
     "name": "stdout",
     "output_type": "stream",
     "text": [
      "20\n"
     ]
    }
   ],
   "source": [
    "test2()"
   ]
  },
  {
   "cell_type": "code",
   "execution_count": 86,
   "id": "2ccd0595",
   "metadata": {},
   "outputs": [
    {
     "data": {
      "text/plain": [
       "10"
      ]
     },
     "execution_count": 86,
     "metadata": {},
     "output_type": "execute_result"
    }
   ],
   "source": [
    "g_var"
   ]
  },
  {
   "cell_type": "code",
   "execution_count": 100,
   "id": "16547cfe",
   "metadata": {},
   "outputs": [],
   "source": [
    "# 지역함수 - 함수안에 함수를 선언\n",
    "def outer():\n",
    "    outer_var = \"외부함수의 변수\"\n",
    "    \n",
    "    def inner(a):\n",
    "        print(10,a)\n",
    "        print(outer_var)\n",
    "        return 10 - a\n",
    "        \n",
    "    return inner\n",
    "#     inner(300)"
   ]
  },
  {
   "cell_type": "code",
   "execution_count": 101,
   "id": "96cc89b0",
   "metadata": {},
   "outputs": [
    {
     "data": {
      "text/plain": [
       "<function __main__.outer.<locals>.inner(a)>"
      ]
     },
     "execution_count": 101,
     "metadata": {},
     "output_type": "execute_result"
    }
   ],
   "source": [
    "outer()"
   ]
  },
  {
   "cell_type": "code",
   "execution_count": 102,
   "id": "1fa21c61",
   "metadata": {},
   "outputs": [
    {
     "name": "stdout",
     "output_type": "stream",
     "text": [
      "10 100\n",
      "외부함수의 변수\n"
     ]
    },
    {
     "data": {
      "text/plain": [
       "-90"
      ]
     },
     "execution_count": 102,
     "metadata": {},
     "output_type": "execute_result"
    }
   ],
   "source": [
    "f = outer() # f함수는 outer의 inner 함수\u001f\n",
    "inner_return_value = f(100)"
   ]
  },
  {
   "cell_type": "code",
   "execution_count": 93,
   "id": "4c3c194e",
   "metadata": {},
   "outputs": [],
   "source": [
    "f = outer()\n"
   ]
  },
  {
   "cell_type": "code",
   "execution_count": 95,
   "id": "cca3fc8c",
   "metadata": {},
   "outputs": [
    {
     "name": "stdout",
     "output_type": "stream",
     "text": [
      "10\n"
     ]
    }
   ],
   "source": [
    "f()"
   ]
  },
  {
   "cell_type": "code",
   "execution_count": 89,
   "id": "306636a2",
   "metadata": {},
   "outputs": [],
   "source": [
    "def test():\n",
    "    var1 = 10\n",
    "    print(var1)\n",
    "    return var1"
   ]
  },
  {
   "cell_type": "code",
   "execution_count": 90,
   "id": "24679d6d",
   "metadata": {},
   "outputs": [
    {
     "name": "stdout",
     "output_type": "stream",
     "text": [
      "10\n",
      "10\n"
     ]
    }
   ],
   "source": [
    "a = test()\n",
    "print(a)"
   ]
  },
  {
   "cell_type": "markdown",
   "id": "e179b9eb",
   "metadata": {},
   "source": [
    "## Decorator"
   ]
  },
  {
   "cell_type": "code",
   "execution_count": 106,
   "id": "0f52d7ec",
   "metadata": {},
   "outputs": [],
   "source": [
    "def a_func():\n",
    "    print('안녕하세요')\n",
    "    \n",
    "def b_func():\n",
    "    print('Hello World')"
   ]
  },
  {
   "cell_type": "code",
   "execution_count": 111,
   "id": "72d8d9db",
   "metadata": {},
   "outputs": [],
   "source": [
    "# original 함수를 매개변수로 받는다\n",
    "def dash_decorator(func):\n",
    "    # original 함수 전후로 추가 처리를 하는 지역함수를 정의\n",
    "    def wrapper():\n",
    "        print('-'*30)\n",
    "        func()\n",
    "        print('-'*30)\n",
    "        \n",
    "    return wrapper\n",
    "        "
   ]
  },
  {
   "cell_type": "code",
   "execution_count": 109,
   "id": "d7ca72f6",
   "metadata": {},
   "outputs": [
    {
     "name": "stdout",
     "output_type": "stream",
     "text": [
      "------------------------------\n",
      "안녕하세요\n",
      "------------------------------\n"
     ]
    }
   ],
   "source": [
    "f = dash_decorator(a_func)\n",
    "f() #wrapper() 호출"
   ]
  },
  {
   "cell_type": "code",
   "execution_count": 113,
   "id": "d3d188d5",
   "metadata": {},
   "outputs": [
    {
     "name": "stdout",
     "output_type": "stream",
     "text": [
      "------------------------------\n",
      "Hello World\n",
      "------------------------------\n"
     ]
    }
   ],
   "source": [
    "f2 = dash_decorator(b_func)\n",
    "f2()"
   ]
  },
  {
   "cell_type": "code",
   "execution_count": 116,
   "id": "ff8aff09",
   "metadata": {},
   "outputs": [],
   "source": [
    "def sharp_decorator(func):\n",
    "    \n",
    "    def wrapper():\n",
    "        print('#'*30)\n",
    "        func()\n",
    "        print('#'*30)\n",
    "        \n",
    "    return wrapper"
   ]
  },
  {
   "cell_type": "code",
   "execution_count": 117,
   "id": "e388aa09",
   "metadata": {},
   "outputs": [
    {
     "name": "stdout",
     "output_type": "stream",
     "text": [
      "##############################\n",
      "안녕하세요\n",
      "##############################\n"
     ]
    }
   ],
   "source": [
    "f3 = sharp_decorator(a_func)\n",
    "f3()"
   ]
  },
  {
   "cell_type": "code",
   "execution_count": 118,
   "id": "f12aadb7",
   "metadata": {},
   "outputs": [
    {
     "name": "stdout",
     "output_type": "stream",
     "text": [
      "##############################\n",
      "Hello World\n",
      "##############################\n"
     ]
    }
   ],
   "source": [
    "f4 = sharp_decorator(b_func)\n",
    "f4()"
   ]
  },
  {
   "cell_type": "code",
   "execution_count": 121,
   "id": "1a370c02",
   "metadata": {},
   "outputs": [],
   "source": [
    "@dash_decorator # greeting_kor함수에 dash_decorator 장식자(decorator)를 붙여서 전후 처리를 해라\n",
    "def greeting_kor():\n",
    "    print('안녕하세요')"
   ]
  },
  {
   "cell_type": "code",
   "execution_count": 122,
   "id": "0d5cdb32",
   "metadata": {},
   "outputs": [
    {
     "name": "stdout",
     "output_type": "stream",
     "text": [
      "------------------------------\n",
      "안녕하세요\n",
      "------------------------------\n"
     ]
    }
   ],
   "source": [
    "greeting_kor()"
   ]
  },
  {
   "cell_type": "code",
   "execution_count": 123,
   "id": "db07b89f",
   "metadata": {},
   "outputs": [],
   "source": [
    "@sharp_decorator\n",
    "def greeting_eng():\n",
    "    print('hello')"
   ]
  },
  {
   "cell_type": "code",
   "execution_count": 124,
   "id": "477c1cdc",
   "metadata": {},
   "outputs": [
    {
     "name": "stdout",
     "output_type": "stream",
     "text": [
      "##############################\n",
      "hello\n",
      "##############################\n"
     ]
    }
   ],
   "source": [
    "greeting_eng()"
   ]
  },
  {
   "cell_type": "markdown",
   "id": "efc282de",
   "metadata": {},
   "source": [
    "#### 매개변수가 있는 함수에 대한 decorator 만들기"
   ]
  },
  {
   "cell_type": "code",
   "execution_count": 132,
   "id": "871df331",
   "metadata": {},
   "outputs": [],
   "source": [
    "def sharp_decorator2(func):\n",
    "    \n",
    "    def wrapper(name,age): # wrapper에서 매개변수를 선언\n",
    "        print('#'*30)\n",
    "        func(name,age) # 함수 호출시 전달\n",
    "        print('#'*30)\n",
    "        \n",
    "    return wrapper"
   ]
  },
  {
   "cell_type": "code",
   "execution_count": 143,
   "id": "8af19dd3",
   "metadata": {},
   "outputs": [],
   "source": [
    "def percent_decorator(func):\n",
    "    \"\"\"\n",
    "    kor_greeting에 적용할 decorator\n",
    "    [parameter]\n",
    "        func:함수 - kor_greeting\n",
    "    [return]\n",
    "        함수 - kor_greeting 전후로 % 장식을 출력하는 함수\n",
    "    [exception]\n",
    "    \"\"\"\n",
    "    def wrapper(name,age):\n",
    "        print('%'*30)\n",
    "        # name ,age의 유효성 체크\n",
    "        if (not name) or (not name): # 빈 문자열 이거나 0이면\n",
    "            raise Exception(\"이름이 빈문자열이건 나이에 0을 입력할 수 없습니다\")\n",
    "        func(name,age)\n",
    "        print('%'*30)\n",
    "        \n",
    "    return wrapper"
   ]
  },
  {
   "cell_type": "code",
   "execution_count": 144,
   "id": "0a50e942",
   "metadata": {},
   "outputs": [],
   "source": [
    "@percent_decorator\n",
    "def kor_greeting(name, age):\n",
    "    greeting = f'{age}세 {name}님 안녕하세요'\n",
    "    print(greeting)"
   ]
  },
  {
   "cell_type": "code",
   "execution_count": 140,
   "id": "84ec7595",
   "metadata": {},
   "outputs": [
    {
     "name": "stdout",
     "output_type": "stream",
     "text": [
      "%%%%%%%%%%%%%%%%%%%%%%%%%%%%%%\n",
      "23세 홍길동님 안녕하세요\n",
      "%%%%%%%%%%%%%%%%%%%%%%%%%%%%%%\n"
     ]
    }
   ],
   "source": [
    "kor_greeting('홍길동',23)"
   ]
  },
  {
   "cell_type": "code",
   "execution_count": 145,
   "id": "fe5762ef",
   "metadata": {},
   "outputs": [
    {
     "name": "stdout",
     "output_type": "stream",
     "text": [
      "%%%%%%%%%%%%%%%%%%%%%%%%%%%%%%\n"
     ]
    },
    {
     "ename": "Exception",
     "evalue": "이름이 빈문자열이건 나이에 0을 입력할 수 없습니다",
     "output_type": "error",
     "traceback": [
      "\u001b[0;31m---------------------------------------------------------------------------\u001b[0m",
      "\u001b[0;31mException\u001b[0m                                 Traceback (most recent call last)",
      "Input \u001b[0;32mIn [145]\u001b[0m, in \u001b[0;36m<cell line: 1>\u001b[0;34m()\u001b[0m\n\u001b[0;32m----> 1\u001b[0m \u001b[43mkor_greeting\u001b[49m\u001b[43m(\u001b[49m\u001b[38;5;124;43m'\u001b[39;49m\u001b[38;5;124;43m'\u001b[39;49m\u001b[43m,\u001b[49m\u001b[38;5;241;43m2\u001b[39;49m\u001b[43m)\u001b[49m\n",
      "Input \u001b[0;32mIn [143]\u001b[0m, in \u001b[0;36mpercent_decorator.<locals>.wrapper\u001b[0;34m(name, age)\u001b[0m\n\u001b[1;32m     12\u001b[0m \u001b[38;5;66;03m# name ,age의 유효성 체크\u001b[39;00m\n\u001b[1;32m     13\u001b[0m \u001b[38;5;28;01mif\u001b[39;00m (\u001b[38;5;129;01mnot\u001b[39;00m name) \u001b[38;5;129;01mor\u001b[39;00m (\u001b[38;5;129;01mnot\u001b[39;00m name): \u001b[38;5;66;03m# 빈 문자열 이거나 0이면\u001b[39;00m\n\u001b[0;32m---> 14\u001b[0m     \u001b[38;5;28;01mraise\u001b[39;00m \u001b[38;5;167;01mException\u001b[39;00m(\u001b[38;5;124m\"\u001b[39m\u001b[38;5;124m이름이 빈문자열이건 나이에 0을 입력할 수 없습니다\u001b[39m\u001b[38;5;124m\"\u001b[39m)\n\u001b[1;32m     15\u001b[0m func(name,age)\n\u001b[1;32m     16\u001b[0m \u001b[38;5;28mprint\u001b[39m(\u001b[38;5;124m'\u001b[39m\u001b[38;5;124m%\u001b[39m\u001b[38;5;124m'\u001b[39m\u001b[38;5;241m*\u001b[39m\u001b[38;5;241m30\u001b[39m)\n",
      "\u001b[0;31mException\u001b[0m: 이름이 빈문자열이건 나이에 0을 입력할 수 없습니다"
     ]
    }
   ],
   "source": [
    "kor_greeting('',2)"
   ]
  },
  {
   "cell_type": "code",
   "execution_count": 142,
   "id": "35c2fb35",
   "metadata": {},
   "outputs": [
    {
     "name": "stdout",
     "output_type": "stream",
     "text": [
      "%%%%%%%%%%%%%%%%%%%%%%%%%%%%%%\n",
      "%%%%%%%%%%%%%%%%%%%%%%%%%%%%%%\n",
      "24세 홍길동님 안녕하세요\n",
      "%%%%%%%%%%%%%%%%%%%%%%%%%%%%%%\n",
      "%%%%%%%%%%%%%%%%%%%%%%%%%%%%%%\n"
     ]
    }
   ],
   "source": [
    "f5 = percent_decorator(kor_greeting)\n",
    "f5('홍길동',24)"
   ]
  },
  {
   "cell_type": "markdown",
   "id": "8cd5f6ff",
   "metadata": {},
   "source": [
    "# TODO\n",
    "함수가 실행된 실행시간(초)을 재는 decorator"
   ]
  },
  {
   "cell_type": "code",
   "execution_count": 146,
   "id": "0eba4c08",
   "metadata": {},
   "outputs": [
    {
     "data": {
      "text/plain": [
       "1653032521.8612428"
      ]
     },
     "execution_count": 146,
     "metadata": {},
     "output_type": "execute_result"
    }
   ],
   "source": [
    "import time\n",
    "\n",
    "time.time() #1970년 1월 1일 0시 0분 0초 0밀리초 부터 코드 실행시점까지 몇초 지났는지 반환."
   ]
  },
  {
   "cell_type": "code",
   "execution_count": 147,
   "id": "47091e72",
   "metadata": {},
   "outputs": [
    {
     "name": "stdout",
     "output_type": "stream",
     "text": [
      "a\n",
      "b\n"
     ]
    }
   ],
   "source": [
    "print('a')\n",
    "time.sleep(2) #정수: 초 - 지정한 초만큼 기다린다.\n",
    "print('b')"
   ]
  },
  {
   "cell_type": "code",
   "execution_count": 179,
   "id": "2926e14e",
   "metadata": {},
   "outputs": [],
   "source": [
    "def timechecker(func):\n",
    "    def wrapper(txt):\n",
    "        start_time = time.time()\n",
    "        func(txt)\n",
    "        end_time = time.time()\n",
    "        print(f'{func.__name__} 걸린시간:{round(end_time - start_time,3)}초')\n",
    "    return wrapper"
   ]
  },
  {
   "cell_type": "code",
   "execution_count": 184,
   "id": "ca7bf02d",
   "metadata": {},
   "outputs": [],
   "source": [
    "@timechecker\n",
    "def test_function(txt):\n",
    "    time.sleep(1)\n",
    "    print('결과값:',txt)"
   ]
  },
  {
   "cell_type": "code",
   "execution_count": 185,
   "id": "ef771a33",
   "metadata": {},
   "outputs": [],
   "source": [
    "@timechecker\n",
    "def test_function2(txt):\n",
    "    time.sleep(1)\n",
    "    print('결과값:',txt)"
   ]
  },
  {
   "cell_type": "code",
   "execution_count": 186,
   "id": "72830fc6",
   "metadata": {},
   "outputs": [],
   "source": [
    "@timechecker\n",
    "def test_function3(txt):\n",
    "    time.sleep(1)\n",
    "    print('결과값:',txt)"
   ]
  },
  {
   "cell_type": "code",
   "execution_count": 187,
   "id": "5a98cac0",
   "metadata": {},
   "outputs": [
    {
     "name": "stdout",
     "output_type": "stream",
     "text": [
      "결과값: avc\n",
      "test_function걸린시간:1.004초\n",
      "결과값: avc\n",
      "test_function2걸린시간:1.005초\n",
      "결과값: avc\n",
      "test_function3걸린시간:1.003초\n"
     ]
    }
   ],
   "source": [
    "test_function('avc')\n",
    "test_function2('avc')\n",
    "test_function3('avc')"
   ]
  },
  {
   "cell_type": "code",
   "execution_count": null,
   "id": "1a2dd3c1",
   "metadata": {},
   "outputs": [],
   "source": []
  },
  {
   "cell_type": "code",
   "execution_count": null,
   "id": "c077ddea",
   "metadata": {},
   "outputs": [],
   "source": []
  },
  {
   "cell_type": "code",
   "execution_count": null,
   "id": "24065d1c",
   "metadata": {},
   "outputs": [],
   "source": []
  },
  {
   "cell_type": "code",
   "execution_count": null,
   "id": "f27ebd97",
   "metadata": {},
   "outputs": [],
   "source": []
  },
  {
   "cell_type": "code",
   "execution_count": null,
   "id": "0818fe82",
   "metadata": {},
   "outputs": [],
   "source": []
  },
  {
   "cell_type": "code",
   "execution_count": null,
   "id": "4aab482a",
   "metadata": {},
   "outputs": [],
   "source": []
  },
  {
   "cell_type": "code",
   "execution_count": null,
   "id": "84880d3c",
   "metadata": {},
   "outputs": [],
   "source": []
  }
 ],
 "metadata": {
  "kernelspec": {
   "display_name": "Python 3 (ipykernel)",
   "language": "python",
   "name": "python3"
  },
  "language_info": {
   "codemirror_mode": {
    "name": "ipython",
    "version": 3
   },
   "file_extension": ".py",
   "mimetype": "text/x-python",
   "name": "python",
   "nbconvert_exporter": "python",
   "pygments_lexer": "ipython3",
   "version": "3.9.12"
  }
 },
 "nbformat": 4,
 "nbformat_minor": 5
}
