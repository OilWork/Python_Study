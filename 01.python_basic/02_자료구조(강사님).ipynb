{
 "cells": [
  {
   "cell_type": "markdown",
   "id": "a2f32b2e",
   "metadata": {},
   "source": [
    "# 마크다운\n",
    "- **셀 변환**\n",
    "    1. m: code cell에서 markdown cell로 변환\n",
    "    1. y: markdown cell에서 code cell로 변환"
   ]
  },
  {
   "cell_type": "markdown",
   "id": "496dbc6e",
   "metadata": {},
   "source": [
    "# 리스트\n",
    "- 순서가 있는 자료구조\n",
    "    - 원소들을 index로 관리한다.\n",
    "- 생성\n",
    "    - `l = [값, 값, 값, ..]`"
   ]
  },
  {
   "cell_type": "code",
   "execution_count": 3,
   "id": "7a2a86e2",
   "metadata": {},
   "outputs": [],
   "source": [
    "l1 = [1, 2, 10, 30]\n",
    "l2 = [10.7, 5, 'abc', True, None, 30,]"
   ]
  },
  {
   "cell_type": "code",
   "execution_count": 6,
   "id": "50f35652",
   "metadata": {},
   "outputs": [
    {
     "name": "stdout",
     "output_type": "stream",
     "text": [
      "1 30\n",
      "abc None\n"
     ]
    }
   ],
   "source": [
    "# 조회 : indexing/ slicing\n",
    "# indexing\n",
    "print(l1[0], l1[3])\n",
    "print(l2[2], l2[4])"
   ]
  },
  {
   "cell_type": "code",
   "execution_count": 7,
   "id": "e6ccba4c",
   "metadata": {
    "collapsed": true
   },
   "outputs": [
    {
     "ename": "IndexError",
     "evalue": "list index out of range",
     "output_type": "error",
     "traceback": [
      "\u001b[1;31m---------------------------------------------------------------------------\u001b[0m",
      "\u001b[1;31mIndexError\u001b[0m                                Traceback (most recent call last)",
      "\u001b[1;32m~\\AppData\\Local\\Temp/ipykernel_1712/4001489421.py\u001b[0m in \u001b[0;36m<module>\u001b[1;34m\u001b[0m\n\u001b[0;32m      1\u001b[0m \u001b[1;31m# 없는 index조회\u001b[0m\u001b[1;33m\u001b[0m\u001b[1;33m\u001b[0m\u001b[0m\n\u001b[1;32m----> 2\u001b[1;33m \u001b[0ml1\u001b[0m\u001b[1;33m[\u001b[0m\u001b[1;36m10\u001b[0m\u001b[1;33m]\u001b[0m\u001b[1;33m\u001b[0m\u001b[1;33m\u001b[0m\u001b[0m\n\u001b[0m",
      "\u001b[1;31mIndexError\u001b[0m: list index out of range"
     ]
    }
   ],
   "source": [
    "# 없는 index조회 => IndexError 에러 발생\n",
    "l1[10]"
   ]
  },
  {
   "cell_type": "code",
   "execution_count": 9,
   "id": "58443f36",
   "metadata": {},
   "outputs": [
    {
     "name": "stdout",
     "output_type": "stream",
     "text": [
      "l1 원소개수: 4\n",
      "l2 원소개수: 6\n"
     ]
    }
   ],
   "source": [
    "# index내의 원소 개수 조회\n",
    "print('l1 원소개수:', len(l1))\n",
    "print('l2 원소개수:', len(l2))"
   ]
  },
  {
   "cell_type": "code",
   "execution_count": 11,
   "id": "5583dc49",
   "metadata": {},
   "outputs": [
    {
     "data": {
      "text/plain": [
       "[10.7, 5, 'abc', True, None, 30]"
      ]
     },
     "execution_count": 11,
     "metadata": {},
     "output_type": "execute_result"
    }
   ],
   "source": [
    "l2"
   ]
  },
  {
   "cell_type": "code",
   "execution_count": 17,
   "id": "af226ab8",
   "metadata": {},
   "outputs": [
    {
     "name": "stdout",
     "output_type": "stream",
     "text": [
      "['abc', True, None]\n",
      "[10.7, 5, 'abc']\n",
      "[True, None, 30]\n",
      "[10.7, 'abc', None]\n"
     ]
    }
   ],
   "source": [
    "# slicing\n",
    "print(l2[2:5])\n",
    "print(l2[:3]) #0 ~ 2\n",
    "print(l2[3:])\n",
    "print(l2[::2])"
   ]
  },
  {
   "cell_type": "code",
   "execution_count": 20,
   "id": "c30baefc",
   "metadata": {
    "scrolled": true
   },
   "outputs": [
    {
     "data": {
      "text/plain": [
       "[100, 5, 'abc', True, None, 30]"
      ]
     },
     "execution_count": 20,
     "metadata": {},
     "output_type": "execute_result"
    }
   ],
   "source": [
    "# 리스트는 원소를 변경할 수 있다. 변경->대입연산\n",
    "l2[0] = 100\n",
    "l2"
   ]
  },
  {
   "cell_type": "code",
   "execution_count": 21,
   "id": "8fedf2e9",
   "metadata": {},
   "outputs": [
    {
     "data": {
      "text/plain": [
       "[100, 5, 'abc', True, '가나다', 30]"
      ]
     },
     "execution_count": 21,
     "metadata": {},
     "output_type": "execute_result"
    }
   ],
   "source": [
    "l2[4] = '가나다'\n",
    "l2"
   ]
  },
  {
   "cell_type": "code",
   "execution_count": 23,
   "id": "c9618e2f",
   "metadata": {},
   "outputs": [
    {
     "data": {
      "text/plain": [
       "[1, 2, 3, 4, 5, True, '가나다', 30]"
      ]
     },
     "execution_count": 23,
     "metadata": {},
     "output_type": "execute_result"
    }
   ],
   "source": [
    "# slicing을 이용하면 지정한 범위의 원소들을 한번에 바꿀 수있다.\n",
    "l2[:3] = [1,2,3,4,5]  # 0 ~ 2 index의 값들을 1,2,3,4,5\n",
    "l2"
   ]
  },
  {
   "cell_type": "code",
   "execution_count": 24,
   "id": "2a3ebb33",
   "metadata": {},
   "outputs": [
    {
     "data": {
      "text/plain": [
       "[1, 2, True, '가나다', 30]"
      ]
     },
     "execution_count": 24,
     "metadata": {},
     "output_type": "execute_result"
    }
   ],
   "source": [
    "l2[2:5] = []  #특정 범위의 원소들을 삭제\n",
    "l2"
   ]
  },
  {
   "cell_type": "code",
   "execution_count": 25,
   "id": "96f3fe1a",
   "metadata": {},
   "outputs": [
    {
     "data": {
      "text/plain": [
       "[2, True, '가나다', 30]"
      ]
     },
     "execution_count": 25,
     "metadata": {},
     "output_type": "execute_result"
    }
   ],
   "source": [
    "del l2[0]  #하나의 원소만 삭제: del 명령어 사용.\n",
    "l2"
   ]
  },
  {
   "cell_type": "markdown",
   "id": "22751923",
   "metadata": {},
   "source": [
    "**리스트를 포함한 자료구조도 값이다.**\n",
    "- 리스트(자료구조)에 다른 자료구조들을 원소로 추가할 수 있다."
   ]
  },
  {
   "cell_type": "code",
   "execution_count": 27,
   "id": "2f02ef27",
   "metadata": {},
   "outputs": [],
   "source": [
    "l3 = [[1,2], [3,4], [5,6]]"
   ]
  },
  {
   "cell_type": "code",
   "execution_count": 29,
   "id": "8ec0cc87",
   "metadata": {},
   "outputs": [
    {
     "data": {
      "text/plain": [
       "[1, 2]"
      ]
     },
     "execution_count": 29,
     "metadata": {},
     "output_type": "execute_result"
    }
   ],
   "source": [
    "l4 = l3[0]\n",
    "l4"
   ]
  },
  {
   "cell_type": "code",
   "execution_count": 30,
   "id": "34127fde",
   "metadata": {},
   "outputs": [
    {
     "data": {
      "text/plain": [
       "2"
      ]
     },
     "execution_count": 30,
     "metadata": {},
     "output_type": "execute_result"
    }
   ],
   "source": [
    "l4[1]"
   ]
  },
  {
   "cell_type": "code",
   "execution_count": 34,
   "id": "e78c6eff",
   "metadata": {},
   "outputs": [
    {
     "name": "stdout",
     "output_type": "stream",
     "text": [
      "2\n",
      "5\n"
     ]
    }
   ],
   "source": [
    "print(l3[0][1])\n",
    "print(l3[2][0])"
   ]
  },
  {
   "cell_type": "code",
   "execution_count": 36,
   "id": "0712d18b",
   "metadata": {},
   "outputs": [],
   "source": [
    "l4 = [\n",
    "        [\n",
    "            [1,2], [3,4],[5,6]\n",
    "        ],\n",
    "        [\n",
    "            [10,20], [30,40], [50, 60]\n",
    "        ]\n",
    "]"
   ]
  },
  {
   "cell_type": "code",
   "execution_count": 40,
   "id": "e4222d81",
   "metadata": {},
   "outputs": [
    {
     "data": {
      "text/plain": [
       "4"
      ]
     },
     "execution_count": 40,
     "metadata": {},
     "output_type": "execute_result"
    }
   ],
   "source": [
    "l4[0][1][1]"
   ]
  },
  {
   "cell_type": "code",
   "execution_count": 43,
   "id": "fef2edf1",
   "metadata": {},
   "outputs": [
    {
     "data": {
      "text/plain": [
       "60"
      ]
     },
     "execution_count": 43,
     "metadata": {},
     "output_type": "execute_result"
    }
   ],
   "source": [
    "l4[1][2][1]"
   ]
  },
  {
   "cell_type": "markdown",
   "id": "940379d3",
   "metadata": {},
   "source": [
    "### 리스트 연산자\n",
    "- 리스트 + 리스트 : 두 리스트를 합친 새로운 리스트 반환\n",
    "- 리스트 * 정수 : 리스트를 정수만큼 반복해서 합친 새로운 리스트를 반환\n",
    "- 값 in 리스트, 값 not in 리스트 : 리스트안에 값이 있는지(in), 없는지(not in) bool 값으로 반환"
   ]
  },
  {
   "cell_type": "code",
   "execution_count": 44,
   "id": "770af369",
   "metadata": {},
   "outputs": [
    {
     "name": "stdout",
     "output_type": "stream",
     "text": [
      "[1, 2, 3, 10, 20, 30]\n"
     ]
    }
   ],
   "source": [
    "l1 = [1, 2, 3]\n",
    "l2 = [10, 20, 30]\n",
    "l3 = l1 + l2\n",
    "print(l3)"
   ]
  },
  {
   "cell_type": "code",
   "execution_count": 46,
   "id": "21e46e98",
   "metadata": {},
   "outputs": [
    {
     "data": {
      "text/plain": [
       "[1, 2, 3, 1, 2, 3, 1, 2, 3]"
      ]
     },
     "execution_count": 46,
     "metadata": {},
     "output_type": "execute_result"
    }
   ],
   "source": [
    "l4 = l1 * 3\n",
    "l4"
   ]
  },
  {
   "cell_type": "code",
   "execution_count": 54,
   "id": "3f35d168",
   "metadata": {},
   "outputs": [
    {
     "data": {
      "text/plain": [
       "[1, 2, 3, 10, 20, 30, 1, 2, 3, 10, 20, 30, 1, 2, 3, 1, 2, 3, 1, 2, 3]"
      ]
     },
     "execution_count": 54,
     "metadata": {},
     "output_type": "execute_result"
    }
   ],
   "source": [
    "l1 + l2 + l3 + l4"
   ]
  },
  {
   "cell_type": "code",
   "execution_count": 49,
   "id": "2b519618",
   "metadata": {},
   "outputs": [
    {
     "data": {
      "text/plain": [
       "True"
      ]
     },
     "execution_count": 49,
     "metadata": {},
     "output_type": "execute_result"
    }
   ],
   "source": [
    "10 in l1\n",
    "1 in l1"
   ]
  },
  {
   "cell_type": "code",
   "execution_count": 51,
   "id": "0ea4da59",
   "metadata": {},
   "outputs": [
    {
     "data": {
      "text/plain": [
       "False"
      ]
     },
     "execution_count": 51,
     "metadata": {},
     "output_type": "execute_result"
    }
   ],
   "source": [
    "10 not in l1\n",
    "1 not in l1"
   ]
  },
  {
   "cell_type": "markdown",
   "id": "8b78819b",
   "metadata": {},
   "source": [
    "### 리스트 대입\n",
    "여러개의 변수에 리스트의 값들을 한번에 대입"
   ]
  },
  {
   "cell_type": "code",
   "execution_count": 53,
   "id": "ad46ba9b",
   "metadata": {},
   "outputs": [
    {
     "name": "stdout",
     "output_type": "stream",
     "text": [
      "1 2 3\n",
      "6\n"
     ]
    }
   ],
   "source": [
    "a, b, c = [1, 2, 3]  #변수와 리스트원소의 개수가 같아야 한다.\n",
    "print(a, b, c)\n",
    "print(a+b+c)"
   ]
  },
  {
   "cell_type": "code",
   "execution_count": null,
   "id": "90f1cc88",
   "metadata": {},
   "outputs": [],
   "source": [
    "a, b, c = 10,20,30 #튜플 대입"
   ]
  },
  {
   "cell_type": "markdown",
   "id": "8ec1b935",
   "metadata": {},
   "source": [
    "### 주요 함수"
   ]
  },
  {
   "cell_type": "code",
   "execution_count": 57,
   "id": "9ba285cd",
   "metadata": {},
   "outputs": [
    {
     "name": "stdout",
     "output_type": "stream",
     "text": [
      "원소개수: 3\n"
     ]
    }
   ],
   "source": [
    "print(\"원소개수:\", len(l1))"
   ]
  },
  {
   "cell_type": "code",
   "execution_count": 64,
   "id": "4ae9f63f",
   "metadata": {},
   "outputs": [
    {
     "data": {
      "text/plain": [
       "[1, 2, 3, 10, 10, 10, 10, 10, 10]"
      ]
     },
     "execution_count": 64,
     "metadata": {},
     "output_type": "execute_result"
    }
   ],
   "source": [
    "l1.append(10)   #list.append(추가할값)\n",
    "l1"
   ]
  },
  {
   "cell_type": "code",
   "execution_count": 65,
   "id": "5fe6274f",
   "metadata": {},
   "outputs": [
    {
     "data": {
      "text/plain": [
       "[1, 2, 3, 10, 10, 10, 10, 10, 10, 20]"
      ]
     },
     "execution_count": 65,
     "metadata": {},
     "output_type": "execute_result"
    }
   ],
   "source": [
    "l1.append(20)\n",
    "l1"
   ]
  },
  {
   "cell_type": "code",
   "execution_count": 66,
   "id": "60fa4436",
   "metadata": {},
   "outputs": [
    {
     "data": {
      "text/plain": [
       "[1, 2, 3, 10, 10, 10, 10, 10, 10, 20, 3, 4, 5]"
      ]
     },
     "execution_count": 66,
     "metadata": {},
     "output_type": "execute_result"
    }
   ],
   "source": [
    "l1.extend([3,4,5]) # l1 리스트에 추가\n",
    "l1"
   ]
  },
  {
   "cell_type": "code",
   "execution_count": 67,
   "id": "b440b5d4",
   "metadata": {},
   "outputs": [
    {
     "data": {
      "text/plain": [
       "[1, 2, 3, 10, 10, 10, 10, 10, 10, 20, 3, 4, 5, 30, 40, 50]"
      ]
     },
     "execution_count": 67,
     "metadata": {},
     "output_type": "execute_result"
    }
   ],
   "source": [
    "l1 + [30,40,50]  # l1과 [30,40,50] 을 합친 새로운 리스트가 반환 (l1은 안바뀐다.)"
   ]
  },
  {
   "cell_type": "code",
   "execution_count": 68,
   "id": "61acb5da",
   "metadata": {},
   "outputs": [
    {
     "data": {
      "text/plain": [
       "[1, 2, 3, 10, 10, 10, 10, 10, 10, 20, 3, 4, 5]"
      ]
     },
     "execution_count": 68,
     "metadata": {},
     "output_type": "execute_result"
    }
   ],
   "source": [
    "l1"
   ]
  },
  {
   "cell_type": "code",
   "execution_count": 73,
   "id": "cc0faf45",
   "metadata": {},
   "outputs": [
    {
     "data": {
      "text/plain": [
       "[1, 2, 3, 3, 4, 5, 10, 10, 10, 10, 10, 10, 20]"
      ]
     },
     "execution_count": 73,
     "metadata": {},
     "output_type": "execute_result"
    }
   ],
   "source": [
    "# 정렬 - sorted(리스트): 원본 리스트를 변경하지 않고 정렬한 새로운 리스트를 반환. \n",
    "sorted(l1) #오름차순\n",
    "sorted(l1, reverse=True) # 내림차순\n",
    "l2 = sorted(l1)\n",
    "l2"
   ]
  },
  {
   "cell_type": "code",
   "execution_count": 74,
   "id": "2b96d375",
   "metadata": {},
   "outputs": [
    {
     "data": {
      "text/plain": [
       "[1, 2, 3, 10, 10, 10, 10, 10, 10, 20, 3, 4, 5]"
      ]
     },
     "execution_count": 74,
     "metadata": {},
     "output_type": "execute_result"
    }
   ],
   "source": [
    "l1"
   ]
  },
  {
   "cell_type": "code",
   "execution_count": 77,
   "id": "906abb7b",
   "metadata": {},
   "outputs": [
    {
     "data": {
      "text/plain": [
       "[1, 2, 3, 3, 4, 5, 10, 10, 10, 10, 10, 10, 20]"
      ]
     },
     "execution_count": 77,
     "metadata": {},
     "output_type": "execute_result"
    }
   ],
   "source": [
    "# 정렬 - 리스트.sort() - 원본 리스트 자체를 정렬한다.\n",
    "l1.sort()\n",
    "l1"
   ]
  },
  {
   "cell_type": "code",
   "execution_count": 78,
   "id": "9644bd43",
   "metadata": {},
   "outputs": [
    {
     "data": {
      "text/plain": [
       "[20, 10, 10, 10, 10, 10, 10, 5, 4, 3, 3, 2, 1]"
      ]
     },
     "execution_count": 78,
     "metadata": {},
     "output_type": "execute_result"
    }
   ],
   "source": [
    "l1.sort(reverse=True) #내림차순\n",
    "l1"
   ]
  },
  {
   "cell_type": "code",
   "execution_count": 80,
   "id": "ecb65c40",
   "metadata": {},
   "outputs": [
    {
     "data": {
      "text/plain": [
       "[20, 10, 10, '가나다', 10, 10, 10, 10, 5, 4, 3, 3, 2, 1]"
      ]
     },
     "execution_count": 80,
     "metadata": {},
     "output_type": "execute_result"
    }
   ],
   "source": [
    "l1.insert(3, '가나다') # index 3에 '가나다' 를 삽입\n",
    "l1"
   ]
  },
  {
   "cell_type": "code",
   "execution_count": 81,
   "id": "3cf111e1",
   "metadata": {},
   "outputs": [
    {
     "data": {
      "text/plain": [
       "[10, 10, '가나다', 10, 10, 10, 10, 5, 4, 3, 3, 2, 1]"
      ]
     },
     "execution_count": 81,
     "metadata": {},
     "output_type": "execute_result"
    }
   ],
   "source": [
    "# index로 원소 삭제 : del\n",
    "del l1[0]\n",
    "l1"
   ]
  },
  {
   "cell_type": "code",
   "execution_count": 82,
   "id": "2771a390",
   "metadata": {},
   "outputs": [
    {
     "data": {
      "text/plain": [
       "[10, 10, 10, 10, 10, 10, 5, 4, 3, 3, 2, 1]"
      ]
     },
     "execution_count": 82,
     "metadata": {},
     "output_type": "execute_result"
    }
   ],
   "source": [
    "# 값으로 삭제\n",
    "l1.remove('가나다')\n",
    "l1"
   ]
  },
  {
   "cell_type": "code",
   "execution_count": 83,
   "id": "6f70942e",
   "metadata": {},
   "outputs": [
    {
     "data": {
      "text/plain": [
       "[10, 10, 10, 10, 10, 5, 4, 3, 3, 2, 1]"
      ]
     },
     "execution_count": 83,
     "metadata": {},
     "output_type": "execute_result"
    }
   ],
   "source": [
    "l1.remove(10) #값이 여러개일 경우 첫번째 값만 삭제\n",
    "l1"
   ]
  },
  {
   "cell_type": "code",
   "execution_count": 84,
   "id": "57f5dbf9",
   "metadata": {},
   "outputs": [
    {
     "data": {
      "text/plain": [
       "5"
      ]
     },
     "execution_count": 84,
     "metadata": {},
     "output_type": "execute_result"
    }
   ],
   "source": [
    "l1.count(10) #값 10이 몇 개인지"
   ]
  },
  {
   "cell_type": "code",
   "execution_count": 85,
   "id": "65dfd148",
   "metadata": {},
   "outputs": [
    {
     "data": {
      "text/plain": [
       "[]"
      ]
     },
     "execution_count": 85,
     "metadata": {},
     "output_type": "execute_result"
    }
   ],
   "source": [
    "l1.clear() #모든 원소 다 삭제\n",
    "l1"
   ]
  },
  {
   "cell_type": "markdown",
   "id": "1dee897d",
   "metadata": {},
   "source": [
    "# 튜플(Tuple)\n",
    "- 리스트 처럼 순서가 있는 자료구조\n",
    "    - index (양수, 음수) 로 원소를 관리\n",
    "    - 원소를 변경할 수 없다. (추가, 삭제, 변경 이 안된다.)\n",
    "- 생성    "
   ]
  },
  {
   "cell_type": "code",
   "execution_count": 89,
   "id": "89f3875e",
   "metadata": {},
   "outputs": [],
   "source": [
    "t1 = (1, 2, 3, 4, 5) #소괄호로 묶는다.\n",
    "t2 = 10,20,30,40,50 # 소괄호 생략가능"
   ]
  },
  {
   "cell_type": "code",
   "execution_count": 90,
   "id": "8801bcbb",
   "metadata": {},
   "outputs": [
    {
     "data": {
      "text/plain": [
       "(1, 2, 3, 4, 5)"
      ]
     },
     "execution_count": 90,
     "metadata": {},
     "output_type": "execute_result"
    }
   ],
   "source": [
    "t1"
   ]
  },
  {
   "cell_type": "code",
   "execution_count": 91,
   "id": "5824cc83",
   "metadata": {},
   "outputs": [
    {
     "data": {
      "text/plain": [
       "(10, 20, 30, 40, 50)"
      ]
     },
     "execution_count": 91,
     "metadata": {},
     "output_type": "execute_result"
    }
   ],
   "source": [
    "t2"
   ]
  },
  {
   "cell_type": "code",
   "execution_count": 92,
   "id": "a95bf134",
   "metadata": {},
   "outputs": [
    {
     "data": {
      "text/plain": [
       "(10, '가', True)"
      ]
     },
     "execution_count": 92,
     "metadata": {},
     "output_type": "execute_result"
    }
   ],
   "source": [
    "t3 = 10, '가', True\n",
    "t3"
   ]
  },
  {
   "cell_type": "code",
   "execution_count": 95,
   "id": "b485893d",
   "metadata": {},
   "outputs": [
    {
     "data": {
      "text/plain": [
       "(100, int, tuple)"
      ]
     },
     "execution_count": 95,
     "metadata": {},
     "output_type": "execute_result"
    }
   ],
   "source": [
    "t4 = (100)  #t4 = 100\n",
    "t4, type(t4), type(t3)"
   ]
  },
  {
   "cell_type": "code",
   "execution_count": 98,
   "id": "926cc6b9",
   "metadata": {},
   "outputs": [
    {
     "name": "stdout",
     "output_type": "stream",
     "text": [
      "(100,) (100,)\n",
      "<class 'tuple'> <class 'tuple'>\n"
     ]
    }
   ],
   "source": [
    "t5 = (100,) #원소가 하나일 경우 뒤에 , 를 붙인다.\n",
    "t6 = 100,\n",
    "print(t5, t6)\n",
    "print(type(t5), type(t6))"
   ]
  },
  {
   "cell_type": "markdown",
   "id": "492ccca6",
   "metadata": {},
   "source": [
    "### 튜플대입"
   ]
  },
  {
   "cell_type": "code",
   "execution_count": 99,
   "id": "82e2635a",
   "metadata": {},
   "outputs": [
    {
     "name": "stdout",
     "output_type": "stream",
     "text": [
      "홍길동 30 서울\n"
     ]
    }
   ],
   "source": [
    "name, age, address = ('홍길동', 30, '서울')  #튜플 대입\n",
    "print(name, age, address)\n",
    "# name, age, address = ['홍길동', 30, '서울']  #리스트 대입"
   ]
  },
  {
   "cell_type": "code",
   "execution_count": 100,
   "id": "cd1cceb6",
   "metadata": {},
   "outputs": [
    {
     "name": "stdout",
     "output_type": "stream",
     "text": [
      "홍길동1 32 서울1\n"
     ]
    }
   ],
   "source": [
    "name, age, address = '홍길동1', 32, '서울1' #튜플 대입\n",
    "print(name, age, address)"
   ]
  },
  {
   "cell_type": "markdown",
   "id": "96035e39",
   "metadata": {},
   "source": [
    "### indexing, slicing \n",
    "- 조회만 가능하고 원소를 변경할 수 없다."
   ]
  },
  {
   "cell_type": "code",
   "execution_count": 101,
   "id": "6dd8a001",
   "metadata": {},
   "outputs": [
    {
     "data": {
      "text/plain": [
       "(100, 20, 8)"
      ]
     },
     "execution_count": 101,
     "metadata": {},
     "output_type": "execute_result"
    }
   ],
   "source": [
    "t7 = 100, 4, 8, 20, 20, 1, 8\n",
    "t7[0], t7[3], t7[6]"
   ]
  },
  {
   "cell_type": "code",
   "execution_count": 102,
   "id": "2dcce0d1",
   "metadata": {
    "collapsed": true
   },
   "outputs": [
    {
     "ename": "TypeError",
     "evalue": "'tuple' object does not support item assignment",
     "output_type": "error",
     "traceback": [
      "\u001b[1;31m---------------------------------------------------------------------------\u001b[0m",
      "\u001b[1;31mTypeError\u001b[0m                                 Traceback (most recent call last)",
      "\u001b[1;32m~\\AppData\\Local\\Temp/ipykernel_1712/2606818436.py\u001b[0m in \u001b[0;36m<module>\u001b[1;34m\u001b[0m\n\u001b[1;32m----> 1\u001b[1;33m \u001b[0mt7\u001b[0m\u001b[1;33m[\u001b[0m\u001b[1;36m0\u001b[0m\u001b[1;33m]\u001b[0m \u001b[1;33m=\u001b[0m \u001b[1;36m40\u001b[0m\u001b[1;33m\u001b[0m\u001b[1;33m\u001b[0m\u001b[0m\n\u001b[0m",
      "\u001b[1;31mTypeError\u001b[0m: 'tuple' object does not support item assignment"
     ]
    }
   ],
   "source": [
    "t7[0] = 40"
   ]
  },
  {
   "cell_type": "code",
   "execution_count": 103,
   "id": "231f4a54",
   "metadata": {},
   "outputs": [
    {
     "data": {
      "text/plain": [
       "(100, 8, 20, 8)"
      ]
     },
     "execution_count": 103,
     "metadata": {},
     "output_type": "execute_result"
    }
   ],
   "source": [
    "t7[::2]"
   ]
  },
  {
   "cell_type": "code",
   "execution_count": 104,
   "id": "88d343c7",
   "metadata": {},
   "outputs": [
    {
     "data": {
      "text/plain": [
       "(8, 1, 20, 20, 8, 4, 100)"
      ]
     },
     "execution_count": 104,
     "metadata": {},
     "output_type": "execute_result"
    }
   ],
   "source": [
    "t7[::-1]"
   ]
  },
  {
   "cell_type": "code",
   "execution_count": 105,
   "id": "e709c3fc",
   "metadata": {},
   "outputs": [
    {
     "data": {
      "text/plain": [
       "20"
      ]
     },
     "execution_count": 105,
     "metadata": {},
     "output_type": "execute_result"
    }
   ],
   "source": [
    "t7[-3]"
   ]
  },
  {
   "cell_type": "markdown",
   "id": "04701ed6",
   "metadata": {},
   "source": [
    "### 연산자"
   ]
  },
  {
   "cell_type": "code",
   "execution_count": 108,
   "id": "34afc4a2",
   "metadata": {},
   "outputs": [
    {
     "data": {
      "text/plain": [
       "True"
      ]
     },
     "execution_count": 108,
     "metadata": {},
     "output_type": "execute_result"
    }
   ],
   "source": [
    "10 in t7\n",
    "8 in t7"
   ]
  },
  {
   "cell_type": "code",
   "execution_count": 110,
   "id": "fa61db69",
   "metadata": {},
   "outputs": [
    {
     "data": {
      "text/plain": [
       "False"
      ]
     },
     "execution_count": 110,
     "metadata": {},
     "output_type": "execute_result"
    }
   ],
   "source": [
    "10 not in t7\n",
    "8 not in t7"
   ]
  },
  {
   "cell_type": "code",
   "execution_count": 112,
   "id": "f177f1cb",
   "metadata": {},
   "outputs": [
    {
     "data": {
      "text/plain": [
       "(1, 2, 3, 4, 5, 10, 20, 30, 40, 50)"
      ]
     },
     "execution_count": 112,
     "metadata": {},
     "output_type": "execute_result"
    }
   ],
   "source": [
    "t1 + t2"
   ]
  },
  {
   "cell_type": "code",
   "execution_count": 114,
   "id": "a122e170",
   "metadata": {},
   "outputs": [
    {
     "data": {
      "text/plain": [
       "(1, 2, 3, 4, 5, 1, 2, 3, 4, 5)"
      ]
     },
     "execution_count": 114,
     "metadata": {},
     "output_type": "execute_result"
    }
   ],
   "source": [
    "t1 * 2"
   ]
  },
  {
   "cell_type": "code",
   "execution_count": 119,
   "id": "58c9c10f",
   "metadata": {},
   "outputs": [
    {
     "data": {
      "text/plain": [
       "[1, 4, 8, 8, 20, 20, 100]"
      ]
     },
     "execution_count": 119,
     "metadata": {},
     "output_type": "execute_result"
    }
   ],
   "source": [
    "sorted_t7 = sorted(t7)\n",
    "sorted_t7"
   ]
  },
  {
   "cell_type": "code",
   "execution_count": 120,
   "id": "59bde0ef",
   "metadata": {},
   "outputs": [
    {
     "data": {
      "text/plain": [
       "(100, 4, 8, 20, 20, 1, 8)"
      ]
     },
     "execution_count": 120,
     "metadata": {},
     "output_type": "execute_result"
    }
   ],
   "source": [
    "t7"
   ]
  },
  {
   "cell_type": "markdown",
   "id": "64634fd5",
   "metadata": {},
   "source": [
    "# 딕셔너리\n",
    "- 데이터를 key:value 쌍(pair)로 모아서 관리하는 자료구조"
   ]
  },
  {
   "cell_type": "code",
   "execution_count": 122,
   "id": "0df5fe9a",
   "metadata": {},
   "outputs": [
    {
     "data": {
      "text/plain": [
       "{'name': '홍길동', 'age': 20, 'address': '서울'}"
      ]
     },
     "execution_count": 122,
     "metadata": {},
     "output_type": "execute_result"
    }
   ],
   "source": [
    "# 생성\n",
    "person1 = {\"name\":\"홍길동\", \"age\":20, \"address\":\"서울\"}\n",
    "person2 = {\"age\":30, \"name\":\"이순신\", \"address\":\"서울\"}\n",
    "person1"
   ]
  },
  {
   "cell_type": "code",
   "execution_count": 125,
   "id": "072a3049",
   "metadata": {},
   "outputs": [
    {
     "name": "stdout",
     "output_type": "stream",
     "text": [
      "홍길동 이순신\n",
      "20 30\n"
     ]
    }
   ],
   "source": [
    "# 값 조회\n",
    "print(person1['name'], person2['name'])\n",
    "print(person1['age'], person2['age'])"
   ]
  },
  {
   "cell_type": "code",
   "execution_count": 127,
   "id": "4c3e1d0a",
   "metadata": {},
   "outputs": [
    {
     "data": {
      "text/plain": [
       "{'name': '박철웅', 'age': 20, 'address': '서울'}"
      ]
     },
     "execution_count": 127,
     "metadata": {},
     "output_type": "execute_result"
    }
   ],
   "source": [
    "# 값 변경\n",
    "person1['name'] = '박철웅' #있는 key에 값을 대입하면 변경이 된다.\n",
    "person1"
   ]
  },
  {
   "cell_type": "code",
   "execution_count": 129,
   "id": "6bdcf923",
   "metadata": {},
   "outputs": [
    {
     "data": {
      "text/plain": [
       "{'name': '박철웅', 'age': 20, 'address': '서울', 'tel': '010-111-2222'}"
      ]
     },
     "execution_count": 129,
     "metadata": {},
     "output_type": "execute_result"
    }
   ],
   "source": [
    "person1['tel'] = '010-111-2222'  #없는 key에 값을 대입하면 추가가 된다.\n",
    "person1"
   ]
  },
  {
   "cell_type": "code",
   "execution_count": 131,
   "id": "dff1baed",
   "metadata": {},
   "outputs": [
    {
     "ename": "KeyError",
     "evalue": "'email'",
     "output_type": "error",
     "traceback": [
      "\u001b[1;31m---------------------------------------------------------------------------\u001b[0m",
      "\u001b[1;31mKeyError\u001b[0m                                  Traceback (most recent call last)",
      "\u001b[1;32m~\\AppData\\Local\\Temp/ipykernel_1712/3836068088.py\u001b[0m in \u001b[0;36m<module>\u001b[1;34m\u001b[0m\n\u001b[1;32m----> 1\u001b[1;33m \u001b[0mperson1\u001b[0m\u001b[1;33m[\u001b[0m\u001b[1;34m'email'\u001b[0m\u001b[1;33m]\u001b[0m\u001b[1;33m\u001b[0m\u001b[1;33m\u001b[0m\u001b[0m\n\u001b[0m",
      "\u001b[1;31mKeyError\u001b[0m: 'email'"
     ]
    }
   ],
   "source": [
    "person1['email'] # 없는 key로 조회하면 KeyError 발생"
   ]
  },
  {
   "cell_type": "code",
   "execution_count": 139,
   "id": "da188844",
   "metadata": {},
   "outputs": [
    {
     "name": "stdout",
     "output_type": "stream",
     "text": [
      "30\n"
     ]
    }
   ],
   "source": [
    "# dictionary.get('key') : 조회\n",
    "# 없는 키값으로 조회하면 None(기본값). None대신 반환할 기본값을 설정할 수도 있다.\n",
    "v = person2.get('email', \"없음\")\n",
    "print(v)"
   ]
  },
  {
   "cell_type": "code",
   "execution_count": 142,
   "id": "edb54581",
   "metadata": {},
   "outputs": [
    {
     "data": {
      "text/plain": [
       "(4, 3)"
      ]
     },
     "execution_count": 142,
     "metadata": {},
     "output_type": "execute_result"
    }
   ],
   "source": [
    "len(person1), len(person2)"
   ]
  },
  {
   "cell_type": "code",
   "execution_count": 144,
   "id": "44fb9f8b",
   "metadata": {},
   "outputs": [
    {
     "data": {
      "text/plain": [
       "{'name': '박철웅', 'age': 20, 'address': '서울', 'tel': '010-111-2222'}"
      ]
     },
     "execution_count": 144,
     "metadata": {},
     "output_type": "execute_result"
    }
   ],
   "source": [
    "person1"
   ]
  },
  {
   "cell_type": "code",
   "execution_count": 145,
   "id": "8090ee7e",
   "metadata": {},
   "outputs": [
    {
     "data": {
      "text/plain": [
       "False"
      ]
     },
     "execution_count": 145,
     "metadata": {},
     "output_type": "execute_result"
    }
   ],
   "source": [
    "'박철웅' in person1"
   ]
  },
  {
   "cell_type": "code",
   "execution_count": 146,
   "id": "5f9430ac",
   "metadata": {},
   "outputs": [
    {
     "data": {
      "text/plain": [
       "True"
      ]
     },
     "execution_count": 146,
     "metadata": {},
     "output_type": "execute_result"
    }
   ],
   "source": [
    "'name' in person1"
   ]
  },
  {
   "cell_type": "markdown",
   "id": "1c6d3659",
   "metadata": {},
   "source": [
    "### 주요 메소드"
   ]
  },
  {
   "cell_type": "code",
   "execution_count": 148,
   "id": "c952d18c",
   "metadata": {},
   "outputs": [
    {
     "data": {
      "text/plain": [
       "'박철웅'"
      ]
     },
     "execution_count": 148,
     "metadata": {},
     "output_type": "execute_result"
    }
   ],
   "source": [
    "person1.pop('name')"
   ]
  },
  {
   "cell_type": "code",
   "execution_count": 149,
   "id": "4e7d63c8",
   "metadata": {},
   "outputs": [
    {
     "data": {
      "text/plain": [
       "{'age': 20, 'address': '서울', 'tel': '010-111-2222'}"
      ]
     },
     "execution_count": 149,
     "metadata": {},
     "output_type": "execute_result"
    }
   ],
   "source": [
    "person1"
   ]
  },
  {
   "cell_type": "code",
   "execution_count": 151,
   "id": "c59af1fd",
   "metadata": {},
   "outputs": [
    {
     "data": {
      "text/plain": [
       "{'address': '서울', 'tel': '010-111-2222'}"
      ]
     },
     "execution_count": 151,
     "metadata": {},
     "output_type": "execute_result"
    }
   ],
   "source": [
    "del person1['age']\n",
    "person1"
   ]
  },
  {
   "cell_type": "code",
   "execution_count": 152,
   "id": "9d977ace",
   "metadata": {},
   "outputs": [
    {
     "data": {
      "text/plain": [
       "dict_items([('address', '서울'), ('tel', '010-111-2222')])"
      ]
     },
     "execution_count": 152,
     "metadata": {},
     "output_type": "execute_result"
    }
   ],
   "source": [
    "person1.items()"
   ]
  },
  {
   "cell_type": "code",
   "execution_count": 153,
   "id": "987dd5d2",
   "metadata": {},
   "outputs": [
    {
     "data": {
      "text/plain": [
       "dict_keys(['address', 'tel'])"
      ]
     },
     "execution_count": 153,
     "metadata": {},
     "output_type": "execute_result"
    }
   ],
   "source": [
    "person1.keys()"
   ]
  },
  {
   "cell_type": "code",
   "execution_count": 154,
   "id": "72287ce1",
   "metadata": {},
   "outputs": [
    {
     "data": {
      "text/plain": [
       "dict_values(['서울', '010-111-2222'])"
      ]
     },
     "execution_count": 154,
     "metadata": {},
     "output_type": "execute_result"
    }
   ],
   "source": [
    "person1.values()"
   ]
  },
  {
   "cell_type": "markdown",
   "id": "72caf1b3",
   "metadata": {},
   "source": [
    "# Set(집합)\n",
    "- 중복을 허용하지 않는 자료구조"
   ]
  },
  {
   "cell_type": "code",
   "execution_count": 161,
   "id": "b0089933",
   "metadata": {},
   "outputs": [
    {
     "data": {
      "text/plain": [
       "{1, 2, 3, False, 'a'}"
      ]
     },
     "execution_count": 161,
     "metadata": {},
     "output_type": "execute_result"
    }
   ],
   "source": [
    "s1 = {1, 1, 1, 2, 2, 2, 3, 3, 3, 'a', 'a', 'a', True, True, True, False, False}  # 1, True => True를 1로 취급, 0, False => False를 0으로 취급\n",
    "s1"
   ]
  },
  {
   "cell_type": "code",
   "execution_count": 163,
   "id": "92d84962",
   "metadata": {},
   "outputs": [
    {
     "name": "stdout",
     "output_type": "stream",
     "text": [
      "{1}\n",
      "{0}\n"
     ]
    }
   ],
   "source": [
    "s2 = {1, True}\n",
    "s3 = {0, False}\n",
    "print(s2)\n",
    "print(s3)"
   ]
  },
  {
   "cell_type": "code",
   "execution_count": 165,
   "id": "df1172ed",
   "metadata": {},
   "outputs": [
    {
     "ename": "TypeError",
     "evalue": "'set' object is not subscriptable",
     "output_type": "error",
     "traceback": [
      "\u001b[1;31m---------------------------------------------------------------------------\u001b[0m",
      "\u001b[1;31mTypeError\u001b[0m                                 Traceback (most recent call last)",
      "\u001b[1;32m~\\AppData\\Local\\Temp/ipykernel_1712/643609873.py\u001b[0m in \u001b[0;36m<module>\u001b[1;34m\u001b[0m\n\u001b[1;32m----> 1\u001b[1;33m \u001b[0ms1\u001b[0m\u001b[1;33m[\u001b[0m\u001b[1;36m0\u001b[0m\u001b[1;33m]\u001b[0m\u001b[1;33m\u001b[0m\u001b[1;33m\u001b[0m\u001b[0m\n\u001b[0m",
      "\u001b[1;31mTypeError\u001b[0m: 'set' object is not subscriptable"
     ]
    }
   ],
   "source": [
    "s1[0] # set은 원소 하나를 조회하는 것은 안된다. => 반복문을 이용"
   ]
  },
  {
   "cell_type": "markdown",
   "id": "8a95322c",
   "metadata": {},
   "source": [
    "### 연산자"
   ]
  },
  {
   "cell_type": "code",
   "execution_count": 168,
   "id": "a551fe37",
   "metadata": {},
   "outputs": [
    {
     "data": {
      "text/plain": [
       "False"
      ]
     },
     "execution_count": 168,
     "metadata": {},
     "output_type": "execute_result"
    }
   ],
   "source": [
    "1 in s1\n",
    "100 in s1"
   ]
  },
  {
   "cell_type": "code",
   "execution_count": 170,
   "id": "1e892d71",
   "metadata": {},
   "outputs": [
    {
     "data": {
      "text/plain": [
       "True"
      ]
     },
     "execution_count": 170,
     "metadata": {},
     "output_type": "execute_result"
    }
   ],
   "source": [
    "1 not in s1\n",
    "100 not in s1"
   ]
  },
  {
   "cell_type": "code",
   "execution_count": 176,
   "id": "b998dfc7",
   "metadata": {},
   "outputs": [
    {
     "name": "stdout",
     "output_type": "stream",
     "text": [
      "{1, 2, 3, 4, 5}\n",
      "{1, 2, 3, 4, 5}\n"
     ]
    }
   ],
   "source": [
    "s1 = {1, 2, 3, 4}\n",
    "s2 = {3, 4, 5}\n",
    "\n",
    "# 합집합\n",
    "s3 = s1 | s2  # {1, 2, 3, 4, 5}\n",
    "s4 = s1.union(s2)\n",
    "print(s3)\n",
    "print(s4)"
   ]
  },
  {
   "cell_type": "code",
   "execution_count": 177,
   "id": "aea71832",
   "metadata": {},
   "outputs": [
    {
     "name": "stdout",
     "output_type": "stream",
     "text": [
      "{3, 4} {3, 4}\n"
     ]
    }
   ],
   "source": [
    "# 교집합\n",
    "s5 = s1 & s2\n",
    "s6 = s1.intersection(s2)\n",
    "print(s5, s6)"
   ]
  },
  {
   "cell_type": "code",
   "execution_count": 179,
   "id": "1f379293",
   "metadata": {},
   "outputs": [
    {
     "name": "stdout",
     "output_type": "stream",
     "text": [
      "{1, 2}\n",
      "{1, 2}\n"
     ]
    }
   ],
   "source": [
    "# 차집합\n",
    "s7 = s1 - s2\n",
    "s8 = s1.difference(s2)\n",
    "print(s7)\n",
    "print(s8)"
   ]
  },
  {
   "cell_type": "markdown",
   "id": "e5ecd75b",
   "metadata": {},
   "source": [
    "### 메소드"
   ]
  },
  {
   "cell_type": "code",
   "execution_count": 183,
   "id": "8e2e65ea",
   "metadata": {},
   "outputs": [
    {
     "name": "stdout",
     "output_type": "stream",
     "text": [
      "{1, 2, 3, 4, 5, 10}\n"
     ]
    },
    {
     "data": {
      "text/plain": [
       "{1, 2, 3, 4, 5, 10}"
      ]
     },
     "execution_count": 183,
     "metadata": {},
     "output_type": "execute_result"
    }
   ],
   "source": [
    "# 추가\n",
    "s3.add(10)\n",
    "print(s3)\n",
    "s3.add(10) #있는 값을 추가하면 추가가 안됨(중복 허용 안하므로)\n",
    "s3"
   ]
  },
  {
   "cell_type": "code",
   "execution_count": 186,
   "id": "6f78e81e",
   "metadata": {},
   "outputs": [
    {
     "data": {
      "text/plain": [
       "{1, 2, 3, 4, 5, 10, 100, 200, 300, 400}"
      ]
     },
     "execution_count": 186,
     "metadata": {},
     "output_type": "execute_result"
    }
   ],
   "source": [
    "s3.update([1,2,3,100,200,300,400])\n",
    "s3"
   ]
  },
  {
   "cell_type": "code",
   "execution_count": 187,
   "id": "701f62fc",
   "metadata": {},
   "outputs": [
    {
     "name": "stdout",
     "output_type": "stream",
     "text": [
      "1\n"
     ]
    },
    {
     "data": {
      "text/plain": [
       "{2, 3, 4, 5, 10, 100, 200, 300, 400}"
      ]
     },
     "execution_count": 187,
     "metadata": {},
     "output_type": "execute_result"
    }
   ],
   "source": [
    "v = s3.pop()\n",
    "print(v)\n",
    "s3"
   ]
  },
  {
   "cell_type": "code",
   "execution_count": 188,
   "id": "5ff13260",
   "metadata": {},
   "outputs": [
    {
     "data": {
      "text/plain": [
       "{2, 3, 4, 10, 100, 200, 300, 400}"
      ]
     },
     "execution_count": 188,
     "metadata": {},
     "output_type": "execute_result"
    }
   ],
   "source": [
    "s3.remove(5)  # s3의 원소중 5를 삭제\n",
    "s3"
   ]
  },
  {
   "cell_type": "code",
   "execution_count": 189,
   "id": "14b270b8",
   "metadata": {},
   "outputs": [
    {
     "ename": "KeyError",
     "evalue": "'가'",
     "output_type": "error",
     "traceback": [
      "\u001b[1;31m---------------------------------------------------------------------------\u001b[0m",
      "\u001b[1;31mKeyError\u001b[0m                                  Traceback (most recent call last)",
      "\u001b[1;32m~\\AppData\\Local\\Temp/ipykernel_1712/1420179297.py\u001b[0m in \u001b[0;36m<module>\u001b[1;34m\u001b[0m\n\u001b[1;32m----> 1\u001b[1;33m \u001b[0ms3\u001b[0m\u001b[1;33m.\u001b[0m\u001b[0mremove\u001b[0m\u001b[1;33m(\u001b[0m\u001b[1;34m'가'\u001b[0m\u001b[1;33m)\u001b[0m\u001b[1;33m\u001b[0m\u001b[1;33m\u001b[0m\u001b[0m\n\u001b[0m",
      "\u001b[1;31mKeyError\u001b[0m: '가'"
     ]
    }
   ],
   "source": [
    "s3.remove('가') #없는 값 삭제시 KeyError 발생."
   ]
  },
  {
   "cell_type": "code",
   "execution_count": 198,
   "id": "4cabfd91",
   "metadata": {},
   "outputs": [
    {
     "data": {
      "text/plain": [
       "dict"
      ]
     },
     "execution_count": 198,
     "metadata": {},
     "output_type": "execute_result"
    }
   ],
   "source": [
    "var1 = [] #빈 리스트\n",
    "var2 = {} #빈 dictionary\n",
    "type(var2)"
   ]
  },
  {
   "cell_type": "code",
   "execution_count": 199,
   "id": "3eacf7f0",
   "metadata": {},
   "outputs": [
    {
     "data": {
      "text/plain": [
       "{'a': 100}"
      ]
     },
     "execution_count": 199,
     "metadata": {},
     "output_type": "execute_result"
    }
   ],
   "source": [
    "var2['a'] = 100\n",
    "var2"
   ]
  },
  {
   "cell_type": "markdown",
   "id": "3d4acf96",
   "metadata": {},
   "source": [
    "# 자료구조 변환 함수\n",
    "- list(자료구조): 자료구조를 List로 변환\n",
    "- tuple(자료구조): 자료구조를 Tuple로 변환\n",
    "- set(자료구조): 자료구조를 Set으로 변환\n",
    "- Dictionary로 변환하는 함수는 없다.\n",
    "- 변경할 대상 자료구조가 Dictionary 일 경우에는 key값들만 모아서 변환"
   ]
  },
  {
   "cell_type": "code",
   "execution_count": 201,
   "id": "eac6fdd9",
   "metadata": {},
   "outputs": [
    {
     "data": {
      "text/plain": [
       "([1, 2, 10, 5, 10, 2], list)"
      ]
     },
     "execution_count": 201,
     "metadata": {},
     "output_type": "execute_result"
    }
   ],
   "source": [
    "t = 1, 2, 10, 5, 10, 2\n",
    "l = list(t)\n",
    "l, type(l)"
   ]
  },
  {
   "cell_type": "code",
   "execution_count": 203,
   "id": "e4332148",
   "metadata": {},
   "outputs": [
    {
     "data": {
      "text/plain": [
       "({1, 2, 5, 10}, set)"
      ]
     },
     "execution_count": 203,
     "metadata": {},
     "output_type": "execute_result"
    }
   ],
   "source": [
    "s = set(t)\n",
    "s, type(s)"
   ]
  },
  {
   "cell_type": "code",
   "execution_count": 204,
   "id": "ef97ac38",
   "metadata": {},
   "outputs": [
    {
     "data": {
      "text/plain": [
       "(1, 3, 10, 20, 11)"
      ]
     },
     "execution_count": 204,
     "metadata": {},
     "output_type": "execute_result"
    }
   ],
   "source": [
    "t1 = tuple([1,3,10,20,11]) #list->tuple\n",
    "t1"
   ]
  },
  {
   "cell_type": "code",
   "execution_count": 205,
   "id": "6b8ef1fc",
   "metadata": {},
   "outputs": [
    {
     "data": {
      "text/plain": [
       "{'a': 10, 'b': 20, 'c': 30}"
      ]
     },
     "execution_count": 205,
     "metadata": {},
     "output_type": "execute_result"
    }
   ],
   "source": [
    "d = {'a':10, 'b':20, 'c':30}\n",
    "d"
   ]
  },
  {
   "cell_type": "code",
   "execution_count": 206,
   "id": "95d3110d",
   "metadata": {},
   "outputs": [
    {
     "data": {
      "text/plain": [
       "{'a', 'b', 'c'}"
      ]
     },
     "execution_count": 206,
     "metadata": {},
     "output_type": "execute_result"
    }
   ],
   "source": [
    "set(d) # dict -> set"
   ]
  },
  {
   "cell_type": "code",
   "execution_count": 207,
   "id": "d5806e04",
   "metadata": {},
   "outputs": [
    {
     "data": {
      "text/plain": [
       "['a', 'b', 'c']"
      ]
     },
     "execution_count": 207,
     "metadata": {},
     "output_type": "execute_result"
    }
   ],
   "source": [
    "list(d)"
   ]
  },
  {
   "cell_type": "code",
   "execution_count": 208,
   "id": "eacf5f7b",
   "metadata": {},
   "outputs": [
    {
     "data": {
      "text/plain": [
       "('a', 'b', 'c')"
      ]
     },
     "execution_count": 208,
     "metadata": {},
     "output_type": "execute_result"
    }
   ],
   "source": [
    "tuple(d)"
   ]
  },
  {
   "cell_type": "code",
   "execution_count": 209,
   "id": "7c080cc4",
   "metadata": {},
   "outputs": [
    {
     "data": {
      "text/plain": [
       "{'name': '홍길동', 'age': 20, 'address': '부산'}"
      ]
     },
     "execution_count": 209,
     "metadata": {},
     "output_type": "execute_result"
    }
   ],
   "source": [
    "# dict(key=value, key=value) dictionary를 쉽게 만들도록 도와주는 함수\n",
    "d1 = dict(name='홍길동', age=20, address='부산')\n",
    "d1"
   ]
  },
  {
   "cell_type": "markdown",
   "id": "2ca01f26",
   "metadata": {},
   "source": [
    "# TODO - 4:30 \n",
    "- control + shift + - : cell 나누기"
   ]
  },
  {
   "cell_type": "code",
   "execution_count": 212,
   "id": "ce1b1162",
   "metadata": {},
   "outputs": [
    {
     "data": {
      "text/plain": [
       "80"
      ]
     },
     "execution_count": 212,
     "metadata": {},
     "output_type": "execute_result"
    }
   ],
   "source": [
    "# 1 ~ 7 문제\n",
    "jumsu = [100, 90, 100, 80, 70, 100, 80, 90, 95, 85] \n",
    "len(jumsu)\n",
    "# 위는 학생번호 1번 ~ 10번까지 10명의 시험 점수이다. (문제 1 ~ 7)\n",
    "#(1)  7번의 점수를 출력하세요 \n",
    "jumsu[6]"
   ]
  },
  {
   "cell_type": "code",
   "execution_count": 213,
   "id": "d42534a0",
   "metadata": {},
   "outputs": [
    {
     "data": {
      "text/plain": [
       "[100, 90, 100, 80, 70]"
      ]
     },
     "execution_count": 213,
     "metadata": {},
     "output_type": "execute_result"
    }
   ],
   "source": [
    "#(2)  1번부터 5번까지의 점수를 출력하세요.\n",
    "jumsu[:5]"
   ]
  },
  {
   "cell_type": "code",
   "execution_count": 214,
   "id": "afea6cbf",
   "metadata": {},
   "outputs": [
    {
     "data": {
      "text/plain": [
       "[80, 70, 100, 80]"
      ]
     },
     "execution_count": 214,
     "metadata": {},
     "output_type": "execute_result"
    }
   ],
   "source": [
    "#(3)  4, 5, 6, 7번의 점수를 출력하세요.\n",
    "jumsu[3:7]"
   ]
  },
  {
   "cell_type": "code",
   "execution_count": 216,
   "id": "b651bdd5",
   "metadata": {},
   "outputs": [
    {
     "data": {
      "text/plain": [
       "[90, 80, 100, 90, 85]"
      ]
     },
     "execution_count": 216,
     "metadata": {},
     "output_type": "execute_result"
    }
   ],
   "source": [
    "#(4) 짝수번째 점수를 출력하세요.\n",
    "jumsu[::2] # 짝수 index의 값들\n",
    "jumsu[1::2]# 순서가 짝인 값들"
   ]
  },
  {
   "cell_type": "code",
   "execution_count": 218,
   "id": "965610fe",
   "metadata": {},
   "outputs": [
    {
     "data": {
      "text/plain": [
       "[100, 100, 70, 80, 95]"
      ]
     },
     "execution_count": 218,
     "metadata": {},
     "output_type": "execute_result"
    }
   ],
   "source": [
    "#(5) 홀수번째 점수를 출력하세요.\n",
    "jumsu[1::2] # 홀수 index\n",
    "jumsu[::2]  # 순서가 홀수인 값들"
   ]
  },
  {
   "cell_type": "code",
   "execution_count": 220,
   "id": "01b84170",
   "metadata": {
    "scrolled": true
   },
   "outputs": [
    {
     "name": "stdout",
     "output_type": "stream",
     "text": [
      "[100, 90, 100, 80, 70, 100, 80, 90, 95, 85]\n",
      "[100, 90, 100, 80, 70, 100, 80, 90, 20, 85]\n"
     ]
    }
   ],
   "source": [
    "#(6) 9번의 점수를 20으로 변경하고 전체 출력하세요.\n",
    "print(jumsu)\n",
    "jumsu[8] = 20  #jumsu[-2]\n",
    "print(jumsu)"
   ]
  },
  {
   "cell_type": "code",
   "execution_count": 223,
   "id": "20e83991",
   "metadata": {
    "scrolled": true
   },
   "outputs": [
    {
     "name": "stdout",
     "output_type": "stream",
     "text": [
      "{100, 70, 80, 20, 85, 90}\n",
      "[100, 70, 80, 20, 85, 90]\n",
      "100\n"
     ]
    }
   ],
   "source": [
    "#(7) 중복된 점수는 제거하고 하나씩만 나오도록 출력하세요.\n",
    "jumsu2 = set(jumsu)\n",
    "unique_jumsu = list(jumsu2)\n",
    "print(jumsu2)\n",
    "print(unique_jumsu)\n",
    "print(unique_jumsu[0])"
   ]
  },
  {
   "cell_type": "code",
   "execution_count": 229,
   "id": "ee7bb98d",
   "metadata": {},
   "outputs": [
    {
     "data": {
      "text/plain": [
       "['복숭아', '수박', '딸기', '사과', '귤']"
      ]
     },
     "execution_count": 229,
     "metadata": {},
     "output_type": "execute_result"
    }
   ],
   "source": [
    "# 문제 8 ~ 9\n",
    "fruits = [\"복숭아\", \"수박\", \"딸기\"]\n",
    "\n",
    "#(8) fruits 리스트에 마지막 원소로 \"사과\", \"귤\"을 추가하세요.\n",
    "# fruits.append('사과') # 하나씩 추가\n",
    "# fruits.append('귤')\n",
    "fruits.extend(['사과', '귤'])\n",
    "# fruits = fruits + ['사과', '귤']\n",
    "fruits"
   ]
  },
  {
   "cell_type": "code",
   "execution_count": 231,
   "id": "b9ab8caa",
   "metadata": {},
   "outputs": [
    {
     "data": {
      "text/plain": [
       "['수박', '딸기', '사과', '귤']"
      ]
     },
     "execution_count": 231,
     "metadata": {},
     "output_type": "execute_result"
    }
   ],
   "source": [
    "#(9) fruits 리스트에서 \"복숭아\"를 제거하세요.\n",
    "fruits.remove('복숭아') #값으로 삭제\n",
    "fruits"
   ]
  },
  {
   "cell_type": "code",
   "execution_count": 232,
   "id": "e3a3af8a",
   "metadata": {},
   "outputs": [
    {
     "data": {
      "text/plain": [
       "['딸기', '사과', '귤']"
      ]
     },
     "execution_count": 232,
     "metadata": {},
     "output_type": "execute_result"
    }
   ],
   "source": [
    "del fruits[0] #index를 이용해서 삭제\n",
    "fruits"
   ]
  },
  {
   "cell_type": "code",
   "execution_count": 234,
   "id": "854d6b07",
   "metadata": {},
   "outputs": [
    {
     "name": "stdout",
     "output_type": "stream",
     "text": [
      "{'이름': '김성환', '나이': 30, 'email': 'kgmyh@naver.com', '취미': ['운동', '독서', '게임'], '결혼유무': True}\n",
      "{'이름': '홍길동', '나이': 10, 'email': 'a@a.com', '취미': ['게임', '영화감상'], '결혼유무': True}\n"
     ]
    }
   ],
   "source": [
    "#문제 10 ~ 15\n",
    "#(10)본인의 이름, 나이, email주소, 취미, 결혼유무를 사전(딕셔너리)으로 생성. \n",
    "# 취미는 2개 이상의 값을 넣는다.\n",
    "info = {\n",
    "    \"이름\":\"김성환\",\n",
    "    \"나이\":30, \n",
    "    \"email\":\"kgmyh@naver.com\", \n",
    "    '취미':[\"운동\", \"독서\", \"게임\"], \n",
    "    \"결혼유무\":True\n",
    "}\n",
    "info2 = dict(이름='홍길동', 나이=10, email='a@a.com', 취미=['게임', '영화감상'], 결혼유무=True)\n",
    "\n",
    "print(info)\n",
    "print(info2)\n",
    "\n",
    "\n"
   ]
  },
  {
   "cell_type": "code",
   "execution_count": 235,
   "id": "a076dfef",
   "metadata": {},
   "outputs": [
    {
     "name": "stdout",
     "output_type": "stream",
     "text": [
      "김성환 kgmyh@naver.com\n"
     ]
    }
   ],
   "source": [
    "#(11) 위 딕셔너리에서 이름과 email주소를 조회해서 출력하세요.\n",
    "print(info['이름'], info['email'])"
   ]
  },
  {
   "cell_type": "code",
   "execution_count": 237,
   "id": "c6f9dd21",
   "metadata": {},
   "outputs": [
    {
     "data": {
      "text/plain": [
       "'독서'"
      ]
     },
     "execution_count": 237,
     "metadata": {},
     "output_type": "execute_result"
    }
   ],
   "source": [
    "#(12) 위 딕셔너리에서 취미중 두번째 취미를 조회해서 출력하세요.\n",
    "info['취미'][1]"
   ]
  },
  {
   "cell_type": "code",
   "execution_count": 238,
   "id": "606f54f1",
   "metadata": {},
   "outputs": [
    {
     "name": "stdout",
     "output_type": "stream",
     "text": [
      "{'이름': '김성환', '나이': 30, 'email': 'kgmyh@naver.com', '취미': ['운동', '독서', '게임'], '결혼유무': True, '몸무게': 70, '키': 185}\n"
     ]
    }
   ],
   "source": [
    "#(13) 위 딕셔너리에 몸무게와 키 항목을 추가하세요.\n",
    "info['몸무게']  = 70\n",
    "info['키'] = 185\n",
    "print(info)"
   ]
  },
  {
   "cell_type": "code",
   "execution_count": 241,
   "id": "d8e07290",
   "metadata": {},
   "outputs": [
    {
     "data": {
      "text/plain": [
       "{'이름': '김성환',\n",
       " 'email': 'kgmyh@naver.com',\n",
       " '취미': ['운동', '독서', '게임'],\n",
       " '결혼유무': True,\n",
       " '몸무게': 70,\n",
       " '키': 185}"
      ]
     },
     "execution_count": 241,
     "metadata": {},
     "output_type": "execute_result"
    }
   ],
   "source": [
    "#(14) 위 딕셔너리에서 나이를 제거하세요.\n",
    "# info['나이'] = 50\n",
    "del info['나이']\n",
    "info"
   ]
  },
  {
   "cell_type": "code",
   "execution_count": 242,
   "id": "ae42a43b",
   "metadata": {},
   "outputs": [
    {
     "data": {
      "text/plain": [
       "{'이름': '김성환',\n",
       " 'email': 'kgmyh@gmail.com',\n",
       " '취미': ['운동', '독서', '게임'],\n",
       " '결혼유무': True,\n",
       " '몸무게': 70,\n",
       " '키': 185}"
      ]
     },
     "execution_count": 242,
     "metadata": {},
     "output_type": "execute_result"
    }
   ],
   "source": [
    "#(15) 위 딕셔너리에서 email 주소를 다른 값으로 변경하세요.\n",
    "info['email'] = 'kgmyh@gmail.com'\n",
    "info"
   ]
  },
  {
   "cell_type": "code",
   "execution_count": null,
   "id": "5a703bd0",
   "metadata": {},
   "outputs": [],
   "source": []
  },
  {
   "cell_type": "code",
   "execution_count": null,
   "id": "a1ac8eee",
   "metadata": {},
   "outputs": [],
   "source": []
  },
  {
   "cell_type": "code",
   "execution_count": null,
   "id": "6ef085c2",
   "metadata": {},
   "outputs": [],
   "source": []
  },
  {
   "cell_type": "code",
   "execution_count": null,
   "id": "9e876dd0",
   "metadata": {},
   "outputs": [],
   "source": []
  },
  {
   "cell_type": "code",
   "execution_count": null,
   "id": "9d72d4b8",
   "metadata": {},
   "outputs": [],
   "source": []
  },
  {
   "cell_type": "code",
   "execution_count": null,
   "id": "c7bc7479",
   "metadata": {},
   "outputs": [],
   "source": []
  },
  {
   "cell_type": "code",
   "execution_count": null,
   "id": "b3bcf00d",
   "metadata": {},
   "outputs": [],
   "source": []
  },
  {
   "cell_type": "code",
   "execution_count": null,
   "id": "741082c7",
   "metadata": {},
   "outputs": [],
   "source": []
  }
 ],
 "metadata": {
  "kernelspec": {
   "display_name": "Python 3 (ipykernel)",
   "language": "python",
   "name": "python3"
  },
  "language_info": {
   "codemirror_mode": {
    "name": "ipython",
    "version": 3
   },
   "file_extension": ".py",
   "mimetype": "text/x-python",
   "name": "python",
   "nbconvert_exporter": "python",
   "pygments_lexer": "ipython3",
   "version": "3.9.12"
  }
 },
 "nbformat": 4,
 "nbformat_minor": 5
}
